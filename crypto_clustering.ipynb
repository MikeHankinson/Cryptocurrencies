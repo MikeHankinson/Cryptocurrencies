{
 "cells": [
  {
   "cell_type": "markdown",
   "metadata": {},
   "source": [
    "# Clustering Crypto"
   ]
  },
  {
   "cell_type": "code",
   "execution_count": 27,
   "metadata": {},
   "outputs": [],
   "source": [
    "# Initial imports\n",
    "import pandas as pd\n",
    "import hvplot.pandas\n",
    "from path import Path\n",
    "import plotly.express as px\n",
    "from sklearn.preprocessing import StandardScaler, MinMaxScaler\n",
    "from sklearn.decomposition import PCA\n",
    "from sklearn.cluster import KMeans\n"
   ]
  },
  {
   "cell_type": "markdown",
   "metadata": {},
   "source": [
    "### Deliverable 1: Preprocessing the Data for PCA"
   ]
  },
  {
   "cell_type": "code",
   "execution_count": 28,
   "metadata": {},
   "outputs": [
    {
     "data": {
      "text/html": [
       "<div>\n",
       "<style scoped>\n",
       "    .dataframe tbody tr th:only-of-type {\n",
       "        vertical-align: middle;\n",
       "    }\n",
       "\n",
       "    .dataframe tbody tr th {\n",
       "        vertical-align: top;\n",
       "    }\n",
       "\n",
       "    .dataframe thead th {\n",
       "        text-align: right;\n",
       "    }\n",
       "</style>\n",
       "<table border=\"1\" class=\"dataframe\">\n",
       "  <thead>\n",
       "    <tr style=\"text-align: right;\">\n",
       "      <th></th>\n",
       "      <th>Unnamed: 0</th>\n",
       "      <th>CoinName</th>\n",
       "      <th>Algorithm</th>\n",
       "      <th>IsTrading</th>\n",
       "      <th>ProofType</th>\n",
       "      <th>TotalCoinsMined</th>\n",
       "      <th>TotalCoinSupply</th>\n",
       "    </tr>\n",
       "  </thead>\n",
       "  <tbody>\n",
       "    <tr>\n",
       "      <th>1242</th>\n",
       "      <td>GAP</td>\n",
       "      <td>Gapcoin</td>\n",
       "      <td>Scrypt</td>\n",
       "      <td>True</td>\n",
       "      <td>PoW/PoS</td>\n",
       "      <td>1.493105e+07</td>\n",
       "      <td>250000000</td>\n",
       "    </tr>\n",
       "    <tr>\n",
       "      <th>1243</th>\n",
       "      <td>SERO</td>\n",
       "      <td>Super Zero</td>\n",
       "      <td>Ethash</td>\n",
       "      <td>True</td>\n",
       "      <td>PoW</td>\n",
       "      <td>NaN</td>\n",
       "      <td>1000000000</td>\n",
       "    </tr>\n",
       "    <tr>\n",
       "      <th>1244</th>\n",
       "      <td>UOS</td>\n",
       "      <td>UOS</td>\n",
       "      <td>SHA-256</td>\n",
       "      <td>True</td>\n",
       "      <td>DPoI</td>\n",
       "      <td>NaN</td>\n",
       "      <td>1000000000</td>\n",
       "    </tr>\n",
       "    <tr>\n",
       "      <th>1245</th>\n",
       "      <td>BDX</td>\n",
       "      <td>Beldex</td>\n",
       "      <td>CryptoNight</td>\n",
       "      <td>True</td>\n",
       "      <td>PoW</td>\n",
       "      <td>9.802226e+08</td>\n",
       "      <td>1400222610</td>\n",
       "    </tr>\n",
       "    <tr>\n",
       "      <th>1246</th>\n",
       "      <td>ZEN</td>\n",
       "      <td>Horizen</td>\n",
       "      <td>Equihash</td>\n",
       "      <td>True</td>\n",
       "      <td>PoW</td>\n",
       "      <td>7.296538e+06</td>\n",
       "      <td>21000000</td>\n",
       "    </tr>\n",
       "    <tr>\n",
       "      <th>1247</th>\n",
       "      <td>XBC</td>\n",
       "      <td>BitcoinPlus</td>\n",
       "      <td>Scrypt</td>\n",
       "      <td>True</td>\n",
       "      <td>PoS</td>\n",
       "      <td>1.283270e+05</td>\n",
       "      <td>1000000</td>\n",
       "    </tr>\n",
       "    <tr>\n",
       "      <th>1248</th>\n",
       "      <td>DVTC</td>\n",
       "      <td>DivotyCoin</td>\n",
       "      <td>Scrypt</td>\n",
       "      <td>False</td>\n",
       "      <td>PoW/PoS</td>\n",
       "      <td>2.149121e+07</td>\n",
       "      <td>100000000</td>\n",
       "    </tr>\n",
       "    <tr>\n",
       "      <th>1249</th>\n",
       "      <td>GIOT</td>\n",
       "      <td>Giotto Coin</td>\n",
       "      <td>Scrypt</td>\n",
       "      <td>False</td>\n",
       "      <td>PoW/PoS</td>\n",
       "      <td>NaN</td>\n",
       "      <td>233100000</td>\n",
       "    </tr>\n",
       "    <tr>\n",
       "      <th>1250</th>\n",
       "      <td>OPSC</td>\n",
       "      <td>OpenSourceCoin</td>\n",
       "      <td>SHA-256</td>\n",
       "      <td>False</td>\n",
       "      <td>PoW/PoS</td>\n",
       "      <td>NaN</td>\n",
       "      <td>21000000</td>\n",
       "    </tr>\n",
       "    <tr>\n",
       "      <th>1251</th>\n",
       "      <td>PUNK</td>\n",
       "      <td>SteamPunk</td>\n",
       "      <td>PoS</td>\n",
       "      <td>False</td>\n",
       "      <td>PoS</td>\n",
       "      <td>NaN</td>\n",
       "      <td>40000000</td>\n",
       "    </tr>\n",
       "  </tbody>\n",
       "</table>\n",
       "</div>"
      ],
      "text/plain": [
       "     Unnamed: 0        CoinName    Algorithm  IsTrading ProofType  \\\n",
       "1242        GAP         Gapcoin       Scrypt       True   PoW/PoS   \n",
       "1243       SERO      Super Zero       Ethash       True       PoW   \n",
       "1244        UOS             UOS      SHA-256       True      DPoI   \n",
       "1245        BDX          Beldex  CryptoNight       True       PoW   \n",
       "1246        ZEN         Horizen     Equihash       True       PoW   \n",
       "1247        XBC     BitcoinPlus       Scrypt       True       PoS   \n",
       "1248       DVTC      DivotyCoin       Scrypt      False   PoW/PoS   \n",
       "1249       GIOT     Giotto Coin       Scrypt      False   PoW/PoS   \n",
       "1250       OPSC  OpenSourceCoin      SHA-256      False   PoW/PoS   \n",
       "1251       PUNK       SteamPunk          PoS      False       PoS   \n",
       "\n",
       "      TotalCoinsMined TotalCoinSupply  \n",
       "1242     1.493105e+07       250000000  \n",
       "1243              NaN      1000000000  \n",
       "1244              NaN      1000000000  \n",
       "1245     9.802226e+08      1400222610  \n",
       "1246     7.296538e+06        21000000  \n",
       "1247     1.283270e+05         1000000  \n",
       "1248     2.149121e+07       100000000  \n",
       "1249              NaN       233100000  \n",
       "1250              NaN        21000000  \n",
       "1251              NaN        40000000  "
      ]
     },
     "execution_count": 28,
     "metadata": {},
     "output_type": "execute_result"
    }
   ],
   "source": [
    "# 1. Load the crypto_data.csv dataset.\n",
    "file_path = \"Resources/crypto_data.csv\"\n",
    "crypto_df = pd.read_csv(file_path)\n",
    "crypto_df.tail(10)"
   ]
  },
  {
   "cell_type": "code",
   "execution_count": 29,
   "metadata": {},
   "outputs": [
    {
     "data": {
      "text/plain": [
       "Unnamed: 0          object\n",
       "CoinName            object\n",
       "Algorithm           object\n",
       "IsTrading             bool\n",
       "ProofType           object\n",
       "TotalCoinsMined    float64\n",
       "TotalCoinSupply     object\n",
       "dtype: object"
      ]
     },
     "execution_count": 29,
     "metadata": {},
     "output_type": "execute_result"
    }
   ],
   "source": [
    "# list data types\n",
    "crypto_df.dtypes"
   ]
  },
  {
   "cell_type": "code",
   "execution_count": 30,
   "metadata": {},
   "outputs": [
    {
     "data": {
      "text/html": [
       "<div>\n",
       "<style scoped>\n",
       "    .dataframe tbody tr th:only-of-type {\n",
       "        vertical-align: middle;\n",
       "    }\n",
       "\n",
       "    .dataframe tbody tr th {\n",
       "        vertical-align: top;\n",
       "    }\n",
       "\n",
       "    .dataframe thead th {\n",
       "        text-align: right;\n",
       "    }\n",
       "</style>\n",
       "<table border=\"1\" class=\"dataframe\">\n",
       "  <thead>\n",
       "    <tr style=\"text-align: right;\">\n",
       "      <th></th>\n",
       "      <th>Unnamed: 0</th>\n",
       "      <th>CoinName</th>\n",
       "      <th>Algorithm</th>\n",
       "      <th>IsTrading</th>\n",
       "      <th>ProofType</th>\n",
       "      <th>TotalCoinsMined</th>\n",
       "      <th>TotalCoinSupply</th>\n",
       "    </tr>\n",
       "  </thead>\n",
       "  <tbody>\n",
       "    <tr>\n",
       "      <th>0</th>\n",
       "      <td>42</td>\n",
       "      <td>42 Coin</td>\n",
       "      <td>Scrypt</td>\n",
       "      <td>True</td>\n",
       "      <td>PoW/PoS</td>\n",
       "      <td>4.199995e+01</td>\n",
       "      <td>42</td>\n",
       "    </tr>\n",
       "    <tr>\n",
       "      <th>1</th>\n",
       "      <td>365</td>\n",
       "      <td>365Coin</td>\n",
       "      <td>X11</td>\n",
       "      <td>True</td>\n",
       "      <td>PoW/PoS</td>\n",
       "      <td>NaN</td>\n",
       "      <td>2300000000</td>\n",
       "    </tr>\n",
       "    <tr>\n",
       "      <th>2</th>\n",
       "      <td>404</td>\n",
       "      <td>404Coin</td>\n",
       "      <td>Scrypt</td>\n",
       "      <td>True</td>\n",
       "      <td>PoW/PoS</td>\n",
       "      <td>1.055185e+09</td>\n",
       "      <td>532000000</td>\n",
       "    </tr>\n",
       "    <tr>\n",
       "      <th>3</th>\n",
       "      <td>611</td>\n",
       "      <td>SixEleven</td>\n",
       "      <td>SHA-256</td>\n",
       "      <td>True</td>\n",
       "      <td>PoW</td>\n",
       "      <td>NaN</td>\n",
       "      <td>611000</td>\n",
       "    </tr>\n",
       "    <tr>\n",
       "      <th>4</th>\n",
       "      <td>808</td>\n",
       "      <td>808</td>\n",
       "      <td>SHA-256</td>\n",
       "      <td>True</td>\n",
       "      <td>PoW/PoS</td>\n",
       "      <td>0.000000e+00</td>\n",
       "      <td>0</td>\n",
       "    </tr>\n",
       "    <tr>\n",
       "      <th>5</th>\n",
       "      <td>1337</td>\n",
       "      <td>EliteCoin</td>\n",
       "      <td>X13</td>\n",
       "      <td>True</td>\n",
       "      <td>PoW/PoS</td>\n",
       "      <td>2.927942e+10</td>\n",
       "      <td>314159265359</td>\n",
       "    </tr>\n",
       "    <tr>\n",
       "      <th>6</th>\n",
       "      <td>2015</td>\n",
       "      <td>2015 coin</td>\n",
       "      <td>X11</td>\n",
       "      <td>True</td>\n",
       "      <td>PoW/PoS</td>\n",
       "      <td>NaN</td>\n",
       "      <td>0</td>\n",
       "    </tr>\n",
       "    <tr>\n",
       "      <th>7</th>\n",
       "      <td>BTC</td>\n",
       "      <td>Bitcoin</td>\n",
       "      <td>SHA-256</td>\n",
       "      <td>True</td>\n",
       "      <td>PoW</td>\n",
       "      <td>1.792718e+07</td>\n",
       "      <td>21000000</td>\n",
       "    </tr>\n",
       "    <tr>\n",
       "      <th>8</th>\n",
       "      <td>ETH</td>\n",
       "      <td>Ethereum</td>\n",
       "      <td>Ethash</td>\n",
       "      <td>True</td>\n",
       "      <td>PoW</td>\n",
       "      <td>1.076842e+08</td>\n",
       "      <td>0</td>\n",
       "    </tr>\n",
       "    <tr>\n",
       "      <th>9</th>\n",
       "      <td>LTC</td>\n",
       "      <td>Litecoin</td>\n",
       "      <td>Scrypt</td>\n",
       "      <td>True</td>\n",
       "      <td>PoW</td>\n",
       "      <td>6.303924e+07</td>\n",
       "      <td>84000000</td>\n",
       "    </tr>\n",
       "  </tbody>\n",
       "</table>\n",
       "</div>"
      ],
      "text/plain": [
       "  Unnamed: 0   CoinName Algorithm  IsTrading ProofType  TotalCoinsMined  \\\n",
       "0         42    42 Coin    Scrypt       True   PoW/PoS     4.199995e+01   \n",
       "1        365    365Coin       X11       True   PoW/PoS              NaN   \n",
       "2        404    404Coin    Scrypt       True   PoW/PoS     1.055185e+09   \n",
       "3        611  SixEleven   SHA-256       True       PoW              NaN   \n",
       "4        808        808   SHA-256       True   PoW/PoS     0.000000e+00   \n",
       "5       1337  EliteCoin       X13       True   PoW/PoS     2.927942e+10   \n",
       "6       2015  2015 coin       X11       True   PoW/PoS              NaN   \n",
       "7        BTC    Bitcoin   SHA-256       True       PoW     1.792718e+07   \n",
       "8        ETH   Ethereum    Ethash       True       PoW     1.076842e+08   \n",
       "9        LTC   Litecoin    Scrypt       True       PoW     6.303924e+07   \n",
       "\n",
       "  TotalCoinSupply  \n",
       "0              42  \n",
       "1      2300000000  \n",
       "2       532000000  \n",
       "3          611000  \n",
       "4               0  \n",
       "5    314159265359  \n",
       "6               0  \n",
       "7        21000000  \n",
       "8               0  \n",
       "9        84000000  "
      ]
     },
     "execution_count": 30,
     "metadata": {},
     "output_type": "execute_result"
    }
   ],
   "source": [
    "# 2. Keep all the cryptocurrencies that are being traded.\n",
    "# crypto_df.count()\n",
    "\n",
    "crypto_df = crypto_df[crypto_df[\"IsTrading\"] == True]\n",
    "crypto_df.head(10)\n"
   ]
  },
  {
   "cell_type": "code",
   "execution_count": 31,
   "metadata": {},
   "outputs": [
    {
     "data": {
      "text/html": [
       "<div>\n",
       "<style scoped>\n",
       "    .dataframe tbody tr th:only-of-type {\n",
       "        vertical-align: middle;\n",
       "    }\n",
       "\n",
       "    .dataframe tbody tr th {\n",
       "        vertical-align: top;\n",
       "    }\n",
       "\n",
       "    .dataframe thead th {\n",
       "        text-align: right;\n",
       "    }\n",
       "</style>\n",
       "<table border=\"1\" class=\"dataframe\">\n",
       "  <thead>\n",
       "    <tr style=\"text-align: right;\">\n",
       "      <th></th>\n",
       "      <th>Unnamed: 0</th>\n",
       "      <th>CoinName</th>\n",
       "      <th>Algorithm</th>\n",
       "      <th>IsTrading</th>\n",
       "      <th>ProofType</th>\n",
       "      <th>TotalCoinsMined</th>\n",
       "      <th>TotalCoinSupply</th>\n",
       "    </tr>\n",
       "  </thead>\n",
       "  <tbody>\n",
       "    <tr>\n",
       "      <th>0</th>\n",
       "      <td>42</td>\n",
       "      <td>42 Coin</td>\n",
       "      <td>Scrypt</td>\n",
       "      <td>True</td>\n",
       "      <td>PoW/PoS</td>\n",
       "      <td>4.199995e+01</td>\n",
       "      <td>42</td>\n",
       "    </tr>\n",
       "    <tr>\n",
       "      <th>1</th>\n",
       "      <td>365</td>\n",
       "      <td>365Coin</td>\n",
       "      <td>X11</td>\n",
       "      <td>True</td>\n",
       "      <td>PoW/PoS</td>\n",
       "      <td>NaN</td>\n",
       "      <td>2300000000</td>\n",
       "    </tr>\n",
       "    <tr>\n",
       "      <th>2</th>\n",
       "      <td>404</td>\n",
       "      <td>404Coin</td>\n",
       "      <td>Scrypt</td>\n",
       "      <td>True</td>\n",
       "      <td>PoW/PoS</td>\n",
       "      <td>1.055185e+09</td>\n",
       "      <td>532000000</td>\n",
       "    </tr>\n",
       "    <tr>\n",
       "      <th>3</th>\n",
       "      <td>611</td>\n",
       "      <td>SixEleven</td>\n",
       "      <td>SHA-256</td>\n",
       "      <td>True</td>\n",
       "      <td>PoW</td>\n",
       "      <td>NaN</td>\n",
       "      <td>611000</td>\n",
       "    </tr>\n",
       "    <tr>\n",
       "      <th>4</th>\n",
       "      <td>808</td>\n",
       "      <td>808</td>\n",
       "      <td>SHA-256</td>\n",
       "      <td>True</td>\n",
       "      <td>PoW/PoS</td>\n",
       "      <td>0.000000e+00</td>\n",
       "      <td>0</td>\n",
       "    </tr>\n",
       "    <tr>\n",
       "      <th>5</th>\n",
       "      <td>1337</td>\n",
       "      <td>EliteCoin</td>\n",
       "      <td>X13</td>\n",
       "      <td>True</td>\n",
       "      <td>PoW/PoS</td>\n",
       "      <td>2.927942e+10</td>\n",
       "      <td>314159265359</td>\n",
       "    </tr>\n",
       "    <tr>\n",
       "      <th>6</th>\n",
       "      <td>2015</td>\n",
       "      <td>2015 coin</td>\n",
       "      <td>X11</td>\n",
       "      <td>True</td>\n",
       "      <td>PoW/PoS</td>\n",
       "      <td>NaN</td>\n",
       "      <td>0</td>\n",
       "    </tr>\n",
       "    <tr>\n",
       "      <th>7</th>\n",
       "      <td>BTC</td>\n",
       "      <td>Bitcoin</td>\n",
       "      <td>SHA-256</td>\n",
       "      <td>True</td>\n",
       "      <td>PoW</td>\n",
       "      <td>1.792718e+07</td>\n",
       "      <td>21000000</td>\n",
       "    </tr>\n",
       "    <tr>\n",
       "      <th>8</th>\n",
       "      <td>ETH</td>\n",
       "      <td>Ethereum</td>\n",
       "      <td>Ethash</td>\n",
       "      <td>True</td>\n",
       "      <td>PoW</td>\n",
       "      <td>1.076842e+08</td>\n",
       "      <td>0</td>\n",
       "    </tr>\n",
       "    <tr>\n",
       "      <th>9</th>\n",
       "      <td>LTC</td>\n",
       "      <td>Litecoin</td>\n",
       "      <td>Scrypt</td>\n",
       "      <td>True</td>\n",
       "      <td>PoW</td>\n",
       "      <td>6.303924e+07</td>\n",
       "      <td>84000000</td>\n",
       "    </tr>\n",
       "  </tbody>\n",
       "</table>\n",
       "</div>"
      ],
      "text/plain": [
       "  Unnamed: 0   CoinName Algorithm  IsTrading ProofType  TotalCoinsMined  \\\n",
       "0         42    42 Coin    Scrypt       True   PoW/PoS     4.199995e+01   \n",
       "1        365    365Coin       X11       True   PoW/PoS              NaN   \n",
       "2        404    404Coin    Scrypt       True   PoW/PoS     1.055185e+09   \n",
       "3        611  SixEleven   SHA-256       True       PoW              NaN   \n",
       "4        808        808   SHA-256       True   PoW/PoS     0.000000e+00   \n",
       "5       1337  EliteCoin       X13       True   PoW/PoS     2.927942e+10   \n",
       "6       2015  2015 coin       X11       True   PoW/PoS              NaN   \n",
       "7        BTC    Bitcoin   SHA-256       True       PoW     1.792718e+07   \n",
       "8        ETH   Ethereum    Ethash       True       PoW     1.076842e+08   \n",
       "9        LTC   Litecoin    Scrypt       True       PoW     6.303924e+07   \n",
       "\n",
       "  TotalCoinSupply  \n",
       "0              42  \n",
       "1      2300000000  \n",
       "2       532000000  \n",
       "3          611000  \n",
       "4               0  \n",
       "5    314159265359  \n",
       "6               0  \n",
       "7        21000000  \n",
       "8               0  \n",
       "9        84000000  "
      ]
     },
     "execution_count": 31,
     "metadata": {},
     "output_type": "execute_result"
    }
   ],
   "source": [
    "# 3. Keep all the cryptocurrencies that have a working algorithm.\n",
    "crypto_df = crypto_df[crypto_df[\"Algorithm\"] != \"\"]\n",
    "crypto_df.head(10)\n"
   ]
  },
  {
   "cell_type": "code",
   "execution_count": 32,
   "metadata": {},
   "outputs": [
    {
     "data": {
      "text/plain": [
       "(1144, 7)"
      ]
     },
     "execution_count": 32,
     "metadata": {},
     "output_type": "execute_result"
    }
   ],
   "source": [
    "crypto_df.shape"
   ]
  },
  {
   "cell_type": "code",
   "execution_count": 33,
   "metadata": {},
   "outputs": [],
   "source": [
    "# 4. Remove the \"IsTrading\" column. \n",
    "crypto_df = crypto_df.drop(['IsTrading'], axis=1)"
   ]
  },
  {
   "cell_type": "code",
   "execution_count": 34,
   "metadata": {},
   "outputs": [
    {
     "name": "stdout",
     "output_type": "stream",
     "text": [
      "Column Unnamed: 0 has 0 null values\n",
      "Column CoinName has 0 null values\n",
      "Column Algorithm has 0 null values\n",
      "Column ProofType has 0 null values\n",
      "Column TotalCoinsMined has 459 null values\n",
      "Column TotalCoinSupply has 0 null values\n"
     ]
    }
   ],
   "source": [
    "# Find null values\n",
    "# Using LIST COMPREHENSION\n",
    "\n",
    "for column in crypto_df.columns:\n",
    "    print(f\"Column {column} has {crypto_df[column].isnull().sum()} null values\")\n"
   ]
  },
  {
   "cell_type": "code",
   "execution_count": 35,
   "metadata": {},
   "outputs": [
    {
     "name": "stdout",
     "output_type": "stream",
     "text": [
      "Column Unnamed: 0 has 0 null values\n",
      "Column CoinName has 0 null values\n",
      "Column Algorithm has 0 null values\n",
      "Column ProofType has 0 null values\n",
      "Column TotalCoinsMined has 0 null values\n",
      "Column TotalCoinSupply has 0 null values\n"
     ]
    }
   ],
   "source": [
    "# 5. Remove rows that have at least 1 null value.\n",
    "crypto_df = crypto_df.dropna()\n",
    "\n",
    "# Verify dropped null values\n",
    "for column in crypto_df.columns:\n",
    "    print(f\"Column {column} has {crypto_df[column].isnull().sum()} null values\")\n"
   ]
  },
  {
   "cell_type": "code",
   "execution_count": 36,
   "metadata": {},
   "outputs": [
    {
     "data": {
      "text/plain": [
       "(685, 6)"
      ]
     },
     "execution_count": 36,
     "metadata": {},
     "output_type": "execute_result"
    }
   ],
   "source": [
    "crypto_df.shape"
   ]
  },
  {
   "cell_type": "code",
   "execution_count": 37,
   "metadata": {},
   "outputs": [
    {
     "data": {
      "text/html": [
       "<div>\n",
       "<style scoped>\n",
       "    .dataframe tbody tr th:only-of-type {\n",
       "        vertical-align: middle;\n",
       "    }\n",
       "\n",
       "    .dataframe tbody tr th {\n",
       "        vertical-align: top;\n",
       "    }\n",
       "\n",
       "    .dataframe thead th {\n",
       "        text-align: right;\n",
       "    }\n",
       "</style>\n",
       "<table border=\"1\" class=\"dataframe\">\n",
       "  <thead>\n",
       "    <tr style=\"text-align: right;\">\n",
       "      <th></th>\n",
       "      <th>CoinName</th>\n",
       "      <th>Algorithm</th>\n",
       "      <th>ProofType</th>\n",
       "      <th>TotalCoinsMined</th>\n",
       "      <th>TotalCoinSupply</th>\n",
       "    </tr>\n",
       "    <tr>\n",
       "      <th>Unnamed: 0</th>\n",
       "      <th></th>\n",
       "      <th></th>\n",
       "      <th></th>\n",
       "      <th></th>\n",
       "      <th></th>\n",
       "    </tr>\n",
       "  </thead>\n",
       "  <tbody>\n",
       "    <tr>\n",
       "      <th>42</th>\n",
       "      <td>42 Coin</td>\n",
       "      <td>Scrypt</td>\n",
       "      <td>PoW/PoS</td>\n",
       "      <td>4.199995e+01</td>\n",
       "      <td>42</td>\n",
       "    </tr>\n",
       "    <tr>\n",
       "      <th>404</th>\n",
       "      <td>404Coin</td>\n",
       "      <td>Scrypt</td>\n",
       "      <td>PoW/PoS</td>\n",
       "      <td>1.055185e+09</td>\n",
       "      <td>532000000</td>\n",
       "    </tr>\n",
       "    <tr>\n",
       "      <th>1337</th>\n",
       "      <td>EliteCoin</td>\n",
       "      <td>X13</td>\n",
       "      <td>PoW/PoS</td>\n",
       "      <td>2.927942e+10</td>\n",
       "      <td>314159265359</td>\n",
       "    </tr>\n",
       "    <tr>\n",
       "      <th>BTC</th>\n",
       "      <td>Bitcoin</td>\n",
       "      <td>SHA-256</td>\n",
       "      <td>PoW</td>\n",
       "      <td>1.792718e+07</td>\n",
       "      <td>21000000</td>\n",
       "    </tr>\n",
       "    <tr>\n",
       "      <th>ETH</th>\n",
       "      <td>Ethereum</td>\n",
       "      <td>Ethash</td>\n",
       "      <td>PoW</td>\n",
       "      <td>1.076842e+08</td>\n",
       "      <td>0</td>\n",
       "    </tr>\n",
       "    <tr>\n",
       "      <th>LTC</th>\n",
       "      <td>Litecoin</td>\n",
       "      <td>Scrypt</td>\n",
       "      <td>PoW</td>\n",
       "      <td>6.303924e+07</td>\n",
       "      <td>84000000</td>\n",
       "    </tr>\n",
       "    <tr>\n",
       "      <th>DASH</th>\n",
       "      <td>Dash</td>\n",
       "      <td>X11</td>\n",
       "      <td>PoW/PoS</td>\n",
       "      <td>9.031294e+06</td>\n",
       "      <td>22000000</td>\n",
       "    </tr>\n",
       "    <tr>\n",
       "      <th>XMR</th>\n",
       "      <td>Monero</td>\n",
       "      <td>CryptoNight-V7</td>\n",
       "      <td>PoW</td>\n",
       "      <td>1.720114e+07</td>\n",
       "      <td>0</td>\n",
       "    </tr>\n",
       "    <tr>\n",
       "      <th>ETC</th>\n",
       "      <td>Ethereum Classic</td>\n",
       "      <td>Ethash</td>\n",
       "      <td>PoW</td>\n",
       "      <td>1.133597e+08</td>\n",
       "      <td>210000000</td>\n",
       "    </tr>\n",
       "    <tr>\n",
       "      <th>ZEC</th>\n",
       "      <td>ZCash</td>\n",
       "      <td>Equihash</td>\n",
       "      <td>PoW</td>\n",
       "      <td>7.383056e+06</td>\n",
       "      <td>21000000</td>\n",
       "    </tr>\n",
       "  </tbody>\n",
       "</table>\n",
       "</div>"
      ],
      "text/plain": [
       "                    CoinName       Algorithm ProofType  TotalCoinsMined  \\\n",
       "Unnamed: 0                                                                \n",
       "42                   42 Coin          Scrypt   PoW/PoS     4.199995e+01   \n",
       "404                  404Coin          Scrypt   PoW/PoS     1.055185e+09   \n",
       "1337               EliteCoin             X13   PoW/PoS     2.927942e+10   \n",
       "BTC                  Bitcoin         SHA-256       PoW     1.792718e+07   \n",
       "ETH                 Ethereum          Ethash       PoW     1.076842e+08   \n",
       "LTC                 Litecoin          Scrypt       PoW     6.303924e+07   \n",
       "DASH                    Dash             X11   PoW/PoS     9.031294e+06   \n",
       "XMR                   Monero  CryptoNight-V7       PoW     1.720114e+07   \n",
       "ETC         Ethereum Classic          Ethash       PoW     1.133597e+08   \n",
       "ZEC                    ZCash        Equihash       PoW     7.383056e+06   \n",
       "\n",
       "           TotalCoinSupply  \n",
       "Unnamed: 0                  \n",
       "42                      42  \n",
       "404              532000000  \n",
       "1337          314159265359  \n",
       "BTC               21000000  \n",
       "ETH                      0  \n",
       "LTC               84000000  \n",
       "DASH              22000000  \n",
       "XMR                      0  \n",
       "ETC              210000000  \n",
       "ZEC               21000000  "
      ]
     },
     "execution_count": 37,
     "metadata": {},
     "output_type": "execute_result"
    }
   ],
   "source": [
    "# 6. Keep the rows where coins are mined.\n",
    "crypto_df = crypto_df[crypto_df[\"TotalCoinsMined\"] > 0]\n",
    "\n",
    "#Make unnamed Column the Index\n",
    "crypto_df = crypto_df.set_index('Unnamed: 0', drop=True)\n",
    "\n",
    "crypto_df.head(10)\n"
   ]
  },
  {
   "cell_type": "code",
   "execution_count": 38,
   "metadata": {},
   "outputs": [
    {
     "data": {
      "text/plain": [
       "(532, 5)"
      ]
     },
     "execution_count": 38,
     "metadata": {},
     "output_type": "execute_result"
    }
   ],
   "source": [
    "crypto_df.shape"
   ]
  },
  {
   "cell_type": "code",
   "execution_count": 39,
   "metadata": {},
   "outputs": [
    {
     "data": {
      "text/plain": [
       "Unnamed: 0\n",
       "42        42 Coin\n",
       "404       404Coin\n",
       "1337    EliteCoin\n",
       "BTC       Bitcoin\n",
       "ETH      Ethereum\n",
       "Name: CoinName, dtype: object"
      ]
     },
     "execution_count": 39,
     "metadata": {},
     "output_type": "execute_result"
    }
   ],
   "source": [
    "#7. Create a new DataFrame that holds only the cryptocurrencies names.\n",
    "cryptocurrencies_names_df = crypto_df[\"CoinName\"]\n",
    "cryptocurrencies_names_df.head()"
   ]
  },
  {
   "cell_type": "code",
   "execution_count": 40,
   "metadata": {},
   "outputs": [
    {
     "data": {
      "text/html": [
       "<div>\n",
       "<style scoped>\n",
       "    .dataframe tbody tr th:only-of-type {\n",
       "        vertical-align: middle;\n",
       "    }\n",
       "\n",
       "    .dataframe tbody tr th {\n",
       "        vertical-align: top;\n",
       "    }\n",
       "\n",
       "    .dataframe thead th {\n",
       "        text-align: right;\n",
       "    }\n",
       "</style>\n",
       "<table border=\"1\" class=\"dataframe\">\n",
       "  <thead>\n",
       "    <tr style=\"text-align: right;\">\n",
       "      <th></th>\n",
       "      <th>Algorithm</th>\n",
       "      <th>ProofType</th>\n",
       "      <th>TotalCoinsMined</th>\n",
       "      <th>TotalCoinSupply</th>\n",
       "    </tr>\n",
       "    <tr>\n",
       "      <th>Unnamed: 0</th>\n",
       "      <th></th>\n",
       "      <th></th>\n",
       "      <th></th>\n",
       "      <th></th>\n",
       "    </tr>\n",
       "  </thead>\n",
       "  <tbody>\n",
       "    <tr>\n",
       "      <th>42</th>\n",
       "      <td>Scrypt</td>\n",
       "      <td>PoW/PoS</td>\n",
       "      <td>4.199995e+01</td>\n",
       "      <td>42</td>\n",
       "    </tr>\n",
       "    <tr>\n",
       "      <th>404</th>\n",
       "      <td>Scrypt</td>\n",
       "      <td>PoW/PoS</td>\n",
       "      <td>1.055185e+09</td>\n",
       "      <td>532000000</td>\n",
       "    </tr>\n",
       "    <tr>\n",
       "      <th>1337</th>\n",
       "      <td>X13</td>\n",
       "      <td>PoW/PoS</td>\n",
       "      <td>2.927942e+10</td>\n",
       "      <td>314159265359</td>\n",
       "    </tr>\n",
       "    <tr>\n",
       "      <th>BTC</th>\n",
       "      <td>SHA-256</td>\n",
       "      <td>PoW</td>\n",
       "      <td>1.792718e+07</td>\n",
       "      <td>21000000</td>\n",
       "    </tr>\n",
       "    <tr>\n",
       "      <th>ETH</th>\n",
       "      <td>Ethash</td>\n",
       "      <td>PoW</td>\n",
       "      <td>1.076842e+08</td>\n",
       "      <td>0</td>\n",
       "    </tr>\n",
       "    <tr>\n",
       "      <th>LTC</th>\n",
       "      <td>Scrypt</td>\n",
       "      <td>PoW</td>\n",
       "      <td>6.303924e+07</td>\n",
       "      <td>84000000</td>\n",
       "    </tr>\n",
       "    <tr>\n",
       "      <th>DASH</th>\n",
       "      <td>X11</td>\n",
       "      <td>PoW/PoS</td>\n",
       "      <td>9.031294e+06</td>\n",
       "      <td>22000000</td>\n",
       "    </tr>\n",
       "    <tr>\n",
       "      <th>XMR</th>\n",
       "      <td>CryptoNight-V7</td>\n",
       "      <td>PoW</td>\n",
       "      <td>1.720114e+07</td>\n",
       "      <td>0</td>\n",
       "    </tr>\n",
       "    <tr>\n",
       "      <th>ETC</th>\n",
       "      <td>Ethash</td>\n",
       "      <td>PoW</td>\n",
       "      <td>1.133597e+08</td>\n",
       "      <td>210000000</td>\n",
       "    </tr>\n",
       "    <tr>\n",
       "      <th>ZEC</th>\n",
       "      <td>Equihash</td>\n",
       "      <td>PoW</td>\n",
       "      <td>7.383056e+06</td>\n",
       "      <td>21000000</td>\n",
       "    </tr>\n",
       "  </tbody>\n",
       "</table>\n",
       "</div>"
      ],
      "text/plain": [
       "                 Algorithm ProofType  TotalCoinsMined TotalCoinSupply\n",
       "Unnamed: 0                                                           \n",
       "42                  Scrypt   PoW/PoS     4.199995e+01              42\n",
       "404                 Scrypt   PoW/PoS     1.055185e+09       532000000\n",
       "1337                   X13   PoW/PoS     2.927942e+10    314159265359\n",
       "BTC                SHA-256       PoW     1.792718e+07        21000000\n",
       "ETH                 Ethash       PoW     1.076842e+08               0\n",
       "LTC                 Scrypt       PoW     6.303924e+07        84000000\n",
       "DASH                   X11   PoW/PoS     9.031294e+06        22000000\n",
       "XMR         CryptoNight-V7       PoW     1.720114e+07               0\n",
       "ETC                 Ethash       PoW     1.133597e+08       210000000\n",
       "ZEC               Equihash       PoW     7.383056e+06        21000000"
      ]
     },
     "execution_count": 40,
     "metadata": {},
     "output_type": "execute_result"
    }
   ],
   "source": [
    "# 8. Drop the 'CoinName' column since it's not going to be used on the clustering algorithm.\n",
    "crypto_df = crypto_df.drop(['CoinName'], axis=1)\n",
    "crypto_df.head(10)"
   ]
  },
  {
   "cell_type": "code",
   "execution_count": 41,
   "metadata": {},
   "outputs": [
    {
     "data": {
      "text/plain": [
       "(532, 4)"
      ]
     },
     "execution_count": 41,
     "metadata": {},
     "output_type": "execute_result"
    }
   ],
   "source": [
    "crypto_df.shape"
   ]
  },
  {
   "cell_type": "code",
   "execution_count": 42,
   "metadata": {},
   "outputs": [
    {
     "data": {
      "text/html": [
       "<div>\n",
       "<style scoped>\n",
       "    .dataframe tbody tr th:only-of-type {\n",
       "        vertical-align: middle;\n",
       "    }\n",
       "\n",
       "    .dataframe tbody tr th {\n",
       "        vertical-align: top;\n",
       "    }\n",
       "\n",
       "    .dataframe thead th {\n",
       "        text-align: right;\n",
       "    }\n",
       "</style>\n",
       "<table border=\"1\" class=\"dataframe\">\n",
       "  <thead>\n",
       "    <tr style=\"text-align: right;\">\n",
       "      <th></th>\n",
       "      <th>TotalCoinsMined</th>\n",
       "      <th>TotalCoinSupply</th>\n",
       "      <th>Algorithm_1GB AES Pattern Search</th>\n",
       "      <th>Algorithm_536</th>\n",
       "      <th>Algorithm_Argon2d</th>\n",
       "      <th>Algorithm_BLAKE256</th>\n",
       "      <th>Algorithm_Blake</th>\n",
       "      <th>Algorithm_Blake2S</th>\n",
       "      <th>Algorithm_Blake2b</th>\n",
       "      <th>Algorithm_C11</th>\n",
       "      <th>...</th>\n",
       "      <th>ProofType_PoW/PoS</th>\n",
       "      <th>ProofType_PoW/PoS</th>\n",
       "      <th>ProofType_PoW/PoW</th>\n",
       "      <th>ProofType_PoW/nPoS</th>\n",
       "      <th>ProofType_Pos</th>\n",
       "      <th>ProofType_Proof of Authority</th>\n",
       "      <th>ProofType_Proof of Trust</th>\n",
       "      <th>ProofType_TPoS</th>\n",
       "      <th>ProofType_Zero-Knowledge Proof</th>\n",
       "      <th>ProofType_dPoW/PoW</th>\n",
       "    </tr>\n",
       "    <tr>\n",
       "      <th>Unnamed: 0</th>\n",
       "      <th></th>\n",
       "      <th></th>\n",
       "      <th></th>\n",
       "      <th></th>\n",
       "      <th></th>\n",
       "      <th></th>\n",
       "      <th></th>\n",
       "      <th></th>\n",
       "      <th></th>\n",
       "      <th></th>\n",
       "      <th></th>\n",
       "      <th></th>\n",
       "      <th></th>\n",
       "      <th></th>\n",
       "      <th></th>\n",
       "      <th></th>\n",
       "      <th></th>\n",
       "      <th></th>\n",
       "      <th></th>\n",
       "      <th></th>\n",
       "      <th></th>\n",
       "    </tr>\n",
       "  </thead>\n",
       "  <tbody>\n",
       "    <tr>\n",
       "      <th>42</th>\n",
       "      <td>4.199995e+01</td>\n",
       "      <td>42</td>\n",
       "      <td>0</td>\n",
       "      <td>0</td>\n",
       "      <td>0</td>\n",
       "      <td>0</td>\n",
       "      <td>0</td>\n",
       "      <td>0</td>\n",
       "      <td>0</td>\n",
       "      <td>0</td>\n",
       "      <td>...</td>\n",
       "      <td>1</td>\n",
       "      <td>0</td>\n",
       "      <td>0</td>\n",
       "      <td>0</td>\n",
       "      <td>0</td>\n",
       "      <td>0</td>\n",
       "      <td>0</td>\n",
       "      <td>0</td>\n",
       "      <td>0</td>\n",
       "      <td>0</td>\n",
       "    </tr>\n",
       "    <tr>\n",
       "      <th>404</th>\n",
       "      <td>1.055185e+09</td>\n",
       "      <td>532000000</td>\n",
       "      <td>0</td>\n",
       "      <td>0</td>\n",
       "      <td>0</td>\n",
       "      <td>0</td>\n",
       "      <td>0</td>\n",
       "      <td>0</td>\n",
       "      <td>0</td>\n",
       "      <td>0</td>\n",
       "      <td>...</td>\n",
       "      <td>1</td>\n",
       "      <td>0</td>\n",
       "      <td>0</td>\n",
       "      <td>0</td>\n",
       "      <td>0</td>\n",
       "      <td>0</td>\n",
       "      <td>0</td>\n",
       "      <td>0</td>\n",
       "      <td>0</td>\n",
       "      <td>0</td>\n",
       "    </tr>\n",
       "    <tr>\n",
       "      <th>1337</th>\n",
       "      <td>2.927942e+10</td>\n",
       "      <td>314159265359</td>\n",
       "      <td>0</td>\n",
       "      <td>0</td>\n",
       "      <td>0</td>\n",
       "      <td>0</td>\n",
       "      <td>0</td>\n",
       "      <td>0</td>\n",
       "      <td>0</td>\n",
       "      <td>0</td>\n",
       "      <td>...</td>\n",
       "      <td>1</td>\n",
       "      <td>0</td>\n",
       "      <td>0</td>\n",
       "      <td>0</td>\n",
       "      <td>0</td>\n",
       "      <td>0</td>\n",
       "      <td>0</td>\n",
       "      <td>0</td>\n",
       "      <td>0</td>\n",
       "      <td>0</td>\n",
       "    </tr>\n",
       "    <tr>\n",
       "      <th>BTC</th>\n",
       "      <td>1.792718e+07</td>\n",
       "      <td>21000000</td>\n",
       "      <td>0</td>\n",
       "      <td>0</td>\n",
       "      <td>0</td>\n",
       "      <td>0</td>\n",
       "      <td>0</td>\n",
       "      <td>0</td>\n",
       "      <td>0</td>\n",
       "      <td>0</td>\n",
       "      <td>...</td>\n",
       "      <td>0</td>\n",
       "      <td>0</td>\n",
       "      <td>0</td>\n",
       "      <td>0</td>\n",
       "      <td>0</td>\n",
       "      <td>0</td>\n",
       "      <td>0</td>\n",
       "      <td>0</td>\n",
       "      <td>0</td>\n",
       "      <td>0</td>\n",
       "    </tr>\n",
       "    <tr>\n",
       "      <th>ETH</th>\n",
       "      <td>1.076842e+08</td>\n",
       "      <td>0</td>\n",
       "      <td>0</td>\n",
       "      <td>0</td>\n",
       "      <td>0</td>\n",
       "      <td>0</td>\n",
       "      <td>0</td>\n",
       "      <td>0</td>\n",
       "      <td>0</td>\n",
       "      <td>0</td>\n",
       "      <td>...</td>\n",
       "      <td>0</td>\n",
       "      <td>0</td>\n",
       "      <td>0</td>\n",
       "      <td>0</td>\n",
       "      <td>0</td>\n",
       "      <td>0</td>\n",
       "      <td>0</td>\n",
       "      <td>0</td>\n",
       "      <td>0</td>\n",
       "      <td>0</td>\n",
       "    </tr>\n",
       "  </tbody>\n",
       "</table>\n",
       "<p>5 rows × 98 columns</p>\n",
       "</div>"
      ],
      "text/plain": [
       "            TotalCoinsMined TotalCoinSupply  Algorithm_1GB AES Pattern Search  \\\n",
       "Unnamed: 0                                                                      \n",
       "42             4.199995e+01              42                                 0   \n",
       "404            1.055185e+09       532000000                                 0   \n",
       "1337           2.927942e+10    314159265359                                 0   \n",
       "BTC            1.792718e+07        21000000                                 0   \n",
       "ETH            1.076842e+08               0                                 0   \n",
       "\n",
       "            Algorithm_536  Algorithm_Argon2d  Algorithm_BLAKE256  \\\n",
       "Unnamed: 0                                                         \n",
       "42                      0                  0                   0   \n",
       "404                     0                  0                   0   \n",
       "1337                    0                  0                   0   \n",
       "BTC                     0                  0                   0   \n",
       "ETH                     0                  0                   0   \n",
       "\n",
       "            Algorithm_Blake  Algorithm_Blake2S  Algorithm_Blake2b  \\\n",
       "Unnamed: 0                                                          \n",
       "42                        0                  0                  0   \n",
       "404                       0                  0                  0   \n",
       "1337                      0                  0                  0   \n",
       "BTC                       0                  0                  0   \n",
       "ETH                       0                  0                  0   \n",
       "\n",
       "            Algorithm_C11  ...  ProofType_PoW/PoS  ProofType_PoW/PoS   \\\n",
       "Unnamed: 0                 ...                                          \n",
       "42                      0  ...                  1                   0   \n",
       "404                     0  ...                  1                   0   \n",
       "1337                    0  ...                  1                   0   \n",
       "BTC                     0  ...                  0                   0   \n",
       "ETH                     0  ...                  0                   0   \n",
       "\n",
       "            ProofType_PoW/PoW  ProofType_PoW/nPoS  ProofType_Pos  \\\n",
       "Unnamed: 0                                                         \n",
       "42                          0                   0              0   \n",
       "404                         0                   0              0   \n",
       "1337                        0                   0              0   \n",
       "BTC                         0                   0              0   \n",
       "ETH                         0                   0              0   \n",
       "\n",
       "            ProofType_Proof of Authority  ProofType_Proof of Trust  \\\n",
       "Unnamed: 0                                                           \n",
       "42                                     0                         0   \n",
       "404                                    0                         0   \n",
       "1337                                   0                         0   \n",
       "BTC                                    0                         0   \n",
       "ETH                                    0                         0   \n",
       "\n",
       "            ProofType_TPoS  ProofType_Zero-Knowledge Proof  ProofType_dPoW/PoW  \n",
       "Unnamed: 0                                                                      \n",
       "42                       0                               0                   0  \n",
       "404                      0                               0                   0  \n",
       "1337                     0                               0                   0  \n",
       "BTC                      0                               0                   0  \n",
       "ETH                      0                               0                   0  \n",
       "\n",
       "[5 rows x 98 columns]"
      ]
     },
     "execution_count": 42,
     "metadata": {},
     "output_type": "execute_result"
    }
   ],
   "source": [
    "# 9. Use get_dummies() to create variables for text features.\n",
    "\n",
    "# For categorical columns, use \n",
    "# **Pandas get_dummies()** for binary coding\n",
    "\n",
    "# Create our features\n",
    "X = crypto_df.copy()\n",
    "X = pd.get_dummies(X, columns=[\"Algorithm\", \"ProofType\"])\n",
    "X.head()"
   ]
  },
  {
   "cell_type": "code",
   "execution_count": 43,
   "metadata": {},
   "outputs": [
    {
     "name": "stdout",
     "output_type": "stream",
     "text": [
      "[[-0.11710817 -0.1528703  -0.0433963  -0.0433963  -0.0433963  -0.06142951\n",
      "  -0.07530656 -0.0433963  -0.06142951 -0.06142951 -0.0433963  -0.0433963\n",
      "  -0.19245009 -0.06142951 -0.09740465 -0.0433963  -0.11547005 -0.07530656\n",
      "  -0.0433963  -0.0433963  -0.15191091 -0.0433963  -0.13118084 -0.0433963\n",
      "  -0.0433963  -0.08703883 -0.0433963  -0.0433963  -0.0433963  -0.0433963\n",
      "  -0.06142951 -0.0433963  -0.08703883 -0.08703883 -0.08703883 -0.0433963\n",
      "  -0.13118084 -0.13840913 -0.13840913 -0.0433963  -0.06142951 -0.0433963\n",
      "  -0.07530656 -0.18168574 -0.0433963  -0.0433963  -0.0433963  -0.07530656\n",
      "  -0.15826614 -0.31491833 -0.0433963  -0.08703883 -0.07530656 -0.06142951\n",
      "   1.38675049 -0.0433963  -0.0433963  -0.06142951 -0.0433963  -0.0433963\n",
      "  -0.0433963  -0.0433963  -0.0433963  -0.0433963  -0.0433963  -0.0433963\n",
      "  -0.39879994 -0.0433963  -0.18168574 -0.0433963  -0.08703883 -0.08703883\n",
      "  -0.10680283 -0.0433963  -0.13118084 -0.0433963  -0.0433963  -0.0433963\n",
      "  -0.0433963  -0.07530656 -0.43911856 -0.0433963  -0.06142951 -0.0433963\n",
      "  -0.0433963  -0.89632016 -0.0433963  -0.0433963   1.42222617 -0.0433963\n",
      "  -0.0433963  -0.0433963  -0.0433963  -0.0433963  -0.0433963  -0.0433963\n",
      "  -0.0433963  -0.0433963 ]\n",
      " [-0.09396955 -0.145009   -0.0433963  -0.0433963  -0.0433963  -0.06142951\n",
      "  -0.07530656 -0.0433963  -0.06142951 -0.06142951 -0.0433963  -0.0433963\n",
      "  -0.19245009 -0.06142951 -0.09740465 -0.0433963  -0.11547005 -0.07530656\n",
      "  -0.0433963  -0.0433963  -0.15191091 -0.0433963  -0.13118084 -0.0433963\n",
      "  -0.0433963  -0.08703883 -0.0433963  -0.0433963  -0.0433963  -0.0433963\n",
      "  -0.06142951 -0.0433963  -0.08703883 -0.08703883 -0.08703883 -0.0433963\n",
      "  -0.13118084 -0.13840913 -0.13840913 -0.0433963  -0.06142951 -0.0433963\n",
      "  -0.07530656 -0.18168574 -0.0433963  -0.0433963  -0.0433963  -0.07530656\n",
      "  -0.15826614 -0.31491833 -0.0433963  -0.08703883 -0.07530656 -0.06142951\n",
      "   1.38675049 -0.0433963  -0.0433963  -0.06142951 -0.0433963  -0.0433963\n",
      "  -0.0433963  -0.0433963  -0.0433963  -0.0433963  -0.0433963  -0.0433963\n",
      "  -0.39879994 -0.0433963  -0.18168574 -0.0433963  -0.08703883 -0.08703883\n",
      "  -0.10680283 -0.0433963  -0.13118084 -0.0433963  -0.0433963  -0.0433963\n",
      "  -0.0433963  -0.07530656 -0.43911856 -0.0433963  -0.06142951 -0.0433963\n",
      "  -0.0433963  -0.89632016 -0.0433963  -0.0433963   1.42222617 -0.0433963\n",
      "  -0.0433963  -0.0433963  -0.0433963  -0.0433963  -0.0433963  -0.0433963\n",
      "  -0.0433963  -0.0433963 ]\n",
      " [ 0.52494561  4.48942416 -0.0433963  -0.0433963  -0.0433963  -0.06142951\n",
      "  -0.07530656 -0.0433963  -0.06142951 -0.06142951 -0.0433963  -0.0433963\n",
      "  -0.19245009 -0.06142951 -0.09740465 -0.0433963  -0.11547005 -0.07530656\n",
      "  -0.0433963  -0.0433963  -0.15191091 -0.0433963  -0.13118084 -0.0433963\n",
      "  -0.0433963  -0.08703883 -0.0433963  -0.0433963  -0.0433963  -0.0433963\n",
      "  -0.06142951 -0.0433963  -0.08703883 -0.08703883 -0.08703883 -0.0433963\n",
      "  -0.13118084 -0.13840913 -0.13840913 -0.0433963  -0.06142951 -0.0433963\n",
      "  -0.07530656 -0.18168574 -0.0433963  -0.0433963  -0.0433963  -0.07530656\n",
      "  -0.15826614 -0.31491833 -0.0433963  -0.08703883 -0.07530656 -0.06142951\n",
      "  -0.72111026 -0.0433963  -0.0433963  -0.06142951 -0.0433963  -0.0433963\n",
      "  -0.0433963  -0.0433963  -0.0433963  -0.0433963  -0.0433963  -0.0433963\n",
      "  -0.39879994 -0.0433963   5.50400923 -0.0433963  -0.08703883 -0.08703883\n",
      "  -0.10680283 -0.0433963  -0.13118084 -0.0433963  -0.0433963  -0.0433963\n",
      "  -0.0433963  -0.07530656 -0.43911856 -0.0433963  -0.06142951 -0.0433963\n",
      "  -0.0433963  -0.89632016 -0.0433963  -0.0433963   1.42222617 -0.0433963\n",
      "  -0.0433963  -0.0433963  -0.0433963  -0.0433963  -0.0433963  -0.0433963\n",
      "  -0.0433963  -0.0433963 ]\n",
      " [-0.11671506 -0.15255998 -0.0433963  -0.0433963  -0.0433963  -0.06142951\n",
      "  -0.07530656 -0.0433963  -0.06142951 -0.06142951 -0.0433963  -0.0433963\n",
      "  -0.19245009 -0.06142951 -0.09740465 -0.0433963  -0.11547005 -0.07530656\n",
      "  -0.0433963  -0.0433963  -0.15191091 -0.0433963  -0.13118084 -0.0433963\n",
      "  -0.0433963  -0.08703883 -0.0433963  -0.0433963  -0.0433963  -0.0433963\n",
      "  -0.06142951 -0.0433963  -0.08703883 -0.08703883 -0.08703883 -0.0433963\n",
      "  -0.13118084 -0.13840913 -0.13840913 -0.0433963  -0.06142951 -0.0433963\n",
      "  -0.07530656 -0.18168574 -0.0433963  -0.0433963  -0.0433963  -0.07530656\n",
      "  -0.15826614  3.17542648 -0.0433963  -0.08703883 -0.07530656 -0.06142951\n",
      "  -0.72111026 -0.0433963  -0.0433963  -0.06142951 -0.0433963  -0.0433963\n",
      "  -0.0433963  -0.0433963  -0.0433963  -0.0433963  -0.0433963  -0.0433963\n",
      "  -0.39879994 -0.0433963  -0.18168574 -0.0433963  -0.08703883 -0.08703883\n",
      "  -0.10680283 -0.0433963  -0.13118084 -0.0433963  -0.0433963  -0.0433963\n",
      "  -0.0433963  -0.07530656 -0.43911856 -0.0433963  -0.06142951 -0.0433963\n",
      "  -0.0433963   1.11567277 -0.0433963  -0.0433963  -0.70312305 -0.0433963\n",
      "  -0.0433963  -0.0433963  -0.0433963  -0.0433963  -0.0433963  -0.0433963\n",
      "  -0.0433963  -0.0433963 ]]\n"
     ]
    }
   ],
   "source": [
    "# 10. Standardize the data with StandardScaler().\n",
    "\n",
    "X_scaled = StandardScaler().fit_transform(X)\n",
    "print(X_scaled[0:4])\n"
   ]
  },
  {
   "cell_type": "code",
   "execution_count": 44,
   "metadata": {},
   "outputs": [
    {
     "data": {
      "text/plain": [
       "(532, 98)"
      ]
     },
     "execution_count": 44,
     "metadata": {},
     "output_type": "execute_result"
    }
   ],
   "source": [
    "X_scaled.shape"
   ]
  },
  {
   "cell_type": "markdown",
   "metadata": {},
   "source": [
    "### Deliverable 2: Reducing Data Dimensions Using PCA"
   ]
  },
  {
   "cell_type": "code",
   "execution_count": 45,
   "metadata": {},
   "outputs": [
    {
     "data": {
      "text/plain": [
       "array([[-0.33354223,  1.03764173, -0.59228413],\n",
       "       [-0.31687542,  1.03787602, -0.59278091],\n",
       "       [ 2.29071598,  1.70413447, -0.77270767],\n",
       "       ...,\n",
       "       [ 0.32534142, -2.28532292,  0.45244907],\n",
       "       [-0.18906614, -2.06466885,  0.37089096],\n",
       "       [-0.27770632,  0.78416652, -0.24022776]])"
      ]
     },
     "execution_count": 45,
     "metadata": {},
     "output_type": "execute_result"
    }
   ],
   "source": [
    "# 2. Using PCA to reduce dimension to three principal components.\n",
    "\n",
    "from sklearn.cluster import AgglomerativeClustering\n",
    "\n",
    "# Initialize PCA model\n",
    "pca = PCA(n_components=3)\n",
    "\n",
    "\n",
    "# Get 3 principal components for the X_scaled data.\n",
    "X_scaled_pca = pca.fit_transform(X_scaled)\n",
    "\n",
    "X_scaled_pca"
   ]
  },
  {
   "cell_type": "code",
   "execution_count": 46,
   "metadata": {},
   "outputs": [
    {
     "data": {
      "text/plain": [
       "array([0.02792975, 0.02139929, 0.02049843])"
      ]
     },
     "execution_count": 46,
     "metadata": {},
     "output_type": "execute_result"
    }
   ],
   "source": [
    "# 3. Create a DataFrame with the three principal components.\n",
    "\n",
    "# Transform resulting PRINCIPAL COMPONENTS to a DataFrame to fit K-Means\n",
    "pcs_df = pd.DataFrame(data = X_scaled_pca, columns=[\"PC 1\", \"PC 2\", \"PC 3\"], index=crypto_df.index)\n",
    "\n",
    "pca.explained_variance_ratio_"
   ]
  },
  {
   "cell_type": "code",
   "execution_count": 52,
   "metadata": {},
   "outputs": [
    {
     "data": {
      "text/html": [
       "<div>\n",
       "<style scoped>\n",
       "    .dataframe tbody tr th:only-of-type {\n",
       "        vertical-align: middle;\n",
       "    }\n",
       "\n",
       "    .dataframe tbody tr th {\n",
       "        vertical-align: top;\n",
       "    }\n",
       "\n",
       "    .dataframe thead th {\n",
       "        text-align: right;\n",
       "    }\n",
       "</style>\n",
       "<table border=\"1\" class=\"dataframe\">\n",
       "  <thead>\n",
       "    <tr style=\"text-align: right;\">\n",
       "      <th></th>\n",
       "      <th>PC 1</th>\n",
       "      <th>PC 2</th>\n",
       "      <th>PC 3</th>\n",
       "    </tr>\n",
       "    <tr>\n",
       "      <th>Unnamed: 0</th>\n",
       "      <th></th>\n",
       "      <th></th>\n",
       "      <th></th>\n",
       "    </tr>\n",
       "  </thead>\n",
       "  <tbody>\n",
       "    <tr>\n",
       "      <th>42</th>\n",
       "      <td>-0.333542</td>\n",
       "      <td>1.037642</td>\n",
       "      <td>-0.592284</td>\n",
       "    </tr>\n",
       "    <tr>\n",
       "      <th>404</th>\n",
       "      <td>-0.316875</td>\n",
       "      <td>1.037876</td>\n",
       "      <td>-0.592781</td>\n",
       "    </tr>\n",
       "    <tr>\n",
       "      <th>1337</th>\n",
       "      <td>2.290716</td>\n",
       "      <td>1.704134</td>\n",
       "      <td>-0.772708</td>\n",
       "    </tr>\n",
       "    <tr>\n",
       "      <th>BTC</th>\n",
       "      <td>-0.145934</td>\n",
       "      <td>-1.324525</td>\n",
       "      <td>0.171526</td>\n",
       "    </tr>\n",
       "    <tr>\n",
       "      <th>ETH</th>\n",
       "      <td>-0.145205</td>\n",
       "      <td>-2.054052</td>\n",
       "      <td>0.411336</td>\n",
       "    </tr>\n",
       "    <tr>\n",
       "      <th>LTC</th>\n",
       "      <td>-0.160898</td>\n",
       "      <td>-1.125678</td>\n",
       "      <td>0.017083</td>\n",
       "    </tr>\n",
       "    <tr>\n",
       "      <th>DASH</th>\n",
       "      <td>-0.392694</td>\n",
       "      <td>1.272733</td>\n",
       "      <td>-0.562363</td>\n",
       "    </tr>\n",
       "    <tr>\n",
       "      <th>XMR</th>\n",
       "      <td>-0.155516</td>\n",
       "      <td>-2.238042</td>\n",
       "      <td>0.466637</td>\n",
       "    </tr>\n",
       "    <tr>\n",
       "      <th>ETC</th>\n",
       "      <td>-0.143647</td>\n",
       "      <td>-2.054140</td>\n",
       "      <td>0.411307</td>\n",
       "    </tr>\n",
       "    <tr>\n",
       "      <th>ZEC</th>\n",
       "      <td>-0.189065</td>\n",
       "      <td>-2.064669</td>\n",
       "      <td>0.370891</td>\n",
       "    </tr>\n",
       "  </tbody>\n",
       "</table>\n",
       "</div>"
      ],
      "text/plain": [
       "                PC 1      PC 2      PC 3\n",
       "Unnamed: 0                              \n",
       "42         -0.333542  1.037642 -0.592284\n",
       "404        -0.316875  1.037876 -0.592781\n",
       "1337        2.290716  1.704134 -0.772708\n",
       "BTC        -0.145934 -1.324525  0.171526\n",
       "ETH        -0.145205 -2.054052  0.411336\n",
       "LTC        -0.160898 -1.125678  0.017083\n",
       "DASH       -0.392694  1.272733 -0.562363\n",
       "XMR        -0.155516 -2.238042  0.466637\n",
       "ETC        -0.143647 -2.054140  0.411307\n",
       "ZEC        -0.189065 -2.064669  0.370891"
      ]
     },
     "execution_count": 52,
     "metadata": {},
     "output_type": "execute_result"
    }
   ],
   "source": [
    "pcs_df.head(10)"
   ]
  },
  {
   "cell_type": "markdown",
   "metadata": {},
   "source": [
    "### Deliverable 3: Clustering Crytocurrencies Using K-Means\n",
    "\n",
    "#### Finding the Best Value for `k` Using the Elbow Curve"
   ]
  },
  {
   "cell_type": "code",
   "execution_count": 97,
   "metadata": {},
   "outputs": [
    {
     "data": {},
     "metadata": {},
     "output_type": "display_data"
    },
    {
     "data": {
      "application/vnd.holoviews_exec.v0+json": "",
      "text/html": [
       "<div id='1356'>\n",
       "\n",
       "\n",
       "\n",
       "\n",
       "\n",
       "  <div class=\"bk-root\" id=\"ff3b7dfd-eba1-442f-9106-309bcd4ff2c3\" data-root-id=\"1356\"></div>\n",
       "</div>\n",
       "<script type=\"application/javascript\">(function(root) {\n",
       "  function embed_document(root) {\n",
       "  var docs_json = {\"0ff16ad3-15fc-43a0-a4ba-23df80230697\":{\"roots\":{\"references\":[{\"attributes\":{\"active_drag\":\"auto\",\"active_inspect\":\"auto\",\"active_multi\":null,\"active_scroll\":\"auto\",\"active_tap\":\"auto\",\"tools\":[{\"id\":\"1360\"},{\"id\":\"1378\"},{\"id\":\"1379\"},{\"id\":\"1380\"},{\"id\":\"1381\"},{\"id\":\"1382\"}]},\"id\":\"1384\",\"type\":\"Toolbar\"},{\"attributes\":{\"margin\":[5,5,5,5],\"name\":\"HSpacer02229\",\"sizing_mode\":\"stretch_width\"},\"id\":\"1357\",\"type\":\"Spacer\"},{\"attributes\":{\"axis_label\":\"inertia\",\"bounds\":\"auto\",\"formatter\":{\"id\":\"1405\"},\"major_label_orientation\":\"horizontal\",\"ticker\":{\"id\":\"1375\"}},\"id\":\"1374\",\"type\":\"LinearAxis\"},{\"attributes\":{\"ticks\":[1,2,3,4,5,6,7,8,9,10]},\"id\":\"1399\",\"type\":\"FixedTicker\"},{\"attributes\":{},\"id\":\"1378\",\"type\":\"SaveTool\"},{\"attributes\":{\"below\":[{\"id\":\"1370\"}],\"center\":[{\"id\":\"1373\"},{\"id\":\"1377\"}],\"left\":[{\"id\":\"1374\"}],\"margin\":null,\"min_border_bottom\":10,\"min_border_left\":10,\"min_border_right\":10,\"min_border_top\":10,\"plot_height\":300,\"plot_width\":700,\"renderers\":[{\"id\":\"1397\"}],\"sizing_mode\":\"fixed\",\"title\":{\"id\":\"1362\"},\"toolbar\":{\"id\":\"1384\"},\"x_range\":{\"id\":\"1358\"},\"x_scale\":{\"id\":\"1366\"},\"y_range\":{\"id\":\"1359\"},\"y_scale\":{\"id\":\"1368\"}},\"id\":\"1361\",\"subtype\":\"Figure\",\"type\":\"Plot\"},{\"attributes\":{},\"id\":\"1380\",\"type\":\"WheelZoomTool\"},{\"attributes\":{},\"id\":\"1379\",\"type\":\"PanTool\"},{\"attributes\":{\"text\":\"Elbow Curve\",\"text_color\":{\"value\":\"black\"},\"text_font_size\":{\"value\":\"12pt\"}},\"id\":\"1362\",\"type\":\"Title\"},{\"attributes\":{\"overlay\":{\"id\":\"1383\"}},\"id\":\"1381\",\"type\":\"BoxZoomTool\"},{\"attributes\":{},\"id\":\"1368\",\"type\":\"LinearScale\"},{\"attributes\":{\"children\":[{\"id\":\"1357\"},{\"id\":\"1361\"},{\"id\":\"1420\"}],\"margin\":[0,0,0,0],\"name\":\"Row02225\",\"tags\":[\"embedded\"]},\"id\":\"1356\",\"type\":\"Row\"},{\"attributes\":{\"end\":10.0,\"reset_end\":10.0,\"reset_start\":1.0,\"start\":1.0,\"tags\":[[[\"k\",\"k\",null]]]},\"id\":\"1358\",\"type\":\"Range1d\"},{\"attributes\":{},\"id\":\"1382\",\"type\":\"ResetTool\"},{\"attributes\":{\"line_alpha\":0.1,\"line_color\":\"#1f77b3\",\"line_width\":2,\"x\":{\"field\":\"k\"},\"y\":{\"field\":\"inertia\"}},\"id\":\"1395\",\"type\":\"Line\"},{\"attributes\":{\"line_color\":\"#1f77b3\",\"line_width\":2,\"x\":{\"field\":\"k\"},\"y\":{\"field\":\"inertia\"}},\"id\":\"1394\",\"type\":\"Line\"},{\"attributes\":{\"callback\":null,\"renderers\":[{\"id\":\"1397\"}],\"tags\":[\"hv_created\"],\"tooltips\":[[\"k\",\"@{k}\"],[\"inertia\",\"@{inertia}\"]]},\"id\":\"1360\",\"type\":\"HoverTool\"},{\"attributes\":{},\"id\":\"1366\",\"type\":\"LinearScale\"},{\"attributes\":{},\"id\":\"1392\",\"type\":\"Selection\"},{\"attributes\":{\"axis\":{\"id\":\"1370\"},\"grid_line_color\":null,\"ticker\":null},\"id\":\"1373\",\"type\":\"Grid\"},{\"attributes\":{\"axis_label\":\"k\",\"bounds\":\"auto\",\"formatter\":{\"id\":\"1401\"},\"major_label_orientation\":\"horizontal\",\"ticker\":{\"id\":\"1399\"}},\"id\":\"1370\",\"type\":\"LinearAxis\"},{\"attributes\":{\"margin\":[5,5,5,5],\"name\":\"HSpacer02230\",\"sizing_mode\":\"stretch_width\"},\"id\":\"1420\",\"type\":\"Spacer\"},{\"attributes\":{},\"id\":\"1401\",\"type\":\"BasicTickFormatter\"},{\"attributes\":{},\"id\":\"1375\",\"type\":\"BasicTicker\"},{\"attributes\":{\"axis\":{\"id\":\"1374\"},\"dimension\":1,\"grid_line_color\":null,\"ticker\":null},\"id\":\"1377\",\"type\":\"Grid\"},{\"attributes\":{\"end\":3993.0679653602824,\"reset_end\":3993.0679653602824,\"reset_start\":-237.4481041187545,\"start\":-237.4481041187545,\"tags\":[[[\"inertia\",\"inertia\",null]]]},\"id\":\"1359\",\"type\":\"Range1d\"},{\"attributes\":{\"bottom_units\":\"screen\",\"fill_alpha\":0.5,\"fill_color\":\"lightgrey\",\"left_units\":\"screen\",\"level\":\"overlay\",\"line_alpha\":1.0,\"line_color\":\"black\",\"line_dash\":[4,4],\"line_width\":2,\"right_units\":\"screen\",\"top_units\":\"screen\"},\"id\":\"1383\",\"type\":\"BoxAnnotation\"},{\"attributes\":{\"source\":{\"id\":\"1391\"}},\"id\":\"1398\",\"type\":\"CDSView\"},{\"attributes\":{\"line_alpha\":0.2,\"line_color\":\"#1f77b3\",\"line_width\":2,\"x\":{\"field\":\"k\"},\"y\":{\"field\":\"inertia\"}},\"id\":\"1396\",\"type\":\"Line\"},{\"attributes\":{\"data\":{\"inertia\":{\"__ndarray__\":\"3DSAxwxxrEDQ6KdV/FKjQMkoAqovOZdA1ab6GrKRgEAKvSjdnMV0QHatzeBlwHBAcXMeEMq+akA/aNy86BZlQAgtvTkUfGFAZ3913hLGXEA=\",\"dtype\":\"float64\",\"order\":\"little\",\"shape\":[10]},\"k\":[1,2,3,4,5,6,7,8,9,10]},\"selected\":{\"id\":\"1392\"},\"selection_policy\":{\"id\":\"1410\"}},\"id\":\"1391\",\"type\":\"ColumnDataSource\"},{\"attributes\":{},\"id\":\"1410\",\"type\":\"UnionRenderers\"},{\"attributes\":{\"data_source\":{\"id\":\"1391\"},\"glyph\":{\"id\":\"1394\"},\"hover_glyph\":null,\"muted_glyph\":{\"id\":\"1396\"},\"nonselection_glyph\":{\"id\":\"1395\"},\"selection_glyph\":null,\"view\":{\"id\":\"1398\"}},\"id\":\"1397\",\"type\":\"GlyphRenderer\"},{\"attributes\":{},\"id\":\"1405\",\"type\":\"BasicTickFormatter\"}],\"root_ids\":[\"1356\"]},\"title\":\"Bokeh Application\",\"version\":\"2.1.1\"}};\n",
       "  var render_items = [{\"docid\":\"0ff16ad3-15fc-43a0-a4ba-23df80230697\",\"root_ids\":[\"1356\"],\"roots\":{\"1356\":\"ff3b7dfd-eba1-442f-9106-309bcd4ff2c3\"}}];\n",
       "  root.Bokeh.embed.embed_items_notebook(docs_json, render_items);\n",
       "  }\n",
       "if (root.Bokeh !== undefined) {\n",
       "    embed_document(root);\n",
       "  } else {\n",
       "    var attempts = 0;\n",
       "    var timer = setInterval(function(root) {\n",
       "      if (root.Bokeh !== undefined) {\n",
       "        clearInterval(timer);\n",
       "        embed_document(root);\n",
       "      } else if (document.readyState == \"complete\") {\n",
       "        attempts++;\n",
       "        if (attempts > 100) {\n",
       "          clearInterval(timer);\n",
       "          console.log(\"Bokeh: ERROR: Unable to run BokehJS code because BokehJS library is missing\");\n",
       "        }\n",
       "      }\n",
       "    }, 10, root)\n",
       "  }\n",
       "})(window);</script>"
      ],
      "text/plain": [
       ":Curve   [k]   (inertia)"
      ]
     },
     "execution_count": 97,
     "metadata": {
      "application/vnd.holoviews_exec.v0+json": {
       "id": "1356"
      }
     },
     "output_type": "execute_result"
    }
   ],
   "source": [
    "# 2. Create an elbow curve to find the best value for K.\n",
    "\n",
    "# a. Store Values of K to Plot\n",
    "inertia = []\n",
    "k = list(range(1, 11))\n",
    "\n",
    "\n",
    "\n",
    "# b. Loop Through K  Values and Find Inertia\n",
    "# Looking for the best K by looping \n",
    "# through each K value, find the inertia, \n",
    "# and store it into the inertia list.\n",
    "for i in k:\n",
    "    km = KMeans(n_clusters=i, random_state=0) \n",
    "    km.fit(pcs_df)                        \n",
    "    inertia.append(km.inertia_)\n",
    "\n",
    "    \n",
    "    \n",
    "#c. Create a DataFrame and Plot the Elbow Curve using hvPlot    \n",
    "elbow_data = {\"k\": k, \"inertia\": inertia}\n",
    "df_elbow = pd.DataFrame(elbow_data)\n",
    "df_elbow.hvplot.line(x=\"k\", y=\"inertia\", title=\"Elbow Curve\", xticks=k)  \n"
   ]
  },
  {
   "cell_type": "markdown",
   "metadata": {},
   "source": [
    "Running K-Means with `k=4`"
   ]
  },
  {
   "cell_type": "code",
   "execution_count": 98,
   "metadata": {},
   "outputs": [
    {
     "name": "stdout",
     "output_type": "stream",
     "text": [
      "[0 0 0 3 3 3 0 3 3 3 0 3 0 0 3 0 3 3 0 0 3 3 3 3 3 0 3 3 3 0 3 0 3 3 0 0 3\n",
      " 3 3 3 3 3 0 0 3 3 3 3 3 0 0 3 0 3 3 3 3 0 3 3 0 3 0 0 0 3 3 3 0 0 0 0 0 3\n",
      " 3 3 0 0 3 0 3 0 0 3 3 3 3 0 0 3 0 3 3 0 0 3 0 0 3 3 0 0 3 0 0 3 0 3 0 3 0\n",
      " 3 0 0 3 3 0 3 3 3 0 3 3 3 3 3 0 0 3 3 3 0 3 0 3 3 0 3 0 3 0 0 3 3 0 3 3 0\n",
      " 0 3 0 3 0 0 0 3 3 3 3 0 0 0 0 0 3 3 0 0 0 0 0 3 0 0 0 0 0 3 0 3 0 0 3 0 3\n",
      " 0 0 3 0 3 0 3 0 3 0 0 0 0 3 0 0 0 0 0 3 3 0 0 3 3 0 0 0 0 0 3 0 0 0 0 0 0\n",
      " 0 0 3 0 0 0 0 0 0 3 3 3 0 0 0 0 3 0 3 0 0 3 0 3 3 0 3 3 0 3 0 0 0 3 0 0 3\n",
      " 0 0 0 0 0 0 0 3 0 3 0 0 0 0 3 0 3 0 3 3 3 3 0 3 0 0 3 0 3 3 3 0 3 0 3 3 3\n",
      " 0 3 0 3 0 0 0 3 0 3 3 3 3 3 0 0 3 0 0 0 3 0 3 0 3 0 3 0 0 0 0 3 0 0 3 0 0\n",
      " 0 3 3 3 3 0 0 0 0 3 0 3 3 3 0 0 3 3 0 0 3 0 3 3 3 0 3 3 0 0 0 3 3 3 0 3 0\n",
      " 3 3 0 3 3 3 3 0 1 1 3 3 3 0 1 0 0 0 0 3 3 3 3 0 0 0 3 0 3 0 0 0 0 3 0 0 3\n",
      " 0 0 3 3 0 3 0 3 3 3 3 0 0 3 0 3 0 0 0 0 0 0 3 3 3 0 0 0 0 0 0 3 0 3 3 3 3\n",
      " 0 0 0 0 3 0 0 3 0 0 3 1 3 0 3 3 0 0 3 0 3 3 3 3 3 0 3 0 3 0 0 3 0 0 0 0 0\n",
      " 3 3 3 0 0 0 3 0 3 0 3 0 0 0 0 3 0 0 0 3 0 3 0 3 0 0 0 3 3 0 0 0 0 0 0 3 0\n",
      " 3 0 3 0 0 1 0 2 0 0 0 3 3 0]\n"
     ]
    }
   ],
   "source": [
    "# 3. Initialize the K-Means model.\n",
    "model = KMeans(n_clusters=4, random_state=0)\n",
    "\n",
    "\n",
    "# Fit the model\n",
    "model.fit(pcs_df)\n",
    "\n",
    "\n",
    "# Predict clusters\n",
    "predictions = model.predict(pcs_df)\n",
    "\n",
    "print(predictions)"
   ]
  },
  {
   "cell_type": "code",
   "execution_count": 99,
   "metadata": {},
   "outputs": [
    {
     "name": "stdout",
     "output_type": "stream",
     "text": [
      "(532, 9)\n"
     ]
    },
    {
     "data": {
      "text/html": [
       "<div>\n",
       "<style scoped>\n",
       "    .dataframe tbody tr th:only-of-type {\n",
       "        vertical-align: middle;\n",
       "    }\n",
       "\n",
       "    .dataframe tbody tr th {\n",
       "        vertical-align: top;\n",
       "    }\n",
       "\n",
       "    .dataframe thead th {\n",
       "        text-align: right;\n",
       "    }\n",
       "</style>\n",
       "<table border=\"1\" class=\"dataframe\">\n",
       "  <thead>\n",
       "    <tr style=\"text-align: right;\">\n",
       "      <th></th>\n",
       "      <th>Algorithm</th>\n",
       "      <th>ProofType</th>\n",
       "      <th>TotalCoinsMined</th>\n",
       "      <th>TotalCoinSupply</th>\n",
       "      <th>PC 1</th>\n",
       "      <th>PC 2</th>\n",
       "      <th>PC 3</th>\n",
       "      <th>CoinName</th>\n",
       "      <th>class</th>\n",
       "    </tr>\n",
       "    <tr>\n",
       "      <th>Unnamed: 0</th>\n",
       "      <th></th>\n",
       "      <th></th>\n",
       "      <th></th>\n",
       "      <th></th>\n",
       "      <th></th>\n",
       "      <th></th>\n",
       "      <th></th>\n",
       "      <th></th>\n",
       "      <th></th>\n",
       "    </tr>\n",
       "  </thead>\n",
       "  <tbody>\n",
       "    <tr>\n",
       "      <th>42</th>\n",
       "      <td>Scrypt</td>\n",
       "      <td>PoW/PoS</td>\n",
       "      <td>4.199995e+01</td>\n",
       "      <td>42</td>\n",
       "      <td>-0.333542</td>\n",
       "      <td>1.037642</td>\n",
       "      <td>-0.592284</td>\n",
       "      <td>42 Coin</td>\n",
       "      <td>0</td>\n",
       "    </tr>\n",
       "    <tr>\n",
       "      <th>404</th>\n",
       "      <td>Scrypt</td>\n",
       "      <td>PoW/PoS</td>\n",
       "      <td>1.055185e+09</td>\n",
       "      <td>532000000</td>\n",
       "      <td>-0.316875</td>\n",
       "      <td>1.037876</td>\n",
       "      <td>-0.592781</td>\n",
       "      <td>404Coin</td>\n",
       "      <td>0</td>\n",
       "    </tr>\n",
       "    <tr>\n",
       "      <th>1337</th>\n",
       "      <td>X13</td>\n",
       "      <td>PoW/PoS</td>\n",
       "      <td>2.927942e+10</td>\n",
       "      <td>314159265359</td>\n",
       "      <td>2.290716</td>\n",
       "      <td>1.704134</td>\n",
       "      <td>-0.772708</td>\n",
       "      <td>EliteCoin</td>\n",
       "      <td>0</td>\n",
       "    </tr>\n",
       "    <tr>\n",
       "      <th>BTC</th>\n",
       "      <td>SHA-256</td>\n",
       "      <td>PoW</td>\n",
       "      <td>1.792718e+07</td>\n",
       "      <td>21000000</td>\n",
       "      <td>-0.145934</td>\n",
       "      <td>-1.324525</td>\n",
       "      <td>0.171526</td>\n",
       "      <td>Bitcoin</td>\n",
       "      <td>3</td>\n",
       "    </tr>\n",
       "    <tr>\n",
       "      <th>ETH</th>\n",
       "      <td>Ethash</td>\n",
       "      <td>PoW</td>\n",
       "      <td>1.076842e+08</td>\n",
       "      <td>0</td>\n",
       "      <td>-0.145205</td>\n",
       "      <td>-2.054052</td>\n",
       "      <td>0.411336</td>\n",
       "      <td>Ethereum</td>\n",
       "      <td>3</td>\n",
       "    </tr>\n",
       "    <tr>\n",
       "      <th>LTC</th>\n",
       "      <td>Scrypt</td>\n",
       "      <td>PoW</td>\n",
       "      <td>6.303924e+07</td>\n",
       "      <td>84000000</td>\n",
       "      <td>-0.160898</td>\n",
       "      <td>-1.125678</td>\n",
       "      <td>0.017083</td>\n",
       "      <td>Litecoin</td>\n",
       "      <td>3</td>\n",
       "    </tr>\n",
       "    <tr>\n",
       "      <th>DASH</th>\n",
       "      <td>X11</td>\n",
       "      <td>PoW/PoS</td>\n",
       "      <td>9.031294e+06</td>\n",
       "      <td>22000000</td>\n",
       "      <td>-0.392694</td>\n",
       "      <td>1.272733</td>\n",
       "      <td>-0.562363</td>\n",
       "      <td>Dash</td>\n",
       "      <td>0</td>\n",
       "    </tr>\n",
       "    <tr>\n",
       "      <th>XMR</th>\n",
       "      <td>CryptoNight-V7</td>\n",
       "      <td>PoW</td>\n",
       "      <td>1.720114e+07</td>\n",
       "      <td>0</td>\n",
       "      <td>-0.155516</td>\n",
       "      <td>-2.238042</td>\n",
       "      <td>0.466637</td>\n",
       "      <td>Monero</td>\n",
       "      <td>3</td>\n",
       "    </tr>\n",
       "    <tr>\n",
       "      <th>ETC</th>\n",
       "      <td>Ethash</td>\n",
       "      <td>PoW</td>\n",
       "      <td>1.133597e+08</td>\n",
       "      <td>210000000</td>\n",
       "      <td>-0.143647</td>\n",
       "      <td>-2.054140</td>\n",
       "      <td>0.411307</td>\n",
       "      <td>Ethereum Classic</td>\n",
       "      <td>3</td>\n",
       "    </tr>\n",
       "    <tr>\n",
       "      <th>ZEC</th>\n",
       "      <td>Equihash</td>\n",
       "      <td>PoW</td>\n",
       "      <td>7.383056e+06</td>\n",
       "      <td>21000000</td>\n",
       "      <td>-0.189065</td>\n",
       "      <td>-2.064669</td>\n",
       "      <td>0.370891</td>\n",
       "      <td>ZCash</td>\n",
       "      <td>3</td>\n",
       "    </tr>\n",
       "  </tbody>\n",
       "</table>\n",
       "</div>"
      ],
      "text/plain": [
       "                 Algorithm ProofType  TotalCoinsMined TotalCoinSupply  \\\n",
       "Unnamed: 0                                                              \n",
       "42                  Scrypt   PoW/PoS     4.199995e+01              42   \n",
       "404                 Scrypt   PoW/PoS     1.055185e+09       532000000   \n",
       "1337                   X13   PoW/PoS     2.927942e+10    314159265359   \n",
       "BTC                SHA-256       PoW     1.792718e+07        21000000   \n",
       "ETH                 Ethash       PoW     1.076842e+08               0   \n",
       "LTC                 Scrypt       PoW     6.303924e+07        84000000   \n",
       "DASH                   X11   PoW/PoS     9.031294e+06        22000000   \n",
       "XMR         CryptoNight-V7       PoW     1.720114e+07               0   \n",
       "ETC                 Ethash       PoW     1.133597e+08       210000000   \n",
       "ZEC               Equihash       PoW     7.383056e+06        21000000   \n",
       "\n",
       "                PC 1      PC 2      PC 3          CoinName  class  \n",
       "Unnamed: 0                                                         \n",
       "42         -0.333542  1.037642 -0.592284           42 Coin      0  \n",
       "404        -0.316875  1.037876 -0.592781           404Coin      0  \n",
       "1337        2.290716  1.704134 -0.772708         EliteCoin      0  \n",
       "BTC        -0.145934 -1.324525  0.171526           Bitcoin      3  \n",
       "ETH        -0.145205 -2.054052  0.411336          Ethereum      3  \n",
       "LTC        -0.160898 -1.125678  0.017083          Litecoin      3  \n",
       "DASH       -0.392694  1.272733 -0.562363              Dash      0  \n",
       "XMR        -0.155516 -2.238042  0.466637            Monero      3  \n",
       "ETC        -0.143647 -2.054140  0.411307  Ethereum Classic      3  \n",
       "ZEC        -0.189065 -2.064669  0.370891             ZCash      3  "
      ]
     },
     "execution_count": 99,
     "metadata": {},
     "output_type": "execute_result"
    }
   ],
   "source": [
    "# 4. Create a new DataFrame including predicted clusters and cryptocurrencies features.\n",
    "# Concatentate the crypto_df and pcs_df DataFrames on the same columns.\n",
    "clustered_df = pd.concat([crypto_df, pcs_df], axis=1)\n",
    "\n",
    "# 5. Add a new column, \"CoinName\" to the clustered_df DataFrame that holds the names of the cryptocurrencies. \n",
    "clustered_df = pd.concat([clustered_df,cryptocurrencies_names_df], axis = 1)\n",
    "\n",
    "#  Add a new column, \"Class\" to the clustered_df DataFrame that holds the predictions.\n",
    "# pcs_df[\"class\"] = model.labels_\n",
    "clustered_df[\"class\"] = model.labels_\n",
    "\n",
    "# Print the shape of the clustered_df\n",
    "print(clustered_df.shape)\n",
    "clustered_df.head(10)\n"
   ]
  },
  {
   "cell_type": "markdown",
   "metadata": {},
   "source": [
    "### Deliverable 4: Visualizing Cryptocurrencies Results\n",
    "\n",
    "#### 3D-Scatter with Clusters"
   ]
  },
  {
   "cell_type": "code",
   "execution_count": 112,
   "metadata": {},
   "outputs": [
    {
     "data": {
      "application/vnd.plotly.v1+json": {
       "config": {
        "plotlyServerURL": "https://plot.ly"
       },
       "data": [
        {
         "customdata": [
          [
           "42 Coin",
           "Scrypt"
          ],
          [
           "404Coin",
           "Scrypt"
          ],
          [
           "EliteCoin",
           "X13"
          ],
          [
           "Dash",
           "X11"
          ],
          [
           "Bitshares",
           "SHA-512"
          ],
          [
           "BitcoinDark",
           "SHA-256"
          ],
          [
           "PayCoin",
           "SHA-256"
          ],
          [
           "KoboCoin",
           "X15"
          ],
          [
           "Aurora Coin",
           "Scrypt"
          ],
          [
           "BlueCoin",
           "Scrypt"
          ],
          [
           "EnergyCoin",
           "Scrypt"
          ],
          [
           "BitBar",
           "Scrypt"
          ],
          [
           "CryptoBullion",
           "Scrypt"
          ],
          [
           "CasinoCoin",
           "Scrypt"
          ],
          [
           "Diamond",
           "Groestl"
          ],
          [
           "Exclusive Coin",
           "PoS"
          ],
          [
           "FlutterCoin",
           "Scrypt"
          ],
          [
           "HoboNickels",
           "Scrypt"
          ],
          [
           "HyperStake",
           "X11"
          ],
          [
           "IOCoin",
           "X11"
          ],
          [
           "MaxCoin",
           "SHA3"
          ],
          [
           "MintCoin",
           "Scrypt"
          ],
          [
           "MazaCoin",
           "SHA-256"
          ],
          [
           "Nautilus Coin",
           "Scrypt"
          ],
          [
           "NavCoin",
           "X13"
          ],
          [
           "OpalCoin",
           "X13"
          ],
          [
           "Orbitcoin",
           "NeoScrypt"
          ],
          [
           "PotCoin",
           "Scrypt"
          ],
          [
           "PhoenixCoin",
           "Scrypt"
          ],
          [
           "Reddcoin",
           "Scrypt"
          ],
          [
           "SuperCoin",
           "X11"
          ],
          [
           "SyncCoin",
           "X11"
          ],
          [
           "TeslaCoin",
           "Multiple"
          ],
          [
           "TittieCoin",
           "PHI1612"
          ],
          [
           "TorCoin",
           "X11"
          ],
          [
           "UnitaryStatus Dollar",
           "Scrypt"
          ],
          [
           "UltraCoin",
           "Scrypt"
          ],
          [
           "VeriCoin",
           "Scrypt"
          ],
          [
           "X11 Coin",
           "X11"
          ],
          [
           "Crypti",
           "Multiple"
          ],
          [
           "StealthCoin",
           "X13"
          ],
          [
           "ZCC Coin",
           "Scrypt"
          ],
          [
           "BurstCoin",
           "Shabal256"
          ],
          [
           "StorjCoin",
           "Counterparty"
          ],
          [
           "Neutron",
           "SHA-256"
          ],
          [
           "FairCoin",
           "Groestl"
          ],
          [
           "RubyCoin",
           "Scrypt"
          ],
          [
           "Kore",
           "X13"
          ],
          [
           "Dnotes",
           "Scrypt"
          ],
          [
           "8BIT Coin",
           "Scrypt"
          ],
          [
           "Sativa Coin",
           "X13"
          ],
          [
           "Ucoin",
           "X11"
          ],
          [
           "Vtorrent",
           "Scrypt"
          ],
          [
           "IslaCoin",
           "X11"
          ],
          [
           "Nexus",
           "SHA3"
          ],
          [
           "Droidz",
           "QUAIT"
          ],
          [
           "Squall Coin",
           "X11"
          ],
          [
           "Diggits",
           "Scrypt"
          ],
          [
           "Paycon",
           "X13"
          ],
          [
           "Emercoin",
           "SHA-256"
          ],
          [
           "EverGreenCoin",
           "X15"
          ],
          [
           "Decred",
           "BLAKE256"
          ],
          [
           "EDRCoin",
           "SHA-256"
          ],
          [
           "Hitcoin",
           "X11"
          ],
          [
           "DubaiCoin",
           "SHA-256"
          ],
          [
           "PWR Coin",
           "NIST5"
          ],
          [
           "BillaryCoin",
           "Scrypt"
          ],
          [
           "GPU Coin",
           "Scrypt"
          ],
          [
           "EuropeCoin",
           "X11"
          ],
          [
           "ZeitCoin",
           "Scrypt"
          ],
          [
           "SwingCoin",
           "SHA-256"
          ],
          [
           "SafeExchangeCoin",
           "Scrypt"
          ],
          [
           "Nebuchadnezzar",
           "PoS"
          ],
          [
           "Ratecoin",
           "X11"
          ],
          [
           "Revenu",
           "SHA-256"
          ],
          [
           "Clockcoin",
           "SHA-256"
          ],
          [
           "VIP Tokens",
           "NIST5"
          ],
          [
           "BitSend",
           "X11"
          ],
          [
           "Let it Ride",
           "POS 3.0"
          ],
          [
           "PutinCoin",
           "Scrypt"
          ],
          [
           "iBankCoin",
           "Scrypt"
          ],
          [
           "Frankywillcoin",
           "Scrypt"
          ],
          [
           "MudraCoin",
           "X13"
          ],
          [
           "Lutetium Coin",
           "X11"
          ],
          [
           "GoldBlocks",
           "X11"
          ],
          [
           "CarterCoin",
           "Scrypt"
          ],
          [
           "BitTokens",
           "SHA-256"
          ],
          [
           "MustangCoin",
           "X11"
          ],
          [
           "ZoneCoin",
           "Scrypt"
          ],
          [
           "RootCoin",
           "Scrypt"
          ],
          [
           "BitCurrency",
           "Scrypt"
          ],
          [
           "Swiscoin",
           "Scrypt"
          ],
          [
           "BuzzCoin",
           "SHA-256D"
          ],
          [
           "Opair",
           "PoS"
          ],
          [
           "PesoBit",
           "Scrypt"
          ],
          [
           "Halloween Coin",
           "X11"
          ],
          [
           "CoffeeCoin",
           "PoS"
          ],
          [
           "RoyalCoin",
           "X13"
          ],
          [
           "GanjaCoin V2",
           "X14"
          ],
          [
           "TeamUP",
           "PoS"
          ],
          [
           "LanaCoin",
           "SHA-256D"
          ],
          [
           "ARK",
           "DPoS"
          ],
          [
           "InsaneCoin",
           "X11"
          ],
          [
           "EmberCoin",
           "X13"
          ],
          [
           "XenixCoin",
           "X11"
          ],
          [
           "FreeCoin",
           "PoS"
          ],
          [
           "PLNCoin",
           "Scrypt"
          ],
          [
           "AquariusCoin",
           "Scrypt"
          ],
          [
           "Creatio",
           "PoS"
          ],
          [
           "Eternity",
           "X11"
          ],
          [
           "Eurocoin",
           "SHA-256"
          ],
          [
           "BitcoinFast",
           "Scrypt"
          ],
          [
           "Stakenet",
           "X11"
          ],
          [
           "BitConnect Coin",
           "Scrypt"
          ],
          [
           "MoneyCoin",
           "Scrypt"
          ],
          [
           "Enigma",
           "X11"
          ],
          [
           "Russiacoin",
           "Scrypt"
          ],
          [
           "PandaCoin",
           "Scrypt"
          ],
          [
           "GameUnits",
           "Scrypt"
          ],
          [
           "GAKHcoin",
           "Scrypt"
          ],
          [
           "Allsafe",
           "Quark"
          ],
          [
           "LiteCreed",
           "QuBit"
          ],
          [
           "Klingon Empire Darsek",
           "Scrypt"
          ],
          [
           "Internet of People",
           "SHA-256"
          ],
          [
           "KushCoin",
           "X11"
          ],
          [
           "Printerium",
           "Scrypt"
          ],
          [
           "Impeach",
           "Scrypt"
          ],
          [
           "Zilbercoin",
           "Scrypt"
          ],
          [
           "FirstCoin",
           "Scrypt"
          ],
          [
           "FindCoin",
           "X13"
          ],
          [
           "OpenChat",
           "Scrypt"
          ],
          [
           "RenosCoin",
           "Scrypt"
          ],
          [
           "VirtacoinPlus",
           "X11"
          ],
          [
           "TajCoin",
           "Blake2S"
          ],
          [
           "Impact",
           "X11"
          ],
          [
           "Atmos",
           "PoS"
          ],
          [
           "HappyCoin",
           "X11"
          ],
          [
           "MacronCoin",
           "PoS"
          ],
          [
           "Condensate",
           "X11"
          ],
          [
           "Independent Money System",
           "Scrypt"
          ],
          [
           "ArgusCoin",
           "Scrypt"
          ],
          [
           "LomoCoin",
           "Scrypt"
          ],
          [
           "ProCurrency",
           "SHA-256"
          ],
          [
           "GoldReserve",
           "X11"
          ],
          [
           "GrowthCoin",
           "Scrypt"
          ],
          [
           "Phreak",
           "PoS"
          ],
          [
           "Degas Coin",
           "Scrypt"
          ],
          [
           "HTML5 Coin",
           "X15"
          ],
          [
           "Ultimate Secure Cash",
           "SHA-256"
          ],
          [
           "QTUM",
           "POS 3.0"
          ],
          [
           "Espers",
           "536"
          ],
          [
           "Denarius",
           "NIST5"
          ],
          [
           "Virta Unique Coin",
           "NIST5"
          ],
          [
           "Bitcoin Planet",
           "Skein"
          ],
          [
           "BritCoin",
           "X13"
          ],
          [
           "Linda",
           "Scrypt"
          ],
          [
           "DeepOnion",
           "X13"
          ],
          [
           "Signatum",
           "SkunkHash v2 Raptor"
          ],
          [
           "Cream",
           "Skein"
          ],
          [
           "Monoeci",
           "X11"
          ],
          [
           "Draftcoin",
           "Scrypt"
          ],
          [
           "Vechain",
           "VeChainThor Authority"
          ],
          [
           "Stakecoin",
           "PoS"
          ],
          [
           "CoinonatX",
           "Scrypt"
          ],
          [
           "Ethereum Dark",
           "Scrypt"
          ],
          [
           "Obsidian",
           "SHA-512"
          ],
          [
           "Cardano",
           "Ouroboros"
          ],
          [
           "Regalcoin",
           "X11"
          ],
          [
           "TrezarCoin",
           "NeoScrypt"
          ],
          [
           "TerraNovaCoin",
           "Scrypt"
          ],
          [
           "Rupee",
           "Lyra2REv2"
          ],
          [
           "WomenCoin",
           "Scrypt"
          ],
          [
           "Theresa May Coin",
           "SHA-256"
          ],
          [
           "NamoCoin",
           "NIST5"
          ],
          [
           "LUXCoin",
           "PHI1612"
          ],
          [
           "Xios",
           "Scrypt"
          ],
          [
           "Bitcloud 2.0",
           "Quark"
          ],
          [
           "KekCoin",
           "POS 2.0"
          ],
          [
           "BlackholeCoin",
           "Scrypt"
          ],
          [
           "Infinity Economics",
           "SHA-256"
          ],
          [
           "Magnet",
           "X11"
          ],
          [
           "Lamden Tau",
           "DPoS"
          ],
          [
           "Electra",
           "NIST5"
          ],
          [
           "Bitcoin Diamond",
           "X13"
          ],
          [
           "Cash & Back Coin",
           "Scrypt"
          ],
          [
           "Bulwark",
           "NIST5"
          ],
          [
           "Kalkulus",
           "Quark"
          ],
          [
           "GermanCoin",
           "Scrypt"
          ],
          [
           "LiteCoin Ultra",
           "Scrypt"
          ],
          [
           "PhantomX",
           "X11"
          ],
          [
           "Digiwage",
           "Quark"
          ],
          [
           "Trollcoin",
           "Scrypt"
          ],
          [
           "Litecoin Plus",
           "Scrypt"
          ],
          [
           "Monkey Project",
           "X11"
          ],
          [
           "TokenPay",
           "POS 3.0"
          ],
          [
           "My Big Coin",
           "Scrypt"
          ],
          [
           "Unified Society USDEX",
           "Scrypt"
          ],
          [
           "Tokyo Coin",
           "X13"
          ],
          [
           "Stipend",
           "C11"
          ],
          [
           "Pushi",
           "X11"
          ],
          [
           "Ellerium",
           "XEVAN"
          ],
          [
           "Velox",
           "Scrypt"
          ],
          [
           "Ontology",
           "VBFT"
          ],
          [
           "Bitspace",
           "NIST5"
          ],
          [
           "Briacoin",
           "Scrypt"
          ],
          [
           "Ignition",
           "Scrypt"
          ],
          [
           "MedicCoin",
           "Scrypt"
          ],
          [
           "Bitcoin Green",
           "Green Protocol"
          ],
          [
           "Deviant Coin",
           "PoS"
          ],
          [
           "Abjcoin",
           "Scrypt"
          ],
          [
           "Semux",
           "Semux BFT consensus"
          ],
          [
           "Carebit",
           "Quark"
          ],
          [
           "Zealium",
           "PoS"
          ],
          [
           "Proton",
           "X16R"
          ],
          [
           "iDealCash",
           "Scrypt"
          ],
          [
           "Bitcoin Incognito",
           "XEVAN"
          ],
          [
           "HollyWoodCoin",
           "Scrypt"
          ],
          [
           "Swisscoin",
           "Scrypt"
          ],
          [
           "Xt3ch",
           "Scrypt"
          ],
          [
           "TheVig",
           "SHA-256D"
          ],
          [
           "EmaratCoin",
           "Scrypt"
          ],
          [
           "Dekado",
           "X15"
          ],
          [
           "Lynx",
           "Scrypt"
          ],
          [
           "Poseidon Quark",
           "Quark"
          ],
          [
           "BitcoinWSpectrum",
           "SHA-256"
          ],
          [
           "Muse",
           "DPoS"
          ],
          [
           "Trivechain",
           "X16R"
          ],
          [
           "Dystem",
           "Quark"
          ],
          [
           "Giant",
           "Quark"
          ],
          [
           "Peony Coin",
           "Scrypt"
          ],
          [
           "Absolute Coin",
           "Lyra2REv2"
          ],
          [
           "Vitae",
           "Quark"
          ],
          [
           "TPCash",
           "Scrypt"
          ],
          [
           "ARENON",
           "X11"
          ],
          [
           "EUNO",
           "X11"
          ],
          [
           "MMOCoin",
           "Scrypt"
          ],
          [
           "Ketan",
           "PoS"
          ],
          [
           "XDNA",
           "Keccak"
          ],
          [
           "PAXEX",
           "X11"
          ],
          [
           "ThunderStake",
           "Scrypt"
          ],
          [
           "Kcash",
           "SHA-512"
          ],
          [
           "Bettex coin",
           "XEVAN"
          ],
          [
           "BitMoney",
           "XEVAN"
          ],
          [
           "Junson Ming Chan Coin",
           "X11"
          ],
          [
           "HerbCoin",
           "Quark"
          ],
          [
           "Oduwa",
           "Scrypt"
          ],
          [
           "Galilel",
           "Quark"
          ],
          [
           "Crypto Sports",
           "Quark"
          ],
          [
           "Credit",
           "Scrypt"
          ],
          [
           "Dash Platinum",
           "X11"
          ],
          [
           "Nasdacoin",
           "Scrypt"
          ],
          [
           "Beetle Coin",
           "XEVAN"
          ],
          [
           "Titan Coin",
           "SHA-256D"
          ],
          [
           "Award",
           "X11"
          ],
          [
           "Insane Coin",
           "X11"
          ],
          [
           "ALAX",
           "DPoS"
          ],
          [
           "LiteDoge",
           "Scrypt"
          ],
          [
           "TruckCoin",
           "X11"
          ],
          [
           "OrangeCoin",
           "Scrypt"
          ],
          [
           "BitstarCoin",
           "Scrypt"
          ],
          [
           "NeosCoin",
           "SHA-256"
          ],
          [
           "HyperCoin",
           "Scrypt"
          ],
          [
           "PinkCoin",
           "X11"
          ],
          [
           "AudioCoin",
           "Scrypt"
          ],
          [
           "IncaKoin",
           "SHA-256"
          ],
          [
           "Piggy Coin",
           "X11"
          ],
          [
           "Genstake",
           "Scrypt"
          ],
          [
           "XiaoMiCoin",
           "Scrypt"
          ],
          [
           "CapriCoin",
           "X11"
          ],
          [
           " ClubCoin",
           "Scrypt"
          ],
          [
           "Radium",
           "PoS"
          ],
          [
           "Creditbit ",
           "X11"
          ],
          [
           "OKCash",
           "SHA-256"
          ],
          [
           "Lisk",
           "DPoS"
          ],
          [
           "HiCoin",
           "Scrypt"
          ],
          [
           "WhiteCoin",
           "Scrypt"
          ],
          [
           "FriendshipCoin",
           "NeoScrypt"
          ],
          [
           "Triangles Coin",
           "X13"
          ],
          [
           "EOS",
           "DPoS"
          ],
          [
           "Oxycoin",
           "DPoS"
          ],
          [
           "TigerCash",
           "SHA-256"
          ],
          [
           "Particl",
           "PoS"
          ],
          [
           "Nxt",
           "PoS"
          ],
          [
           "ZEPHYR",
           "SHA-256"
          ],
          [
           "Gapcoin",
           "Scrypt"
          ],
          [
           "BitcoinPlus",
           "Scrypt"
          ]
         ],
         "hovertemplate": "<b>%{hovertext}</b><br><br>class=%{marker.color}<br>PC 1=%{x}<br>PC 2=%{y}<br>PC 3=%{z}<br>CoinName=%{customdata[0]}<br>Algorithm=%{customdata[1]}<extra></extra>",
         "hovertext": [
          "CoinName: 42 Coin , Algorithm: Scrypt",
          "CoinName: 404Coin , Algorithm: Scrypt",
          "CoinName: EliteCoin , Algorithm: X13",
          "CoinName: Dash , Algorithm: X11",
          "CoinName: Bitshares , Algorithm: SHA-512",
          "CoinName: BitcoinDark , Algorithm: SHA-256",
          "CoinName: PayCoin , Algorithm: SHA-256",
          "CoinName: KoboCoin , Algorithm: X15",
          "CoinName: Aurora Coin , Algorithm: Scrypt",
          "CoinName: BlueCoin , Algorithm: Scrypt",
          "CoinName: EnergyCoin , Algorithm: Scrypt",
          "CoinName: BitBar , Algorithm: Scrypt",
          "CoinName: CryptoBullion , Algorithm: Scrypt",
          "CoinName: CasinoCoin , Algorithm: Scrypt",
          "CoinName: Diamond , Algorithm: Groestl",
          "CoinName: Exclusive Coin , Algorithm: PoS",
          "CoinName: FlutterCoin , Algorithm: Scrypt",
          "CoinName: HoboNickels , Algorithm: Scrypt",
          "CoinName: HyperStake , Algorithm: X11",
          "CoinName: IOCoin , Algorithm: X11",
          "CoinName: MaxCoin , Algorithm: SHA3",
          "CoinName: MintCoin , Algorithm: Scrypt",
          "CoinName: MazaCoin , Algorithm: SHA-256",
          "CoinName: Nautilus Coin , Algorithm: Scrypt",
          "CoinName: NavCoin , Algorithm: X13",
          "CoinName: OpalCoin , Algorithm: X13",
          "CoinName: Orbitcoin , Algorithm: NeoScrypt",
          "CoinName: PotCoin , Algorithm: Scrypt",
          "CoinName: PhoenixCoin , Algorithm: Scrypt",
          "CoinName: Reddcoin , Algorithm: Scrypt",
          "CoinName: SuperCoin , Algorithm: X11",
          "CoinName: SyncCoin , Algorithm: X11",
          "CoinName: TeslaCoin , Algorithm: Multiple",
          "CoinName: TittieCoin , Algorithm: PHI1612",
          "CoinName: TorCoin , Algorithm: X11",
          "CoinName: UnitaryStatus Dollar , Algorithm: Scrypt",
          "CoinName: UltraCoin , Algorithm: Scrypt",
          "CoinName: VeriCoin , Algorithm: Scrypt",
          "CoinName: X11 Coin , Algorithm: X11",
          "CoinName: Crypti , Algorithm: Multiple",
          "CoinName: StealthCoin , Algorithm: X13",
          "CoinName: ZCC Coin , Algorithm: Scrypt",
          "CoinName: BurstCoin , Algorithm: Shabal256",
          "CoinName: StorjCoin , Algorithm: Counterparty",
          "CoinName: Neutron , Algorithm: SHA-256",
          "CoinName: FairCoin , Algorithm: Groestl",
          "CoinName: RubyCoin , Algorithm: Scrypt",
          "CoinName: Kore , Algorithm: X13",
          "CoinName: Dnotes , Algorithm: Scrypt",
          "CoinName: 8BIT Coin , Algorithm: Scrypt",
          "CoinName: Sativa Coin , Algorithm: X13",
          "CoinName: Ucoin , Algorithm: X11",
          "CoinName: Vtorrent , Algorithm: Scrypt",
          "CoinName: IslaCoin , Algorithm: X11",
          "CoinName: Nexus , Algorithm: SHA3",
          "CoinName: Droidz , Algorithm: QUAIT",
          "CoinName: Squall Coin , Algorithm: X11",
          "CoinName: Diggits , Algorithm: Scrypt",
          "CoinName: Paycon , Algorithm: X13",
          "CoinName: Emercoin , Algorithm: SHA-256",
          "CoinName: EverGreenCoin , Algorithm: X15",
          "CoinName: Decred , Algorithm: BLAKE256",
          "CoinName: EDRCoin , Algorithm: SHA-256",
          "CoinName: Hitcoin , Algorithm: X11",
          "CoinName: DubaiCoin , Algorithm: SHA-256",
          "CoinName: PWR Coin , Algorithm: NIST5",
          "CoinName: BillaryCoin , Algorithm: Scrypt",
          "CoinName: GPU Coin , Algorithm: Scrypt",
          "CoinName: EuropeCoin , Algorithm: X11",
          "CoinName: ZeitCoin , Algorithm: Scrypt",
          "CoinName: SwingCoin , Algorithm: SHA-256",
          "CoinName: SafeExchangeCoin , Algorithm: Scrypt",
          "CoinName: Nebuchadnezzar , Algorithm: PoS",
          "CoinName: Ratecoin , Algorithm: X11",
          "CoinName: Revenu , Algorithm: SHA-256",
          "CoinName: Clockcoin , Algorithm: SHA-256",
          "CoinName: VIP Tokens , Algorithm: NIST5",
          "CoinName: BitSend , Algorithm: X11",
          "CoinName: Let it Ride , Algorithm: POS 3.0",
          "CoinName: PutinCoin , Algorithm: Scrypt",
          "CoinName: iBankCoin , Algorithm: Scrypt",
          "CoinName: Frankywillcoin , Algorithm: Scrypt",
          "CoinName: MudraCoin , Algorithm: X13",
          "CoinName: Lutetium Coin , Algorithm: X11",
          "CoinName: GoldBlocks , Algorithm: X11",
          "CoinName: CarterCoin , Algorithm: Scrypt",
          "CoinName: BitTokens , Algorithm: SHA-256",
          "CoinName: MustangCoin , Algorithm: X11",
          "CoinName: ZoneCoin , Algorithm: Scrypt",
          "CoinName: RootCoin , Algorithm: Scrypt",
          "CoinName: BitCurrency , Algorithm: Scrypt",
          "CoinName: Swiscoin , Algorithm: Scrypt",
          "CoinName: BuzzCoin , Algorithm: SHA-256D",
          "CoinName: Opair , Algorithm: PoS",
          "CoinName: PesoBit , Algorithm: Scrypt",
          "CoinName: Halloween Coin , Algorithm: X11",
          "CoinName: CoffeeCoin , Algorithm: PoS",
          "CoinName: RoyalCoin , Algorithm: X13",
          "CoinName: GanjaCoin V2 , Algorithm: X14",
          "CoinName: TeamUP , Algorithm: PoS",
          "CoinName: LanaCoin , Algorithm: SHA-256D",
          "CoinName: ARK , Algorithm: DPoS",
          "CoinName: InsaneCoin , Algorithm: X11",
          "CoinName: EmberCoin , Algorithm: X13",
          "CoinName: XenixCoin , Algorithm: X11",
          "CoinName: FreeCoin , Algorithm: PoS",
          "CoinName: PLNCoin , Algorithm: Scrypt",
          "CoinName: AquariusCoin , Algorithm: Scrypt",
          "CoinName: Creatio , Algorithm: PoS",
          "CoinName: Eternity , Algorithm: X11",
          "CoinName: Eurocoin , Algorithm: SHA-256",
          "CoinName: BitcoinFast , Algorithm: Scrypt",
          "CoinName: Stakenet , Algorithm: X11",
          "CoinName: BitConnect Coin , Algorithm: Scrypt",
          "CoinName: MoneyCoin , Algorithm: Scrypt",
          "CoinName: Enigma , Algorithm: X11",
          "CoinName: Russiacoin , Algorithm: Scrypt",
          "CoinName: PandaCoin , Algorithm: Scrypt",
          "CoinName: GameUnits , Algorithm: Scrypt",
          "CoinName: GAKHcoin , Algorithm: Scrypt",
          "CoinName: Allsafe , Algorithm: Quark",
          "CoinName: LiteCreed , Algorithm: QuBit",
          "CoinName: Klingon Empire Darsek , Algorithm: Scrypt",
          "CoinName: Internet of People , Algorithm: SHA-256",
          "CoinName: KushCoin , Algorithm: X11",
          "CoinName: Printerium , Algorithm: Scrypt",
          "CoinName: Impeach , Algorithm: Scrypt",
          "CoinName: Zilbercoin , Algorithm: Scrypt",
          "CoinName: FirstCoin , Algorithm: Scrypt",
          "CoinName: FindCoin , Algorithm: X13",
          "CoinName: OpenChat , Algorithm: Scrypt",
          "CoinName: RenosCoin , Algorithm: Scrypt",
          "CoinName: VirtacoinPlus , Algorithm: X11",
          "CoinName: TajCoin , Algorithm: Blake2S",
          "CoinName: Impact , Algorithm: X11",
          "CoinName: Atmos , Algorithm: PoS",
          "CoinName: HappyCoin , Algorithm: X11",
          "CoinName: MacronCoin , Algorithm: PoS",
          "CoinName: Condensate , Algorithm: X11",
          "CoinName: Independent Money System , Algorithm: Scrypt",
          "CoinName: ArgusCoin , Algorithm: Scrypt",
          "CoinName: LomoCoin , Algorithm: Scrypt",
          "CoinName: ProCurrency , Algorithm: SHA-256",
          "CoinName: GoldReserve , Algorithm: X11",
          "CoinName: GrowthCoin , Algorithm: Scrypt",
          "CoinName: Phreak , Algorithm: PoS",
          "CoinName: Degas Coin , Algorithm: Scrypt",
          "CoinName: HTML5 Coin , Algorithm: X15",
          "CoinName: Ultimate Secure Cash , Algorithm: SHA-256",
          "CoinName: QTUM , Algorithm: POS 3.0",
          "CoinName: Espers , Algorithm: 536",
          "CoinName: Denarius , Algorithm: NIST5",
          "CoinName: Virta Unique Coin , Algorithm: NIST5",
          "CoinName: Bitcoin Planet , Algorithm: Skein",
          "CoinName: BritCoin , Algorithm: X13",
          "CoinName: Linda , Algorithm: Scrypt",
          "CoinName: DeepOnion , Algorithm: X13",
          "CoinName: Signatum , Algorithm: SkunkHash v2 Raptor",
          "CoinName: Cream , Algorithm: Skein",
          "CoinName: Monoeci , Algorithm: X11",
          "CoinName: Draftcoin , Algorithm: Scrypt",
          "CoinName: Vechain , Algorithm: VeChainThor Authority",
          "CoinName: Stakecoin , Algorithm: PoS",
          "CoinName: CoinonatX , Algorithm: Scrypt",
          "CoinName: Ethereum Dark , Algorithm: Scrypt",
          "CoinName: Obsidian , Algorithm: SHA-512",
          "CoinName: Cardano , Algorithm: Ouroboros",
          "CoinName: Regalcoin , Algorithm: X11",
          "CoinName: TrezarCoin , Algorithm: NeoScrypt",
          "CoinName: TerraNovaCoin , Algorithm: Scrypt",
          "CoinName: Rupee , Algorithm: Lyra2REv2",
          "CoinName: WomenCoin , Algorithm: Scrypt",
          "CoinName: Theresa May Coin , Algorithm: SHA-256",
          "CoinName: NamoCoin , Algorithm: NIST5",
          "CoinName: LUXCoin , Algorithm: PHI1612",
          "CoinName: Xios , Algorithm: Scrypt",
          "CoinName: Bitcloud 2.0 , Algorithm: Quark",
          "CoinName: KekCoin , Algorithm: POS 2.0",
          "CoinName: BlackholeCoin , Algorithm: Scrypt",
          "CoinName: Infinity Economics , Algorithm: SHA-256",
          "CoinName: Magnet , Algorithm: X11",
          "CoinName: Lamden Tau , Algorithm: DPoS",
          "CoinName: Electra , Algorithm: NIST5",
          "CoinName: Bitcoin Diamond , Algorithm: X13",
          "CoinName: Cash & Back Coin , Algorithm: Scrypt",
          "CoinName: Bulwark , Algorithm: NIST5",
          "CoinName: Kalkulus , Algorithm: Quark",
          "CoinName: GermanCoin , Algorithm: Scrypt",
          "CoinName: LiteCoin Ultra , Algorithm: Scrypt",
          "CoinName: PhantomX , Algorithm: X11",
          "CoinName: Digiwage , Algorithm: Quark",
          "CoinName: Trollcoin , Algorithm: Scrypt",
          "CoinName: Litecoin Plus , Algorithm: Scrypt",
          "CoinName: Monkey Project , Algorithm: X11",
          "CoinName: TokenPay , Algorithm: POS 3.0",
          "CoinName: My Big Coin , Algorithm: Scrypt",
          "CoinName: Unified Society USDEX , Algorithm: Scrypt",
          "CoinName: Tokyo Coin , Algorithm: X13",
          "CoinName: Stipend , Algorithm: C11",
          "CoinName: Pushi , Algorithm: X11",
          "CoinName: Ellerium , Algorithm: XEVAN",
          "CoinName: Velox , Algorithm: Scrypt",
          "CoinName: Ontology , Algorithm: VBFT",
          "CoinName: Bitspace , Algorithm: NIST5",
          "CoinName: Briacoin , Algorithm: Scrypt",
          "CoinName: Ignition , Algorithm: Scrypt",
          "CoinName: MedicCoin , Algorithm: Scrypt",
          "CoinName: Bitcoin Green , Algorithm: Green Protocol",
          "CoinName: Deviant Coin , Algorithm: PoS",
          "CoinName: Abjcoin , Algorithm: Scrypt",
          "CoinName: Semux , Algorithm: Semux BFT consensus",
          "CoinName: Carebit , Algorithm: Quark",
          "CoinName: Zealium , Algorithm: PoS",
          "CoinName: Proton , Algorithm: X16R",
          "CoinName: iDealCash , Algorithm: Scrypt",
          "CoinName: Bitcoin Incognito , Algorithm: XEVAN",
          "CoinName: HollyWoodCoin , Algorithm: Scrypt",
          "CoinName: Swisscoin , Algorithm: Scrypt",
          "CoinName: Xt3ch , Algorithm: Scrypt",
          "CoinName: TheVig , Algorithm: SHA-256D",
          "CoinName: EmaratCoin , Algorithm: Scrypt",
          "CoinName: Dekado , Algorithm: X15",
          "CoinName: Lynx , Algorithm: Scrypt",
          "CoinName: Poseidon Quark , Algorithm: Quark",
          "CoinName: BitcoinWSpectrum , Algorithm: SHA-256",
          "CoinName: Muse , Algorithm: DPoS",
          "CoinName: Trivechain , Algorithm: X16R",
          "CoinName: Dystem , Algorithm: Quark",
          "CoinName: Giant , Algorithm: Quark",
          "CoinName: Peony Coin , Algorithm: Scrypt",
          "CoinName: Absolute Coin , Algorithm: Lyra2REv2",
          "CoinName: Vitae , Algorithm: Quark",
          "CoinName: TPCash , Algorithm: Scrypt",
          "CoinName: ARENON , Algorithm: X11",
          "CoinName: EUNO , Algorithm: X11",
          "CoinName: MMOCoin , Algorithm: Scrypt",
          "CoinName: Ketan , Algorithm: PoS",
          "CoinName: XDNA , Algorithm: Keccak",
          "CoinName: PAXEX , Algorithm: X11",
          "CoinName: ThunderStake , Algorithm: Scrypt",
          "CoinName: Kcash , Algorithm: SHA-512",
          "CoinName: Bettex coin , Algorithm: XEVAN",
          "CoinName: BitMoney , Algorithm: XEVAN",
          "CoinName: Junson Ming Chan Coin , Algorithm: X11",
          "CoinName: HerbCoin , Algorithm: Quark",
          "CoinName: Oduwa , Algorithm: Scrypt",
          "CoinName: Galilel , Algorithm: Quark",
          "CoinName: Crypto Sports , Algorithm: Quark",
          "CoinName: Credit , Algorithm: Scrypt",
          "CoinName: Dash Platinum , Algorithm: X11",
          "CoinName: Nasdacoin , Algorithm: Scrypt",
          "CoinName: Beetle Coin , Algorithm: XEVAN",
          "CoinName: Titan Coin , Algorithm: SHA-256D",
          "CoinName: Award , Algorithm: X11",
          "CoinName: Insane Coin , Algorithm: X11",
          "CoinName: ALAX , Algorithm: DPoS",
          "CoinName: LiteDoge , Algorithm: Scrypt",
          "CoinName: TruckCoin , Algorithm: X11",
          "CoinName: OrangeCoin , Algorithm: Scrypt",
          "CoinName: BitstarCoin , Algorithm: Scrypt",
          "CoinName: NeosCoin , Algorithm: SHA-256",
          "CoinName: HyperCoin , Algorithm: Scrypt",
          "CoinName: PinkCoin , Algorithm: X11",
          "CoinName: AudioCoin , Algorithm: Scrypt",
          "CoinName: IncaKoin , Algorithm: SHA-256",
          "CoinName: Piggy Coin , Algorithm: X11",
          "CoinName: Genstake , Algorithm: Scrypt",
          "CoinName: XiaoMiCoin , Algorithm: Scrypt",
          "CoinName: CapriCoin , Algorithm: X11",
          "CoinName:  ClubCoin , Algorithm: Scrypt",
          "CoinName: Radium , Algorithm: PoS",
          "CoinName: Creditbit  , Algorithm: X11",
          "CoinName: OKCash , Algorithm: SHA-256",
          "CoinName: Lisk , Algorithm: DPoS",
          "CoinName: HiCoin , Algorithm: Scrypt",
          "CoinName: WhiteCoin , Algorithm: Scrypt",
          "CoinName: FriendshipCoin , Algorithm: NeoScrypt",
          "CoinName: Triangles Coin , Algorithm: X13",
          "CoinName: EOS , Algorithm: DPoS",
          "CoinName: Oxycoin , Algorithm: DPoS",
          "CoinName: TigerCash , Algorithm: SHA-256",
          "CoinName: Particl , Algorithm: PoS",
          "CoinName: Nxt , Algorithm: PoS",
          "CoinName: ZEPHYR , Algorithm: SHA-256",
          "CoinName: Gapcoin , Algorithm: Scrypt",
          "CoinName: BitcoinPlus , Algorithm: Scrypt"
         ],
         "legendgroup": "0",
         "marker": {
          "color": [
           0,
           0,
           0,
           0,
           0,
           0,
           0,
           0,
           0,
           0,
           0,
           0,
           0,
           0,
           0,
           0,
           0,
           0,
           0,
           0,
           0,
           0,
           0,
           0,
           0,
           0,
           0,
           0,
           0,
           0,
           0,
           0,
           0,
           0,
           0,
           0,
           0,
           0,
           0,
           0,
           0,
           0,
           0,
           0,
           0,
           0,
           0,
           0,
           0,
           0,
           0,
           0,
           0,
           0,
           0,
           0,
           0,
           0,
           0,
           0,
           0,
           0,
           0,
           0,
           0,
           0,
           0,
           0,
           0,
           0,
           0,
           0,
           0,
           0,
           0,
           0,
           0,
           0,
           0,
           0,
           0,
           0,
           0,
           0,
           0,
           0,
           0,
           0,
           0,
           0,
           0,
           0,
           0,
           0,
           0,
           0,
           0,
           0,
           0,
           0,
           0,
           0,
           0,
           0,
           0,
           0,
           0,
           0,
           0,
           0,
           0,
           0,
           0,
           0,
           0,
           0,
           0,
           0,
           0,
           0,
           0,
           0,
           0,
           0,
           0,
           0,
           0,
           0,
           0,
           0,
           0,
           0,
           0,
           0,
           0,
           0,
           0,
           0,
           0,
           0,
           0,
           0,
           0,
           0,
           0,
           0,
           0,
           0,
           0,
           0,
           0,
           0,
           0,
           0,
           0,
           0,
           0,
           0,
           0,
           0,
           0,
           0,
           0,
           0,
           0,
           0,
           0,
           0,
           0,
           0,
           0,
           0,
           0,
           0,
           0,
           0,
           0,
           0,
           0,
           0,
           0,
           0,
           0,
           0,
           0,
           0,
           0,
           0,
           0,
           0,
           0,
           0,
           0,
           0,
           0,
           0,
           0,
           0,
           0,
           0,
           0,
           0,
           0,
           0,
           0,
           0,
           0,
           0,
           0,
           0,
           0,
           0,
           0,
           0,
           0,
           0,
           0,
           0,
           0,
           0,
           0,
           0,
           0,
           0,
           0,
           0,
           0,
           0,
           0,
           0,
           0,
           0,
           0,
           0,
           0,
           0,
           0,
           0,
           0,
           0,
           0,
           0,
           0,
           0,
           0,
           0,
           0,
           0,
           0,
           0,
           0,
           0,
           0,
           0,
           0,
           0,
           0,
           0,
           0,
           0,
           0,
           0,
           0,
           0,
           0,
           0,
           0,
           0,
           0,
           0,
           0,
           0,
           0,
           0,
           0,
           0,
           0,
           0,
           0,
           0,
           0,
           0,
           0,
           0,
           0,
           0
          ],
          "coloraxis": "coloraxis",
          "symbol": "circle"
         },
         "mode": "markers",
         "name": "0",
         "scene": "scene",
         "showlegend": true,
         "type": "scatter3d",
         "x": [
          -0.3335422256039988,
          -0.31687542450649814,
          2.2907159828698753,
          -0.39269373044630507,
          -0.19873332652867434,
          -0.3174090102235645,
          -0.2615182453721942,
          -0.24766128491123401,
          -0.3332017343731664,
          -0.325776259563653,
          -0.3320381885054982,
          -0.3335381621885572,
          -0.3335224389674603,
          0.7010683239976473,
          -0.3804145102047653,
          -0.350891708709263,
          -0.29003044005716944,
          -0.3316007120315442,
          -0.31661840432360705,
          -0.39258838395229684,
          -0.4249446381619383,
          -0.01746679128061108,
          -0.2807103748929818,
          -0.27740255446845286,
          -0.2929765349955361,
          -0.2935989956481363,
          -0.3642798550112956,
          -0.32784391064012414,
          -0.33194372643233716,
          0.024744144090406858,
          -0.33651305632518314,
          -0.39296001546330067,
          -0.24247702260432075,
          -0.31467250977273,
          -0.39287166061968476,
          -0.3087708824576626,
          -0.33221949973479453,
          -0.2617758397885998,
          -0.3928361037351705,
          -0.24294453819030734,
          -0.2933797704166633,
          -0.3246458677870944,
          0.08206466736589516,
          -0.3024994592642711,
          -0.31662059572831597,
          -0.3798358210741367,
          -0.27738273919095746,
          -0.29367446238515427,
          -0.27203667353838024,
          -0.3335242868874605,
          -0.2936266202452888,
          -0.3369581632800404,
          -0.3332586435679764,
          -0.3929415368840842,
          -0.4264479551431505,
          -0.42270788715711094,
          -0.39495977267408344,
          -0.27578404264342743,
          -0.29314822907091487,
          -0.30996676180214205,
          -0.25010238311421434,
          -0.07272559461177261,
          -0.31737991241082164,
          -0.07038872169236317,
          -0.31744358514340887,
          -0.2448772264228794,
          -0.33313456445980527,
          -0.2756535345154572,
          -0.3901111790137415,
          0.8758155736145693,
          -0.3172436889315177,
          -0.029840081612175506,
          -0.35057493691562286,
          -0.39078397055941794,
          -0.3159874794432359,
          -0.31365601876482635,
          -0.3662853193268808,
          -0.3916767918231409,
          -0.3218630031137134,
          -0.3094295177589127,
          -0.33317268719012344,
          -0.3316112889000498,
          -0.23647834457338632,
          -0.32444653120611744,
          -0.39241543654800387,
          -0.3323767803446417,
          -0.31742457282563896,
          -0.3929307365005754,
          -0.3333618293646191,
          -0.33351851765353624,
          -0.27564219499890596,
          -0.20962498431320642,
          0.0065206582676890276,
          -0.34953181748069734,
          -0.333132518544671,
          -0.37909371627604393,
          -0.34886004470092147,
          -0.23790871025399232,
          -0.4171680812984778,
          -0.34860996253998716,
          -0.3080807925896523,
          3.719908587909961,
          -0.39252322644437343,
          0.8389942578415681,
          -0.39288563160360673,
          -0.3499956556611397,
          -0.33306020367229305,
          -0.3332146064675226,
          -0.35057493691562286,
          -0.3924605975956969,
          -0.31728718612475637,
          -0.33306091688327755,
          -0.3327717008557813,
          -0.3332083464211445,
          -0.3287971747608448,
          -0.39291464193890313,
          -0.33241921074588143,
          0.36599430160144963,
          -0.3334076409802653,
          -0.33347820060127586,
          -0.3514643199473196,
          -0.36097794057086535,
          -0.32970549617731987,
          -0.317400976986977,
          -0.3928245750755074,
          -0.33325599138350165,
          -0.33338300382814734,
          -0.277289439252744,
          -0.2891161448401583,
          -0.23767652027995903,
          -0.31423285126555867,
          -0.27703038009287156,
          -0.3920903991487019,
          -0.44409602231532525,
          -0.3908283012517681,
          -0.348821155647295,
          -0.3919882430915358,
          -0.3432200024075332,
          -0.38792924462426975,
          -0.33332626445532615,
          -0.333325484718244,
          -0.32644845075420664,
          0.27105025670210187,
          -0.39246666668668706,
          -0.2599325903650781,
          -0.35060928643183487,
          -0.33253698098349377,
          0.8843584567443101,
          -0.2602089044170635,
          -0.32064113583349513,
          0.5534936091473446,
          -0.3678212577423335,
          -0.3663233362271643,
          -0.45504599215379143,
          -0.2933116699386928,
          0.1313855399339098,
          -0.29338242487735633,
          -0.310397082913897,
          -0.4545506775152999,
          -0.392739034699905,
          -0.2773635156216631,
          4.356491675640189,
          -0.3504756376732784,
          -0.33296142522801914,
          -0.3334611270393656,
          -0.2568063608083596,
          0.668325133762682,
          -0.3926799110120013,
          -0.35927871740220146,
          -0.33341677209268195,
          -0.3060762410124883,
          0.43590702947248583,
          -0.3157469062522469,
          -0.35258687674195033,
          -0.4061022188633641,
          -0.3333671125900097,
          -0.4057335457120034,
          -0.32228740915468107,
          -0.3332374337863362,
          -0.08796906846800705,
          -0.3914725610423054,
          3.7247650071515186,
          0.19177301620832604,
          -0.29005272304323315,
          -0.3306974883345018,
          -0.31175752379779176,
          -0.351350198347881,
          0.08086794751206935,
          -0.3323761771977158,
          -0.39205354753580185,
          -0.35051501153317133,
          -0.31994001925727544,
          -0.33348326665053557,
          -0.3369300855610218,
          -0.32214499833089466,
          -0.2733529955333946,
          -0.3290276651443734,
          -0.22947220748789357,
          -0.361294277655956,
          -0.3927563507608867,
          -0.3670913537783311,
          -0.2765236004284533,
          -0.3142890360704088,
          -0.36742022140712316,
          -0.3335106282801645,
          -0.33349234015330625,
          -0.2709043129800959,
          -0.2626658912206214,
          -0.35007004060788804,
          -0.33320883983278554,
          3.92454063483087,
          -0.40440103651471654,
          -0.35025875268665335,
          -0.30127419315713944,
          -0.28007834641476653,
          -0.36924337879318436,
          -0.27705763745979134,
          -0.1365865998907592,
          -0.2773098712568122,
          -0.3733916889626597,
          -0.332682881698223,
          -0.19361888029945812,
          2.2589595569063587,
          -0.34705900056416134,
          -0.2603362704800717,
          1.0236176115644668,
          -0.35643788023632467,
          -0.3514637801837765,
          -0.40741757149716334,
          -0.15806246306522648,
          -0.361831862475798,
          -0.3501831222512962,
          -0.3263885179005184,
          -0.33650746274603316,
          -0.3922295779070051,
          -0.2745551285296915,
          -0.34935872130871404,
          -0.35516035064492835,
          -0.33636896980567316,
          -0.19300980816510782,
          -0.14509918207767147,
          -0.3112571547319156,
          0.37802941162791687,
          -0.12679808783245494,
          -0.40671211714263644,
          -0.33321277852578957,
          -0.4071682758908475,
          -0.35158077264935644,
          0.5733579998079501,
          -0.33698441710021587,
          -0.332695748855017,
          -0.36154654114936285,
          -0.3281132923102151,
          -0.3897947560775919,
          -0.39245682409156374,
          3.7370095904294485,
          0.10174904247537023,
          -0.38999536648496147,
          -0.33208146343112777,
          -0.33290619681588335,
          -0.2615509228217409,
          -0.3334245166784142,
          -0.3840832169271145,
          -0.24713551706208564,
          -0.09697991148241453,
          -0.37983190586996596,
          -0.33270260882227987,
          -0.3257657216413965,
          -0.3890247861729536,
          -0.33114176349029834,
          -0.3508506332767557,
          -0.35999849251286364,
          -0.31592381690731436,
          3.7203004169082874,
          -0.08455561426481932,
          -0.32833598796271624,
          -0.3639057922821656,
          -0.29378166127814986,
          3.730173014833974,
          3.7314176464423965,
          -0.24244406954126782,
          -0.35078647271011704,
          -0.41658486980916076,
          2.471298440283865,
          -0.33158782729235714,
          -0.27770632411818663
         ],
         "y": [
          1.037641727011594,
          1.0378760236713838,
          1.7041344658351296,
          1.2727326045669753,
          1.0346770097523454,
          0.8387782923902745,
          0.5853122412991918,
          1.8413005215892426,
          1.037642477331643,
          1.0379204745199653,
          1.037695712152842,
          1.0376415308483837,
          1.0376417531673428,
          0.321807584534559,
          0.8976689841641338,
          1.5155440275248895,
          0.27543627421942957,
          1.0376293246156407,
          1.019999598498448,
          1.2727363858183427,
          2.227188846547259,
          0.7935081081323483,
          0.838455647511972,
          0.7841670427813158,
          1.8263081163190673,
          1.826285774045461,
          0.5322974790829592,
          1.0375589440425594,
          1.03763206248726,
          1.0505018685890988,
          1.0192855103766414,
          1.2727380958384529,
          0.08659275434757932,
          1.6064349331494663,
          1.2727344270440442,
          1.0374363220495344,
          1.0376207958580186,
          0.3432025834242217,
          1.2727387816823037,
          0.08664438199569187,
          1.8262936428000283,
          1.0372769641507422,
          0.4914007384243105,
          1.40480268967729,
          0.8387751234568904,
          0.8976927516140261,
          0.7841788225004059,
          1.826274856273649,
          0.7840286693277481,
          1.0376423709231333,
          1.826277941662234,
          1.0192558522618247,
          1.037638224102931,
          1.272738759782891,
          2.691506450691718,
          1.8893837954956905,
          1.0475836501540134,
          0.784167796863738,
          1.8262677494199857,
          0.8383763863159425,
          1.841434341477284,
          0.9215920117489663,
          0.8387793368117825,
          1.266153868380795,
          0.8387849183430013,
          1.5393324050855617,
          1.0376276278836567,
          0.7840896710782357,
          1.2725776628752778,
          0.7578467917579951,
          0.8387719128323623,
          0.32146704745594235,
          1.51554171588311,
          1.2727648960239135,
          0.8386920032928685,
          0.8385689060025056,
          1.534913079615353,
          1.2726890681899947,
          1.4498758749204348,
          1.0371390477205813,
          1.0376246633306296,
          1.0376426266561953,
          1.5727205522309826,
          1.0192691766268698,
          1.2727234391475308,
          1.0376219913514946,
          0.8387784178785167,
          1.2727370951939834,
          1.0376338363224407,
          1.0376425780009655,
          0.7842412966735115,
          0.2812321926697894,
          1.9642196315384453,
          1.515542216521751,
          1.0376564328489246,
          1.2722096800541447,
          1.515589587706397,
          1.5728043179572477,
          1.9070395177602095,
          1.5154200180153858,
          1.9614744395444073,
          1.706949449624582,
          1.2727332518750545,
          1.8663570061044785,
          1.27273813041807,
          1.5155419857766046,
          1.0376326638812803,
          1.0376247548981454,
          1.51554171588311,
          1.2727149773202187,
          0.8387840332481838,
          1.0376364281073223,
          0.8181753717640836,
          1.0376345567696978,
          1.0373669373704735,
          1.2727363047155646,
          1.0375835278381829,
          0.7850289217172014,
          1.0376376646569592,
          1.0376417568415448,
          1.4397141956158537,
          0.6178401611370103,
          1.037437398551072,
          0.8387792648150757,
          1.2727365590259747,
          1.0376383192990386,
          1.0376324378192177,
          0.7841445467360918,
          0.34995369820787303,
          1.5728044261371052,
          1.0376507234610142,
          0.7841679193245877,
          1.2727009016654092,
          1.952811850209155,
          1.2727393618995837,
          1.515542899211069,
          1.272704568400921,
          1.5155457580736702,
          1.272576626324519,
          1.0376349677619003,
          1.0376299418191535,
          1.037212263190641,
          0.5531302205696209,
          1.2727284411605564,
          0.783437000809332,
          1.515533642119193,
          1.0376059799336412,
          1.8206045043154808,
          0.5852309147312463,
          1.4498742403890648,
          1.9266382396018873,
          1.534912676178156,
          1.5348911925352087,
          1.925770289946546,
          1.8262755646409616,
          1.0201253957725063,
          1.8262806195734163,
          1.3299622562860507,
          1.9257880685083355,
          1.2727395245167494,
          0.784167605408425,
          2.696628655930618,
          1.5155168222049145,
          1.0376295655582077,
          1.037641764796305,
          1.0349931421050524,
          1.5198618002104487,
          1.2727296801741763,
          0.5322059326477435,
          1.0376354670801176,
          0.6620523747850868,
          1.0481578304872794,
          0.8387845925153459,
          1.5346454309719038,
          1.860164215243034,
          1.0376336466891416,
          1.6931183926222093,
          1.5250638990115366,
          1.0376425506529101,
          0.5853933182736647,
          1.2726929783214065,
          1.7068672318492553,
          1.5344827764407754,
          1.8262694044282783,
          1.0376001768846737,
          1.281434215433875,
          1.4397148714159447,
          1.0183121440158118,
          1.0375809679572867,
          1.272736428600425,
          1.43967644076455,
          1.0375142817955727,
          1.0376411069456164,
          1.0192561759845735,
          1.449871567847643,
          0.3109474167405925,
          1.037645062786332,
          1.5725615763793477,
          0.8751124645628163,
          1.272728304654348,
          1.6015273797627563,
          0.7841248335502651,
          1.507797991408544,
          1.5348997074022037,
          1.0376408089258007,
          1.0376400971820499,
          0.7840693136790143,
          1.3802932400769485,
          1.515513320648594,
          1.0376331708913331,
          1.7474231181778777,
          1.693166221002918,
          1.5155120197894316,
          0.6676985702586331,
          1.0360568861013482,
          1.3763941472522787,
          0.7841727053446765,
          1.0377334907991596,
          0.7841513382851335,
          1.9641965312605503,
          1.0376151088156516,
          1.5879394894883867,
          0.2692308116137391,
          1.4394379244466182,
          0.5852946297561373,
          1.5579220142814916,
          0.9211715324877031,
          1.4397101104855168,
          1.6931912401847768,
          0.7769143025811674,
          0.9155102790444702,
          1.4397020351040648,
          1.0372144143888082,
          1.0192480865266405,
          1.2727301102593387,
          0.7841024534086289,
          1.5154553941128883,
          0.9688413816303636,
          1.0192222737365948,
          1.0303724103671952,
          0.40037667384552966,
          1.3480596403706013,
          1.446840038037581,
          1.026812908591688,
          1.6931831445684875,
          1.0376391862744552,
          1.6931906897630742,
          1.439711130781137,
          1.0190240370610983,
          1.0192551151462983,
          1.0376146469687273,
          1.6014254053522479,
          1.962469718228969,
          1.2725643933669266,
          1.2727356352860035,
          1.706964690421399,
          1.0293228998109918,
          1.2728445080657285,
          1.0375573420547226,
          1.03762744057557,
          0.5853052536776328,
          1.0376459520222736,
          1.2727146736095107,
          1.033560281190732,
          0.8465753318114387,
          1.2725252258941377,
          1.0376616025404206,
          1.0376472191409447,
          1.2727370560791098,
          1.0376184345097978,
          1.515539345108263,
          0.8195788080380929,
          0.8387748221575443,
          1.7069396266068766,
          0.7842531725282901,
          1.0376233717657644,
          0.5322723244211394,
          1.826279135451816,
          1.7074033860451514,
          1.7074480601941406,
          0.585321346679664,
          1.5155418983327156,
          1.734386664798163,
          0.7343642351173952,
          1.0375408561666273,
          0.7841665238300346
         ],
         "z": [
          -0.5922841326686814,
          -0.5927809084173811,
          -0.7727076671694922,
          -0.5623634270346964,
          0.28402752451003715,
          -0.4378715407760272,
          -0.08581812049410975,
          -0.7026726887770147,
          -0.5922936464170955,
          -0.592542287721548,
          -0.5923341296430378,
          -0.5922842139333173,
          -0.5922846827869002,
          -0.1836736580221511,
          -0.44625030041462044,
          0.009824547155954046,
          -0.14196200230316883,
          -0.5923357564933927,
          -0.21098232421608057,
          -0.5623669289466402,
          -0.8132433527770515,
          -0.24887870865447287,
          -0.43883345902573256,
          -0.2402362225411761,
          -0.7206341168165421,
          -0.7206134250752917,
          -0.31465183863421337,
          -0.5924283503190563,
          -0.5923267219352562,
          -0.6041942330535639,
          -0.21032098925496187,
          -0.5623569429952977,
          0.10835377699517398,
          -0.2734343855150706,
          -0.5623588038747726,
          -0.5929353688472497,
          -0.5923173394603074,
          -0.2787690499942992,
          -0.5623604701890805,
          0.10835855501361755,
          -0.7206207125267091,
          -0.5924722334036769,
          0.15555212830136214,
          -0.17492776151309572,
          -0.43789279812052334,
          -0.44627000853181953,
          -0.2402386227011334,
          -0.7206096248541012,
          -0.24036252047938372,
          -0.5922847289892552,
          -0.720611430476409,
          -0.21030404046549864,
          -0.5922914068510651,
          -0.5623575573650157,
          -0.8046038379751941,
          -0.8133143387425896,
          -0.34178527225862476,
          -0.24028100326307297,
          -0.720623027857133,
          -0.43801367209949177,
          -0.7026263824154562,
          -0.498586764838004,
          -0.4378725080410419,
          -0.5702222152665719,
          -0.4378716291940763,
          -0.6211455662280355,
          -0.5922931635958872,
          -0.2402723126234539,
          -0.5624103135249793,
          -0.2679176314874463,
          -0.4378750990096902,
          -0.16345100333418242,
          0.009816169689271721,
          -0.5624212065557918,
          -0.4378971909258448,
          -0.43794215893513233,
          -0.617100050325435,
          -0.5623846391685464,
          -0.09326057959012327,
          -0.592870422342934,
          -0.5922916451878566,
          -0.5923375575113052,
          -0.3685783398655575,
          -0.21065138950437756,
          -0.5623696643800788,
          -0.5923131874687461,
          -0.4378711310770308,
          -0.5623575934978204,
          -0.5922878691340606,
          -0.5922849207692421,
          -0.24029648160338932,
          -0.31660564795665774,
          -0.7597657993611395,
          0.009787306527375491,
          -0.5922977520922342,
          -0.562656438546131,
          0.009761316107670327,
          -0.3685520489052247,
          -0.7720213478070281,
          0.009781094519680442,
          -0.750652603390747,
          0.0882589981388582,
          -0.562368233857475,
          -0.7581714297292699,
          -0.5623590010237699,
          0.009800142229752942,
          -0.5922960078877164,
          -0.5922905028517808,
          0.009816169689271721,
          -0.5623670868372055,
          -0.43787580569523255,
          -0.5922965804529422,
          -0.2712798645557024,
          -0.5922922177760632,
          -0.5923718359972691,
          -0.5623579132495087,
          -0.592305964949996,
          -0.258126062404373,
          -0.5922872073164008,
          -0.5922859041020401,
          -0.18510983803020795,
          -0.38414079943710633,
          -0.5923578573288347,
          -0.4378719154462695,
          -0.5623604386145734,
          -0.5922914950145738,
          -0.5922870648005856,
          -0.24023580447881862,
          -0.21068252071593335,
          -0.3685584730996567,
          -0.592818381296882,
          -0.24024663043055608,
          -0.5623750876919307,
          -0.7876977461959469,
          -0.5624159658497775,
          0.00976758873473994,
          -0.5623784835478666,
          0.009612577726295394,
          -0.5624703598994935,
          -0.5922890285465875,
          -0.5922882593044355,
          -0.5924123122180048,
          -0.09545072903414166,
          -0.5623690377019644,
          -0.24060343660896083,
          0.00981838783687936,
          -0.5923062476443445,
          -0.7306540291256055,
          -0.08584145559956649,
          -0.09329403927755013,
          -0.8278231287379828,
          -0.6170576033471192,
          -0.617095557654663,
          -0.6680740485978062,
          -0.720619747393499,
          -0.6023576585577521,
          -0.7206185902637446,
          -0.12532656196308622,
          -0.6680905137708169,
          -0.5623632656379255,
          -0.24023738832107638,
          5.167081905945233,
          0.00981734622946731,
          -0.5922982461569111,
          -0.5922863764905737,
          0.2855802839687068,
          -0.1998065091268977,
          -0.5623633482650655,
          -0.31477543919771334,
          -0.5922866095910206,
          -0.08098362745272711,
          -0.6151712807485321,
          -0.43791839699159607,
          -0.6174359418499741,
          -0.6245485407764593,
          -0.5922876935098953,
          -0.5371982720898686,
          -0.08793009069896643,
          -0.5922926728444885,
          -0.09061988526909828,
          -0.5623908900236058,
          0.08813792328284913,
          -0.6324317075945383,
          -0.720708707291889,
          -0.5923560945601061,
          -0.26500700358900753,
          -0.185113093489722,
          -0.6006783605224078,
          -0.5923067496808192,
          -0.5623816942389473,
          -0.1851300935785859,
          -0.592639427559268,
          -0.5922856620551509,
          -0.21030486619008715,
          -0.09325212040883027,
          -0.3267902396787387,
          -0.5924092346918939,
          -0.36874665842024473,
          -0.507723132311797,
          -0.5623610225279475,
          -0.6138733762364698,
          -0.24025383586190363,
          -0.2140642642889386,
          -0.6170666293101803,
          -0.5922848601346956,
          -0.59228525280454,
          -0.24040016223485264,
          -0.19991924878656908,
          0.009806704886549857,
          -0.5922919861128945,
          0.11675247544013932,
          -0.5372425671556034,
          0.009812116979420004,
          -0.10385806903786222,
          -0.5935100918966633,
          -0.3933008413237183,
          -0.24024663128655271,
          -0.5977334688827808,
          -0.24023630921818423,
          -0.7492786610478862,
          -0.5923036578784072,
          -0.3505847870605398,
          -0.4432554986276275,
          -0.18518793353100124,
          -0.085847965620445,
          0.015304890261248927,
          -0.4559326400579448,
          -0.18510921018917995,
          -0.5371632636839178,
          -0.24238824397259418,
          -0.4330394951684388,
          -0.18514327880358233,
          -0.5924143044967066,
          -0.21031525551135247,
          -0.5623758426644294,
          -0.2403046337365937,
          0.009796190256383735,
          -0.49026476892392945,
          -0.2103150158941363,
          -0.5950183383800947,
          0.9740828208580322,
          -0.2618181294180799,
          -0.4645820602033654,
          -0.21729230197373364,
          -0.5371814566405216,
          -0.5922928238591141,
          -0.5371700562789559,
          -0.18510614236532544,
          -0.614380399513525,
          -0.2103032000292355,
          -0.5923032301503606,
          -0.6140103385687766,
          -0.7502564084692285,
          -0.562416957304956,
          -0.5623704411942715,
          0.08778470604300818,
          -0.6029869460797179,
          -0.5624554935081658,
          -0.5923111649791376,
          -0.5922994358241954,
          -0.0858161193750263,
          -0.5922880455351953,
          -0.5625982089605053,
          -0.5940263295974882,
          -0.445180929018785,
          -0.562685715074918,
          -0.5923104286256751,
          -0.5924995857705784,
          -0.562465370219078,
          -0.5923467075650974,
          0.009824150408392483,
          -0.21128325419524382,
          -0.43791197800168047,
          0.08824973130887785,
          -0.24557129506324532,
          -0.5924249084356908,
          -0.31465820300217634,
          -0.7206073400168459,
          0.08790433580976997,
          0.08786296195732415,
          -0.08634589606803213,
          0.009821978214965622,
          0.46678636065664175,
          -0.013875786426398508,
          -0.5923221928243484,
          -0.24022775851013745
         ]
        },
        {
         "customdata": [
          [
           "Bitcoin",
           "SHA-256"
          ],
          [
           "Ethereum",
           "Ethash"
          ],
          [
           "Litecoin",
           "Scrypt"
          ],
          [
           "Monero",
           "CryptoNight-V7"
          ],
          [
           "Ethereum Classic",
           "Ethash"
          ],
          [
           "ZCash",
           "Equihash"
          ],
          [
           "DigiByte",
           "Multiple"
          ],
          [
           "ProsperCoin",
           "Scrypt"
          ],
          [
           "Spreadcoin",
           "X11"
          ],
          [
           "Argentum",
           "Scrypt"
          ],
          [
           "MyriadCoin",
           "Multiple"
          ],
          [
           "MoonCoin",
           "Scrypt"
          ],
          [
           "ZetaCoin",
           "SHA-256"
          ],
          [
           "SexCoin",
           "Scrypt"
          ],
          [
           "Quatloo",
           "Scrypt"
          ],
          [
           "QuarkCoin",
           "Quark"
          ],
          [
           "Riecoin",
           "Groestl"
          ],
          [
           "Digitalcoin ",
           "Scrypt"
          ],
          [
           "Catcoin",
           "Scrypt"
          ],
          [
           "CannaCoin",
           "Scrypt"
          ],
          [
           "CryptCoin",
           "X11"
          ],
          [
           "Verge",
           "Multiple"
          ],
          [
           "DevCoin",
           "SHA-256"
          ],
          [
           "EarthCoin",
           "Scrypt"
          ],
          [
           "E-Gulden",
           "Scrypt"
          ],
          [
           "Einsteinium",
           "Scrypt"
          ],
          [
           "Emerald",
           "Scrypt"
          ],
          [
           "Franko",
           "Scrypt"
          ],
          [
           "FeatherCoin",
           "NeoScrypt"
          ],
          [
           "GrandCoin",
           "Scrypt"
          ],
          [
           "GlobalCoin",
           "Scrypt"
          ],
          [
           "GoldCoin",
           "Scrypt"
          ],
          [
           "Infinite Coin",
           "Scrypt"
          ],
          [
           "IXcoin",
           "SHA-256"
          ],
          [
           "KrugerCoin",
           "Scrypt"
          ],
          [
           "LuckyCoin",
           "Scrypt"
          ],
          [
           "Litebar ",
           "Scrypt"
          ],
          [
           "MegaCoin",
           "Scrypt"
          ],
          [
           "MediterraneanCoin",
           "HybridScryptHash256"
          ],
          [
           "MinCoin",
           "Scrypt"
          ],
          [
           "NobleCoin",
           "Scrypt"
          ],
          [
           "Namecoin",
           "SHA-256"
          ],
          [
           "NyanCoin",
           "Scrypt"
          ],
          [
           "RonPaulCoin",
           "Scrypt"
          ],
          [
           "StableCoin",
           "Scrypt"
          ],
          [
           "SmartCoin",
           "Scrypt"
          ],
          [
           "SysCoin",
           "SHA-256"
          ],
          [
           "TigerCoin",
           "SHA-256"
          ],
          [
           "TerraCoin",
           "SHA-256"
          ],
          [
           "UnbreakableCoin",
           "SHA-256"
          ],
          [
           "Unobtanium",
           "SHA-256"
          ],
          [
           "UroCoin",
           "X11"
          ],
          [
           "ViaCoin",
           "Scrypt"
          ],
          [
           "Vertcoin",
           "Lyra2REv2"
          ],
          [
           "WorldCoin",
           "Scrypt"
          ],
          [
           "JouleCoin",
           "SHA-256"
          ],
          [
           "ByteCoin",
           "CryptoNight"
          ],
          [
           "DigitalNote ",
           "CryptoNight"
          ],
          [
           "MonaCoin",
           "Scrypt"
          ],
          [
           "Gulden",
           "Scrypt"
          ],
          [
           "PesetaCoin",
           "Scrypt"
          ],
          [
           "Wild Beast Coin",
           "Scrypt"
          ],
          [
           "Flo",
           "Scrypt"
          ],
          [
           "ArtByte",
           "Scrypt"
          ],
          [
           "Folding Coin",
           "Stanford Folding"
          ],
          [
           "Unitus",
           "Multiple"
          ],
          [
           "CypherPunkCoin",
           "QuBit"
          ],
          [
           "OmniCron",
           "Scrypt"
          ],
          [
           "GreenCoin",
           "Scrypt"
          ],
          [
           "Cryptonite",
           "M7 POW"
          ],
          [
           "MasterCoin",
           "Scrypt"
          ],
          [
           "SoonCoin",
           "SHA-256"
          ],
          [
           "1Credit",
           "Scrypt"
          ],
          [
           "MarsCoin ",
           "X11"
          ],
          [
           "Crypto",
           "Lyra2RE"
          ],
          [
           "Anarchists Prime",
           "SHA-256"
          ],
          [
           "BowsCoin",
           "X11"
          ],
          [
           "Song Coin",
           "Scrypt"
          ],
          [
           "BitZeny",
           "Scrypt"
          ],
          [
           "Expanse",
           "Ethash"
          ],
          [
           "Siacoin",
           "Blake2b"
          ],
          [
           "MindCoin",
           "X11"
          ],
          [
           "I0coin",
           "SHA-256"
          ],
          [
           "Revolution VR",
           "Scrypt"
          ],
          [
           "HOdlcoin",
           "1GB AES Pattern Search"
          ],
          [
           "Gamecredits",
           "Scrypt"
          ],
          [
           "CarpeDiemCoin",
           "SHA-256"
          ],
          [
           "Adzcoin",
           "X11"
          ],
          [
           "SoilCoin",
           "Dagger"
          ],
          [
           "YoCoin",
           "Scrypt"
          ],
          [
           "SibCoin",
           "X11GOST"
          ],
          [
           "Francs",
           "Scrypt"
          ],
          [
           "BolivarCoin",
           "X11"
          ],
          [
           "Omni",
           "Scrypt"
          ],
          [
           "PizzaCoin",
           "X11"
          ],
          [
           "Komodo",
           "Equihash"
          ],
          [
           "Karbo",
           "CryptoNight"
          ],
          [
           "ZayedCoin",
           "SHA-256"
          ],
          [
           "Circuits of Value",
           "Multiple"
          ],
          [
           "DopeCoin",
           "Scrypt"
          ],
          [
           "DollarCoin",
           "SHA-256"
          ],
          [
           "Shilling",
           "Scrypt"
          ],
          [
           "ZCoin",
           "Lyra2Z"
          ],
          [
           "Elementrem",
           "Ethash"
          ],
          [
           "ZClassic",
           "Equihash"
          ],
          [
           "KiloCoin",
           "Scrypt"
          ],
          [
           "ArtexCoin",
           "X11"
          ],
          [
           "Kurrent",
           "X11"
          ],
          [
           "Cannabis Industry Coin",
           "CryptoNight"
          ],
          [
           "OsmiumCoin",
           "Scrypt"
          ],
          [
           "Bikercoins",
           "CryptoNight"
          ],
          [
           "HexxCoin",
           "Lyra2RE"
          ],
          [
           "PacCoin",
           "X11"
          ],
          [
           "Citadel",
           "CryptoNight-V7"
          ],
          [
           "BeaverCoin",
           "Scrypt"
          ],
          [
           "VaultCoin",
           "X11"
          ],
          [
           "Zero",
           "Equihash"
          ],
          [
           "Canada eCoin",
           "Scrypt"
          ],
          [
           "Zoin",
           "Lyra2RE"
          ],
          [
           "DubaiCoin",
           "Dagger-Hashimoto"
          ],
          [
           "EB3coin",
           "Scrypt"
          ],
          [
           "Coinonat",
           "NIST5"
          ],
          [
           "BenjiRolls",
           "Scrypt"
          ],
          [
           "ILCoin",
           "SHA-256"
          ],
          [
           "EquiTrader",
           "Scrypt"
          ],
          [
           "Quantum Resistant Ledger",
           "CryptoNight-V7"
          ],
          [
           "Dynamic",
           "Argon2d"
          ],
          [
           "Nano",
           "Blake2b"
          ],
          [
           "ChanCoin",
           "Cloverhash"
          ],
          [
           "Dinastycoin",
           "CryptoNight"
          ],
          [
           "DigitalPrice",
           "X11"
          ],
          [
           "Unify",
           "Scrypt"
          ],
          [
           "SocialCoin",
           "Scrypt"
          ],
          [
           "ArcticCoin",
           "X11"
          ],
          [
           "DAS",
           "X11"
          ],
          [
           "LeviarCoin",
           "CryptoNight"
          ],
          [
           "Bitcore",
           "Time Travel"
          ],
          [
           "gCn Coin",
           "Scrypt"
          ],
          [
           "SmartCash",
           "Keccak"
          ],
          [
           "Onix",
           "X11"
          ],
          [
           "Bitcoin Cash",
           "SHA-256"
          ],
          [
           "Sojourn Coin",
           "Scrypt"
          ],
          [
           "NewYorkCoin",
           "Scrypt"
          ],
          [
           "FrazCoin",
           "Scrypt"
          ],
          [
           "Kronecoin",
           "Scrypt"
          ],
          [
           "AdCoin",
           "Scrypt"
          ],
          [
           "Linx",
           "Scrypt"
          ],
          [
           "Sumokoin",
           "CryptoNight"
          ],
          [
           "BitcoinZ",
           "Equihash"
          ],
          [
           "Elements",
           "X11"
          ],
          [
           "VIVO Coin",
           "NeoScrypt"
          ],
          [
           "Bitcoin Gold",
           "Equihash"
          ],
          [
           "Pirl",
           "Dagger"
          ],
          [
           "eBoost",
           "Scrypt"
          ],
          [
           "Pura",
           "X11"
          ],
          [
           "Innova",
           "NeoScrypt"
          ],
          [
           "Ellaism",
           "Ethash"
          ],
          [
           "GoByte",
           "NeoScrypt"
          ],
          [
           "SHIELD",
           "Multiple"
          ],
          [
           "UltraNote",
           "CryptoNight"
          ],
          [
           "BitCoal",
           "CryptoNight"
          ],
          [
           "DaxxCoin",
           "Ethash"
          ],
          [
           "AC3",
           "X11"
          ],
          [
           "Lethean",
           "CryptoNight-V7"
          ],
          [
           "PopularCoin",
           "Scrypt"
          ],
          [
           "Photon",
           "BLAKE256"
          ],
          [
           "Sucre",
           "X11"
          ],
          [
           "SparksPay",
           "NeoScrypt"
          ],
          [
           "GunCoin",
           "NeoScrypt"
          ],
          [
           "IrishCoin",
           "Scrypt"
          ],
          [
           "Pioneer Coin",
           "X11"
          ],
          [
           "UnitedBitcoin",
           "SHA-256"
          ],
          [
           "Interzone",
           "C11"
          ],
          [
           "1717 Masonic Commemorative Token",
           "Ethash"
          ],
          [
           "TurtleCoin",
           "CryptoNight"
          ],
          [
           "MUNcoin",
           "SkunkHash"
          ],
          [
           "Niobio Cash",
           "CryptoNight"
          ],
          [
           "ShareChain",
           "Scrypt"
          ],
          [
           "Travelflex",
           "Dagger"
          ],
          [
           "KREDS",
           "Lyra2REv2"
          ],
          [
           "BitFlip",
           "Scrypt"
          ],
          [
           "LottoCoin",
           "Scrypt"
          ],
          [
           "Crypto Improvement Fund",
           "X11"
          ],
          [
           "Callisto Network",
           "Ethash"
          ],
          [
           "BitTube",
           "CryptoNight"
          ],
          [
           "Poseidon",
           "Scrypt"
          ],
          [
           "Aidos Kuneen",
           "IMesh"
          ],
          [
           "Bitrolium",
           "Equihash"
          ],
          [
           "Alpenschillling",
           "Lyra2Z"
          ],
          [
           "FuturoCoin",
           "X11"
          ],
          [
           "Monero Classic",
           "CryptoNight"
          ],
          [
           "Jumpcoin",
           "NIST5"
          ],
          [
           "Infinex",
           "Lyra2RE"
          ],
          [
           "KEYCO",
           "Tribus"
          ],
          [
           "GINcoin",
           "Lyra2Z"
          ],
          [
           "PlatinCoin",
           "CryptoNight"
          ],
          [
           "Loki",
           "CryptoNight Heavy"
          ],
          [
           "Newton Coin",
           "CryptoNight"
          ],
          [
           "MassGrid",
           "Jump Consistent Hash"
          ],
          [
           "PluraCoin",
           "CryptoNight"
          ],
          [
           "Motion",
           "X16R"
          ],
          [
           "PlusOneCoin",
           "HMQ1725"
          ],
          [
           "Axe",
           "X11"
          ],
          [
           "HexCoin",
           "Scrypt"
          ],
          [
           "Webchain",
           "CryptoNight-V7"
          ],
          [
           "Ryo",
           "Cryptonight-GPU"
          ],
          [
           "Urals Coin",
           "XEVAN"
          ],
          [
           "Qwertycoin",
           "CryptoNight Heavy"
          ],
          [
           "Project Pai",
           "SHA-256"
          ],
          [
           "Azart",
           "X11"
          ],
          [
           "Xchange",
           "X16R"
          ],
          [
           "CrypticCoin",
           "Equihash"
          ],
          [
           "Actinium",
           "Lyra2Z"
          ],
          [
           "Bitcoin SV",
           "SHA-256"
          ],
          [
           "FREDEnergy",
           "CryptoNight"
          ],
          [
           "Universal Molecule",
           "Blake"
          ],
          [
           "Lithium",
           "Blake"
          ],
          [
           "PirateCash",
           "Equihash"
          ],
          [
           "Exosis",
           "Exosis"
          ],
          [
           "Block-Logic",
           "Scrypt"
          ],
          [
           "Beam",
           "Equihash"
          ],
          [
           "Bithereum",
           "Equihash"
          ],
          [
           "SLICE",
           "QuBit"
          ],
          [
           "BLAST",
           "SHA-256"
          ],
          [
           "Bitcoin Rhodium",
           "X13"
          ],
          [
           "GlobalToken",
           "SHA-256"
          ],
          [
           "SolarCoin",
           "Scrypt"
          ],
          [
           "UFO Coin",
           "NeoScrypt"
          ],
          [
           "BlakeCoin",
           "Blake"
          ],
          [
           "Crypto Escudo",
           "Scrypt"
          ],
          [
           "Crown Coin",
           "SHA-256"
          ],
          [
           "SmileyCoin",
           "Scrypt"
          ],
          [
           "Groestlcoin",
           "Groestl"
          ],
          [
           "Bata",
           "Scrypt"
          ],
          [
           "Pakcoin",
           "Scrypt"
          ],
          [
           "JoinCoin",
           "Multiple"
          ],
          [
           "Vollar",
           "Equihash+Scrypt"
          ],
          [
           "Reality Clash",
           "Ethash"
          ],
          [
           "Beldex",
           "CryptoNight"
          ],
          [
           "Horizen",
           "Equihash"
          ]
         ],
         "hovertemplate": "<b>%{hovertext}</b><br><br>class=%{marker.color}<br>PC 1=%{x}<br>PC 2=%{y}<br>PC 3=%{z}<br>CoinName=%{customdata[0]}<br>Algorithm=%{customdata[1]}<extra></extra>",
         "hovertext": [
          "CoinName: Bitcoin , Algorithm: SHA-256",
          "CoinName: Ethereum , Algorithm: Ethash",
          "CoinName: Litecoin , Algorithm: Scrypt",
          "CoinName: Monero , Algorithm: CryptoNight-V7",
          "CoinName: Ethereum Classic , Algorithm: Ethash",
          "CoinName: ZCash , Algorithm: Equihash",
          "CoinName: DigiByte , Algorithm: Multiple",
          "CoinName: ProsperCoin , Algorithm: Scrypt",
          "CoinName: Spreadcoin , Algorithm: X11",
          "CoinName: Argentum , Algorithm: Scrypt",
          "CoinName: MyriadCoin , Algorithm: Multiple",
          "CoinName: MoonCoin , Algorithm: Scrypt",
          "CoinName: ZetaCoin , Algorithm: SHA-256",
          "CoinName: SexCoin , Algorithm: Scrypt",
          "CoinName: Quatloo , Algorithm: Scrypt",
          "CoinName: QuarkCoin , Algorithm: Quark",
          "CoinName: Riecoin , Algorithm: Groestl",
          "CoinName: Digitalcoin  , Algorithm: Scrypt",
          "CoinName: Catcoin , Algorithm: Scrypt",
          "CoinName: CannaCoin , Algorithm: Scrypt",
          "CoinName: CryptCoin , Algorithm: X11",
          "CoinName: Verge , Algorithm: Multiple",
          "CoinName: DevCoin , Algorithm: SHA-256",
          "CoinName: EarthCoin , Algorithm: Scrypt",
          "CoinName: E-Gulden , Algorithm: Scrypt",
          "CoinName: Einsteinium , Algorithm: Scrypt",
          "CoinName: Emerald , Algorithm: Scrypt",
          "CoinName: Franko , Algorithm: Scrypt",
          "CoinName: FeatherCoin , Algorithm: NeoScrypt",
          "CoinName: GrandCoin , Algorithm: Scrypt",
          "CoinName: GlobalCoin , Algorithm: Scrypt",
          "CoinName: GoldCoin , Algorithm: Scrypt",
          "CoinName: Infinite Coin , Algorithm: Scrypt",
          "CoinName: IXcoin , Algorithm: SHA-256",
          "CoinName: KrugerCoin , Algorithm: Scrypt",
          "CoinName: LuckyCoin , Algorithm: Scrypt",
          "CoinName: Litebar  , Algorithm: Scrypt",
          "CoinName: MegaCoin , Algorithm: Scrypt",
          "CoinName: MediterraneanCoin , Algorithm: HybridScryptHash256",
          "CoinName: MinCoin , Algorithm: Scrypt",
          "CoinName: NobleCoin , Algorithm: Scrypt",
          "CoinName: Namecoin , Algorithm: SHA-256",
          "CoinName: NyanCoin , Algorithm: Scrypt",
          "CoinName: RonPaulCoin , Algorithm: Scrypt",
          "CoinName: StableCoin , Algorithm: Scrypt",
          "CoinName: SmartCoin , Algorithm: Scrypt",
          "CoinName: SysCoin , Algorithm: SHA-256",
          "CoinName: TigerCoin , Algorithm: SHA-256",
          "CoinName: TerraCoin , Algorithm: SHA-256",
          "CoinName: UnbreakableCoin , Algorithm: SHA-256",
          "CoinName: Unobtanium , Algorithm: SHA-256",
          "CoinName: UroCoin , Algorithm: X11",
          "CoinName: ViaCoin , Algorithm: Scrypt",
          "CoinName: Vertcoin , Algorithm: Lyra2REv2",
          "CoinName: WorldCoin , Algorithm: Scrypt",
          "CoinName: JouleCoin , Algorithm: SHA-256",
          "CoinName: ByteCoin , Algorithm: CryptoNight",
          "CoinName: DigitalNote  , Algorithm: CryptoNight",
          "CoinName: MonaCoin , Algorithm: Scrypt",
          "CoinName: Gulden , Algorithm: Scrypt",
          "CoinName: PesetaCoin , Algorithm: Scrypt",
          "CoinName: Wild Beast Coin , Algorithm: Scrypt",
          "CoinName: Flo , Algorithm: Scrypt",
          "CoinName: ArtByte , Algorithm: Scrypt",
          "CoinName: Folding Coin , Algorithm: Stanford Folding",
          "CoinName: Unitus , Algorithm: Multiple",
          "CoinName: CypherPunkCoin , Algorithm: QuBit",
          "CoinName: OmniCron , Algorithm: Scrypt",
          "CoinName: GreenCoin , Algorithm: Scrypt",
          "CoinName: Cryptonite , Algorithm: M7 POW",
          "CoinName: MasterCoin , Algorithm: Scrypt",
          "CoinName: SoonCoin , Algorithm: SHA-256",
          "CoinName: 1Credit , Algorithm: Scrypt",
          "CoinName: MarsCoin  , Algorithm: X11",
          "CoinName: Crypto , Algorithm: Lyra2RE",
          "CoinName: Anarchists Prime , Algorithm: SHA-256",
          "CoinName: BowsCoin , Algorithm: X11",
          "CoinName: Song Coin , Algorithm: Scrypt",
          "CoinName: BitZeny , Algorithm: Scrypt",
          "CoinName: Expanse , Algorithm: Ethash",
          "CoinName: Siacoin , Algorithm: Blake2b",
          "CoinName: MindCoin , Algorithm: X11",
          "CoinName: I0coin , Algorithm: SHA-256",
          "CoinName: Revolution VR , Algorithm: Scrypt",
          "CoinName: HOdlcoin , Algorithm: 1GB AES Pattern Search",
          "CoinName: Gamecredits , Algorithm: Scrypt",
          "CoinName: CarpeDiemCoin , Algorithm: SHA-256",
          "CoinName: Adzcoin , Algorithm: X11",
          "CoinName: SoilCoin , Algorithm: Dagger",
          "CoinName: YoCoin , Algorithm: Scrypt",
          "CoinName: SibCoin , Algorithm: X11GOST",
          "CoinName: Francs , Algorithm: Scrypt",
          "CoinName: BolivarCoin , Algorithm: X11",
          "CoinName: Omni , Algorithm: Scrypt",
          "CoinName: PizzaCoin , Algorithm: X11",
          "CoinName: Komodo , Algorithm: Equihash",
          "CoinName: Karbo , Algorithm: CryptoNight",
          "CoinName: ZayedCoin , Algorithm: SHA-256",
          "CoinName: Circuits of Value , Algorithm: Multiple",
          "CoinName: DopeCoin , Algorithm: Scrypt",
          "CoinName: DollarCoin , Algorithm: SHA-256",
          "CoinName: Shilling , Algorithm: Scrypt",
          "CoinName: ZCoin , Algorithm: Lyra2Z",
          "CoinName: Elementrem , Algorithm: Ethash",
          "CoinName: ZClassic , Algorithm: Equihash",
          "CoinName: KiloCoin , Algorithm: Scrypt",
          "CoinName: ArtexCoin , Algorithm: X11",
          "CoinName: Kurrent , Algorithm: X11",
          "CoinName: Cannabis Industry Coin , Algorithm: CryptoNight",
          "CoinName: OsmiumCoin , Algorithm: Scrypt",
          "CoinName: Bikercoins , Algorithm: CryptoNight",
          "CoinName: HexxCoin , Algorithm: Lyra2RE",
          "CoinName: PacCoin , Algorithm: X11",
          "CoinName: Citadel , Algorithm: CryptoNight-V7",
          "CoinName: BeaverCoin , Algorithm: Scrypt",
          "CoinName: VaultCoin , Algorithm: X11",
          "CoinName: Zero , Algorithm: Equihash",
          "CoinName: Canada eCoin , Algorithm: Scrypt",
          "CoinName: Zoin , Algorithm: Lyra2RE",
          "CoinName: DubaiCoin , Algorithm: Dagger-Hashimoto",
          "CoinName: EB3coin , Algorithm: Scrypt",
          "CoinName: Coinonat , Algorithm: NIST5",
          "CoinName: BenjiRolls , Algorithm: Scrypt",
          "CoinName: ILCoin , Algorithm: SHA-256",
          "CoinName: EquiTrader , Algorithm: Scrypt",
          "CoinName: Quantum Resistant Ledger , Algorithm: CryptoNight-V7",
          "CoinName: Dynamic , Algorithm: Argon2d",
          "CoinName: Nano , Algorithm: Blake2b",
          "CoinName: ChanCoin , Algorithm: Cloverhash",
          "CoinName: Dinastycoin , Algorithm: CryptoNight",
          "CoinName: DigitalPrice , Algorithm: X11",
          "CoinName: Unify , Algorithm: Scrypt",
          "CoinName: SocialCoin , Algorithm: Scrypt",
          "CoinName: ArcticCoin , Algorithm: X11",
          "CoinName: DAS , Algorithm: X11",
          "CoinName: LeviarCoin , Algorithm: CryptoNight",
          "CoinName: Bitcore , Algorithm: Time Travel",
          "CoinName: gCn Coin , Algorithm: Scrypt",
          "CoinName: SmartCash , Algorithm: Keccak",
          "CoinName: Onix , Algorithm: X11",
          "CoinName: Bitcoin Cash , Algorithm: SHA-256",
          "CoinName: Sojourn Coin , Algorithm: Scrypt",
          "CoinName: NewYorkCoin , Algorithm: Scrypt",
          "CoinName: FrazCoin , Algorithm: Scrypt",
          "CoinName: Kronecoin , Algorithm: Scrypt",
          "CoinName: AdCoin , Algorithm: Scrypt",
          "CoinName: Linx , Algorithm: Scrypt",
          "CoinName: Sumokoin , Algorithm: CryptoNight",
          "CoinName: BitcoinZ , Algorithm: Equihash",
          "CoinName: Elements , Algorithm: X11",
          "CoinName: VIVO Coin , Algorithm: NeoScrypt",
          "CoinName: Bitcoin Gold , Algorithm: Equihash",
          "CoinName: Pirl , Algorithm: Dagger",
          "CoinName: eBoost , Algorithm: Scrypt",
          "CoinName: Pura , Algorithm: X11",
          "CoinName: Innova , Algorithm: NeoScrypt",
          "CoinName: Ellaism , Algorithm: Ethash",
          "CoinName: GoByte , Algorithm: NeoScrypt",
          "CoinName: SHIELD , Algorithm: Multiple",
          "CoinName: UltraNote , Algorithm: CryptoNight",
          "CoinName: BitCoal , Algorithm: CryptoNight",
          "CoinName: DaxxCoin , Algorithm: Ethash",
          "CoinName: AC3 , Algorithm: X11",
          "CoinName: Lethean , Algorithm: CryptoNight-V7",
          "CoinName: PopularCoin , Algorithm: Scrypt",
          "CoinName: Photon , Algorithm: BLAKE256",
          "CoinName: Sucre , Algorithm: X11",
          "CoinName: SparksPay , Algorithm: NeoScrypt",
          "CoinName: GunCoin , Algorithm: NeoScrypt",
          "CoinName: IrishCoin , Algorithm: Scrypt",
          "CoinName: Pioneer Coin , Algorithm: X11",
          "CoinName: UnitedBitcoin , Algorithm: SHA-256",
          "CoinName: Interzone , Algorithm: C11",
          "CoinName: 1717 Masonic Commemorative Token , Algorithm: Ethash",
          "CoinName: TurtleCoin , Algorithm: CryptoNight",
          "CoinName: MUNcoin , Algorithm: SkunkHash",
          "CoinName: Niobio Cash , Algorithm: CryptoNight",
          "CoinName: ShareChain , Algorithm: Scrypt",
          "CoinName: Travelflex , Algorithm: Dagger",
          "CoinName: KREDS , Algorithm: Lyra2REv2",
          "CoinName: BitFlip , Algorithm: Scrypt",
          "CoinName: LottoCoin , Algorithm: Scrypt",
          "CoinName: Crypto Improvement Fund , Algorithm: X11",
          "CoinName: Callisto Network , Algorithm: Ethash",
          "CoinName: BitTube , Algorithm: CryptoNight",
          "CoinName: Poseidon , Algorithm: Scrypt",
          "CoinName: Aidos Kuneen , Algorithm: IMesh",
          "CoinName: Bitrolium , Algorithm: Equihash",
          "CoinName: Alpenschillling , Algorithm: Lyra2Z",
          "CoinName: FuturoCoin , Algorithm: X11",
          "CoinName: Monero Classic , Algorithm: CryptoNight",
          "CoinName: Jumpcoin , Algorithm: NIST5",
          "CoinName: Infinex , Algorithm: Lyra2RE",
          "CoinName: KEYCO , Algorithm: Tribus",
          "CoinName: GINcoin , Algorithm: Lyra2Z",
          "CoinName: PlatinCoin , Algorithm: CryptoNight",
          "CoinName: Loki , Algorithm: CryptoNight Heavy",
          "CoinName: Newton Coin , Algorithm: CryptoNight",
          "CoinName: MassGrid , Algorithm: Jump Consistent Hash",
          "CoinName: PluraCoin , Algorithm: CryptoNight",
          "CoinName: Motion , Algorithm: X16R",
          "CoinName: PlusOneCoin , Algorithm: HMQ1725",
          "CoinName: Axe , Algorithm: X11",
          "CoinName: HexCoin , Algorithm: Scrypt",
          "CoinName: Webchain , Algorithm: CryptoNight-V7",
          "CoinName: Ryo , Algorithm: Cryptonight-GPU",
          "CoinName: Urals Coin , Algorithm: XEVAN",
          "CoinName: Qwertycoin , Algorithm: CryptoNight Heavy",
          "CoinName: Project Pai , Algorithm: SHA-256",
          "CoinName: Azart , Algorithm: X11",
          "CoinName: Xchange , Algorithm: X16R",
          "CoinName: CrypticCoin , Algorithm: Equihash",
          "CoinName: Actinium , Algorithm: Lyra2Z",
          "CoinName: Bitcoin SV , Algorithm: SHA-256",
          "CoinName: FREDEnergy , Algorithm: CryptoNight",
          "CoinName: Universal Molecule , Algorithm: Blake",
          "CoinName: Lithium , Algorithm: Blake",
          "CoinName: PirateCash , Algorithm: Equihash",
          "CoinName: Exosis , Algorithm: Exosis",
          "CoinName: Block-Logic , Algorithm: Scrypt",
          "CoinName: Beam , Algorithm: Equihash",
          "CoinName: Bithereum , Algorithm: Equihash",
          "CoinName: SLICE , Algorithm: QuBit",
          "CoinName: BLAST , Algorithm: SHA-256",
          "CoinName: Bitcoin Rhodium , Algorithm: X13",
          "CoinName: GlobalToken , Algorithm: SHA-256",
          "CoinName: SolarCoin , Algorithm: Scrypt",
          "CoinName: UFO Coin , Algorithm: NeoScrypt",
          "CoinName: BlakeCoin , Algorithm: Blake",
          "CoinName: Crypto Escudo , Algorithm: Scrypt",
          "CoinName: Crown Coin , Algorithm: SHA-256",
          "CoinName: SmileyCoin , Algorithm: Scrypt",
          "CoinName: Groestlcoin , Algorithm: Groestl",
          "CoinName: Bata , Algorithm: Scrypt",
          "CoinName: Pakcoin , Algorithm: Scrypt",
          "CoinName: JoinCoin , Algorithm: Multiple",
          "CoinName: Vollar , Algorithm: Equihash+Scrypt",
          "CoinName: Reality Clash , Algorithm: Ethash",
          "CoinName: Beldex , Algorithm: CryptoNight",
          "CoinName: Horizen , Algorithm: Equihash"
         ],
         "legendgroup": "3",
         "marker": {
          "color": [
           3,
           3,
           3,
           3,
           3,
           3,
           3,
           3,
           3,
           3,
           3,
           3,
           3,
           3,
           3,
           3,
           3,
           3,
           3,
           3,
           3,
           3,
           3,
           3,
           3,
           3,
           3,
           3,
           3,
           3,
           3,
           3,
           3,
           3,
           3,
           3,
           3,
           3,
           3,
           3,
           3,
           3,
           3,
           3,
           3,
           3,
           3,
           3,
           3,
           3,
           3,
           3,
           3,
           3,
           3,
           3,
           3,
           3,
           3,
           3,
           3,
           3,
           3,
           3,
           3,
           3,
           3,
           3,
           3,
           3,
           3,
           3,
           3,
           3,
           3,
           3,
           3,
           3,
           3,
           3,
           3,
           3,
           3,
           3,
           3,
           3,
           3,
           3,
           3,
           3,
           3,
           3,
           3,
           3,
           3,
           3,
           3,
           3,
           3,
           3,
           3,
           3,
           3,
           3,
           3,
           3,
           3,
           3,
           3,
           3,
           3,
           3,
           3,
           3,
           3,
           3,
           3,
           3,
           3,
           3,
           3,
           3,
           3,
           3,
           3,
           3,
           3,
           3,
           3,
           3,
           3,
           3,
           3,
           3,
           3,
           3,
           3,
           3,
           3,
           3,
           3,
           3,
           3,
           3,
           3,
           3,
           3,
           3,
           3,
           3,
           3,
           3,
           3,
           3,
           3,
           3,
           3,
           3,
           3,
           3,
           3,
           3,
           3,
           3,
           3,
           3,
           3,
           3,
           3,
           3,
           3,
           3,
           3,
           3,
           3,
           3,
           3,
           3,
           3,
           3,
           3,
           3,
           3,
           3,
           3,
           3,
           3,
           3,
           3,
           3,
           3,
           3,
           3,
           3,
           3,
           3,
           3,
           3,
           3,
           3,
           3,
           3,
           3,
           3,
           3,
           3,
           3,
           3,
           3,
           3,
           3,
           3,
           3,
           3,
           3,
           3,
           3,
           3,
           3,
           3,
           3,
           3,
           3,
           3,
           3,
           3,
           3,
           3,
           3,
           3,
           3,
           3,
           3,
           3,
           3,
           3,
           3,
           3,
           3,
           3
          ],
          "coloraxis": "coloraxis",
          "symbol": "diamond"
         },
         "mode": "markers",
         "name": "3",
         "scene": "scene",
         "showlegend": true,
         "type": "scatter3d",
         "x": [
          -0.14593437209572638,
          -0.14520451163620465,
          -0.16089803804886665,
          -0.1555161192885027,
          -0.14364673795057223,
          -0.18906508382540774,
          0.15952888904658358,
          -0.16204450968953404,
          -0.2214036376699287,
          -0.16166106302044178,
          -0.09390689428931116,
          2.559399437167155,
          -0.14301867083273054,
          -0.15891605410622583,
          -0.16146515794716063,
          -0.2313251635031203,
          -0.2080066312189341,
          -0.16151373428484553,
          -0.16202676808470184,
          -0.16211322789593535,
          -0.2214930101008707,
          0.1833068222771773,
          0.2319872955222852,
          0.08666783722145205,
          -0.16185944648840686,
          -0.15746403188946448,
          -0.16179875991574644,
          -0.16217024744675554,
          -0.18813581120922346,
          -0.14138951504123806,
          -0.16096507976096666,
          -0.16124265603002758,
          1.587113633898218,
          -0.1458957249210537,
          -0.15853168629349934,
          -0.16188589529374592,
          -0.16224078394166638,
          -0.1614998846496565,
          -0.152377758507128,
          -0.16212203530547245,
          -0.0270315001368936,
          -0.14597336882354858,
          -0.15578458704613743,
          -0.16210151361134542,
          -0.1601959821260757,
          -0.16158816158451178,
          -0.1331235314155337,
          -0.145437014566844,
          -0.14572432210840858,
          -0.1457074577229082,
          -0.14629808639485517,
          -0.22166690439225528,
          -0.16181788947563827,
          -0.189867740848776,
          -0.15892083421359487,
          -0.14550432990732912,
          3.8604919630891565,
          0.4587240712341282,
          -0.16068533837681265,
          -0.14528416637047786,
          -0.15940386012868935,
          -0.16224299951703486,
          -0.15926881493575928,
          -0.1454900237526429,
          -0.1766176112864763,
          -0.12791978241419005,
          -0.1905499610281203,
          -0.16211602567178632,
          -0.035040953308998694,
          -0.10521310462044631,
          -0.1622518875313465,
          -0.1460011583040942,
          0.48980239096585176,
          -0.2210539640925013,
          -0.1549506062562168,
          -0.14574104493004245,
          -0.22133893559758616,
          -0.1603757349518532,
          -0.15956779454624892,
          -0.14627249989177757,
          0.3572214732134016,
          -0.22137432677636662,
          -0.14589684775566378,
          -0.15820888048306414,
          -0.16286418719404178,
          -0.16081496883503157,
          0.2726771496346082,
          -0.220534970628255,
          -0.13737845725829093,
          -0.16106285301940482,
          -0.11082017790104773,
          -0.1620417894604269,
          -0.22133759192391927,
          -0.1622519460387532,
          -0.22148762766277835,
          -0.42945219416750907,
          0.30360359009466203,
          -0.14615699788831651,
          -0.10798867022020608,
          -0.15941826777164878,
          -0.14611561348575894,
          -0.16191532367862185,
          -0.16715305149724288,
          -0.14601458443093404,
          -0.18908671021824686,
          -0.0889881042656558,
          -0.20806713805925553,
          -0.21931568923990166,
          0.30359790550544646,
          -0.1622336847882789,
          0.30372866117900227,
          -0.1554910507486822,
          0.4936476601443631,
          -0.15428106485490728,
          -0.16220196092977618,
          -0.21422263171123515,
          -0.1890990736105063,
          -0.16033482556770784,
          -0.15520935527085714,
          -0.17713561282425405,
          -0.13312982666025977,
          -0.19619902184202617,
          -0.16176428396481266,
          -0.1124780235314473,
          -0.16158642498560935,
          -0.15413840367197668,
          -0.19476470078398475,
          -0.04325599040382035,
          -0.13171062078639828,
          0.3397272228492991,
          -0.22054343493058037,
          -0.1619056031106225,
          -0.16166911535485215,
          -0.22093811766299187,
          -0.22151564676758748,
          0.30399292529337985,
          -0.1394356036462824,
          3.248081283586835,
          -0.12370587619629546,
          -0.21238836672262038,
          -0.1459335359517285,
          -0.08783743866052716,
          1.5855222455527684,
          -0.16200349597784475,
          -0.16145517075114116,
          -0.1611560838931588,
          -0.16114300916931198,
          0.30417646798426495,
          0.02323089691749767,
          -0.17589034404939213,
          -0.19282527759760315,
          -0.18894507512588798,
          -0.1361375472281514,
          -0.16033303394835258,
          -0.21705953962706373,
          -0.19267069831075173,
          -0.14438014624639253,
          -0.192770891290277,
          -0.11815014811072194,
          1.1415454546338903,
          0.3035807034462817,
          -0.0692777605026932,
          -0.2168018427244142,
          -0.14324952417131037,
          -0.07837620583514539,
          1.1039143452686693,
          -0.22148963791414797,
          -0.19282280997384238,
          -0.18585968365031452,
          -0.16125435806230107,
          -0.221415026559337,
          -0.14591292093751368,
          -0.18998183341951203,
          -0.2619404847022024,
          8.040561589255494,
          -0.14727851945930073,
          0.3074554491411191,
          0.030829902229901944,
          -0.1356403111869555,
          -0.17542381668459447,
          -0.1618282300430766,
          0.14530363476676333,
          -0.21555540884847701,
          -0.09742452809989315,
          0.31150311144984144,
          -0.16206526334960075,
          -0.14310969143078126,
          -0.18793593585353313,
          -0.16493677773179222,
          -0.22058422505767397,
          0.303763276444512,
          -0.19625839425443248,
          -0.15533629078988753,
          -0.16867931557165497,
          -0.16723741863132457,
          0.30769074278462566,
          0.564012379087701,
          2.1122570966076393,
          -0.1518255975104605,
          0.317369983023211,
          -0.18594005201695019,
          -0.17010099742994658,
          -0.22147179544953163,
          -0.1620898605242139,
          -0.14313251658472628,
          -0.1487890468394748,
          -0.19457472795736114,
          3.086885946625598,
          -0.10575262598296423,
          -0.22144316551596854,
          -0.18536785511546797,
          -0.08367759976292502,
          -0.16663521983436264,
          -0.14593357353348757,
          0.383524045426326,
          -0.1412653927175955,
          -0.14165725003437793,
          -0.3038463856597448,
          -0.13366703601855798,
          -0.16098208989490795,
          -0.1870053575180205,
          -0.18877786310633507,
          -0.1897610139505735,
          -0.1452095831251859,
          -0.1224766681202587,
          -0.14407746930994128,
          0.5337151684351942,
          -0.11797270820088528,
          -0.0921306237861502,
          -0.14564067527628158,
          -0.1457236922859654,
          0.5536863393357011,
          -0.20756752929692548,
          -0.16216666006546934,
          -0.16012223103998477,
          -0.12865499885591464,
          -0.12861437624301583,
          -0.14604775011597274,
          0.3253414150811449,
          -0.18906614123250964
         ],
         "y": [
          -1.3245254207767763,
          -2.0540522898844036,
          -1.125678154082443,
          -2.2380421247302884,
          -2.0541400336305933,
          -2.064668812018059,
          -1.8272557685133233,
          -1.1256762076340332,
          -0.8905770484892969,
          -1.1256918600163235,
          -1.823354861516219,
          -1.2906680482747919,
          -1.324522554826062,
          -1.125720571751541,
          -1.1257094553291336,
          -0.47011285432028116,
          -1.265656382605341,
          -1.1256757400896604,
          -1.125675570826248,
          -1.1256732972683414,
          -0.8905788882079791,
          -1.8233615423275662,
          -1.3253118995948727,
          -1.1259698270985998,
          -1.125669565073324,
          -1.125702515860223,
          -1.1256749117461609,
          -1.1256740412739925,
          -1.6310665902345929,
          -1.1258922787940864,
          -1.1256709832654583,
          -1.125682482688882,
          -1.124856499440038,
          -1.32452403359551,
          -1.125717324579845,
          -1.1256698303287065,
          -1.1256698103466174,
          -1.1256710249158988,
          -2.143341731695137,
          -1.1256714653729132,
          -1.131077017088672,
          -1.3245268205047,
          -1.1256676878410143,
          -1.125678253702668,
          -1.1257665128112622,
          -1.1256804870548291,
          -1.3246586961086202,
          -1.3245253632610732,
          -1.3245322471186993,
          -1.324557636991416,
          -1.324524281001423,
          -0.8905728163647729,
          -1.1256694416159843,
          -1.2477980975923701,
          -1.1257312924495693,
          -1.3245264030870925,
          -2.283667459766599,
          -2.2864183239984963,
          -1.1256849674080776,
          -1.126209516176868,
          -1.125680881798939,
          -1.12567076413073,
          -1.125671665997405,
          -1.1257517279561453,
          -2.129069913640336,
          -1.8232075340337917,
          -1.545447874420811,
          -1.1256667151036401,
          -1.127944083896309,
          -2.182134680180247,
          -1.1256697091545445,
          -1.3245278179656244,
          -1.1652005267853223,
          -0.8905733905834639,
          -2.246017139694047,
          -1.3245408921872945,
          -0.8905754101913707,
          -1.1257457655821759,
          -1.1257439649783585,
          -2.0541021890868683,
          -2.127594765115281,
          -0.8905732600833621,
          -1.3245240738979416,
          -1.1256678254731898,
          -2.2163404439146923,
          -1.1256751724399947,
          -1.324279827643098,
          -0.8905896503931777,
          -2.1974068875749917,
          -1.1257417732431378,
          -2.3016821523297546,
          -1.1256754259115132,
          -0.8905780982984748,
          -1.1256697091818038,
          -0.8905834836019699,
          -1.5218188506441233,
          -2.285152136845149,
          -1.3245257060664917,
          -1.8233130380940084,
          -1.1257043937406526,
          -1.3245248378842978,
          -1.1256777274561371,
          -2.1983625113044543,
          -2.0540992930004203,
          -2.0646695882643713,
          -1.1298804344140456,
          -0.8904267155684562,
          -0.8906443942553742,
          -2.285159865809384,
          -1.1256704888196563,
          -2.2851579088705773,
          -2.2459983736885722,
          -0.9333060989381133,
          -2.2381243498893535,
          -1.1256697918629008,
          -0.8909896996305908,
          -2.06466729569322,
          -1.1256688837762463,
          -2.2459957875852865,
          -2.1750510946139894,
          -1.12736032973806,
          -0.628412590859758,
          -1.1256760825341074,
          -1.3250204006578756,
          -1.1256946536705907,
          -2.238064502559944,
          -2.0965886291863827,
          -2.1422020732265064,
          -2.1391023877834687,
          -2.2852168615351216,
          -0.890600899551236,
          -1.125670042981079,
          -1.125699673967153,
          -0.8905877027224243,
          -0.8905803163921763,
          -2.285168261951725,
          -2.2208629190797904,
          -1.1400774001947198,
          -1.1954801765902634,
          -0.8909922698981654,
          -1.3245253907646561,
          -1.1301811750581439,
          -1.062935604592508,
          -1.1256740514254928,
          -1.1256981515091344,
          -1.1256983615884288,
          -1.1256978922912029,
          -2.2851855408993518,
          -2.071400171684252,
          -0.8901610880045564,
          -1.631023529489381,
          -2.0646645044892415,
          -2.1974487514281362,
          -1.1256688194688083,
          -0.8906468714684627,
          -1.6310302946151491,
          -2.0542142440840396,
          -1.6310248609794764,
          -1.8233083634204297,
          -2.313215798286354,
          -2.285154668536542,
          -2.058167855758037,
          -0.8907744386428841,
          -2.2382855634172243,
          -1.1260791162705934,
          -1.2671867126350402,
          -0.890579998519789,
          -1.6310193364134735,
          -1.6310970819001178,
          -1.125677261963557,
          -0.890579509528235,
          -1.324524080294133,
          -1.2882002577313663,
          -0.14426290225427887,
          -2.6915230697383365,
          -2.1793599072055967,
          -2.2852368916544172,
          -1.1255797502296623,
          -2.1973923853625488,
          -1.2479746844130222,
          -1.1256814422037653,
          -1.127221971441053,
          -0.8906954956015537,
          -2.056783846765346,
          -2.2855458388151786,
          -1.125676952554936,
          -2.186069626570872,
          -2.0646618030963215,
          -2.1984735473629984,
          -0.8906023636504946,
          -2.285152151453778,
          -0.6283960792831005,
          -2.2460039557055085,
          -2.222099553057407,
          -2.198358083017576,
          -2.2854090446933957,
          -2.191827148301205,
          -2.346097909121577,
          -2.207126986702093,
          -2.285335256428396,
          -1.2421265587080657,
          -2.218310166559297,
          -0.8905801789926608,
          -1.1256785915257126,
          -2.2387947813359625,
          -2.2424337027258923,
          -0.5618422295410316,
          -2.2273628310114004,
          -1.3245053691719628,
          -0.8905818877011772,
          -1.2421593273460265,
          -2.0660707624231787,
          -2.1983867481902806,
          -1.3245253921135958,
          -2.287804072587156,
          -2.2182833082343136,
          -2.2182427210567246,
          -0.15486562064203155,
          -2.195768445788552,
          -1.1257057980209175,
          -2.0647602928151145,
          -2.064665265524364,
          -1.5454879647768878,
          -1.3245288211989377,
          -0.3370327054325767,
          -1.3245593304457595,
          -1.1677972574948328,
          -1.6310546768804832,
          -2.221236368274767,
          -1.1257571353622937,
          -1.324532224512185,
          -1.1341759798429354,
          -1.2656549874782153,
          -1.1256696466901877,
          -1.1257173479130889,
          -1.8232358389394372,
          -2.228618553508154,
          -2.0540993084526353,
          -2.2853229199657203,
          -2.06466884997207
         ],
         "z": [
          0.17152567814178923,
          0.4113357537573218,
          0.017083356865812742,
          0.4666373647872229,
          0.4113065729158733,
          0.3708909232892244,
          0.3584249435487411,
          0.01711468697018576,
          0.04703981888067642,
          0.017106568611981888,
          0.36480463494762183,
          -0.032023233348356495,
          0.17144476981146442,
          0.017035338744661496,
          0.017103931068261413,
          0.07210659002866572,
          0.1631245730353503,
          0.017099966909464883,
          0.017114097206487443,
          0.017116125313499545,
          0.04704257452402148,
          0.35715610301163697,
          0.1612208471409155,
          0.010297782624376063,
          0.017108535127725068,
          0.01699243003901439,
          0.017107701730914544,
          0.017117815799794118,
          0.29462602637251906,
          0.016578717676652355,
          0.017084078627309263,
          0.017093547481041194,
          -0.03128148433814512,
          0.17152439343835343,
          0.017024221399343432,
          0.01710930670421578,
          0.017119096546850645,
          0.01709884287157413,
          0.3940246460506067,
          0.017116080127882294,
          0.014238804445726394,
          0.17152697446501494,
          0.016940606862998513,
          0.01711658188578474,
          0.017077885914985214,
          0.01710276756163355,
          0.17119313790075397,
          0.17151194474376544,
          0.1715209559356006,
          0.17152448529613357,
          0.17153553534104518,
          0.04704641774000943,
          0.017107368957154784,
          0.17634495040959278,
          0.01703715739463421,
          0.1715139658805795,
          0.3546377762488918,
          0.44894078105327656,
          0.017078559494888675,
          0.016736101426948397,
          0.01704255489013358,
          0.017119307748607933,
          0.017037378409419875,
          0.01666975567974309,
          0.5049012039775245,
          0.36572002488711086,
          0.22528283489296053,
          0.01711516690940632,
          0.01396690031884289,
          0.37322904970799947,
          0.017119387024129306,
          0.17152789823865186,
          0.005345850060544438,
          0.04702959428356778,
          0.4513919791152506,
          0.17152277756924297,
          0.04703777569496923,
          0.017079581837019884,
          0.017057003800100876,
          0.4113730753047218,
          0.4170378915708406,
          0.047038414009952435,
          0.17152443076344875,
          0.017007525762780275,
          0.49101058205155285,
          0.017080595491786876,
          0.1599356481798244,
          0.04701783114467208,
          0.3854885042212145,
          0.017097914403048836,
          0.4205893225800657,
          0.01711448891412095,
          0.04703816155128551,
          0.017119388642902664,
          0.04704314901623421,
          0.25626608133226353,
          0.45302204225487064,
          0.17153186628274836,
          0.3651866346747671,
          0.017046651722693675,
          0.17153058770370522,
          0.017111361264332426,
          0.4697347306615289,
          0.41136550259113963,
          0.3708916421904473,
          0.015760203211376812,
          0.04664815171354166,
          0.046992798790688045,
          0.45302341515801225,
          0.01711900739684404,
          0.4530194991205378,
          0.4514039398719813,
          0.034031103774276136,
          0.46661622096381905,
          0.01711802233582328,
          0.04690658700022168,
          0.37089162264992115,
          0.017066356733201254,
          0.45139575973125406,
          0.4902348257814076,
          0.01658177179177188,
          -0.0076610661343619645,
          0.017106934589518404,
          0.17068034367527615,
          0.01710494855092991,
          0.46660286819253183,
          0.4022197415586675,
          0.43038712660909845,
          0.32647807954416713,
          0.4520354109608554,
          0.047019834603746154,
          0.017109883989962774,
          0.01710802022334486,
          0.04702864936132043,
          0.04704342387617854,
          0.4530138357816983,
          0.3976046095347782,
          -0.07472032477773995,
          0.11763747746058835,
          0.046856375708405056,
          0.17152565034681796,
          0.015775768276057266,
          -0.04097991849414626,
          0.017113215968064175,
          0.017101876985389574,
          0.017093656876108258,
          0.017093222248149666,
          0.45301148959671,
          0.3660917958905608,
          0.0457184554929668,
          0.2947486550288776,
          0.370886933978497,
          0.3854608485537884,
          0.017066297176466166,
          0.04693093114890117,
          0.2947454538792988,
          0.41133848690552965,
          0.2947473637546282,
          0.3654663004207017,
          0.4343148347309096,
          0.45302307212588366,
          0.4098881146511986,
          0.04694389095358926,
          0.4663371753421499,
          0.014869290979236841,
          0.08708150761343586,
          0.047042656161438476,
          0.2947479272167438,
          0.2945680151132733,
          0.017093048988333408,
          0.047040520360268234,
          0.17152487530174382,
          0.10167997972519453,
          0.15403134205561902,
          0.3034608258437685,
          0.5119833826390506,
          0.4529290869335752,
          0.011777231473003486,
          0.38543825918083674,
          0.17597416042211028,
          0.017109542417372687,
          0.008876761782097365,
          0.046897075659074465,
          0.4104470579734857,
          0.45286600190242093,
          0.017115376860160746,
          0.42548381086771975,
          0.37085866222680036,
          0.4696910435227772,
          0.04702119054287558,
          0.4530176380830665,
          -0.007662025635620906,
          0.4514005475919617,
          0.4699454213134175,
          0.46973636200698177,
          0.45294967987986356,
          0.45386769074194133,
          0.41270201978149507,
          0.47505157279078497,
          0.45267097626017516,
          0.15349064893816491,
          0.47777819318539433,
          0.04704219220172766,
          0.01711631347580518,
          0.4664140645692669,
          0.37471385104271476,
          -0.0044945426885059266,
          0.3898411929871025,
          0.17041372679368622,
          0.04704167101239031,
          0.15348001509809514,
          0.3682033812825627,
          0.46972425465833323,
          0.17152565159610506,
          0.45123391793732665,
          0.4580630770452777,
          0.45806750436578136,
          0.1135304015299536,
          0.3966636305240083,
          0.01709002560693483,
          0.3708484792699003,
          0.37088243957865047,
          0.22526737189832516,
          0.17150621293531368,
          -0.1112041610477687,
          0.17147977296728864,
          0.004542655094872602,
          0.2926880339154448,
          0.4571718468757602,
          0.016674763614514754,
          0.1715209349991398,
          -0.001298256673711193,
          0.1631122367199885,
          0.017117025384151715,
          0.017068115410064408,
          0.36574476620471313,
          0.5285598262962693,
          0.4113664202139117,
          0.4524490673526948,
          0.37089095843938785
         ]
        },
        {
         "customdata": [
          [
           "BiblePay",
           "Proof-of-BibleHash"
          ],
          [
           "LitecoinCash",
           "SHA-256 + Hive"
          ],
          [
           "Poa Network",
           "Proof-of-Authority"
          ],
          [
           "Acute Angle Cloud",
           "ECC 256K1"
          ],
          [
           "Waves",
           "Leased POS"
          ]
         ],
         "hovertemplate": "<b>%{hovertext}</b><br><br>class=%{marker.color}<br>PC 1=%{x}<br>PC 2=%{y}<br>PC 3=%{z}<br>CoinName=%{customdata[0]}<br>Algorithm=%{customdata[1]}<extra></extra>",
         "hovertext": [
          "CoinName: BiblePay , Algorithm: Proof-of-BibleHash",
          "CoinName: LitecoinCash , Algorithm: SHA-256 + Hive",
          "CoinName: Poa Network , Algorithm: Proof-of-Authority",
          "CoinName: Acute Angle Cloud , Algorithm: ECC 256K1",
          "CoinName: Waves , Algorithm: Leased POS"
         ],
         "legendgroup": "1",
         "marker": {
          "color": [
           1,
           1,
           1,
           1,
           1
          ],
          "coloraxis": "coloraxis",
          "symbol": "square"
         },
         "mode": "markers",
         "name": "1",
         "scene": "scene",
         "showlegend": true,
         "type": "scatter3d",
         "x": [
          -0.1807028725197017,
          -0.3938790594006949,
          -0.39624073176775393,
          -0.30232377902571744,
          -0.45360348430972575
         ],
         "y": [
          3.5052980352998797,
          3.17983378264314,
          3.122690055207249,
          3.944373001611074,
          3.4499082051694794
         ],
         "z": [
          12.372505551187093,
          17.622643458764664,
          17.152522540060705,
          8.441780740515988,
          11.265678920611215
         ]
        },
        {
         "customdata": [
          [
           "BitTorrent",
           "TRC10"
          ]
         ],
         "hovertemplate": "<b>%{hovertext}</b><br><br>class=%{marker.color}<br>PC 1=%{x}<br>PC 2=%{y}<br>PC 3=%{z}<br>CoinName=%{customdata[0]}<br>Algorithm=%{customdata[1]}<extra></extra>",
         "hovertext": [
          "CoinName: BitTorrent , Algorithm: TRC10"
         ],
         "legendgroup": "2",
         "marker": {
          "color": [
           2
          ],
          "coloraxis": "coloraxis",
          "symbol": "x"
         },
         "mode": "markers",
         "name": "2",
         "scene": "scene",
         "showlegend": true,
         "type": "scatter3d",
         "x": [
          34.06882123037688
         ],
         "y": [
          1.7667564991062863
         ],
         "z": [
          -1.0160908509674293
         ]
        }
       ],
       "layout": {
        "coloraxis": {
         "colorbar": {
          "title": {
           "text": "class"
          }
         },
         "colorscale": [
          [
           0,
           "#0d0887"
          ],
          [
           0.1111111111111111,
           "#46039f"
          ],
          [
           0.2222222222222222,
           "#7201a8"
          ],
          [
           0.3333333333333333,
           "#9c179e"
          ],
          [
           0.4444444444444444,
           "#bd3786"
          ],
          [
           0.5555555555555556,
           "#d8576b"
          ],
          [
           0.6666666666666666,
           "#ed7953"
          ],
          [
           0.7777777777777778,
           "#fb9f3a"
          ],
          [
           0.8888888888888888,
           "#fdca26"
          ],
          [
           1,
           "#f0f921"
          ]
         ]
        },
        "legend": {
         "title": {
          "text": "class"
         },
         "tracegroupgap": 0,
         "x": 0,
         "y": 1
        },
        "margin": {
         "t": 60
        },
        "scene": {
         "domain": {
          "x": [
           0,
           1
          ],
          "y": [
           0,
           1
          ]
         },
         "xaxis": {
          "title": {
           "text": "PC 1"
          }
         },
         "yaxis": {
          "title": {
           "text": "PC 2"
          }
         },
         "zaxis": {
          "title": {
           "text": "PC 3"
          }
         }
        },
        "template": {
         "data": {
          "bar": [
           {
            "error_x": {
             "color": "#2a3f5f"
            },
            "error_y": {
             "color": "#2a3f5f"
            },
            "marker": {
             "line": {
              "color": "#E5ECF6",
              "width": 0.5
             }
            },
            "type": "bar"
           }
          ],
          "barpolar": [
           {
            "marker": {
             "line": {
              "color": "#E5ECF6",
              "width": 0.5
             }
            },
            "type": "barpolar"
           }
          ],
          "carpet": [
           {
            "aaxis": {
             "endlinecolor": "#2a3f5f",
             "gridcolor": "white",
             "linecolor": "white",
             "minorgridcolor": "white",
             "startlinecolor": "#2a3f5f"
            },
            "baxis": {
             "endlinecolor": "#2a3f5f",
             "gridcolor": "white",
             "linecolor": "white",
             "minorgridcolor": "white",
             "startlinecolor": "#2a3f5f"
            },
            "type": "carpet"
           }
          ],
          "choropleth": [
           {
            "colorbar": {
             "outlinewidth": 0,
             "ticks": ""
            },
            "type": "choropleth"
           }
          ],
          "contour": [
           {
            "colorbar": {
             "outlinewidth": 0,
             "ticks": ""
            },
            "colorscale": [
             [
              0,
              "#0d0887"
             ],
             [
              0.1111111111111111,
              "#46039f"
             ],
             [
              0.2222222222222222,
              "#7201a8"
             ],
             [
              0.3333333333333333,
              "#9c179e"
             ],
             [
              0.4444444444444444,
              "#bd3786"
             ],
             [
              0.5555555555555556,
              "#d8576b"
             ],
             [
              0.6666666666666666,
              "#ed7953"
             ],
             [
              0.7777777777777778,
              "#fb9f3a"
             ],
             [
              0.8888888888888888,
              "#fdca26"
             ],
             [
              1,
              "#f0f921"
             ]
            ],
            "type": "contour"
           }
          ],
          "contourcarpet": [
           {
            "colorbar": {
             "outlinewidth": 0,
             "ticks": ""
            },
            "type": "contourcarpet"
           }
          ],
          "heatmap": [
           {
            "colorbar": {
             "outlinewidth": 0,
             "ticks": ""
            },
            "colorscale": [
             [
              0,
              "#0d0887"
             ],
             [
              0.1111111111111111,
              "#46039f"
             ],
             [
              0.2222222222222222,
              "#7201a8"
             ],
             [
              0.3333333333333333,
              "#9c179e"
             ],
             [
              0.4444444444444444,
              "#bd3786"
             ],
             [
              0.5555555555555556,
              "#d8576b"
             ],
             [
              0.6666666666666666,
              "#ed7953"
             ],
             [
              0.7777777777777778,
              "#fb9f3a"
             ],
             [
              0.8888888888888888,
              "#fdca26"
             ],
             [
              1,
              "#f0f921"
             ]
            ],
            "type": "heatmap"
           }
          ],
          "heatmapgl": [
           {
            "colorbar": {
             "outlinewidth": 0,
             "ticks": ""
            },
            "colorscale": [
             [
              0,
              "#0d0887"
             ],
             [
              0.1111111111111111,
              "#46039f"
             ],
             [
              0.2222222222222222,
              "#7201a8"
             ],
             [
              0.3333333333333333,
              "#9c179e"
             ],
             [
              0.4444444444444444,
              "#bd3786"
             ],
             [
              0.5555555555555556,
              "#d8576b"
             ],
             [
              0.6666666666666666,
              "#ed7953"
             ],
             [
              0.7777777777777778,
              "#fb9f3a"
             ],
             [
              0.8888888888888888,
              "#fdca26"
             ],
             [
              1,
              "#f0f921"
             ]
            ],
            "type": "heatmapgl"
           }
          ],
          "histogram": [
           {
            "marker": {
             "colorbar": {
              "outlinewidth": 0,
              "ticks": ""
             }
            },
            "type": "histogram"
           }
          ],
          "histogram2d": [
           {
            "colorbar": {
             "outlinewidth": 0,
             "ticks": ""
            },
            "colorscale": [
             [
              0,
              "#0d0887"
             ],
             [
              0.1111111111111111,
              "#46039f"
             ],
             [
              0.2222222222222222,
              "#7201a8"
             ],
             [
              0.3333333333333333,
              "#9c179e"
             ],
             [
              0.4444444444444444,
              "#bd3786"
             ],
             [
              0.5555555555555556,
              "#d8576b"
             ],
             [
              0.6666666666666666,
              "#ed7953"
             ],
             [
              0.7777777777777778,
              "#fb9f3a"
             ],
             [
              0.8888888888888888,
              "#fdca26"
             ],
             [
              1,
              "#f0f921"
             ]
            ],
            "type": "histogram2d"
           }
          ],
          "histogram2dcontour": [
           {
            "colorbar": {
             "outlinewidth": 0,
             "ticks": ""
            },
            "colorscale": [
             [
              0,
              "#0d0887"
             ],
             [
              0.1111111111111111,
              "#46039f"
             ],
             [
              0.2222222222222222,
              "#7201a8"
             ],
             [
              0.3333333333333333,
              "#9c179e"
             ],
             [
              0.4444444444444444,
              "#bd3786"
             ],
             [
              0.5555555555555556,
              "#d8576b"
             ],
             [
              0.6666666666666666,
              "#ed7953"
             ],
             [
              0.7777777777777778,
              "#fb9f3a"
             ],
             [
              0.8888888888888888,
              "#fdca26"
             ],
             [
              1,
              "#f0f921"
             ]
            ],
            "type": "histogram2dcontour"
           }
          ],
          "mesh3d": [
           {
            "colorbar": {
             "outlinewidth": 0,
             "ticks": ""
            },
            "type": "mesh3d"
           }
          ],
          "parcoords": [
           {
            "line": {
             "colorbar": {
              "outlinewidth": 0,
              "ticks": ""
             }
            },
            "type": "parcoords"
           }
          ],
          "pie": [
           {
            "automargin": true,
            "type": "pie"
           }
          ],
          "scatter": [
           {
            "marker": {
             "colorbar": {
              "outlinewidth": 0,
              "ticks": ""
             }
            },
            "type": "scatter"
           }
          ],
          "scatter3d": [
           {
            "line": {
             "colorbar": {
              "outlinewidth": 0,
              "ticks": ""
             }
            },
            "marker": {
             "colorbar": {
              "outlinewidth": 0,
              "ticks": ""
             }
            },
            "type": "scatter3d"
           }
          ],
          "scattercarpet": [
           {
            "marker": {
             "colorbar": {
              "outlinewidth": 0,
              "ticks": ""
             }
            },
            "type": "scattercarpet"
           }
          ],
          "scattergeo": [
           {
            "marker": {
             "colorbar": {
              "outlinewidth": 0,
              "ticks": ""
             }
            },
            "type": "scattergeo"
           }
          ],
          "scattergl": [
           {
            "marker": {
             "colorbar": {
              "outlinewidth": 0,
              "ticks": ""
             }
            },
            "type": "scattergl"
           }
          ],
          "scattermapbox": [
           {
            "marker": {
             "colorbar": {
              "outlinewidth": 0,
              "ticks": ""
             }
            },
            "type": "scattermapbox"
           }
          ],
          "scatterpolar": [
           {
            "marker": {
             "colorbar": {
              "outlinewidth": 0,
              "ticks": ""
             }
            },
            "type": "scatterpolar"
           }
          ],
          "scatterpolargl": [
           {
            "marker": {
             "colorbar": {
              "outlinewidth": 0,
              "ticks": ""
             }
            },
            "type": "scatterpolargl"
           }
          ],
          "scatterternary": [
           {
            "marker": {
             "colorbar": {
              "outlinewidth": 0,
              "ticks": ""
             }
            },
            "type": "scatterternary"
           }
          ],
          "surface": [
           {
            "colorbar": {
             "outlinewidth": 0,
             "ticks": ""
            },
            "colorscale": [
             [
              0,
              "#0d0887"
             ],
             [
              0.1111111111111111,
              "#46039f"
             ],
             [
              0.2222222222222222,
              "#7201a8"
             ],
             [
              0.3333333333333333,
              "#9c179e"
             ],
             [
              0.4444444444444444,
              "#bd3786"
             ],
             [
              0.5555555555555556,
              "#d8576b"
             ],
             [
              0.6666666666666666,
              "#ed7953"
             ],
             [
              0.7777777777777778,
              "#fb9f3a"
             ],
             [
              0.8888888888888888,
              "#fdca26"
             ],
             [
              1,
              "#f0f921"
             ]
            ],
            "type": "surface"
           }
          ],
          "table": [
           {
            "cells": {
             "fill": {
              "color": "#EBF0F8"
             },
             "line": {
              "color": "white"
             }
            },
            "header": {
             "fill": {
              "color": "#C8D4E3"
             },
             "line": {
              "color": "white"
             }
            },
            "type": "table"
           }
          ]
         },
         "layout": {
          "annotationdefaults": {
           "arrowcolor": "#2a3f5f",
           "arrowhead": 0,
           "arrowwidth": 1
          },
          "autotypenumbers": "strict",
          "coloraxis": {
           "colorbar": {
            "outlinewidth": 0,
            "ticks": ""
           }
          },
          "colorscale": {
           "diverging": [
            [
             0,
             "#8e0152"
            ],
            [
             0.1,
             "#c51b7d"
            ],
            [
             0.2,
             "#de77ae"
            ],
            [
             0.3,
             "#f1b6da"
            ],
            [
             0.4,
             "#fde0ef"
            ],
            [
             0.5,
             "#f7f7f7"
            ],
            [
             0.6,
             "#e6f5d0"
            ],
            [
             0.7,
             "#b8e186"
            ],
            [
             0.8,
             "#7fbc41"
            ],
            [
             0.9,
             "#4d9221"
            ],
            [
             1,
             "#276419"
            ]
           ],
           "sequential": [
            [
             0,
             "#0d0887"
            ],
            [
             0.1111111111111111,
             "#46039f"
            ],
            [
             0.2222222222222222,
             "#7201a8"
            ],
            [
             0.3333333333333333,
             "#9c179e"
            ],
            [
             0.4444444444444444,
             "#bd3786"
            ],
            [
             0.5555555555555556,
             "#d8576b"
            ],
            [
             0.6666666666666666,
             "#ed7953"
            ],
            [
             0.7777777777777778,
             "#fb9f3a"
            ],
            [
             0.8888888888888888,
             "#fdca26"
            ],
            [
             1,
             "#f0f921"
            ]
           ],
           "sequentialminus": [
            [
             0,
             "#0d0887"
            ],
            [
             0.1111111111111111,
             "#46039f"
            ],
            [
             0.2222222222222222,
             "#7201a8"
            ],
            [
             0.3333333333333333,
             "#9c179e"
            ],
            [
             0.4444444444444444,
             "#bd3786"
            ],
            [
             0.5555555555555556,
             "#d8576b"
            ],
            [
             0.6666666666666666,
             "#ed7953"
            ],
            [
             0.7777777777777778,
             "#fb9f3a"
            ],
            [
             0.8888888888888888,
             "#fdca26"
            ],
            [
             1,
             "#f0f921"
            ]
           ]
          },
          "colorway": [
           "#636efa",
           "#EF553B",
           "#00cc96",
           "#ab63fa",
           "#FFA15A",
           "#19d3f3",
           "#FF6692",
           "#B6E880",
           "#FF97FF",
           "#FECB52"
          ],
          "font": {
           "color": "#2a3f5f"
          },
          "geo": {
           "bgcolor": "white",
           "lakecolor": "white",
           "landcolor": "#E5ECF6",
           "showlakes": true,
           "showland": true,
           "subunitcolor": "white"
          },
          "hoverlabel": {
           "align": "left"
          },
          "hovermode": "closest",
          "mapbox": {
           "style": "light"
          },
          "paper_bgcolor": "white",
          "plot_bgcolor": "#E5ECF6",
          "polar": {
           "angularaxis": {
            "gridcolor": "white",
            "linecolor": "white",
            "ticks": ""
           },
           "bgcolor": "#E5ECF6",
           "radialaxis": {
            "gridcolor": "white",
            "linecolor": "white",
            "ticks": ""
           }
          },
          "scene": {
           "xaxis": {
            "backgroundcolor": "#E5ECF6",
            "gridcolor": "white",
            "gridwidth": 2,
            "linecolor": "white",
            "showbackground": true,
            "ticks": "",
            "zerolinecolor": "white"
           },
           "yaxis": {
            "backgroundcolor": "#E5ECF6",
            "gridcolor": "white",
            "gridwidth": 2,
            "linecolor": "white",
            "showbackground": true,
            "ticks": "",
            "zerolinecolor": "white"
           },
           "zaxis": {
            "backgroundcolor": "#E5ECF6",
            "gridcolor": "white",
            "gridwidth": 2,
            "linecolor": "white",
            "showbackground": true,
            "ticks": "",
            "zerolinecolor": "white"
           }
          },
          "shapedefaults": {
           "line": {
            "color": "#2a3f5f"
           }
          },
          "ternary": {
           "aaxis": {
            "gridcolor": "white",
            "linecolor": "white",
            "ticks": ""
           },
           "baxis": {
            "gridcolor": "white",
            "linecolor": "white",
            "ticks": ""
           },
           "bgcolor": "#E5ECF6",
           "caxis": {
            "gridcolor": "white",
            "linecolor": "white",
            "ticks": ""
           }
          },
          "title": {
           "x": 0.05
          },
          "xaxis": {
           "automargin": true,
           "gridcolor": "white",
           "linecolor": "white",
           "ticks": "",
           "title": {
            "standoff": 15
           },
           "zerolinecolor": "white",
           "zerolinewidth": 2
          },
          "yaxis": {
           "automargin": true,
           "gridcolor": "white",
           "linecolor": "white",
           "ticks": "",
           "title": {
            "standoff": 15
           },
           "zerolinecolor": "white",
           "zerolinewidth": 2
          }
         }
        },
        "width": 800
       }
      },
      "text/html": [
       "<div>                            <div id=\"e73a8d16-6c70-42c9-85e2-471c556d2b37\" class=\"plotly-graph-div\" style=\"height:525px; width:800px;\"></div>            <script type=\"text/javascript\">                require([\"plotly\"], function(Plotly) {                    window.PLOTLYENV=window.PLOTLYENV || {};                                    if (document.getElementById(\"e73a8d16-6c70-42c9-85e2-471c556d2b37\")) {                    Plotly.newPlot(                        \"e73a8d16-6c70-42c9-85e2-471c556d2b37\",                        [{\"customdata\": [[\"42 Coin\", \"Scrypt\"], [\"404Coin\", \"Scrypt\"], [\"EliteCoin\", \"X13\"], [\"Dash\", \"X11\"], [\"Bitshares\", \"SHA-512\"], [\"BitcoinDark\", \"SHA-256\"], [\"PayCoin\", \"SHA-256\"], [\"KoboCoin\", \"X15\"], [\"Aurora Coin\", \"Scrypt\"], [\"BlueCoin\", \"Scrypt\"], [\"EnergyCoin\", \"Scrypt\"], [\"BitBar\", \"Scrypt\"], [\"CryptoBullion\", \"Scrypt\"], [\"CasinoCoin\", \"Scrypt\"], [\"Diamond\", \"Groestl\"], [\"Exclusive Coin\", \"PoS\"], [\"FlutterCoin\", \"Scrypt\"], [\"HoboNickels\", \"Scrypt\"], [\"HyperStake\", \"X11\"], [\"IOCoin\", \"X11\"], [\"MaxCoin\", \"SHA3\"], [\"MintCoin\", \"Scrypt\"], [\"MazaCoin\", \"SHA-256\"], [\"Nautilus Coin\", \"Scrypt\"], [\"NavCoin\", \"X13\"], [\"OpalCoin\", \"X13\"], [\"Orbitcoin\", \"NeoScrypt\"], [\"PotCoin\", \"Scrypt\"], [\"PhoenixCoin\", \"Scrypt\"], [\"Reddcoin\", \"Scrypt\"], [\"SuperCoin\", \"X11\"], [\"SyncCoin\", \"X11\"], [\"TeslaCoin\", \"Multiple\"], [\"TittieCoin\", \"PHI1612\"], [\"TorCoin\", \"X11\"], [\"UnitaryStatus Dollar\", \"Scrypt\"], [\"UltraCoin\", \"Scrypt\"], [\"VeriCoin\", \"Scrypt\"], [\"X11 Coin\", \"X11\"], [\"Crypti\", \"Multiple\"], [\"StealthCoin\", \"X13\"], [\"ZCC Coin\", \"Scrypt\"], [\"BurstCoin\", \"Shabal256\"], [\"StorjCoin\", \"Counterparty\"], [\"Neutron\", \"SHA-256\"], [\"FairCoin\", \"Groestl\"], [\"RubyCoin\", \"Scrypt\"], [\"Kore\", \"X13\"], [\"Dnotes\", \"Scrypt\"], [\"8BIT Coin\", \"Scrypt\"], [\"Sativa Coin\", \"X13\"], [\"Ucoin\", \"X11\"], [\"Vtorrent\", \"Scrypt\"], [\"IslaCoin\", \"X11\"], [\"Nexus\", \"SHA3\"], [\"Droidz\", \"QUAIT\"], [\"Squall Coin\", \"X11\"], [\"Diggits\", \"Scrypt\"], [\"Paycon\", \"X13\"], [\"Emercoin\", \"SHA-256\"], [\"EverGreenCoin\", \"X15\"], [\"Decred\", \"BLAKE256\"], [\"EDRCoin\", \"SHA-256\"], [\"Hitcoin\", \"X11\"], [\"DubaiCoin\", \"SHA-256\"], [\"PWR Coin\", \"NIST5\"], [\"BillaryCoin\", \"Scrypt\"], [\"GPU Coin\", \"Scrypt\"], [\"EuropeCoin\", \"X11\"], [\"ZeitCoin\", \"Scrypt\"], [\"SwingCoin\", \"SHA-256\"], [\"SafeExchangeCoin\", \"Scrypt\"], [\"Nebuchadnezzar\", \"PoS\"], [\"Ratecoin\", \"X11\"], [\"Revenu\", \"SHA-256\"], [\"Clockcoin\", \"SHA-256\"], [\"VIP Tokens\", \"NIST5\"], [\"BitSend\", \"X11\"], [\"Let it Ride\", \"POS 3.0\"], [\"PutinCoin\", \"Scrypt\"], [\"iBankCoin\", \"Scrypt\"], [\"Frankywillcoin\", \"Scrypt\"], [\"MudraCoin\", \"X13\"], [\"Lutetium Coin\", \"X11\"], [\"GoldBlocks\", \"X11\"], [\"CarterCoin\", \"Scrypt\"], [\"BitTokens\", \"SHA-256\"], [\"MustangCoin\", \"X11\"], [\"ZoneCoin\", \"Scrypt\"], [\"RootCoin\", \"Scrypt\"], [\"BitCurrency\", \"Scrypt\"], [\"Swiscoin\", \"Scrypt\"], [\"BuzzCoin\", \"SHA-256D\"], [\"Opair\", \"PoS\"], [\"PesoBit\", \"Scrypt\"], [\"Halloween Coin\", \"X11\"], [\"CoffeeCoin\", \"PoS\"], [\"RoyalCoin\", \"X13\"], [\"GanjaCoin V2\", \"X14\"], [\"TeamUP\", \"PoS\"], [\"LanaCoin\", \"SHA-256D\"], [\"ARK\", \"DPoS\"], [\"InsaneCoin\", \"X11\"], [\"EmberCoin\", \"X13\"], [\"XenixCoin\", \"X11\"], [\"FreeCoin\", \"PoS\"], [\"PLNCoin\", \"Scrypt\"], [\"AquariusCoin\", \"Scrypt\"], [\"Creatio\", \"PoS\"], [\"Eternity\", \"X11\"], [\"Eurocoin\", \"SHA-256\"], [\"BitcoinFast\", \"Scrypt\"], [\"Stakenet\", \"X11\"], [\"BitConnect Coin\", \"Scrypt\"], [\"MoneyCoin\", \"Scrypt\"], [\"Enigma\", \"X11\"], [\"Russiacoin\", \"Scrypt\"], [\"PandaCoin\", \"Scrypt\"], [\"GameUnits\", \"Scrypt\"], [\"GAKHcoin\", \"Scrypt\"], [\"Allsafe\", \"Quark\"], [\"LiteCreed\", \"QuBit\"], [\"Klingon Empire Darsek\", \"Scrypt\"], [\"Internet of People\", \"SHA-256\"], [\"KushCoin\", \"X11\"], [\"Printerium\", \"Scrypt\"], [\"Impeach\", \"Scrypt\"], [\"Zilbercoin\", \"Scrypt\"], [\"FirstCoin\", \"Scrypt\"], [\"FindCoin\", \"X13\"], [\"OpenChat\", \"Scrypt\"], [\"RenosCoin\", \"Scrypt\"], [\"VirtacoinPlus\", \"X11\"], [\"TajCoin\", \"Blake2S\"], [\"Impact\", \"X11\"], [\"Atmos\", \"PoS\"], [\"HappyCoin\", \"X11\"], [\"MacronCoin\", \"PoS\"], [\"Condensate\", \"X11\"], [\"Independent Money System\", \"Scrypt\"], [\"ArgusCoin\", \"Scrypt\"], [\"LomoCoin\", \"Scrypt\"], [\"ProCurrency\", \"SHA-256\"], [\"GoldReserve\", \"X11\"], [\"GrowthCoin\", \"Scrypt\"], [\"Phreak\", \"PoS\"], [\"Degas Coin\", \"Scrypt\"], [\"HTML5 Coin\", \"X15\"], [\"Ultimate Secure Cash\", \"SHA-256\"], [\"QTUM\", \"POS 3.0\"], [\"Espers\", \"536\"], [\"Denarius\", \"NIST5\"], [\"Virta Unique Coin\", \"NIST5\"], [\"Bitcoin Planet\", \"Skein\"], [\"BritCoin\", \"X13\"], [\"Linda\", \"Scrypt\"], [\"DeepOnion\", \"X13\"], [\"Signatum\", \"SkunkHash v2 Raptor\"], [\"Cream\", \"Skein\"], [\"Monoeci\", \"X11\"], [\"Draftcoin\", \"Scrypt\"], [\"Vechain\", \"VeChainThor Authority\"], [\"Stakecoin\", \"PoS\"], [\"CoinonatX\", \"Scrypt\"], [\"Ethereum Dark\", \"Scrypt\"], [\"Obsidian\", \"SHA-512\"], [\"Cardano\", \"Ouroboros\"], [\"Regalcoin\", \"X11\"], [\"TrezarCoin\", \"NeoScrypt\"], [\"TerraNovaCoin\", \"Scrypt\"], [\"Rupee\", \"Lyra2REv2\"], [\"WomenCoin\", \"Scrypt\"], [\"Theresa May Coin\", \"SHA-256\"], [\"NamoCoin\", \"NIST5\"], [\"LUXCoin\", \"PHI1612\"], [\"Xios\", \"Scrypt\"], [\"Bitcloud 2.0\", \"Quark\"], [\"KekCoin\", \"POS 2.0\"], [\"BlackholeCoin\", \"Scrypt\"], [\"Infinity Economics\", \"SHA-256\"], [\"Magnet\", \"X11\"], [\"Lamden Tau\", \"DPoS\"], [\"Electra\", \"NIST5\"], [\"Bitcoin Diamond\", \"X13\"], [\"Cash & Back Coin\", \"Scrypt\"], [\"Bulwark\", \"NIST5\"], [\"Kalkulus\", \"Quark\"], [\"GermanCoin\", \"Scrypt\"], [\"LiteCoin Ultra\", \"Scrypt\"], [\"PhantomX\", \"X11\"], [\"Digiwage\", \"Quark\"], [\"Trollcoin\", \"Scrypt\"], [\"Litecoin Plus\", \"Scrypt\"], [\"Monkey Project\", \"X11\"], [\"TokenPay\", \"POS 3.0\"], [\"My Big Coin\", \"Scrypt\"], [\"Unified Society USDEX\", \"Scrypt\"], [\"Tokyo Coin\", \"X13\"], [\"Stipend\", \"C11\"], [\"Pushi\", \"X11\"], [\"Ellerium\", \"XEVAN\"], [\"Velox\", \"Scrypt\"], [\"Ontology\", \"VBFT\"], [\"Bitspace\", \"NIST5\"], [\"Briacoin\", \"Scrypt\"], [\"Ignition\", \"Scrypt\"], [\"MedicCoin\", \"Scrypt\"], [\"Bitcoin Green\", \"Green Protocol\"], [\"Deviant Coin\", \"PoS\"], [\"Abjcoin\", \"Scrypt\"], [\"Semux\", \"Semux BFT consensus\"], [\"Carebit\", \"Quark\"], [\"Zealium\", \"PoS\"], [\"Proton\", \"X16R\"], [\"iDealCash\", \"Scrypt\"], [\"Bitcoin Incognito\", \"XEVAN\"], [\"HollyWoodCoin\", \"Scrypt\"], [\"Swisscoin\", \"Scrypt\"], [\"Xt3ch\", \"Scrypt\"], [\"TheVig\", \"SHA-256D\"], [\"EmaratCoin\", \"Scrypt\"], [\"Dekado\", \"X15\"], [\"Lynx\", \"Scrypt\"], [\"Poseidon Quark\", \"Quark\"], [\"BitcoinWSpectrum\", \"SHA-256\"], [\"Muse\", \"DPoS\"], [\"Trivechain\", \"X16R\"], [\"Dystem\", \"Quark\"], [\"Giant\", \"Quark\"], [\"Peony Coin\", \"Scrypt\"], [\"Absolute Coin\", \"Lyra2REv2\"], [\"Vitae\", \"Quark\"], [\"TPCash\", \"Scrypt\"], [\"ARENON\", \"X11\"], [\"EUNO\", \"X11\"], [\"MMOCoin\", \"Scrypt\"], [\"Ketan\", \"PoS\"], [\"XDNA\", \"Keccak\"], [\"PAXEX\", \"X11\"], [\"ThunderStake\", \"Scrypt\"], [\"Kcash\", \"SHA-512\"], [\"Bettex coin\", \"XEVAN\"], [\"BitMoney\", \"XEVAN\"], [\"Junson Ming Chan Coin\", \"X11\"], [\"HerbCoin\", \"Quark\"], [\"Oduwa\", \"Scrypt\"], [\"Galilel\", \"Quark\"], [\"Crypto Sports\", \"Quark\"], [\"Credit\", \"Scrypt\"], [\"Dash Platinum\", \"X11\"], [\"Nasdacoin\", \"Scrypt\"], [\"Beetle Coin\", \"XEVAN\"], [\"Titan Coin\", \"SHA-256D\"], [\"Award\", \"X11\"], [\"Insane Coin\", \"X11\"], [\"ALAX\", \"DPoS\"], [\"LiteDoge\", \"Scrypt\"], [\"TruckCoin\", \"X11\"], [\"OrangeCoin\", \"Scrypt\"], [\"BitstarCoin\", \"Scrypt\"], [\"NeosCoin\", \"SHA-256\"], [\"HyperCoin\", \"Scrypt\"], [\"PinkCoin\", \"X11\"], [\"AudioCoin\", \"Scrypt\"], [\"IncaKoin\", \"SHA-256\"], [\"Piggy Coin\", \"X11\"], [\"Genstake\", \"Scrypt\"], [\"XiaoMiCoin\", \"Scrypt\"], [\"CapriCoin\", \"X11\"], [\" ClubCoin\", \"Scrypt\"], [\"Radium\", \"PoS\"], [\"Creditbit \", \"X11\"], [\"OKCash\", \"SHA-256\"], [\"Lisk\", \"DPoS\"], [\"HiCoin\", \"Scrypt\"], [\"WhiteCoin\", \"Scrypt\"], [\"FriendshipCoin\", \"NeoScrypt\"], [\"Triangles Coin\", \"X13\"], [\"EOS\", \"DPoS\"], [\"Oxycoin\", \"DPoS\"], [\"TigerCash\", \"SHA-256\"], [\"Particl\", \"PoS\"], [\"Nxt\", \"PoS\"], [\"ZEPHYR\", \"SHA-256\"], [\"Gapcoin\", \"Scrypt\"], [\"BitcoinPlus\", \"Scrypt\"]], \"hovertemplate\": \"<b>%{hovertext}</b><br><br>class=%{marker.color}<br>PC 1=%{x}<br>PC 2=%{y}<br>PC 3=%{z}<br>CoinName=%{customdata[0]}<br>Algorithm=%{customdata[1]}<extra></extra>\", \"hovertext\": [\"CoinName: 42 Coin , Algorithm: Scrypt\", \"CoinName: 404Coin , Algorithm: Scrypt\", \"CoinName: EliteCoin , Algorithm: X13\", \"CoinName: Dash , Algorithm: X11\", \"CoinName: Bitshares , Algorithm: SHA-512\", \"CoinName: BitcoinDark , Algorithm: SHA-256\", \"CoinName: PayCoin , Algorithm: SHA-256\", \"CoinName: KoboCoin , Algorithm: X15\", \"CoinName: Aurora Coin , Algorithm: Scrypt\", \"CoinName: BlueCoin , Algorithm: Scrypt\", \"CoinName: EnergyCoin , Algorithm: Scrypt\", \"CoinName: BitBar , Algorithm: Scrypt\", \"CoinName: CryptoBullion , Algorithm: Scrypt\", \"CoinName: CasinoCoin , Algorithm: Scrypt\", \"CoinName: Diamond , Algorithm: Groestl\", \"CoinName: Exclusive Coin , Algorithm: PoS\", \"CoinName: FlutterCoin , Algorithm: Scrypt\", \"CoinName: HoboNickels , Algorithm: Scrypt\", \"CoinName: HyperStake , Algorithm: X11\", \"CoinName: IOCoin , Algorithm: X11\", \"CoinName: MaxCoin , Algorithm: SHA3\", \"CoinName: MintCoin , Algorithm: Scrypt\", \"CoinName: MazaCoin , Algorithm: SHA-256\", \"CoinName: Nautilus Coin , Algorithm: Scrypt\", \"CoinName: NavCoin , Algorithm: X13\", \"CoinName: OpalCoin , Algorithm: X13\", \"CoinName: Orbitcoin , Algorithm: NeoScrypt\", \"CoinName: PotCoin , Algorithm: Scrypt\", \"CoinName: PhoenixCoin , Algorithm: Scrypt\", \"CoinName: Reddcoin , Algorithm: Scrypt\", \"CoinName: SuperCoin , Algorithm: X11\", \"CoinName: SyncCoin , Algorithm: X11\", \"CoinName: TeslaCoin , Algorithm: Multiple\", \"CoinName: TittieCoin , Algorithm: PHI1612\", \"CoinName: TorCoin , Algorithm: X11\", \"CoinName: UnitaryStatus Dollar , Algorithm: Scrypt\", \"CoinName: UltraCoin , Algorithm: Scrypt\", \"CoinName: VeriCoin , Algorithm: Scrypt\", \"CoinName: X11 Coin , Algorithm: X11\", \"CoinName: Crypti , Algorithm: Multiple\", \"CoinName: StealthCoin , Algorithm: X13\", \"CoinName: ZCC Coin , Algorithm: Scrypt\", \"CoinName: BurstCoin , Algorithm: Shabal256\", \"CoinName: StorjCoin , Algorithm: Counterparty\", \"CoinName: Neutron , Algorithm: SHA-256\", \"CoinName: FairCoin , Algorithm: Groestl\", \"CoinName: RubyCoin , Algorithm: Scrypt\", \"CoinName: Kore , Algorithm: X13\", \"CoinName: Dnotes , Algorithm: Scrypt\", \"CoinName: 8BIT Coin , Algorithm: Scrypt\", \"CoinName: Sativa Coin , Algorithm: X13\", \"CoinName: Ucoin , Algorithm: X11\", \"CoinName: Vtorrent , Algorithm: Scrypt\", \"CoinName: IslaCoin , Algorithm: X11\", \"CoinName: Nexus , Algorithm: SHA3\", \"CoinName: Droidz , Algorithm: QUAIT\", \"CoinName: Squall Coin , Algorithm: X11\", \"CoinName: Diggits , Algorithm: Scrypt\", \"CoinName: Paycon , Algorithm: X13\", \"CoinName: Emercoin , Algorithm: SHA-256\", \"CoinName: EverGreenCoin , Algorithm: X15\", \"CoinName: Decred , Algorithm: BLAKE256\", \"CoinName: EDRCoin , Algorithm: SHA-256\", \"CoinName: Hitcoin , Algorithm: X11\", \"CoinName: DubaiCoin , Algorithm: SHA-256\", \"CoinName: PWR Coin , Algorithm: NIST5\", \"CoinName: BillaryCoin , Algorithm: Scrypt\", \"CoinName: GPU Coin , Algorithm: Scrypt\", \"CoinName: EuropeCoin , Algorithm: X11\", \"CoinName: ZeitCoin , Algorithm: Scrypt\", \"CoinName: SwingCoin , Algorithm: SHA-256\", \"CoinName: SafeExchangeCoin , Algorithm: Scrypt\", \"CoinName: Nebuchadnezzar , Algorithm: PoS\", \"CoinName: Ratecoin , Algorithm: X11\", \"CoinName: Revenu , Algorithm: SHA-256\", \"CoinName: Clockcoin , Algorithm: SHA-256\", \"CoinName: VIP Tokens , Algorithm: NIST5\", \"CoinName: BitSend , Algorithm: X11\", \"CoinName: Let it Ride , Algorithm: POS 3.0\", \"CoinName: PutinCoin , Algorithm: Scrypt\", \"CoinName: iBankCoin , Algorithm: Scrypt\", \"CoinName: Frankywillcoin , Algorithm: Scrypt\", \"CoinName: MudraCoin , Algorithm: X13\", \"CoinName: Lutetium Coin , Algorithm: X11\", \"CoinName: GoldBlocks , Algorithm: X11\", \"CoinName: CarterCoin , Algorithm: Scrypt\", \"CoinName: BitTokens , Algorithm: SHA-256\", \"CoinName: MustangCoin , Algorithm: X11\", \"CoinName: ZoneCoin , Algorithm: Scrypt\", \"CoinName: RootCoin , Algorithm: Scrypt\", \"CoinName: BitCurrency , Algorithm: Scrypt\", \"CoinName: Swiscoin , Algorithm: Scrypt\", \"CoinName: BuzzCoin , Algorithm: SHA-256D\", \"CoinName: Opair , Algorithm: PoS\", \"CoinName: PesoBit , Algorithm: Scrypt\", \"CoinName: Halloween Coin , Algorithm: X11\", \"CoinName: CoffeeCoin , Algorithm: PoS\", \"CoinName: RoyalCoin , Algorithm: X13\", \"CoinName: GanjaCoin V2 , Algorithm: X14\", \"CoinName: TeamUP , Algorithm: PoS\", \"CoinName: LanaCoin , Algorithm: SHA-256D\", \"CoinName: ARK , Algorithm: DPoS\", \"CoinName: InsaneCoin , Algorithm: X11\", \"CoinName: EmberCoin , Algorithm: X13\", \"CoinName: XenixCoin , Algorithm: X11\", \"CoinName: FreeCoin , Algorithm: PoS\", \"CoinName: PLNCoin , Algorithm: Scrypt\", \"CoinName: AquariusCoin , Algorithm: Scrypt\", \"CoinName: Creatio , Algorithm: PoS\", \"CoinName: Eternity , Algorithm: X11\", \"CoinName: Eurocoin , Algorithm: SHA-256\", \"CoinName: BitcoinFast , Algorithm: Scrypt\", \"CoinName: Stakenet , Algorithm: X11\", \"CoinName: BitConnect Coin , Algorithm: Scrypt\", \"CoinName: MoneyCoin , Algorithm: Scrypt\", \"CoinName: Enigma , Algorithm: X11\", \"CoinName: Russiacoin , Algorithm: Scrypt\", \"CoinName: PandaCoin , Algorithm: Scrypt\", \"CoinName: GameUnits , Algorithm: Scrypt\", \"CoinName: GAKHcoin , Algorithm: Scrypt\", \"CoinName: Allsafe , Algorithm: Quark\", \"CoinName: LiteCreed , Algorithm: QuBit\", \"CoinName: Klingon Empire Darsek , Algorithm: Scrypt\", \"CoinName: Internet of People , Algorithm: SHA-256\", \"CoinName: KushCoin , Algorithm: X11\", \"CoinName: Printerium , Algorithm: Scrypt\", \"CoinName: Impeach , Algorithm: Scrypt\", \"CoinName: Zilbercoin , Algorithm: Scrypt\", \"CoinName: FirstCoin , Algorithm: Scrypt\", \"CoinName: FindCoin , Algorithm: X13\", \"CoinName: OpenChat , Algorithm: Scrypt\", \"CoinName: RenosCoin , Algorithm: Scrypt\", \"CoinName: VirtacoinPlus , Algorithm: X11\", \"CoinName: TajCoin , Algorithm: Blake2S\", \"CoinName: Impact , Algorithm: X11\", \"CoinName: Atmos , Algorithm: PoS\", \"CoinName: HappyCoin , Algorithm: X11\", \"CoinName: MacronCoin , Algorithm: PoS\", \"CoinName: Condensate , Algorithm: X11\", \"CoinName: Independent Money System , Algorithm: Scrypt\", \"CoinName: ArgusCoin , Algorithm: Scrypt\", \"CoinName: LomoCoin , Algorithm: Scrypt\", \"CoinName: ProCurrency , Algorithm: SHA-256\", \"CoinName: GoldReserve , Algorithm: X11\", \"CoinName: GrowthCoin , Algorithm: Scrypt\", \"CoinName: Phreak , Algorithm: PoS\", \"CoinName: Degas Coin , Algorithm: Scrypt\", \"CoinName: HTML5 Coin , Algorithm: X15\", \"CoinName: Ultimate Secure Cash , Algorithm: SHA-256\", \"CoinName: QTUM , Algorithm: POS 3.0\", \"CoinName: Espers , Algorithm: 536\", \"CoinName: Denarius , Algorithm: NIST5\", \"CoinName: Virta Unique Coin , Algorithm: NIST5\", \"CoinName: Bitcoin Planet , Algorithm: Skein\", \"CoinName: BritCoin , Algorithm: X13\", \"CoinName: Linda , Algorithm: Scrypt\", \"CoinName: DeepOnion , Algorithm: X13\", \"CoinName: Signatum , Algorithm: SkunkHash v2 Raptor\", \"CoinName: Cream , Algorithm: Skein\", \"CoinName: Monoeci , Algorithm: X11\", \"CoinName: Draftcoin , Algorithm: Scrypt\", \"CoinName: Vechain , Algorithm: VeChainThor Authority\", \"CoinName: Stakecoin , Algorithm: PoS\", \"CoinName: CoinonatX , Algorithm: Scrypt\", \"CoinName: Ethereum Dark , Algorithm: Scrypt\", \"CoinName: Obsidian , Algorithm: SHA-512\", \"CoinName: Cardano , Algorithm: Ouroboros\", \"CoinName: Regalcoin , Algorithm: X11\", \"CoinName: TrezarCoin , Algorithm: NeoScrypt\", \"CoinName: TerraNovaCoin , Algorithm: Scrypt\", \"CoinName: Rupee , Algorithm: Lyra2REv2\", \"CoinName: WomenCoin , Algorithm: Scrypt\", \"CoinName: Theresa May Coin , Algorithm: SHA-256\", \"CoinName: NamoCoin , Algorithm: NIST5\", \"CoinName: LUXCoin , Algorithm: PHI1612\", \"CoinName: Xios , Algorithm: Scrypt\", \"CoinName: Bitcloud 2.0 , Algorithm: Quark\", \"CoinName: KekCoin , Algorithm: POS 2.0\", \"CoinName: BlackholeCoin , Algorithm: Scrypt\", \"CoinName: Infinity Economics , Algorithm: SHA-256\", \"CoinName: Magnet , Algorithm: X11\", \"CoinName: Lamden Tau , Algorithm: DPoS\", \"CoinName: Electra , Algorithm: NIST5\", \"CoinName: Bitcoin Diamond , Algorithm: X13\", \"CoinName: Cash & Back Coin , Algorithm: Scrypt\", \"CoinName: Bulwark , Algorithm: NIST5\", \"CoinName: Kalkulus , Algorithm: Quark\", \"CoinName: GermanCoin , Algorithm: Scrypt\", \"CoinName: LiteCoin Ultra , Algorithm: Scrypt\", \"CoinName: PhantomX , Algorithm: X11\", \"CoinName: Digiwage , Algorithm: Quark\", \"CoinName: Trollcoin , Algorithm: Scrypt\", \"CoinName: Litecoin Plus , Algorithm: Scrypt\", \"CoinName: Monkey Project , Algorithm: X11\", \"CoinName: TokenPay , Algorithm: POS 3.0\", \"CoinName: My Big Coin , Algorithm: Scrypt\", \"CoinName: Unified Society USDEX , Algorithm: Scrypt\", \"CoinName: Tokyo Coin , Algorithm: X13\", \"CoinName: Stipend , Algorithm: C11\", \"CoinName: Pushi , Algorithm: X11\", \"CoinName: Ellerium , Algorithm: XEVAN\", \"CoinName: Velox , Algorithm: Scrypt\", \"CoinName: Ontology , Algorithm: VBFT\", \"CoinName: Bitspace , Algorithm: NIST5\", \"CoinName: Briacoin , Algorithm: Scrypt\", \"CoinName: Ignition , Algorithm: Scrypt\", \"CoinName: MedicCoin , Algorithm: Scrypt\", \"CoinName: Bitcoin Green , Algorithm: Green Protocol\", \"CoinName: Deviant Coin , Algorithm: PoS\", \"CoinName: Abjcoin , Algorithm: Scrypt\", \"CoinName: Semux , Algorithm: Semux BFT consensus\", \"CoinName: Carebit , Algorithm: Quark\", \"CoinName: Zealium , Algorithm: PoS\", \"CoinName: Proton , Algorithm: X16R\", \"CoinName: iDealCash , Algorithm: Scrypt\", \"CoinName: Bitcoin Incognito , Algorithm: XEVAN\", \"CoinName: HollyWoodCoin , Algorithm: Scrypt\", \"CoinName: Swisscoin , Algorithm: Scrypt\", \"CoinName: Xt3ch , Algorithm: Scrypt\", \"CoinName: TheVig , Algorithm: SHA-256D\", \"CoinName: EmaratCoin , Algorithm: Scrypt\", \"CoinName: Dekado , Algorithm: X15\", \"CoinName: Lynx , Algorithm: Scrypt\", \"CoinName: Poseidon Quark , Algorithm: Quark\", \"CoinName: BitcoinWSpectrum , Algorithm: SHA-256\", \"CoinName: Muse , Algorithm: DPoS\", \"CoinName: Trivechain , Algorithm: X16R\", \"CoinName: Dystem , Algorithm: Quark\", \"CoinName: Giant , Algorithm: Quark\", \"CoinName: Peony Coin , Algorithm: Scrypt\", \"CoinName: Absolute Coin , Algorithm: Lyra2REv2\", \"CoinName: Vitae , Algorithm: Quark\", \"CoinName: TPCash , Algorithm: Scrypt\", \"CoinName: ARENON , Algorithm: X11\", \"CoinName: EUNO , Algorithm: X11\", \"CoinName: MMOCoin , Algorithm: Scrypt\", \"CoinName: Ketan , Algorithm: PoS\", \"CoinName: XDNA , Algorithm: Keccak\", \"CoinName: PAXEX , Algorithm: X11\", \"CoinName: ThunderStake , Algorithm: Scrypt\", \"CoinName: Kcash , Algorithm: SHA-512\", \"CoinName: Bettex coin , Algorithm: XEVAN\", \"CoinName: BitMoney , Algorithm: XEVAN\", \"CoinName: Junson Ming Chan Coin , Algorithm: X11\", \"CoinName: HerbCoin , Algorithm: Quark\", \"CoinName: Oduwa , Algorithm: Scrypt\", \"CoinName: Galilel , Algorithm: Quark\", \"CoinName: Crypto Sports , Algorithm: Quark\", \"CoinName: Credit , Algorithm: Scrypt\", \"CoinName: Dash Platinum , Algorithm: X11\", \"CoinName: Nasdacoin , Algorithm: Scrypt\", \"CoinName: Beetle Coin , Algorithm: XEVAN\", \"CoinName: Titan Coin , Algorithm: SHA-256D\", \"CoinName: Award , Algorithm: X11\", \"CoinName: Insane Coin , Algorithm: X11\", \"CoinName: ALAX , Algorithm: DPoS\", \"CoinName: LiteDoge , Algorithm: Scrypt\", \"CoinName: TruckCoin , Algorithm: X11\", \"CoinName: OrangeCoin , Algorithm: Scrypt\", \"CoinName: BitstarCoin , Algorithm: Scrypt\", \"CoinName: NeosCoin , Algorithm: SHA-256\", \"CoinName: HyperCoin , Algorithm: Scrypt\", \"CoinName: PinkCoin , Algorithm: X11\", \"CoinName: AudioCoin , Algorithm: Scrypt\", \"CoinName: IncaKoin , Algorithm: SHA-256\", \"CoinName: Piggy Coin , Algorithm: X11\", \"CoinName: Genstake , Algorithm: Scrypt\", \"CoinName: XiaoMiCoin , Algorithm: Scrypt\", \"CoinName: CapriCoin , Algorithm: X11\", \"CoinName:  ClubCoin , Algorithm: Scrypt\", \"CoinName: Radium , Algorithm: PoS\", \"CoinName: Creditbit  , Algorithm: X11\", \"CoinName: OKCash , Algorithm: SHA-256\", \"CoinName: Lisk , Algorithm: DPoS\", \"CoinName: HiCoin , Algorithm: Scrypt\", \"CoinName: WhiteCoin , Algorithm: Scrypt\", \"CoinName: FriendshipCoin , Algorithm: NeoScrypt\", \"CoinName: Triangles Coin , Algorithm: X13\", \"CoinName: EOS , Algorithm: DPoS\", \"CoinName: Oxycoin , Algorithm: DPoS\", \"CoinName: TigerCash , Algorithm: SHA-256\", \"CoinName: Particl , Algorithm: PoS\", \"CoinName: Nxt , Algorithm: PoS\", \"CoinName: ZEPHYR , Algorithm: SHA-256\", \"CoinName: Gapcoin , Algorithm: Scrypt\", \"CoinName: BitcoinPlus , Algorithm: Scrypt\"], \"legendgroup\": \"0\", \"marker\": {\"color\": [0, 0, 0, 0, 0, 0, 0, 0, 0, 0, 0, 0, 0, 0, 0, 0, 0, 0, 0, 0, 0, 0, 0, 0, 0, 0, 0, 0, 0, 0, 0, 0, 0, 0, 0, 0, 0, 0, 0, 0, 0, 0, 0, 0, 0, 0, 0, 0, 0, 0, 0, 0, 0, 0, 0, 0, 0, 0, 0, 0, 0, 0, 0, 0, 0, 0, 0, 0, 0, 0, 0, 0, 0, 0, 0, 0, 0, 0, 0, 0, 0, 0, 0, 0, 0, 0, 0, 0, 0, 0, 0, 0, 0, 0, 0, 0, 0, 0, 0, 0, 0, 0, 0, 0, 0, 0, 0, 0, 0, 0, 0, 0, 0, 0, 0, 0, 0, 0, 0, 0, 0, 0, 0, 0, 0, 0, 0, 0, 0, 0, 0, 0, 0, 0, 0, 0, 0, 0, 0, 0, 0, 0, 0, 0, 0, 0, 0, 0, 0, 0, 0, 0, 0, 0, 0, 0, 0, 0, 0, 0, 0, 0, 0, 0, 0, 0, 0, 0, 0, 0, 0, 0, 0, 0, 0, 0, 0, 0, 0, 0, 0, 0, 0, 0, 0, 0, 0, 0, 0, 0, 0, 0, 0, 0, 0, 0, 0, 0, 0, 0, 0, 0, 0, 0, 0, 0, 0, 0, 0, 0, 0, 0, 0, 0, 0, 0, 0, 0, 0, 0, 0, 0, 0, 0, 0, 0, 0, 0, 0, 0, 0, 0, 0, 0, 0, 0, 0, 0, 0, 0, 0, 0, 0, 0, 0, 0, 0, 0, 0, 0, 0, 0, 0, 0, 0, 0, 0, 0, 0, 0, 0, 0, 0, 0, 0, 0, 0, 0, 0, 0, 0, 0, 0, 0, 0, 0, 0, 0, 0, 0, 0, 0, 0, 0, 0, 0], \"coloraxis\": \"coloraxis\", \"symbol\": \"circle\"}, \"mode\": \"markers\", \"name\": \"0\", \"scene\": \"scene\", \"showlegend\": true, \"type\": \"scatter3d\", \"x\": [-0.3335422256039988, -0.31687542450649814, 2.2907159828698753, -0.39269373044630507, -0.19873332652867434, -0.3174090102235645, -0.2615182453721942, -0.24766128491123401, -0.3332017343731664, -0.325776259563653, -0.3320381885054982, -0.3335381621885572, -0.3335224389674603, 0.7010683239976473, -0.3804145102047653, -0.350891708709263, -0.29003044005716944, -0.3316007120315442, -0.31661840432360705, -0.39258838395229684, -0.4249446381619383, -0.01746679128061108, -0.2807103748929818, -0.27740255446845286, -0.2929765349955361, -0.2935989956481363, -0.3642798550112956, -0.32784391064012414, -0.33194372643233716, 0.024744144090406858, -0.33651305632518314, -0.39296001546330067, -0.24247702260432075, -0.31467250977273, -0.39287166061968476, -0.3087708824576626, -0.33221949973479453, -0.2617758397885998, -0.3928361037351705, -0.24294453819030734, -0.2933797704166633, -0.3246458677870944, 0.08206466736589516, -0.3024994592642711, -0.31662059572831597, -0.3798358210741367, -0.27738273919095746, -0.29367446238515427, -0.27203667353838024, -0.3335242868874605, -0.2936266202452888, -0.3369581632800404, -0.3332586435679764, -0.3929415368840842, -0.4264479551431505, -0.42270788715711094, -0.39495977267408344, -0.27578404264342743, -0.29314822907091487, -0.30996676180214205, -0.25010238311421434, -0.07272559461177261, -0.31737991241082164, -0.07038872169236317, -0.31744358514340887, -0.2448772264228794, -0.33313456445980527, -0.2756535345154572, -0.3901111790137415, 0.8758155736145693, -0.3172436889315177, -0.029840081612175506, -0.35057493691562286, -0.39078397055941794, -0.3159874794432359, -0.31365601876482635, -0.3662853193268808, -0.3916767918231409, -0.3218630031137134, -0.3094295177589127, -0.33317268719012344, -0.3316112889000498, -0.23647834457338632, -0.32444653120611744, -0.39241543654800387, -0.3323767803446417, -0.31742457282563896, -0.3929307365005754, -0.3333618293646191, -0.33351851765353624, -0.27564219499890596, -0.20962498431320642, 0.0065206582676890276, -0.34953181748069734, -0.333132518544671, -0.37909371627604393, -0.34886004470092147, -0.23790871025399232, -0.4171680812984778, -0.34860996253998716, -0.3080807925896523, 3.719908587909961, -0.39252322644437343, 0.8389942578415681, -0.39288563160360673, -0.3499956556611397, -0.33306020367229305, -0.3332146064675226, -0.35057493691562286, -0.3924605975956969, -0.31728718612475637, -0.33306091688327755, -0.3327717008557813, -0.3332083464211445, -0.3287971747608448, -0.39291464193890313, -0.33241921074588143, 0.36599430160144963, -0.3334076409802653, -0.33347820060127586, -0.3514643199473196, -0.36097794057086535, -0.32970549617731987, -0.317400976986977, -0.3928245750755074, -0.33325599138350165, -0.33338300382814734, -0.277289439252744, -0.2891161448401583, -0.23767652027995903, -0.31423285126555867, -0.27703038009287156, -0.3920903991487019, -0.44409602231532525, -0.3908283012517681, -0.348821155647295, -0.3919882430915358, -0.3432200024075332, -0.38792924462426975, -0.33332626445532615, -0.333325484718244, -0.32644845075420664, 0.27105025670210187, -0.39246666668668706, -0.2599325903650781, -0.35060928643183487, -0.33253698098349377, 0.8843584567443101, -0.2602089044170635, -0.32064113583349513, 0.5534936091473446, -0.3678212577423335, -0.3663233362271643, -0.45504599215379143, -0.2933116699386928, 0.1313855399339098, -0.29338242487735633, -0.310397082913897, -0.4545506775152999, -0.392739034699905, -0.2773635156216631, 4.356491675640189, -0.3504756376732784, -0.33296142522801914, -0.3334611270393656, -0.2568063608083596, 0.668325133762682, -0.3926799110120013, -0.35927871740220146, -0.33341677209268195, -0.3060762410124883, 0.43590702947248583, -0.3157469062522469, -0.35258687674195033, -0.4061022188633641, -0.3333671125900097, -0.4057335457120034, -0.32228740915468107, -0.3332374337863362, -0.08796906846800705, -0.3914725610423054, 3.7247650071515186, 0.19177301620832604, -0.29005272304323315, -0.3306974883345018, -0.31175752379779176, -0.351350198347881, 0.08086794751206935, -0.3323761771977158, -0.39205354753580185, -0.35051501153317133, -0.31994001925727544, -0.33348326665053557, -0.3369300855610218, -0.32214499833089466, -0.2733529955333946, -0.3290276651443734, -0.22947220748789357, -0.361294277655956, -0.3927563507608867, -0.3670913537783311, -0.2765236004284533, -0.3142890360704088, -0.36742022140712316, -0.3335106282801645, -0.33349234015330625, -0.2709043129800959, -0.2626658912206214, -0.35007004060788804, -0.33320883983278554, 3.92454063483087, -0.40440103651471654, -0.35025875268665335, -0.30127419315713944, -0.28007834641476653, -0.36924337879318436, -0.27705763745979134, -0.1365865998907592, -0.2773098712568122, -0.3733916889626597, -0.332682881698223, -0.19361888029945812, 2.2589595569063587, -0.34705900056416134, -0.2603362704800717, 1.0236176115644668, -0.35643788023632467, -0.3514637801837765, -0.40741757149716334, -0.15806246306522648, -0.361831862475798, -0.3501831222512962, -0.3263885179005184, -0.33650746274603316, -0.3922295779070051, -0.2745551285296915, -0.34935872130871404, -0.35516035064492835, -0.33636896980567316, -0.19300980816510782, -0.14509918207767147, -0.3112571547319156, 0.37802941162791687, -0.12679808783245494, -0.40671211714263644, -0.33321277852578957, -0.4071682758908475, -0.35158077264935644, 0.5733579998079501, -0.33698441710021587, -0.332695748855017, -0.36154654114936285, -0.3281132923102151, -0.3897947560775919, -0.39245682409156374, 3.7370095904294485, 0.10174904247537023, -0.38999536648496147, -0.33208146343112777, -0.33290619681588335, -0.2615509228217409, -0.3334245166784142, -0.3840832169271145, -0.24713551706208564, -0.09697991148241453, -0.37983190586996596, -0.33270260882227987, -0.3257657216413965, -0.3890247861729536, -0.33114176349029834, -0.3508506332767557, -0.35999849251286364, -0.31592381690731436, 3.7203004169082874, -0.08455561426481932, -0.32833598796271624, -0.3639057922821656, -0.29378166127814986, 3.730173014833974, 3.7314176464423965, -0.24244406954126782, -0.35078647271011704, -0.41658486980916076, 2.471298440283865, -0.33158782729235714, -0.27770632411818663], \"y\": [1.037641727011594, 1.0378760236713838, 1.7041344658351296, 1.2727326045669753, 1.0346770097523454, 0.8387782923902745, 0.5853122412991918, 1.8413005215892426, 1.037642477331643, 1.0379204745199653, 1.037695712152842, 1.0376415308483837, 1.0376417531673428, 0.321807584534559, 0.8976689841641338, 1.5155440275248895, 0.27543627421942957, 1.0376293246156407, 1.019999598498448, 1.2727363858183427, 2.227188846547259, 0.7935081081323483, 0.838455647511972, 0.7841670427813158, 1.8263081163190673, 1.826285774045461, 0.5322974790829592, 1.0375589440425594, 1.03763206248726, 1.0505018685890988, 1.0192855103766414, 1.2727380958384529, 0.08659275434757932, 1.6064349331494663, 1.2727344270440442, 1.0374363220495344, 1.0376207958580186, 0.3432025834242217, 1.2727387816823037, 0.08664438199569187, 1.8262936428000283, 1.0372769641507422, 0.4914007384243105, 1.40480268967729, 0.8387751234568904, 0.8976927516140261, 0.7841788225004059, 1.826274856273649, 0.7840286693277481, 1.0376423709231333, 1.826277941662234, 1.0192558522618247, 1.037638224102931, 1.272738759782891, 2.691506450691718, 1.8893837954956905, 1.0475836501540134, 0.784167796863738, 1.8262677494199857, 0.8383763863159425, 1.841434341477284, 0.9215920117489663, 0.8387793368117825, 1.266153868380795, 0.8387849183430013, 1.5393324050855617, 1.0376276278836567, 0.7840896710782357, 1.2725776628752778, 0.7578467917579951, 0.8387719128323623, 0.32146704745594235, 1.51554171588311, 1.2727648960239135, 0.8386920032928685, 0.8385689060025056, 1.534913079615353, 1.2726890681899947, 1.4498758749204348, 1.0371390477205813, 1.0376246633306296, 1.0376426266561953, 1.5727205522309826, 1.0192691766268698, 1.2727234391475308, 1.0376219913514946, 0.8387784178785167, 1.2727370951939834, 1.0376338363224407, 1.0376425780009655, 0.7842412966735115, 0.2812321926697894, 1.9642196315384453, 1.515542216521751, 1.0376564328489246, 1.2722096800541447, 1.515589587706397, 1.5728043179572477, 1.9070395177602095, 1.5154200180153858, 1.9614744395444073, 1.706949449624582, 1.2727332518750545, 1.8663570061044785, 1.27273813041807, 1.5155419857766046, 1.0376326638812803, 1.0376247548981454, 1.51554171588311, 1.2727149773202187, 0.8387840332481838, 1.0376364281073223, 0.8181753717640836, 1.0376345567696978, 1.0373669373704735, 1.2727363047155646, 1.0375835278381829, 0.7850289217172014, 1.0376376646569592, 1.0376417568415448, 1.4397141956158537, 0.6178401611370103, 1.037437398551072, 0.8387792648150757, 1.2727365590259747, 1.0376383192990386, 1.0376324378192177, 0.7841445467360918, 0.34995369820787303, 1.5728044261371052, 1.0376507234610142, 0.7841679193245877, 1.2727009016654092, 1.952811850209155, 1.2727393618995837, 1.515542899211069, 1.272704568400921, 1.5155457580736702, 1.272576626324519, 1.0376349677619003, 1.0376299418191535, 1.037212263190641, 0.5531302205696209, 1.2727284411605564, 0.783437000809332, 1.515533642119193, 1.0376059799336412, 1.8206045043154808, 0.5852309147312463, 1.4498742403890648, 1.9266382396018873, 1.534912676178156, 1.5348911925352087, 1.925770289946546, 1.8262755646409616, 1.0201253957725063, 1.8262806195734163, 1.3299622562860507, 1.9257880685083355, 1.2727395245167494, 0.784167605408425, 2.696628655930618, 1.5155168222049145, 1.0376295655582077, 1.037641764796305, 1.0349931421050524, 1.5198618002104487, 1.2727296801741763, 0.5322059326477435, 1.0376354670801176, 0.6620523747850868, 1.0481578304872794, 0.8387845925153459, 1.5346454309719038, 1.860164215243034, 1.0376336466891416, 1.6931183926222093, 1.5250638990115366, 1.0376425506529101, 0.5853933182736647, 1.2726929783214065, 1.7068672318492553, 1.5344827764407754, 1.8262694044282783, 1.0376001768846737, 1.281434215433875, 1.4397148714159447, 1.0183121440158118, 1.0375809679572867, 1.272736428600425, 1.43967644076455, 1.0375142817955727, 1.0376411069456164, 1.0192561759845735, 1.449871567847643, 0.3109474167405925, 1.037645062786332, 1.5725615763793477, 0.8751124645628163, 1.272728304654348, 1.6015273797627563, 0.7841248335502651, 1.507797991408544, 1.5348997074022037, 1.0376408089258007, 1.0376400971820499, 0.7840693136790143, 1.3802932400769485, 1.515513320648594, 1.0376331708913331, 1.7474231181778777, 1.693166221002918, 1.5155120197894316, 0.6676985702586331, 1.0360568861013482, 1.3763941472522787, 0.7841727053446765, 1.0377334907991596, 0.7841513382851335, 1.9641965312605503, 1.0376151088156516, 1.5879394894883867, 0.2692308116137391, 1.4394379244466182, 0.5852946297561373, 1.5579220142814916, 0.9211715324877031, 1.4397101104855168, 1.6931912401847768, 0.7769143025811674, 0.9155102790444702, 1.4397020351040648, 1.0372144143888082, 1.0192480865266405, 1.2727301102593387, 0.7841024534086289, 1.5154553941128883, 0.9688413816303636, 1.0192222737365948, 1.0303724103671952, 0.40037667384552966, 1.3480596403706013, 1.446840038037581, 1.026812908591688, 1.6931831445684875, 1.0376391862744552, 1.6931906897630742, 1.439711130781137, 1.0190240370610983, 1.0192551151462983, 1.0376146469687273, 1.6014254053522479, 1.962469718228969, 1.2725643933669266, 1.2727356352860035, 1.706964690421399, 1.0293228998109918, 1.2728445080657285, 1.0375573420547226, 1.03762744057557, 0.5853052536776328, 1.0376459520222736, 1.2727146736095107, 1.033560281190732, 0.8465753318114387, 1.2725252258941377, 1.0376616025404206, 1.0376472191409447, 1.2727370560791098, 1.0376184345097978, 1.515539345108263, 0.8195788080380929, 0.8387748221575443, 1.7069396266068766, 0.7842531725282901, 1.0376233717657644, 0.5322723244211394, 1.826279135451816, 1.7074033860451514, 1.7074480601941406, 0.585321346679664, 1.5155418983327156, 1.734386664798163, 0.7343642351173952, 1.0375408561666273, 0.7841665238300346], \"z\": [-0.5922841326686814, -0.5927809084173811, -0.7727076671694922, -0.5623634270346964, 0.28402752451003715, -0.4378715407760272, -0.08581812049410975, -0.7026726887770147, -0.5922936464170955, -0.592542287721548, -0.5923341296430378, -0.5922842139333173, -0.5922846827869002, -0.1836736580221511, -0.44625030041462044, 0.009824547155954046, -0.14196200230316883, -0.5923357564933927, -0.21098232421608057, -0.5623669289466402, -0.8132433527770515, -0.24887870865447287, -0.43883345902573256, -0.2402362225411761, -0.7206341168165421, -0.7206134250752917, -0.31465183863421337, -0.5924283503190563, -0.5923267219352562, -0.6041942330535639, -0.21032098925496187, -0.5623569429952977, 0.10835377699517398, -0.2734343855150706, -0.5623588038747726, -0.5929353688472497, -0.5923173394603074, -0.2787690499942992, -0.5623604701890805, 0.10835855501361755, -0.7206207125267091, -0.5924722334036769, 0.15555212830136214, -0.17492776151309572, -0.43789279812052334, -0.44627000853181953, -0.2402386227011334, -0.7206096248541012, -0.24036252047938372, -0.5922847289892552, -0.720611430476409, -0.21030404046549864, -0.5922914068510651, -0.5623575573650157, -0.8046038379751941, -0.8133143387425896, -0.34178527225862476, -0.24028100326307297, -0.720623027857133, -0.43801367209949177, -0.7026263824154562, -0.498586764838004, -0.4378725080410419, -0.5702222152665719, -0.4378716291940763, -0.6211455662280355, -0.5922931635958872, -0.2402723126234539, -0.5624103135249793, -0.2679176314874463, -0.4378750990096902, -0.16345100333418242, 0.009816169689271721, -0.5624212065557918, -0.4378971909258448, -0.43794215893513233, -0.617100050325435, -0.5623846391685464, -0.09326057959012327, -0.592870422342934, -0.5922916451878566, -0.5923375575113052, -0.3685783398655575, -0.21065138950437756, -0.5623696643800788, -0.5923131874687461, -0.4378711310770308, -0.5623575934978204, -0.5922878691340606, -0.5922849207692421, -0.24029648160338932, -0.31660564795665774, -0.7597657993611395, 0.009787306527375491, -0.5922977520922342, -0.562656438546131, 0.009761316107670327, -0.3685520489052247, -0.7720213478070281, 0.009781094519680442, -0.750652603390747, 0.0882589981388582, -0.562368233857475, -0.7581714297292699, -0.5623590010237699, 0.009800142229752942, -0.5922960078877164, -0.5922905028517808, 0.009816169689271721, -0.5623670868372055, -0.43787580569523255, -0.5922965804529422, -0.2712798645557024, -0.5922922177760632, -0.5923718359972691, -0.5623579132495087, -0.592305964949996, -0.258126062404373, -0.5922872073164008, -0.5922859041020401, -0.18510983803020795, -0.38414079943710633, -0.5923578573288347, -0.4378719154462695, -0.5623604386145734, -0.5922914950145738, -0.5922870648005856, -0.24023580447881862, -0.21068252071593335, -0.3685584730996567, -0.592818381296882, -0.24024663043055608, -0.5623750876919307, -0.7876977461959469, -0.5624159658497775, 0.00976758873473994, -0.5623784835478666, 0.009612577726295394, -0.5624703598994935, -0.5922890285465875, -0.5922882593044355, -0.5924123122180048, -0.09545072903414166, -0.5623690377019644, -0.24060343660896083, 0.00981838783687936, -0.5923062476443445, -0.7306540291256055, -0.08584145559956649, -0.09329403927755013, -0.8278231287379828, -0.6170576033471192, -0.617095557654663, -0.6680740485978062, -0.720619747393499, -0.6023576585577521, -0.7206185902637446, -0.12532656196308622, -0.6680905137708169, -0.5623632656379255, -0.24023738832107638, 5.167081905945233, 0.00981734622946731, -0.5922982461569111, -0.5922863764905737, 0.2855802839687068, -0.1998065091268977, -0.5623633482650655, -0.31477543919771334, -0.5922866095910206, -0.08098362745272711, -0.6151712807485321, -0.43791839699159607, -0.6174359418499741, -0.6245485407764593, -0.5922876935098953, -0.5371982720898686, -0.08793009069896643, -0.5922926728444885, -0.09061988526909828, -0.5623908900236058, 0.08813792328284913, -0.6324317075945383, -0.720708707291889, -0.5923560945601061, -0.26500700358900753, -0.185113093489722, -0.6006783605224078, -0.5923067496808192, -0.5623816942389473, -0.1851300935785859, -0.592639427559268, -0.5922856620551509, -0.21030486619008715, -0.09325212040883027, -0.3267902396787387, -0.5924092346918939, -0.36874665842024473, -0.507723132311797, -0.5623610225279475, -0.6138733762364698, -0.24025383586190363, -0.2140642642889386, -0.6170666293101803, -0.5922848601346956, -0.59228525280454, -0.24040016223485264, -0.19991924878656908, 0.009806704886549857, -0.5922919861128945, 0.11675247544013932, -0.5372425671556034, 0.009812116979420004, -0.10385806903786222, -0.5935100918966633, -0.3933008413237183, -0.24024663128655271, -0.5977334688827808, -0.24023630921818423, -0.7492786610478862, -0.5923036578784072, -0.3505847870605398, -0.4432554986276275, -0.18518793353100124, -0.085847965620445, 0.015304890261248927, -0.4559326400579448, -0.18510921018917995, -0.5371632636839178, -0.24238824397259418, -0.4330394951684388, -0.18514327880358233, -0.5924143044967066, -0.21031525551135247, -0.5623758426644294, -0.2403046337365937, 0.009796190256383735, -0.49026476892392945, -0.2103150158941363, -0.5950183383800947, 0.9740828208580322, -0.2618181294180799, -0.4645820602033654, -0.21729230197373364, -0.5371814566405216, -0.5922928238591141, -0.5371700562789559, -0.18510614236532544, -0.614380399513525, -0.2103032000292355, -0.5923032301503606, -0.6140103385687766, -0.7502564084692285, -0.562416957304956, -0.5623704411942715, 0.08778470604300818, -0.6029869460797179, -0.5624554935081658, -0.5923111649791376, -0.5922994358241954, -0.0858161193750263, -0.5922880455351953, -0.5625982089605053, -0.5940263295974882, -0.445180929018785, -0.562685715074918, -0.5923104286256751, -0.5924995857705784, -0.562465370219078, -0.5923467075650974, 0.009824150408392483, -0.21128325419524382, -0.43791197800168047, 0.08824973130887785, -0.24557129506324532, -0.5924249084356908, -0.31465820300217634, -0.7206073400168459, 0.08790433580976997, 0.08786296195732415, -0.08634589606803213, 0.009821978214965622, 0.46678636065664175, -0.013875786426398508, -0.5923221928243484, -0.24022775851013745]}, {\"customdata\": [[\"Bitcoin\", \"SHA-256\"], [\"Ethereum\", \"Ethash\"], [\"Litecoin\", \"Scrypt\"], [\"Monero\", \"CryptoNight-V7\"], [\"Ethereum Classic\", \"Ethash\"], [\"ZCash\", \"Equihash\"], [\"DigiByte\", \"Multiple\"], [\"ProsperCoin\", \"Scrypt\"], [\"Spreadcoin\", \"X11\"], [\"Argentum\", \"Scrypt\"], [\"MyriadCoin\", \"Multiple\"], [\"MoonCoin\", \"Scrypt\"], [\"ZetaCoin\", \"SHA-256\"], [\"SexCoin\", \"Scrypt\"], [\"Quatloo\", \"Scrypt\"], [\"QuarkCoin\", \"Quark\"], [\"Riecoin\", \"Groestl\"], [\"Digitalcoin \", \"Scrypt\"], [\"Catcoin\", \"Scrypt\"], [\"CannaCoin\", \"Scrypt\"], [\"CryptCoin\", \"X11\"], [\"Verge\", \"Multiple\"], [\"DevCoin\", \"SHA-256\"], [\"EarthCoin\", \"Scrypt\"], [\"E-Gulden\", \"Scrypt\"], [\"Einsteinium\", \"Scrypt\"], [\"Emerald\", \"Scrypt\"], [\"Franko\", \"Scrypt\"], [\"FeatherCoin\", \"NeoScrypt\"], [\"GrandCoin\", \"Scrypt\"], [\"GlobalCoin\", \"Scrypt\"], [\"GoldCoin\", \"Scrypt\"], [\"Infinite Coin\", \"Scrypt\"], [\"IXcoin\", \"SHA-256\"], [\"KrugerCoin\", \"Scrypt\"], [\"LuckyCoin\", \"Scrypt\"], [\"Litebar \", \"Scrypt\"], [\"MegaCoin\", \"Scrypt\"], [\"MediterraneanCoin\", \"HybridScryptHash256\"], [\"MinCoin\", \"Scrypt\"], [\"NobleCoin\", \"Scrypt\"], [\"Namecoin\", \"SHA-256\"], [\"NyanCoin\", \"Scrypt\"], [\"RonPaulCoin\", \"Scrypt\"], [\"StableCoin\", \"Scrypt\"], [\"SmartCoin\", \"Scrypt\"], [\"SysCoin\", \"SHA-256\"], [\"TigerCoin\", \"SHA-256\"], [\"TerraCoin\", \"SHA-256\"], [\"UnbreakableCoin\", \"SHA-256\"], [\"Unobtanium\", \"SHA-256\"], [\"UroCoin\", \"X11\"], [\"ViaCoin\", \"Scrypt\"], [\"Vertcoin\", \"Lyra2REv2\"], [\"WorldCoin\", \"Scrypt\"], [\"JouleCoin\", \"SHA-256\"], [\"ByteCoin\", \"CryptoNight\"], [\"DigitalNote \", \"CryptoNight\"], [\"MonaCoin\", \"Scrypt\"], [\"Gulden\", \"Scrypt\"], [\"PesetaCoin\", \"Scrypt\"], [\"Wild Beast Coin\", \"Scrypt\"], [\"Flo\", \"Scrypt\"], [\"ArtByte\", \"Scrypt\"], [\"Folding Coin\", \"Stanford Folding\"], [\"Unitus\", \"Multiple\"], [\"CypherPunkCoin\", \"QuBit\"], [\"OmniCron\", \"Scrypt\"], [\"GreenCoin\", \"Scrypt\"], [\"Cryptonite\", \"M7 POW\"], [\"MasterCoin\", \"Scrypt\"], [\"SoonCoin\", \"SHA-256\"], [\"1Credit\", \"Scrypt\"], [\"MarsCoin \", \"X11\"], [\"Crypto\", \"Lyra2RE\"], [\"Anarchists Prime\", \"SHA-256\"], [\"BowsCoin\", \"X11\"], [\"Song Coin\", \"Scrypt\"], [\"BitZeny\", \"Scrypt\"], [\"Expanse\", \"Ethash\"], [\"Siacoin\", \"Blake2b\"], [\"MindCoin\", \"X11\"], [\"I0coin\", \"SHA-256\"], [\"Revolution VR\", \"Scrypt\"], [\"HOdlcoin\", \"1GB AES Pattern Search\"], [\"Gamecredits\", \"Scrypt\"], [\"CarpeDiemCoin\", \"SHA-256\"], [\"Adzcoin\", \"X11\"], [\"SoilCoin\", \"Dagger\"], [\"YoCoin\", \"Scrypt\"], [\"SibCoin\", \"X11GOST\"], [\"Francs\", \"Scrypt\"], [\"BolivarCoin\", \"X11\"], [\"Omni\", \"Scrypt\"], [\"PizzaCoin\", \"X11\"], [\"Komodo\", \"Equihash\"], [\"Karbo\", \"CryptoNight\"], [\"ZayedCoin\", \"SHA-256\"], [\"Circuits of Value\", \"Multiple\"], [\"DopeCoin\", \"Scrypt\"], [\"DollarCoin\", \"SHA-256\"], [\"Shilling\", \"Scrypt\"], [\"ZCoin\", \"Lyra2Z\"], [\"Elementrem\", \"Ethash\"], [\"ZClassic\", \"Equihash\"], [\"KiloCoin\", \"Scrypt\"], [\"ArtexCoin\", \"X11\"], [\"Kurrent\", \"X11\"], [\"Cannabis Industry Coin\", \"CryptoNight\"], [\"OsmiumCoin\", \"Scrypt\"], [\"Bikercoins\", \"CryptoNight\"], [\"HexxCoin\", \"Lyra2RE\"], [\"PacCoin\", \"X11\"], [\"Citadel\", \"CryptoNight-V7\"], [\"BeaverCoin\", \"Scrypt\"], [\"VaultCoin\", \"X11\"], [\"Zero\", \"Equihash\"], [\"Canada eCoin\", \"Scrypt\"], [\"Zoin\", \"Lyra2RE\"], [\"DubaiCoin\", \"Dagger-Hashimoto\"], [\"EB3coin\", \"Scrypt\"], [\"Coinonat\", \"NIST5\"], [\"BenjiRolls\", \"Scrypt\"], [\"ILCoin\", \"SHA-256\"], [\"EquiTrader\", \"Scrypt\"], [\"Quantum Resistant Ledger\", \"CryptoNight-V7\"], [\"Dynamic\", \"Argon2d\"], [\"Nano\", \"Blake2b\"], [\"ChanCoin\", \"Cloverhash\"], [\"Dinastycoin\", \"CryptoNight\"], [\"DigitalPrice\", \"X11\"], [\"Unify\", \"Scrypt\"], [\"SocialCoin\", \"Scrypt\"], [\"ArcticCoin\", \"X11\"], [\"DAS\", \"X11\"], [\"LeviarCoin\", \"CryptoNight\"], [\"Bitcore\", \"Time Travel\"], [\"gCn Coin\", \"Scrypt\"], [\"SmartCash\", \"Keccak\"], [\"Onix\", \"X11\"], [\"Bitcoin Cash\", \"SHA-256\"], [\"Sojourn Coin\", \"Scrypt\"], [\"NewYorkCoin\", \"Scrypt\"], [\"FrazCoin\", \"Scrypt\"], [\"Kronecoin\", \"Scrypt\"], [\"AdCoin\", \"Scrypt\"], [\"Linx\", \"Scrypt\"], [\"Sumokoin\", \"CryptoNight\"], [\"BitcoinZ\", \"Equihash\"], [\"Elements\", \"X11\"], [\"VIVO Coin\", \"NeoScrypt\"], [\"Bitcoin Gold\", \"Equihash\"], [\"Pirl\", \"Dagger\"], [\"eBoost\", \"Scrypt\"], [\"Pura\", \"X11\"], [\"Innova\", \"NeoScrypt\"], [\"Ellaism\", \"Ethash\"], [\"GoByte\", \"NeoScrypt\"], [\"SHIELD\", \"Multiple\"], [\"UltraNote\", \"CryptoNight\"], [\"BitCoal\", \"CryptoNight\"], [\"DaxxCoin\", \"Ethash\"], [\"AC3\", \"X11\"], [\"Lethean\", \"CryptoNight-V7\"], [\"PopularCoin\", \"Scrypt\"], [\"Photon\", \"BLAKE256\"], [\"Sucre\", \"X11\"], [\"SparksPay\", \"NeoScrypt\"], [\"GunCoin\", \"NeoScrypt\"], [\"IrishCoin\", \"Scrypt\"], [\"Pioneer Coin\", \"X11\"], [\"UnitedBitcoin\", \"SHA-256\"], [\"Interzone\", \"C11\"], [\"1717 Masonic Commemorative Token\", \"Ethash\"], [\"TurtleCoin\", \"CryptoNight\"], [\"MUNcoin\", \"SkunkHash\"], [\"Niobio Cash\", \"CryptoNight\"], [\"ShareChain\", \"Scrypt\"], [\"Travelflex\", \"Dagger\"], [\"KREDS\", \"Lyra2REv2\"], [\"BitFlip\", \"Scrypt\"], [\"LottoCoin\", \"Scrypt\"], [\"Crypto Improvement Fund\", \"X11\"], [\"Callisto Network\", \"Ethash\"], [\"BitTube\", \"CryptoNight\"], [\"Poseidon\", \"Scrypt\"], [\"Aidos Kuneen\", \"IMesh\"], [\"Bitrolium\", \"Equihash\"], [\"Alpenschillling\", \"Lyra2Z\"], [\"FuturoCoin\", \"X11\"], [\"Monero Classic\", \"CryptoNight\"], [\"Jumpcoin\", \"NIST5\"], [\"Infinex\", \"Lyra2RE\"], [\"KEYCO\", \"Tribus\"], [\"GINcoin\", \"Lyra2Z\"], [\"PlatinCoin\", \"CryptoNight\"], [\"Loki\", \"CryptoNight Heavy\"], [\"Newton Coin\", \"CryptoNight\"], [\"MassGrid\", \"Jump Consistent Hash\"], [\"PluraCoin\", \"CryptoNight\"], [\"Motion\", \"X16R\"], [\"PlusOneCoin\", \"HMQ1725\"], [\"Axe\", \"X11\"], [\"HexCoin\", \"Scrypt\"], [\"Webchain\", \"CryptoNight-V7\"], [\"Ryo\", \"Cryptonight-GPU\"], [\"Urals Coin\", \"XEVAN\"], [\"Qwertycoin\", \"CryptoNight Heavy\"], [\"Project Pai\", \"SHA-256\"], [\"Azart\", \"X11\"], [\"Xchange\", \"X16R\"], [\"CrypticCoin\", \"Equihash\"], [\"Actinium\", \"Lyra2Z\"], [\"Bitcoin SV\", \"SHA-256\"], [\"FREDEnergy\", \"CryptoNight\"], [\"Universal Molecule\", \"Blake\"], [\"Lithium\", \"Blake\"], [\"PirateCash\", \"Equihash\"], [\"Exosis\", \"Exosis\"], [\"Block-Logic\", \"Scrypt\"], [\"Beam\", \"Equihash\"], [\"Bithereum\", \"Equihash\"], [\"SLICE\", \"QuBit\"], [\"BLAST\", \"SHA-256\"], [\"Bitcoin Rhodium\", \"X13\"], [\"GlobalToken\", \"SHA-256\"], [\"SolarCoin\", \"Scrypt\"], [\"UFO Coin\", \"NeoScrypt\"], [\"BlakeCoin\", \"Blake\"], [\"Crypto Escudo\", \"Scrypt\"], [\"Crown Coin\", \"SHA-256\"], [\"SmileyCoin\", \"Scrypt\"], [\"Groestlcoin\", \"Groestl\"], [\"Bata\", \"Scrypt\"], [\"Pakcoin\", \"Scrypt\"], [\"JoinCoin\", \"Multiple\"], [\"Vollar\", \"Equihash+Scrypt\"], [\"Reality Clash\", \"Ethash\"], [\"Beldex\", \"CryptoNight\"], [\"Horizen\", \"Equihash\"]], \"hovertemplate\": \"<b>%{hovertext}</b><br><br>class=%{marker.color}<br>PC 1=%{x}<br>PC 2=%{y}<br>PC 3=%{z}<br>CoinName=%{customdata[0]}<br>Algorithm=%{customdata[1]}<extra></extra>\", \"hovertext\": [\"CoinName: Bitcoin , Algorithm: SHA-256\", \"CoinName: Ethereum , Algorithm: Ethash\", \"CoinName: Litecoin , Algorithm: Scrypt\", \"CoinName: Monero , Algorithm: CryptoNight-V7\", \"CoinName: Ethereum Classic , Algorithm: Ethash\", \"CoinName: ZCash , Algorithm: Equihash\", \"CoinName: DigiByte , Algorithm: Multiple\", \"CoinName: ProsperCoin , Algorithm: Scrypt\", \"CoinName: Spreadcoin , Algorithm: X11\", \"CoinName: Argentum , Algorithm: Scrypt\", \"CoinName: MyriadCoin , Algorithm: Multiple\", \"CoinName: MoonCoin , Algorithm: Scrypt\", \"CoinName: ZetaCoin , Algorithm: SHA-256\", \"CoinName: SexCoin , Algorithm: Scrypt\", \"CoinName: Quatloo , Algorithm: Scrypt\", \"CoinName: QuarkCoin , Algorithm: Quark\", \"CoinName: Riecoin , Algorithm: Groestl\", \"CoinName: Digitalcoin  , Algorithm: Scrypt\", \"CoinName: Catcoin , Algorithm: Scrypt\", \"CoinName: CannaCoin , Algorithm: Scrypt\", \"CoinName: CryptCoin , Algorithm: X11\", \"CoinName: Verge , Algorithm: Multiple\", \"CoinName: DevCoin , Algorithm: SHA-256\", \"CoinName: EarthCoin , Algorithm: Scrypt\", \"CoinName: E-Gulden , Algorithm: Scrypt\", \"CoinName: Einsteinium , Algorithm: Scrypt\", \"CoinName: Emerald , Algorithm: Scrypt\", \"CoinName: Franko , Algorithm: Scrypt\", \"CoinName: FeatherCoin , Algorithm: NeoScrypt\", \"CoinName: GrandCoin , Algorithm: Scrypt\", \"CoinName: GlobalCoin , Algorithm: Scrypt\", \"CoinName: GoldCoin , Algorithm: Scrypt\", \"CoinName: Infinite Coin , Algorithm: Scrypt\", \"CoinName: IXcoin , Algorithm: SHA-256\", \"CoinName: KrugerCoin , Algorithm: Scrypt\", \"CoinName: LuckyCoin , Algorithm: Scrypt\", \"CoinName: Litebar  , Algorithm: Scrypt\", \"CoinName: MegaCoin , Algorithm: Scrypt\", \"CoinName: MediterraneanCoin , Algorithm: HybridScryptHash256\", \"CoinName: MinCoin , Algorithm: Scrypt\", \"CoinName: NobleCoin , Algorithm: Scrypt\", \"CoinName: Namecoin , Algorithm: SHA-256\", \"CoinName: NyanCoin , Algorithm: Scrypt\", \"CoinName: RonPaulCoin , Algorithm: Scrypt\", \"CoinName: StableCoin , Algorithm: Scrypt\", \"CoinName: SmartCoin , Algorithm: Scrypt\", \"CoinName: SysCoin , Algorithm: SHA-256\", \"CoinName: TigerCoin , Algorithm: SHA-256\", \"CoinName: TerraCoin , Algorithm: SHA-256\", \"CoinName: UnbreakableCoin , Algorithm: SHA-256\", \"CoinName: Unobtanium , Algorithm: SHA-256\", \"CoinName: UroCoin , Algorithm: X11\", \"CoinName: ViaCoin , Algorithm: Scrypt\", \"CoinName: Vertcoin , Algorithm: Lyra2REv2\", \"CoinName: WorldCoin , Algorithm: Scrypt\", \"CoinName: JouleCoin , Algorithm: SHA-256\", \"CoinName: ByteCoin , Algorithm: CryptoNight\", \"CoinName: DigitalNote  , Algorithm: CryptoNight\", \"CoinName: MonaCoin , Algorithm: Scrypt\", \"CoinName: Gulden , Algorithm: Scrypt\", \"CoinName: PesetaCoin , Algorithm: Scrypt\", \"CoinName: Wild Beast Coin , Algorithm: Scrypt\", \"CoinName: Flo , Algorithm: Scrypt\", \"CoinName: ArtByte , Algorithm: Scrypt\", \"CoinName: Folding Coin , Algorithm: Stanford Folding\", \"CoinName: Unitus , Algorithm: Multiple\", \"CoinName: CypherPunkCoin , Algorithm: QuBit\", \"CoinName: OmniCron , Algorithm: Scrypt\", \"CoinName: GreenCoin , Algorithm: Scrypt\", \"CoinName: Cryptonite , Algorithm: M7 POW\", \"CoinName: MasterCoin , Algorithm: Scrypt\", \"CoinName: SoonCoin , Algorithm: SHA-256\", \"CoinName: 1Credit , Algorithm: Scrypt\", \"CoinName: MarsCoin  , Algorithm: X11\", \"CoinName: Crypto , Algorithm: Lyra2RE\", \"CoinName: Anarchists Prime , Algorithm: SHA-256\", \"CoinName: BowsCoin , Algorithm: X11\", \"CoinName: Song Coin , Algorithm: Scrypt\", \"CoinName: BitZeny , Algorithm: Scrypt\", \"CoinName: Expanse , Algorithm: Ethash\", \"CoinName: Siacoin , Algorithm: Blake2b\", \"CoinName: MindCoin , Algorithm: X11\", \"CoinName: I0coin , Algorithm: SHA-256\", \"CoinName: Revolution VR , Algorithm: Scrypt\", \"CoinName: HOdlcoin , Algorithm: 1GB AES Pattern Search\", \"CoinName: Gamecredits , Algorithm: Scrypt\", \"CoinName: CarpeDiemCoin , Algorithm: SHA-256\", \"CoinName: Adzcoin , Algorithm: X11\", \"CoinName: SoilCoin , Algorithm: Dagger\", \"CoinName: YoCoin , Algorithm: Scrypt\", \"CoinName: SibCoin , Algorithm: X11GOST\", \"CoinName: Francs , Algorithm: Scrypt\", \"CoinName: BolivarCoin , Algorithm: X11\", \"CoinName: Omni , Algorithm: Scrypt\", \"CoinName: PizzaCoin , Algorithm: X11\", \"CoinName: Komodo , Algorithm: Equihash\", \"CoinName: Karbo , Algorithm: CryptoNight\", \"CoinName: ZayedCoin , Algorithm: SHA-256\", \"CoinName: Circuits of Value , Algorithm: Multiple\", \"CoinName: DopeCoin , Algorithm: Scrypt\", \"CoinName: DollarCoin , Algorithm: SHA-256\", \"CoinName: Shilling , Algorithm: Scrypt\", \"CoinName: ZCoin , Algorithm: Lyra2Z\", \"CoinName: Elementrem , Algorithm: Ethash\", \"CoinName: ZClassic , Algorithm: Equihash\", \"CoinName: KiloCoin , Algorithm: Scrypt\", \"CoinName: ArtexCoin , Algorithm: X11\", \"CoinName: Kurrent , Algorithm: X11\", \"CoinName: Cannabis Industry Coin , Algorithm: CryptoNight\", \"CoinName: OsmiumCoin , Algorithm: Scrypt\", \"CoinName: Bikercoins , Algorithm: CryptoNight\", \"CoinName: HexxCoin , Algorithm: Lyra2RE\", \"CoinName: PacCoin , Algorithm: X11\", \"CoinName: Citadel , Algorithm: CryptoNight-V7\", \"CoinName: BeaverCoin , Algorithm: Scrypt\", \"CoinName: VaultCoin , Algorithm: X11\", \"CoinName: Zero , Algorithm: Equihash\", \"CoinName: Canada eCoin , Algorithm: Scrypt\", \"CoinName: Zoin , Algorithm: Lyra2RE\", \"CoinName: DubaiCoin , Algorithm: Dagger-Hashimoto\", \"CoinName: EB3coin , Algorithm: Scrypt\", \"CoinName: Coinonat , Algorithm: NIST5\", \"CoinName: BenjiRolls , Algorithm: Scrypt\", \"CoinName: ILCoin , Algorithm: SHA-256\", \"CoinName: EquiTrader , Algorithm: Scrypt\", \"CoinName: Quantum Resistant Ledger , Algorithm: CryptoNight-V7\", \"CoinName: Dynamic , Algorithm: Argon2d\", \"CoinName: Nano , Algorithm: Blake2b\", \"CoinName: ChanCoin , Algorithm: Cloverhash\", \"CoinName: Dinastycoin , Algorithm: CryptoNight\", \"CoinName: DigitalPrice , Algorithm: X11\", \"CoinName: Unify , Algorithm: Scrypt\", \"CoinName: SocialCoin , Algorithm: Scrypt\", \"CoinName: ArcticCoin , Algorithm: X11\", \"CoinName: DAS , Algorithm: X11\", \"CoinName: LeviarCoin , Algorithm: CryptoNight\", \"CoinName: Bitcore , Algorithm: Time Travel\", \"CoinName: gCn Coin , Algorithm: Scrypt\", \"CoinName: SmartCash , Algorithm: Keccak\", \"CoinName: Onix , Algorithm: X11\", \"CoinName: Bitcoin Cash , Algorithm: SHA-256\", \"CoinName: Sojourn Coin , Algorithm: Scrypt\", \"CoinName: NewYorkCoin , Algorithm: Scrypt\", \"CoinName: FrazCoin , Algorithm: Scrypt\", \"CoinName: Kronecoin , Algorithm: Scrypt\", \"CoinName: AdCoin , Algorithm: Scrypt\", \"CoinName: Linx , Algorithm: Scrypt\", \"CoinName: Sumokoin , Algorithm: CryptoNight\", \"CoinName: BitcoinZ , Algorithm: Equihash\", \"CoinName: Elements , Algorithm: X11\", \"CoinName: VIVO Coin , Algorithm: NeoScrypt\", \"CoinName: Bitcoin Gold , Algorithm: Equihash\", \"CoinName: Pirl , Algorithm: Dagger\", \"CoinName: eBoost , Algorithm: Scrypt\", \"CoinName: Pura , Algorithm: X11\", \"CoinName: Innova , Algorithm: NeoScrypt\", \"CoinName: Ellaism , Algorithm: Ethash\", \"CoinName: GoByte , Algorithm: NeoScrypt\", \"CoinName: SHIELD , Algorithm: Multiple\", \"CoinName: UltraNote , Algorithm: CryptoNight\", \"CoinName: BitCoal , Algorithm: CryptoNight\", \"CoinName: DaxxCoin , Algorithm: Ethash\", \"CoinName: AC3 , Algorithm: X11\", \"CoinName: Lethean , Algorithm: CryptoNight-V7\", \"CoinName: PopularCoin , Algorithm: Scrypt\", \"CoinName: Photon , Algorithm: BLAKE256\", \"CoinName: Sucre , Algorithm: X11\", \"CoinName: SparksPay , Algorithm: NeoScrypt\", \"CoinName: GunCoin , Algorithm: NeoScrypt\", \"CoinName: IrishCoin , Algorithm: Scrypt\", \"CoinName: Pioneer Coin , Algorithm: X11\", \"CoinName: UnitedBitcoin , Algorithm: SHA-256\", \"CoinName: Interzone , Algorithm: C11\", \"CoinName: 1717 Masonic Commemorative Token , Algorithm: Ethash\", \"CoinName: TurtleCoin , Algorithm: CryptoNight\", \"CoinName: MUNcoin , Algorithm: SkunkHash\", \"CoinName: Niobio Cash , Algorithm: CryptoNight\", \"CoinName: ShareChain , Algorithm: Scrypt\", \"CoinName: Travelflex , Algorithm: Dagger\", \"CoinName: KREDS , Algorithm: Lyra2REv2\", \"CoinName: BitFlip , Algorithm: Scrypt\", \"CoinName: LottoCoin , Algorithm: Scrypt\", \"CoinName: Crypto Improvement Fund , Algorithm: X11\", \"CoinName: Callisto Network , Algorithm: Ethash\", \"CoinName: BitTube , Algorithm: CryptoNight\", \"CoinName: Poseidon , Algorithm: Scrypt\", \"CoinName: Aidos Kuneen , Algorithm: IMesh\", \"CoinName: Bitrolium , Algorithm: Equihash\", \"CoinName: Alpenschillling , Algorithm: Lyra2Z\", \"CoinName: FuturoCoin , Algorithm: X11\", \"CoinName: Monero Classic , Algorithm: CryptoNight\", \"CoinName: Jumpcoin , Algorithm: NIST5\", \"CoinName: Infinex , Algorithm: Lyra2RE\", \"CoinName: KEYCO , Algorithm: Tribus\", \"CoinName: GINcoin , Algorithm: Lyra2Z\", \"CoinName: PlatinCoin , Algorithm: CryptoNight\", \"CoinName: Loki , Algorithm: CryptoNight Heavy\", \"CoinName: Newton Coin , Algorithm: CryptoNight\", \"CoinName: MassGrid , Algorithm: Jump Consistent Hash\", \"CoinName: PluraCoin , Algorithm: CryptoNight\", \"CoinName: Motion , Algorithm: X16R\", \"CoinName: PlusOneCoin , Algorithm: HMQ1725\", \"CoinName: Axe , Algorithm: X11\", \"CoinName: HexCoin , Algorithm: Scrypt\", \"CoinName: Webchain , Algorithm: CryptoNight-V7\", \"CoinName: Ryo , Algorithm: Cryptonight-GPU\", \"CoinName: Urals Coin , Algorithm: XEVAN\", \"CoinName: Qwertycoin , Algorithm: CryptoNight Heavy\", \"CoinName: Project Pai , Algorithm: SHA-256\", \"CoinName: Azart , Algorithm: X11\", \"CoinName: Xchange , Algorithm: X16R\", \"CoinName: CrypticCoin , Algorithm: Equihash\", \"CoinName: Actinium , Algorithm: Lyra2Z\", \"CoinName: Bitcoin SV , Algorithm: SHA-256\", \"CoinName: FREDEnergy , Algorithm: CryptoNight\", \"CoinName: Universal Molecule , Algorithm: Blake\", \"CoinName: Lithium , Algorithm: Blake\", \"CoinName: PirateCash , Algorithm: Equihash\", \"CoinName: Exosis , Algorithm: Exosis\", \"CoinName: Block-Logic , Algorithm: Scrypt\", \"CoinName: Beam , Algorithm: Equihash\", \"CoinName: Bithereum , Algorithm: Equihash\", \"CoinName: SLICE , Algorithm: QuBit\", \"CoinName: BLAST , Algorithm: SHA-256\", \"CoinName: Bitcoin Rhodium , Algorithm: X13\", \"CoinName: GlobalToken , Algorithm: SHA-256\", \"CoinName: SolarCoin , Algorithm: Scrypt\", \"CoinName: UFO Coin , Algorithm: NeoScrypt\", \"CoinName: BlakeCoin , Algorithm: Blake\", \"CoinName: Crypto Escudo , Algorithm: Scrypt\", \"CoinName: Crown Coin , Algorithm: SHA-256\", \"CoinName: SmileyCoin , Algorithm: Scrypt\", \"CoinName: Groestlcoin , Algorithm: Groestl\", \"CoinName: Bata , Algorithm: Scrypt\", \"CoinName: Pakcoin , Algorithm: Scrypt\", \"CoinName: JoinCoin , Algorithm: Multiple\", \"CoinName: Vollar , Algorithm: Equihash+Scrypt\", \"CoinName: Reality Clash , Algorithm: Ethash\", \"CoinName: Beldex , Algorithm: CryptoNight\", \"CoinName: Horizen , Algorithm: Equihash\"], \"legendgroup\": \"3\", \"marker\": {\"color\": [3, 3, 3, 3, 3, 3, 3, 3, 3, 3, 3, 3, 3, 3, 3, 3, 3, 3, 3, 3, 3, 3, 3, 3, 3, 3, 3, 3, 3, 3, 3, 3, 3, 3, 3, 3, 3, 3, 3, 3, 3, 3, 3, 3, 3, 3, 3, 3, 3, 3, 3, 3, 3, 3, 3, 3, 3, 3, 3, 3, 3, 3, 3, 3, 3, 3, 3, 3, 3, 3, 3, 3, 3, 3, 3, 3, 3, 3, 3, 3, 3, 3, 3, 3, 3, 3, 3, 3, 3, 3, 3, 3, 3, 3, 3, 3, 3, 3, 3, 3, 3, 3, 3, 3, 3, 3, 3, 3, 3, 3, 3, 3, 3, 3, 3, 3, 3, 3, 3, 3, 3, 3, 3, 3, 3, 3, 3, 3, 3, 3, 3, 3, 3, 3, 3, 3, 3, 3, 3, 3, 3, 3, 3, 3, 3, 3, 3, 3, 3, 3, 3, 3, 3, 3, 3, 3, 3, 3, 3, 3, 3, 3, 3, 3, 3, 3, 3, 3, 3, 3, 3, 3, 3, 3, 3, 3, 3, 3, 3, 3, 3, 3, 3, 3, 3, 3, 3, 3, 3, 3, 3, 3, 3, 3, 3, 3, 3, 3, 3, 3, 3, 3, 3, 3, 3, 3, 3, 3, 3, 3, 3, 3, 3, 3, 3, 3, 3, 3, 3, 3, 3, 3, 3, 3, 3, 3, 3, 3, 3, 3, 3, 3, 3, 3, 3, 3, 3, 3, 3, 3], \"coloraxis\": \"coloraxis\", \"symbol\": \"diamond\"}, \"mode\": \"markers\", \"name\": \"3\", \"scene\": \"scene\", \"showlegend\": true, \"type\": \"scatter3d\", \"x\": [-0.14593437209572638, -0.14520451163620465, -0.16089803804886665, -0.1555161192885027, -0.14364673795057223, -0.18906508382540774, 0.15952888904658358, -0.16204450968953404, -0.2214036376699287, -0.16166106302044178, -0.09390689428931116, 2.559399437167155, -0.14301867083273054, -0.15891605410622583, -0.16146515794716063, -0.2313251635031203, -0.2080066312189341, -0.16151373428484553, -0.16202676808470184, -0.16211322789593535, -0.2214930101008707, 0.1833068222771773, 0.2319872955222852, 0.08666783722145205, -0.16185944648840686, -0.15746403188946448, -0.16179875991574644, -0.16217024744675554, -0.18813581120922346, -0.14138951504123806, -0.16096507976096666, -0.16124265603002758, 1.587113633898218, -0.1458957249210537, -0.15853168629349934, -0.16188589529374592, -0.16224078394166638, -0.1614998846496565, -0.152377758507128, -0.16212203530547245, -0.0270315001368936, -0.14597336882354858, -0.15578458704613743, -0.16210151361134542, -0.1601959821260757, -0.16158816158451178, -0.1331235314155337, -0.145437014566844, -0.14572432210840858, -0.1457074577229082, -0.14629808639485517, -0.22166690439225528, -0.16181788947563827, -0.189867740848776, -0.15892083421359487, -0.14550432990732912, 3.8604919630891565, 0.4587240712341282, -0.16068533837681265, -0.14528416637047786, -0.15940386012868935, -0.16224299951703486, -0.15926881493575928, -0.1454900237526429, -0.1766176112864763, -0.12791978241419005, -0.1905499610281203, -0.16211602567178632, -0.035040953308998694, -0.10521310462044631, -0.1622518875313465, -0.1460011583040942, 0.48980239096585176, -0.2210539640925013, -0.1549506062562168, -0.14574104493004245, -0.22133893559758616, -0.1603757349518532, -0.15956779454624892, -0.14627249989177757, 0.3572214732134016, -0.22137432677636662, -0.14589684775566378, -0.15820888048306414, -0.16286418719404178, -0.16081496883503157, 0.2726771496346082, -0.220534970628255, -0.13737845725829093, -0.16106285301940482, -0.11082017790104773, -0.1620417894604269, -0.22133759192391927, -0.1622519460387532, -0.22148762766277835, -0.42945219416750907, 0.30360359009466203, -0.14615699788831651, -0.10798867022020608, -0.15941826777164878, -0.14611561348575894, -0.16191532367862185, -0.16715305149724288, -0.14601458443093404, -0.18908671021824686, -0.0889881042656558, -0.20806713805925553, -0.21931568923990166, 0.30359790550544646, -0.1622336847882789, 0.30372866117900227, -0.1554910507486822, 0.4936476601443631, -0.15428106485490728, -0.16220196092977618, -0.21422263171123515, -0.1890990736105063, -0.16033482556770784, -0.15520935527085714, -0.17713561282425405, -0.13312982666025977, -0.19619902184202617, -0.16176428396481266, -0.1124780235314473, -0.16158642498560935, -0.15413840367197668, -0.19476470078398475, -0.04325599040382035, -0.13171062078639828, 0.3397272228492991, -0.22054343493058037, -0.1619056031106225, -0.16166911535485215, -0.22093811766299187, -0.22151564676758748, 0.30399292529337985, -0.1394356036462824, 3.248081283586835, -0.12370587619629546, -0.21238836672262038, -0.1459335359517285, -0.08783743866052716, 1.5855222455527684, -0.16200349597784475, -0.16145517075114116, -0.1611560838931588, -0.16114300916931198, 0.30417646798426495, 0.02323089691749767, -0.17589034404939213, -0.19282527759760315, -0.18894507512588798, -0.1361375472281514, -0.16033303394835258, -0.21705953962706373, -0.19267069831075173, -0.14438014624639253, -0.192770891290277, -0.11815014811072194, 1.1415454546338903, 0.3035807034462817, -0.0692777605026932, -0.2168018427244142, -0.14324952417131037, -0.07837620583514539, 1.1039143452686693, -0.22148963791414797, -0.19282280997384238, -0.18585968365031452, -0.16125435806230107, -0.221415026559337, -0.14591292093751368, -0.18998183341951203, -0.2619404847022024, 8.040561589255494, -0.14727851945930073, 0.3074554491411191, 0.030829902229901944, -0.1356403111869555, -0.17542381668459447, -0.1618282300430766, 0.14530363476676333, -0.21555540884847701, -0.09742452809989315, 0.31150311144984144, -0.16206526334960075, -0.14310969143078126, -0.18793593585353313, -0.16493677773179222, -0.22058422505767397, 0.303763276444512, -0.19625839425443248, -0.15533629078988753, -0.16867931557165497, -0.16723741863132457, 0.30769074278462566, 0.564012379087701, 2.1122570966076393, -0.1518255975104605, 0.317369983023211, -0.18594005201695019, -0.17010099742994658, -0.22147179544953163, -0.1620898605242139, -0.14313251658472628, -0.1487890468394748, -0.19457472795736114, 3.086885946625598, -0.10575262598296423, -0.22144316551596854, -0.18536785511546797, -0.08367759976292502, -0.16663521983436264, -0.14593357353348757, 0.383524045426326, -0.1412653927175955, -0.14165725003437793, -0.3038463856597448, -0.13366703601855798, -0.16098208989490795, -0.1870053575180205, -0.18877786310633507, -0.1897610139505735, -0.1452095831251859, -0.1224766681202587, -0.14407746930994128, 0.5337151684351942, -0.11797270820088528, -0.0921306237861502, -0.14564067527628158, -0.1457236922859654, 0.5536863393357011, -0.20756752929692548, -0.16216666006546934, -0.16012223103998477, -0.12865499885591464, -0.12861437624301583, -0.14604775011597274, 0.3253414150811449, -0.18906614123250964], \"y\": [-1.3245254207767763, -2.0540522898844036, -1.125678154082443, -2.2380421247302884, -2.0541400336305933, -2.064668812018059, -1.8272557685133233, -1.1256762076340332, -0.8905770484892969, -1.1256918600163235, -1.823354861516219, -1.2906680482747919, -1.324522554826062, -1.125720571751541, -1.1257094553291336, -0.47011285432028116, -1.265656382605341, -1.1256757400896604, -1.125675570826248, -1.1256732972683414, -0.8905788882079791, -1.8233615423275662, -1.3253118995948727, -1.1259698270985998, -1.125669565073324, -1.125702515860223, -1.1256749117461609, -1.1256740412739925, -1.6310665902345929, -1.1258922787940864, -1.1256709832654583, -1.125682482688882, -1.124856499440038, -1.32452403359551, -1.125717324579845, -1.1256698303287065, -1.1256698103466174, -1.1256710249158988, -2.143341731695137, -1.1256714653729132, -1.131077017088672, -1.3245268205047, -1.1256676878410143, -1.125678253702668, -1.1257665128112622, -1.1256804870548291, -1.3246586961086202, -1.3245253632610732, -1.3245322471186993, -1.324557636991416, -1.324524281001423, -0.8905728163647729, -1.1256694416159843, -1.2477980975923701, -1.1257312924495693, -1.3245264030870925, -2.283667459766599, -2.2864183239984963, -1.1256849674080776, -1.126209516176868, -1.125680881798939, -1.12567076413073, -1.125671665997405, -1.1257517279561453, -2.129069913640336, -1.8232075340337917, -1.545447874420811, -1.1256667151036401, -1.127944083896309, -2.182134680180247, -1.1256697091545445, -1.3245278179656244, -1.1652005267853223, -0.8905733905834639, -2.246017139694047, -1.3245408921872945, -0.8905754101913707, -1.1257457655821759, -1.1257439649783585, -2.0541021890868683, -2.127594765115281, -0.8905732600833621, -1.3245240738979416, -1.1256678254731898, -2.2163404439146923, -1.1256751724399947, -1.324279827643098, -0.8905896503931777, -2.1974068875749917, -1.1257417732431378, -2.3016821523297546, -1.1256754259115132, -0.8905780982984748, -1.1256697091818038, -0.8905834836019699, -1.5218188506441233, -2.285152136845149, -1.3245257060664917, -1.8233130380940084, -1.1257043937406526, -1.3245248378842978, -1.1256777274561371, -2.1983625113044543, -2.0540992930004203, -2.0646695882643713, -1.1298804344140456, -0.8904267155684562, -0.8906443942553742, -2.285159865809384, -1.1256704888196563, -2.2851579088705773, -2.2459983736885722, -0.9333060989381133, -2.2381243498893535, -1.1256697918629008, -0.8909896996305908, -2.06466729569322, -1.1256688837762463, -2.2459957875852865, -2.1750510946139894, -1.12736032973806, -0.628412590859758, -1.1256760825341074, -1.3250204006578756, -1.1256946536705907, -2.238064502559944, -2.0965886291863827, -2.1422020732265064, -2.1391023877834687, -2.2852168615351216, -0.890600899551236, -1.125670042981079, -1.125699673967153, -0.8905877027224243, -0.8905803163921763, -2.285168261951725, -2.2208629190797904, -1.1400774001947198, -1.1954801765902634, -0.8909922698981654, -1.3245253907646561, -1.1301811750581439, -1.062935604592508, -1.1256740514254928, -1.1256981515091344, -1.1256983615884288, -1.1256978922912029, -2.2851855408993518, -2.071400171684252, -0.8901610880045564, -1.631023529489381, -2.0646645044892415, -2.1974487514281362, -1.1256688194688083, -0.8906468714684627, -1.6310302946151491, -2.0542142440840396, -1.6310248609794764, -1.8233083634204297, -2.313215798286354, -2.285154668536542, -2.058167855758037, -0.8907744386428841, -2.2382855634172243, -1.1260791162705934, -1.2671867126350402, -0.890579998519789, -1.6310193364134735, -1.6310970819001178, -1.125677261963557, -0.890579509528235, -1.324524080294133, -1.2882002577313663, -0.14426290225427887, -2.6915230697383365, -2.1793599072055967, -2.2852368916544172, -1.1255797502296623, -2.1973923853625488, -1.2479746844130222, -1.1256814422037653, -1.127221971441053, -0.8906954956015537, -2.056783846765346, -2.2855458388151786, -1.125676952554936, -2.186069626570872, -2.0646618030963215, -2.1984735473629984, -0.8906023636504946, -2.285152151453778, -0.6283960792831005, -2.2460039557055085, -2.222099553057407, -2.198358083017576, -2.2854090446933957, -2.191827148301205, -2.346097909121577, -2.207126986702093, -2.285335256428396, -1.2421265587080657, -2.218310166559297, -0.8905801789926608, -1.1256785915257126, -2.2387947813359625, -2.2424337027258923, -0.5618422295410316, -2.2273628310114004, -1.3245053691719628, -0.8905818877011772, -1.2421593273460265, -2.0660707624231787, -2.1983867481902806, -1.3245253921135958, -2.287804072587156, -2.2182833082343136, -2.2182427210567246, -0.15486562064203155, -2.195768445788552, -1.1257057980209175, -2.0647602928151145, -2.064665265524364, -1.5454879647768878, -1.3245288211989377, -0.3370327054325767, -1.3245593304457595, -1.1677972574948328, -1.6310546768804832, -2.221236368274767, -1.1257571353622937, -1.324532224512185, -1.1341759798429354, -1.2656549874782153, -1.1256696466901877, -1.1257173479130889, -1.8232358389394372, -2.228618553508154, -2.0540993084526353, -2.2853229199657203, -2.06466884997207], \"z\": [0.17152567814178923, 0.4113357537573218, 0.017083356865812742, 0.4666373647872229, 0.4113065729158733, 0.3708909232892244, 0.3584249435487411, 0.01711468697018576, 0.04703981888067642, 0.017106568611981888, 0.36480463494762183, -0.032023233348356495, 0.17144476981146442, 0.017035338744661496, 0.017103931068261413, 0.07210659002866572, 0.1631245730353503, 0.017099966909464883, 0.017114097206487443, 0.017116125313499545, 0.04704257452402148, 0.35715610301163697, 0.1612208471409155, 0.010297782624376063, 0.017108535127725068, 0.01699243003901439, 0.017107701730914544, 0.017117815799794118, 0.29462602637251906, 0.016578717676652355, 0.017084078627309263, 0.017093547481041194, -0.03128148433814512, 0.17152439343835343, 0.017024221399343432, 0.01710930670421578, 0.017119096546850645, 0.01709884287157413, 0.3940246460506067, 0.017116080127882294, 0.014238804445726394, 0.17152697446501494, 0.016940606862998513, 0.01711658188578474, 0.017077885914985214, 0.01710276756163355, 0.17119313790075397, 0.17151194474376544, 0.1715209559356006, 0.17152448529613357, 0.17153553534104518, 0.04704641774000943, 0.017107368957154784, 0.17634495040959278, 0.01703715739463421, 0.1715139658805795, 0.3546377762488918, 0.44894078105327656, 0.017078559494888675, 0.016736101426948397, 0.01704255489013358, 0.017119307748607933, 0.017037378409419875, 0.01666975567974309, 0.5049012039775245, 0.36572002488711086, 0.22528283489296053, 0.01711516690940632, 0.01396690031884289, 0.37322904970799947, 0.017119387024129306, 0.17152789823865186, 0.005345850060544438, 0.04702959428356778, 0.4513919791152506, 0.17152277756924297, 0.04703777569496923, 0.017079581837019884, 0.017057003800100876, 0.4113730753047218, 0.4170378915708406, 0.047038414009952435, 0.17152443076344875, 0.017007525762780275, 0.49101058205155285, 0.017080595491786876, 0.1599356481798244, 0.04701783114467208, 0.3854885042212145, 0.017097914403048836, 0.4205893225800657, 0.01711448891412095, 0.04703816155128551, 0.017119388642902664, 0.04704314901623421, 0.25626608133226353, 0.45302204225487064, 0.17153186628274836, 0.3651866346747671, 0.017046651722693675, 0.17153058770370522, 0.017111361264332426, 0.4697347306615289, 0.41136550259113963, 0.3708916421904473, 0.015760203211376812, 0.04664815171354166, 0.046992798790688045, 0.45302341515801225, 0.01711900739684404, 0.4530194991205378, 0.4514039398719813, 0.034031103774276136, 0.46661622096381905, 0.01711802233582328, 0.04690658700022168, 0.37089162264992115, 0.017066356733201254, 0.45139575973125406, 0.4902348257814076, 0.01658177179177188, -0.0076610661343619645, 0.017106934589518404, 0.17068034367527615, 0.01710494855092991, 0.46660286819253183, 0.4022197415586675, 0.43038712660909845, 0.32647807954416713, 0.4520354109608554, 0.047019834603746154, 0.017109883989962774, 0.01710802022334486, 0.04702864936132043, 0.04704342387617854, 0.4530138357816983, 0.3976046095347782, -0.07472032477773995, 0.11763747746058835, 0.046856375708405056, 0.17152565034681796, 0.015775768276057266, -0.04097991849414626, 0.017113215968064175, 0.017101876985389574, 0.017093656876108258, 0.017093222248149666, 0.45301148959671, 0.3660917958905608, 0.0457184554929668, 0.2947486550288776, 0.370886933978497, 0.3854608485537884, 0.017066297176466166, 0.04693093114890117, 0.2947454538792988, 0.41133848690552965, 0.2947473637546282, 0.3654663004207017, 0.4343148347309096, 0.45302307212588366, 0.4098881146511986, 0.04694389095358926, 0.4663371753421499, 0.014869290979236841, 0.08708150761343586, 0.047042656161438476, 0.2947479272167438, 0.2945680151132733, 0.017093048988333408, 0.047040520360268234, 0.17152487530174382, 0.10167997972519453, 0.15403134205561902, 0.3034608258437685, 0.5119833826390506, 0.4529290869335752, 0.011777231473003486, 0.38543825918083674, 0.17597416042211028, 0.017109542417372687, 0.008876761782097365, 0.046897075659074465, 0.4104470579734857, 0.45286600190242093, 0.017115376860160746, 0.42548381086771975, 0.37085866222680036, 0.4696910435227772, 0.04702119054287558, 0.4530176380830665, -0.007662025635620906, 0.4514005475919617, 0.4699454213134175, 0.46973636200698177, 0.45294967987986356, 0.45386769074194133, 0.41270201978149507, 0.47505157279078497, 0.45267097626017516, 0.15349064893816491, 0.47777819318539433, 0.04704219220172766, 0.01711631347580518, 0.4664140645692669, 0.37471385104271476, -0.0044945426885059266, 0.3898411929871025, 0.17041372679368622, 0.04704167101239031, 0.15348001509809514, 0.3682033812825627, 0.46972425465833323, 0.17152565159610506, 0.45123391793732665, 0.4580630770452777, 0.45806750436578136, 0.1135304015299536, 0.3966636305240083, 0.01709002560693483, 0.3708484792699003, 0.37088243957865047, 0.22526737189832516, 0.17150621293531368, -0.1112041610477687, 0.17147977296728864, 0.004542655094872602, 0.2926880339154448, 0.4571718468757602, 0.016674763614514754, 0.1715209349991398, -0.001298256673711193, 0.1631122367199885, 0.017117025384151715, 0.017068115410064408, 0.36574476620471313, 0.5285598262962693, 0.4113664202139117, 0.4524490673526948, 0.37089095843938785]}, {\"customdata\": [[\"BiblePay\", \"Proof-of-BibleHash\"], [\"LitecoinCash\", \"SHA-256 + Hive\"], [\"Poa Network\", \"Proof-of-Authority\"], [\"Acute Angle Cloud\", \"ECC 256K1\"], [\"Waves\", \"Leased POS\"]], \"hovertemplate\": \"<b>%{hovertext}</b><br><br>class=%{marker.color}<br>PC 1=%{x}<br>PC 2=%{y}<br>PC 3=%{z}<br>CoinName=%{customdata[0]}<br>Algorithm=%{customdata[1]}<extra></extra>\", \"hovertext\": [\"CoinName: BiblePay , Algorithm: Proof-of-BibleHash\", \"CoinName: LitecoinCash , Algorithm: SHA-256 + Hive\", \"CoinName: Poa Network , Algorithm: Proof-of-Authority\", \"CoinName: Acute Angle Cloud , Algorithm: ECC 256K1\", \"CoinName: Waves , Algorithm: Leased POS\"], \"legendgroup\": \"1\", \"marker\": {\"color\": [1, 1, 1, 1, 1], \"coloraxis\": \"coloraxis\", \"symbol\": \"square\"}, \"mode\": \"markers\", \"name\": \"1\", \"scene\": \"scene\", \"showlegend\": true, \"type\": \"scatter3d\", \"x\": [-0.1807028725197017, -0.3938790594006949, -0.39624073176775393, -0.30232377902571744, -0.45360348430972575], \"y\": [3.5052980352998797, 3.17983378264314, 3.122690055207249, 3.944373001611074, 3.4499082051694794], \"z\": [12.372505551187093, 17.622643458764664, 17.152522540060705, 8.441780740515988, 11.265678920611215]}, {\"customdata\": [[\"BitTorrent\", \"TRC10\"]], \"hovertemplate\": \"<b>%{hovertext}</b><br><br>class=%{marker.color}<br>PC 1=%{x}<br>PC 2=%{y}<br>PC 3=%{z}<br>CoinName=%{customdata[0]}<br>Algorithm=%{customdata[1]}<extra></extra>\", \"hovertext\": [\"CoinName: BitTorrent , Algorithm: TRC10\"], \"legendgroup\": \"2\", \"marker\": {\"color\": [2], \"coloraxis\": \"coloraxis\", \"symbol\": \"x\"}, \"mode\": \"markers\", \"name\": \"2\", \"scene\": \"scene\", \"showlegend\": true, \"type\": \"scatter3d\", \"x\": [34.06882123037688], \"y\": [1.7667564991062863], \"z\": [-1.0160908509674293]}],                        {\"coloraxis\": {\"colorbar\": {\"title\": {\"text\": \"class\"}}, \"colorscale\": [[0.0, \"#0d0887\"], [0.1111111111111111, \"#46039f\"], [0.2222222222222222, \"#7201a8\"], [0.3333333333333333, \"#9c179e\"], [0.4444444444444444, \"#bd3786\"], [0.5555555555555556, \"#d8576b\"], [0.6666666666666666, \"#ed7953\"], [0.7777777777777778, \"#fb9f3a\"], [0.8888888888888888, \"#fdca26\"], [1.0, \"#f0f921\"]]}, \"legend\": {\"title\": {\"text\": \"class\"}, \"tracegroupgap\": 0, \"x\": 0, \"y\": 1}, \"margin\": {\"t\": 60}, \"scene\": {\"domain\": {\"x\": [0.0, 1.0], \"y\": [0.0, 1.0]}, \"xaxis\": {\"title\": {\"text\": \"PC 1\"}}, \"yaxis\": {\"title\": {\"text\": \"PC 2\"}}, \"zaxis\": {\"title\": {\"text\": \"PC 3\"}}}, \"template\": {\"data\": {\"bar\": [{\"error_x\": {\"color\": \"#2a3f5f\"}, \"error_y\": {\"color\": \"#2a3f5f\"}, \"marker\": {\"line\": {\"color\": \"#E5ECF6\", \"width\": 0.5}}, \"type\": \"bar\"}], \"barpolar\": [{\"marker\": {\"line\": {\"color\": \"#E5ECF6\", \"width\": 0.5}}, \"type\": \"barpolar\"}], \"carpet\": [{\"aaxis\": {\"endlinecolor\": \"#2a3f5f\", \"gridcolor\": \"white\", \"linecolor\": \"white\", \"minorgridcolor\": \"white\", \"startlinecolor\": \"#2a3f5f\"}, \"baxis\": {\"endlinecolor\": \"#2a3f5f\", \"gridcolor\": \"white\", \"linecolor\": \"white\", \"minorgridcolor\": \"white\", \"startlinecolor\": \"#2a3f5f\"}, \"type\": \"carpet\"}], \"choropleth\": [{\"colorbar\": {\"outlinewidth\": 0, \"ticks\": \"\"}, \"type\": \"choropleth\"}], \"contour\": [{\"colorbar\": {\"outlinewidth\": 0, \"ticks\": \"\"}, \"colorscale\": [[0.0, \"#0d0887\"], [0.1111111111111111, \"#46039f\"], [0.2222222222222222, \"#7201a8\"], [0.3333333333333333, \"#9c179e\"], [0.4444444444444444, \"#bd3786\"], [0.5555555555555556, \"#d8576b\"], [0.6666666666666666, \"#ed7953\"], [0.7777777777777778, \"#fb9f3a\"], [0.8888888888888888, \"#fdca26\"], [1.0, \"#f0f921\"]], \"type\": \"contour\"}], \"contourcarpet\": [{\"colorbar\": {\"outlinewidth\": 0, \"ticks\": \"\"}, \"type\": \"contourcarpet\"}], \"heatmap\": [{\"colorbar\": {\"outlinewidth\": 0, \"ticks\": \"\"}, \"colorscale\": [[0.0, \"#0d0887\"], [0.1111111111111111, \"#46039f\"], [0.2222222222222222, \"#7201a8\"], [0.3333333333333333, \"#9c179e\"], [0.4444444444444444, \"#bd3786\"], [0.5555555555555556, \"#d8576b\"], [0.6666666666666666, \"#ed7953\"], [0.7777777777777778, \"#fb9f3a\"], [0.8888888888888888, \"#fdca26\"], [1.0, \"#f0f921\"]], \"type\": \"heatmap\"}], \"heatmapgl\": [{\"colorbar\": {\"outlinewidth\": 0, \"ticks\": \"\"}, \"colorscale\": [[0.0, \"#0d0887\"], [0.1111111111111111, \"#46039f\"], [0.2222222222222222, \"#7201a8\"], [0.3333333333333333, \"#9c179e\"], [0.4444444444444444, \"#bd3786\"], [0.5555555555555556, \"#d8576b\"], [0.6666666666666666, \"#ed7953\"], [0.7777777777777778, \"#fb9f3a\"], [0.8888888888888888, \"#fdca26\"], [1.0, \"#f0f921\"]], \"type\": \"heatmapgl\"}], \"histogram\": [{\"marker\": {\"colorbar\": {\"outlinewidth\": 0, \"ticks\": \"\"}}, \"type\": \"histogram\"}], \"histogram2d\": [{\"colorbar\": {\"outlinewidth\": 0, \"ticks\": \"\"}, \"colorscale\": [[0.0, \"#0d0887\"], [0.1111111111111111, \"#46039f\"], [0.2222222222222222, \"#7201a8\"], [0.3333333333333333, \"#9c179e\"], [0.4444444444444444, \"#bd3786\"], [0.5555555555555556, \"#d8576b\"], [0.6666666666666666, \"#ed7953\"], [0.7777777777777778, \"#fb9f3a\"], [0.8888888888888888, \"#fdca26\"], [1.0, \"#f0f921\"]], \"type\": \"histogram2d\"}], \"histogram2dcontour\": [{\"colorbar\": {\"outlinewidth\": 0, \"ticks\": \"\"}, \"colorscale\": [[0.0, \"#0d0887\"], [0.1111111111111111, \"#46039f\"], [0.2222222222222222, \"#7201a8\"], [0.3333333333333333, \"#9c179e\"], [0.4444444444444444, \"#bd3786\"], [0.5555555555555556, \"#d8576b\"], [0.6666666666666666, \"#ed7953\"], [0.7777777777777778, \"#fb9f3a\"], [0.8888888888888888, \"#fdca26\"], [1.0, \"#f0f921\"]], \"type\": \"histogram2dcontour\"}], \"mesh3d\": [{\"colorbar\": {\"outlinewidth\": 0, \"ticks\": \"\"}, \"type\": \"mesh3d\"}], \"parcoords\": [{\"line\": {\"colorbar\": {\"outlinewidth\": 0, \"ticks\": \"\"}}, \"type\": \"parcoords\"}], \"pie\": [{\"automargin\": true, \"type\": \"pie\"}], \"scatter\": [{\"marker\": {\"colorbar\": {\"outlinewidth\": 0, \"ticks\": \"\"}}, \"type\": \"scatter\"}], \"scatter3d\": [{\"line\": {\"colorbar\": {\"outlinewidth\": 0, \"ticks\": \"\"}}, \"marker\": {\"colorbar\": {\"outlinewidth\": 0, \"ticks\": \"\"}}, \"type\": \"scatter3d\"}], \"scattercarpet\": [{\"marker\": {\"colorbar\": {\"outlinewidth\": 0, \"ticks\": \"\"}}, \"type\": \"scattercarpet\"}], \"scattergeo\": [{\"marker\": {\"colorbar\": {\"outlinewidth\": 0, \"ticks\": \"\"}}, \"type\": \"scattergeo\"}], \"scattergl\": [{\"marker\": {\"colorbar\": {\"outlinewidth\": 0, \"ticks\": \"\"}}, \"type\": \"scattergl\"}], \"scattermapbox\": [{\"marker\": {\"colorbar\": {\"outlinewidth\": 0, \"ticks\": \"\"}}, \"type\": \"scattermapbox\"}], \"scatterpolar\": [{\"marker\": {\"colorbar\": {\"outlinewidth\": 0, \"ticks\": \"\"}}, \"type\": \"scatterpolar\"}], \"scatterpolargl\": [{\"marker\": {\"colorbar\": {\"outlinewidth\": 0, \"ticks\": \"\"}}, \"type\": \"scatterpolargl\"}], \"scatterternary\": [{\"marker\": {\"colorbar\": {\"outlinewidth\": 0, \"ticks\": \"\"}}, \"type\": \"scatterternary\"}], \"surface\": [{\"colorbar\": {\"outlinewidth\": 0, \"ticks\": \"\"}, \"colorscale\": [[0.0, \"#0d0887\"], [0.1111111111111111, \"#46039f\"], [0.2222222222222222, \"#7201a8\"], [0.3333333333333333, \"#9c179e\"], [0.4444444444444444, \"#bd3786\"], [0.5555555555555556, \"#d8576b\"], [0.6666666666666666, \"#ed7953\"], [0.7777777777777778, \"#fb9f3a\"], [0.8888888888888888, \"#fdca26\"], [1.0, \"#f0f921\"]], \"type\": \"surface\"}], \"table\": [{\"cells\": {\"fill\": {\"color\": \"#EBF0F8\"}, \"line\": {\"color\": \"white\"}}, \"header\": {\"fill\": {\"color\": \"#C8D4E3\"}, \"line\": {\"color\": \"white\"}}, \"type\": \"table\"}]}, \"layout\": {\"annotationdefaults\": {\"arrowcolor\": \"#2a3f5f\", \"arrowhead\": 0, \"arrowwidth\": 1}, \"autotypenumbers\": \"strict\", \"coloraxis\": {\"colorbar\": {\"outlinewidth\": 0, \"ticks\": \"\"}}, \"colorscale\": {\"diverging\": [[0, \"#8e0152\"], [0.1, \"#c51b7d\"], [0.2, \"#de77ae\"], [0.3, \"#f1b6da\"], [0.4, \"#fde0ef\"], [0.5, \"#f7f7f7\"], [0.6, \"#e6f5d0\"], [0.7, \"#b8e186\"], [0.8, \"#7fbc41\"], [0.9, \"#4d9221\"], [1, \"#276419\"]], \"sequential\": [[0.0, \"#0d0887\"], [0.1111111111111111, \"#46039f\"], [0.2222222222222222, \"#7201a8\"], [0.3333333333333333, \"#9c179e\"], [0.4444444444444444, \"#bd3786\"], [0.5555555555555556, \"#d8576b\"], [0.6666666666666666, \"#ed7953\"], [0.7777777777777778, \"#fb9f3a\"], [0.8888888888888888, \"#fdca26\"], [1.0, \"#f0f921\"]], \"sequentialminus\": [[0.0, \"#0d0887\"], [0.1111111111111111, \"#46039f\"], [0.2222222222222222, \"#7201a8\"], [0.3333333333333333, \"#9c179e\"], [0.4444444444444444, \"#bd3786\"], [0.5555555555555556, \"#d8576b\"], [0.6666666666666666, \"#ed7953\"], [0.7777777777777778, \"#fb9f3a\"], [0.8888888888888888, \"#fdca26\"], [1.0, \"#f0f921\"]]}, \"colorway\": [\"#636efa\", \"#EF553B\", \"#00cc96\", \"#ab63fa\", \"#FFA15A\", \"#19d3f3\", \"#FF6692\", \"#B6E880\", \"#FF97FF\", \"#FECB52\"], \"font\": {\"color\": \"#2a3f5f\"}, \"geo\": {\"bgcolor\": \"white\", \"lakecolor\": \"white\", \"landcolor\": \"#E5ECF6\", \"showlakes\": true, \"showland\": true, \"subunitcolor\": \"white\"}, \"hoverlabel\": {\"align\": \"left\"}, \"hovermode\": \"closest\", \"mapbox\": {\"style\": \"light\"}, \"paper_bgcolor\": \"white\", \"plot_bgcolor\": \"#E5ECF6\", \"polar\": {\"angularaxis\": {\"gridcolor\": \"white\", \"linecolor\": \"white\", \"ticks\": \"\"}, \"bgcolor\": \"#E5ECF6\", \"radialaxis\": {\"gridcolor\": \"white\", \"linecolor\": \"white\", \"ticks\": \"\"}}, \"scene\": {\"xaxis\": {\"backgroundcolor\": \"#E5ECF6\", \"gridcolor\": \"white\", \"gridwidth\": 2, \"linecolor\": \"white\", \"showbackground\": true, \"ticks\": \"\", \"zerolinecolor\": \"white\"}, \"yaxis\": {\"backgroundcolor\": \"#E5ECF6\", \"gridcolor\": \"white\", \"gridwidth\": 2, \"linecolor\": \"white\", \"showbackground\": true, \"ticks\": \"\", \"zerolinecolor\": \"white\"}, \"zaxis\": {\"backgroundcolor\": \"#E5ECF6\", \"gridcolor\": \"white\", \"gridwidth\": 2, \"linecolor\": \"white\", \"showbackground\": true, \"ticks\": \"\", \"zerolinecolor\": \"white\"}}, \"shapedefaults\": {\"line\": {\"color\": \"#2a3f5f\"}}, \"ternary\": {\"aaxis\": {\"gridcolor\": \"white\", \"linecolor\": \"white\", \"ticks\": \"\"}, \"baxis\": {\"gridcolor\": \"white\", \"linecolor\": \"white\", \"ticks\": \"\"}, \"bgcolor\": \"#E5ECF6\", \"caxis\": {\"gridcolor\": \"white\", \"linecolor\": \"white\", \"ticks\": \"\"}}, \"title\": {\"x\": 0.05}, \"xaxis\": {\"automargin\": true, \"gridcolor\": \"white\", \"linecolor\": \"white\", \"ticks\": \"\", \"title\": {\"standoff\": 15}, \"zerolinecolor\": \"white\", \"zerolinewidth\": 2}, \"yaxis\": {\"automargin\": true, \"gridcolor\": \"white\", \"linecolor\": \"white\", \"ticks\": \"\", \"title\": {\"standoff\": 15}, \"zerolinecolor\": \"white\", \"zerolinewidth\": 2}}}, \"width\": 800},                        {\"responsive\": true}                    ).then(function(){\n",
       "                            \n",
       "var gd = document.getElementById('e73a8d16-6c70-42c9-85e2-471c556d2b37');\n",
       "var x = new MutationObserver(function (mutations, observer) {{\n",
       "        var display = window.getComputedStyle(gd).display;\n",
       "        if (!display || display === 'none') {{\n",
       "            console.log([gd, 'removed!']);\n",
       "            Plotly.purge(gd);\n",
       "            observer.disconnect();\n",
       "        }}\n",
       "}});\n",
       "\n",
       "// Listen for the removal of the full notebook cells\n",
       "var notebookContainer = gd.closest('#notebook-container');\n",
       "if (notebookContainer) {{\n",
       "    x.observe(notebookContainer, {childList: true});\n",
       "}}\n",
       "\n",
       "// Listen for the clearing of the current output cell\n",
       "var outputEl = gd.closest('.output');\n",
       "if (outputEl) {{\n",
       "    x.observe(outputEl, {childList: true});\n",
       "}}\n",
       "\n",
       "                        })                };                });            </script>        </div>"
      ]
     },
     "metadata": {},
     "output_type": "display_data"
    }
   ],
   "source": [
    "# 2. Creating a 3D-Scatter with the PCA data and the clusters\n",
    "\n",
    "fig = px.scatter_3d(\n",
    "    clustered_df,\n",
    "    x=\"PC 1\",\n",
    "    y=\"PC 2\",\n",
    "    z=\"PC 3\",\n",
    "color=\"class\",\n",
    "    symbol=\"class\",\n",
    "    width=800,\n",
    "# 3. CoinName and Algorithm columns to hover_name and hover_data\n",
    "#     https://plotly.com/python-api-reference/generated/plotly.express.scatter_3d.html#plotly-express-scatter-3d\n",
    "hover_data=['CoinName', 'Algorithm'], \n",
    "hover_name=\"CoinName: \"+ clustered_df['CoinName'] + \" , Algorithm: \"+ clustered_df['Algorithm']\n",
    ")\n",
    "fig.update_layout(legend=dict(x=0, y=1))\n",
    "fig.show()\n"
   ]
  },
  {
   "cell_type": "code",
   "execution_count": 113,
   "metadata": {},
   "outputs": [
    {
     "data": {},
     "metadata": {},
     "output_type": "display_data"
    },
    {
     "data": {
      "application/vnd.holoviews_exec.v0+json": "",
      "text/html": [
       "<div id='1509'>\n",
       "\n",
       "\n",
       "\n",
       "\n",
       "\n",
       "  <div class=\"bk-root\" id=\"ea00f35c-a077-4951-a3ec-3b1f35cd2b60\" data-root-id=\"1509\"></div>\n",
       "</div>\n",
       "<script type=\"application/javascript\">(function(root) {\n",
       "  function embed_document(root) {\n",
       "  var docs_json = {\"a8fcbbf1-3e80-4f71-931c-79704bb3809c\":{\"roots\":{\"references\":[{\"attributes\":{\"children\":[{\"id\":\"1510\"},{\"id\":\"1543\"},{\"id\":\"1549\"}],\"margin\":[0,0,0,0],\"name\":\"Row02520\",\"tags\":[\"embedded\"]},\"id\":\"1509\",\"type\":\"Row\"},{\"attributes\":{},\"id\":\"1523\",\"type\":\"StringFormatter\"},{\"attributes\":{\"source\":{\"id\":\"1511\"}},\"id\":\"1544\",\"type\":\"CDSView\"},{\"attributes\":{\"editor\":{\"id\":\"1514\"},\"field\":\"CoinName\",\"formatter\":{\"id\":\"1513\"},\"title\":\"CoinName\"},\"id\":\"1515\",\"type\":\"TableColumn\"},{\"attributes\":{\"data\":{\"Algorithm\":[\"Scrypt\",\"Scrypt\",\"X13\",\"SHA-256\",\"Ethash\",\"Scrypt\",\"X11\",\"CryptoNight-V7\",\"Ethash\",\"Equihash\",\"SHA-512\",\"Multiple\",\"SHA-256\",\"SHA-256\",\"Scrypt\",\"X15\",\"X11\",\"Scrypt\",\"Scrypt\",\"Scrypt\",\"Multiple\",\"Scrypt\",\"SHA-256\",\"Scrypt\",\"Scrypt\",\"Scrypt\",\"Quark\",\"Groestl\",\"Scrypt\",\"Scrypt\",\"Scrypt\",\"Scrypt\",\"Scrypt\",\"X11\",\"Scrypt\",\"Groestl\",\"Multiple\",\"SHA-256\",\"Scrypt\",\"Scrypt\",\"Scrypt\",\"Scrypt\",\"PoS\",\"Scrypt\",\"Scrypt\",\"NeoScrypt\",\"Scrypt\",\"Scrypt\",\"Scrypt\",\"Scrypt\",\"X11\",\"Scrypt\",\"X11\",\"SHA-256\",\"Scrypt\",\"Scrypt\",\"Scrypt\",\"SHA3\",\"Scrypt\",\"HybridScryptHash256\",\"Scrypt\",\"Scrypt\",\"SHA-256\",\"Scrypt\",\"X13\",\"Scrypt\",\"SHA-256\",\"Scrypt\",\"X13\",\"NeoScrypt\",\"Scrypt\",\"Scrypt\",\"Scrypt\",\"Scrypt\",\"Scrypt\",\"Scrypt\",\"X11\",\"X11\",\"SHA-256\",\"Multiple\",\"SHA-256\",\"PHI1612\",\"X11\",\"SHA-256\",\"SHA-256\",\"SHA-256\",\"X11\",\"Scrypt\",\"Scrypt\",\"Scrypt\",\"Scrypt\",\"Lyra2REv2\",\"Scrypt\",\"X11\",\"Multiple\",\"SHA-256\",\"X13\",\"Scrypt\",\"CryptoNight\",\"CryptoNight\",\"Shabal256\",\"Counterparty\",\"Scrypt\",\"SHA-256\",\"Groestl\",\"Scrypt\",\"Scrypt\",\"Scrypt\",\"X13\",\"Scrypt\",\"Scrypt\",\"Scrypt\",\"Scrypt\",\"X13\",\"Scrypt\",\"Stanford Folding\",\"X11\",\"Multiple\",\"QuBit\",\"Scrypt\",\"Scrypt\",\"Scrypt\",\"M7 POW\",\"Scrypt\",\"SHA-256\",\"Scrypt\",\"X11\",\"SHA3\",\"X11\",\"Lyra2RE\",\"SHA-256\",\"QUAIT\",\"X11\",\"X11\",\"Scrypt\",\"Scrypt\",\"Scrypt\",\"Ethash\",\"X13\",\"Blake2b\",\"SHA-256\",\"X15\",\"X11\",\"SHA-256\",\"BLAKE256\",\"Scrypt\",\"1GB AES Pattern Search\",\"SHA-256\",\"X11\",\"Scrypt\",\"SHA-256\",\"SHA-256\",\"NIST5\",\"Scrypt\",\"Scrypt\",\"X11\",\"Dagger\",\"Scrypt\",\"X11GOST\",\"X11\",\"Scrypt\",\"SHA-256\",\"Scrypt\",\"PoS\",\"Scrypt\",\"X11\",\"X11\",\"SHA-256\",\"SHA-256\",\"NIST5\",\"X11\",\"Scrypt\",\"POS 3.0\",\"Scrypt\",\"Scrypt\",\"Scrypt\",\"X13\",\"X11\",\"X11\",\"Equihash\",\"X11\",\"Scrypt\",\"CryptoNight\",\"SHA-256\",\"SHA-256\",\"X11\",\"Scrypt\",\"Multiple\",\"Scrypt\",\"Scrypt\",\"Scrypt\",\"SHA-256\",\"Scrypt\",\"Scrypt\",\"SHA-256D\",\"PoS\",\"Scrypt\",\"X11\",\"Lyra2Z\",\"PoS\",\"X13\",\"X14\",\"PoS\",\"SHA-256D\",\"Ethash\",\"Equihash\",\"DPoS\",\"X11\",\"Scrypt\",\"X11\",\"X13\",\"X11\",\"PoS\",\"Scrypt\",\"Scrypt\",\"X11\",\"PoS\",\"X11\",\"SHA-256\",\"Scrypt\",\"X11\",\"Scrypt\",\"Scrypt\",\"X11\",\"CryptoNight\",\"Scrypt\",\"Scrypt\",\"Scrypt\",\"Scrypt\",\"Quark\",\"QuBit\",\"Scrypt\",\"CryptoNight\",\"Lyra2RE\",\"Scrypt\",\"SHA-256\",\"X11\",\"Scrypt\",\"X11\",\"Scrypt\",\"CryptoNight-V7\",\"Scrypt\",\"Scrypt\",\"Scrypt\",\"X13\",\"X11\",\"Equihash\",\"Scrypt\",\"Scrypt\",\"Lyra2RE\",\"Scrypt\",\"Dagger-Hashimoto\",\"X11\",\"Blake2S\",\"X11\",\"Scrypt\",\"PoS\",\"X11\",\"NIST5\",\"PoS\",\"X11\",\"Scrypt\",\"Scrypt\",\"Scrypt\",\"SHA-256\",\"X11\",\"Scrypt\",\"Scrypt\",\"SHA-256\",\"PoS\",\"Scrypt\",\"X15\",\"SHA-256\",\"Scrypt\",\"POS 3.0\",\"CryptoNight-V7\",\"536\",\"Argon2d\",\"Blake2b\",\"Cloverhash\",\"CryptoNight\",\"NIST5\",\"X11\",\"NIST5\",\"Skein\",\"Scrypt\",\"X13\",\"Scrypt\",\"X11\",\"X11\",\"Scrypt\",\"CryptoNight\",\"X13\",\"Time Travel\",\"Scrypt\",\"Keccak\",\"SkunkHash v2 Raptor\",\"X11\",\"Skein\",\"SHA-256\",\"X11\",\"Scrypt\",\"VeChainThor Authority\",\"Scrypt\",\"PoS\",\"Scrypt\",\"Scrypt\",\"Scrypt\",\"Scrypt\",\"Scrypt\",\"Scrypt\",\"Scrypt\",\"CryptoNight\",\"SHA-512\",\"Ouroboros\",\"X11\",\"Equihash\",\"NeoScrypt\",\"X11\",\"Scrypt\",\"NeoScrypt\",\"Lyra2REv2\",\"Equihash\",\"Scrypt\",\"SHA-256\",\"NIST5\",\"PHI1612\",\"Dagger\",\"Scrypt\",\"Quark\",\"Scrypt\",\"POS 2.0\",\"Scrypt\",\"SHA-256\",\"X11\",\"NeoScrypt\",\"Ethash\",\"NeoScrypt\",\"X11\",\"DPoS\",\"NIST5\",\"X13\",\"Multiple\",\"Scrypt\",\"CryptoNight\",\"CryptoNight\",\"Ethash\",\"NIST5\",\"Quark\",\"X11\",\"CryptoNight-V7\",\"Scrypt\",\"Scrypt\",\"Scrypt\",\"X11\",\"BLAKE256\",\"X11\",\"NeoScrypt\",\"Quark\",\"NeoScrypt\",\"Scrypt\",\"Scrypt\",\"Scrypt\",\"X11\",\"X11\",\"SHA-256\",\"C11\",\"POS 3.0\",\"Ethash\",\"Scrypt\",\"CryptoNight\",\"SkunkHash\",\"Scrypt\",\"CryptoNight\",\"Scrypt\",\"Dagger\",\"Lyra2REv2\",\"X13\",\"Proof-of-BibleHash\",\"SHA-256 + Hive\",\"Scrypt\",\"Scrypt\",\"X11\",\"C11\",\"Proof-of-Authority\",\"X11\",\"XEVAN\",\"Scrypt\",\"VBFT\",\"Ethash\",\"CryptoNight\",\"Scrypt\",\"IMesh\",\"NIST5\",\"Scrypt\",\"Scrypt\",\"Equihash\",\"Scrypt\",\"Lyra2Z\",\"Green Protocol\",\"PoS\",\"Scrypt\",\"Semux BFT consensus\",\"X11\",\"Quark\",\"PoS\",\"CryptoNight\",\"X16R\",\"Scrypt\",\"NIST5\",\"Lyra2RE\",\"XEVAN\",\"Tribus\",\"Scrypt\",\"Lyra2Z\",\"CryptoNight\",\"CryptoNight Heavy\",\"CryptoNight\",\"Scrypt\",\"Scrypt\",\"Jump Consistent Hash\",\"SHA-256D\",\"CryptoNight\",\"Scrypt\",\"X15\",\"Scrypt\",\"Quark\",\"SHA-256\",\"DPoS\",\"X16R\",\"HMQ1725\",\"X11\",\"X16R\",\"Quark\",\"Quark\",\"Scrypt\",\"Lyra2REv2\",\"Quark\",\"Scrypt\",\"Scrypt\",\"CryptoNight-V7\",\"Cryptonight-GPU\",\"XEVAN\",\"CryptoNight Heavy\",\"X11\",\"X11\",\"Scrypt\",\"PoS\",\"SHA-256\",\"Keccak\",\"X11\",\"X11\",\"Scrypt\",\"SHA-512\",\"X16R\",\"ECC 256K1\",\"Equihash\",\"XEVAN\",\"Lyra2Z\",\"SHA-256\",\"XEVAN\",\"X11\",\"CryptoNight\",\"Quark\",\"Blake\",\"Blake\",\"Equihash\",\"Exosis\",\"Scrypt\",\"Scrypt\",\"Equihash\",\"Quark\",\"Equihash\",\"Quark\",\"Scrypt\",\"QuBit\",\"X11\",\"Scrypt\",\"XEVAN\",\"SHA-256D\",\"X11\",\"SHA-256\",\"X13\",\"SHA-256\",\"X11\",\"DPoS\",\"Scrypt\",\"Scrypt\",\"X11\",\"NeoScrypt\",\"Scrypt\",\"Blake\",\"Scrypt\",\"SHA-256\",\"Scrypt\",\"X11\",\"Scrypt\",\"Scrypt\",\"SHA-256\",\"X11\",\"SHA-256\",\"Scrypt\",\"Scrypt\",\"Scrypt\",\"Groestl\",\"X11\",\"Scrypt\",\"PoS\",\"Scrypt\",\"Scrypt\",\"X11\",\"SHA-256\",\"DPoS\",\"Scrypt\",\"Scrypt\",\"NeoScrypt\",\"Multiple\",\"X13\",\"Equihash+Scrypt\",\"DPoS\",\"Ethash\",\"DPoS\",\"SHA-256\",\"Leased POS\",\"PoS\",\"TRC10\",\"PoS\",\"SHA-256\",\"Scrypt\",\"CryptoNight\",\"Equihash\",\"Scrypt\"],\"CoinName\":[\"42 Coin\",\"404Coin\",\"EliteCoin\",\"Bitcoin\",\"Ethereum\",\"Litecoin\",\"Dash\",\"Monero\",\"Ethereum Classic\",\"ZCash\",\"Bitshares\",\"DigiByte\",\"BitcoinDark\",\"PayCoin\",\"ProsperCoin\",\"KoboCoin\",\"Spreadcoin\",\"Argentum\",\"Aurora Coin\",\"BlueCoin\",\"MyriadCoin\",\"MoonCoin\",\"ZetaCoin\",\"SexCoin\",\"Quatloo\",\"EnergyCoin\",\"QuarkCoin\",\"Riecoin\",\"Digitalcoin \",\"BitBar\",\"Catcoin\",\"CryptoBullion\",\"CannaCoin\",\"CryptCoin\",\"CasinoCoin\",\"Diamond\",\"Verge\",\"DevCoin\",\"EarthCoin\",\"E-Gulden\",\"Einsteinium\",\"Emerald\",\"Exclusive Coin\",\"FlutterCoin\",\"Franko\",\"FeatherCoin\",\"GrandCoin\",\"GlobalCoin\",\"GoldCoin\",\"HoboNickels\",\"HyperStake\",\"Infinite Coin\",\"IOCoin\",\"IXcoin\",\"KrugerCoin\",\"LuckyCoin\",\"Litebar \",\"MaxCoin\",\"MegaCoin\",\"MediterraneanCoin\",\"MintCoin\",\"MinCoin\",\"MazaCoin\",\"Nautilus Coin\",\"NavCoin\",\"NobleCoin\",\"Namecoin\",\"NyanCoin\",\"OpalCoin\",\"Orbitcoin\",\"PotCoin\",\"PhoenixCoin\",\"Reddcoin\",\"RonPaulCoin\",\"StableCoin\",\"SmartCoin\",\"SuperCoin\",\"SyncCoin\",\"SysCoin\",\"TeslaCoin\",\"TigerCoin\",\"TittieCoin\",\"TorCoin\",\"TerraCoin\",\"UnbreakableCoin\",\"Unobtanium\",\"UroCoin\",\"UnitaryStatus Dollar\",\"UltraCoin\",\"ViaCoin\",\"VeriCoin\",\"Vertcoin\",\"WorldCoin\",\"X11 Coin\",\"Crypti\",\"JouleCoin\",\"StealthCoin\",\"ZCC Coin\",\"ByteCoin\",\"DigitalNote \",\"BurstCoin\",\"StorjCoin\",\"MonaCoin\",\"Neutron\",\"FairCoin\",\"Gulden\",\"RubyCoin\",\"PesetaCoin\",\"Kore\",\"Wild Beast Coin\",\"Dnotes\",\"Flo\",\"8BIT Coin\",\"Sativa Coin\",\"ArtByte\",\"Folding Coin\",\"Ucoin\",\"Unitus\",\"CypherPunkCoin\",\"OmniCron\",\"Vtorrent\",\"GreenCoin\",\"Cryptonite\",\"MasterCoin\",\"SoonCoin\",\"1Credit\",\"IslaCoin\",\"Nexus\",\"MarsCoin \",\"Crypto\",\"Anarchists Prime\",\"Droidz\",\"BowsCoin\",\"Squall Coin\",\"Song Coin\",\"BitZeny\",\"Diggits\",\"Expanse\",\"Paycon\",\"Siacoin\",\"Emercoin\",\"EverGreenCoin\",\"MindCoin\",\"I0coin\",\"Decred\",\"Revolution VR\",\"HOdlcoin\",\"EDRCoin\",\"Hitcoin\",\"Gamecredits\",\"DubaiCoin\",\"CarpeDiemCoin\",\"PWR Coin\",\"BillaryCoin\",\"GPU Coin\",\"Adzcoin\",\"SoilCoin\",\"YoCoin\",\"SibCoin\",\"EuropeCoin\",\"ZeitCoin\",\"SwingCoin\",\"SafeExchangeCoin\",\"Nebuchadnezzar\",\"Francs\",\"BolivarCoin\",\"Ratecoin\",\"Revenu\",\"Clockcoin\",\"VIP Tokens\",\"BitSend\",\"Omni\",\"Let it Ride\",\"PutinCoin\",\"iBankCoin\",\"Frankywillcoin\",\"MudraCoin\",\"PizzaCoin\",\"Lutetium Coin\",\"Komodo\",\"GoldBlocks\",\"CarterCoin\",\"Karbo\",\"BitTokens\",\"ZayedCoin\",\"MustangCoin\",\"ZoneCoin\",\"Circuits of Value\",\"RootCoin\",\"DopeCoin\",\"BitCurrency\",\"DollarCoin\",\"Swiscoin\",\"Shilling\",\"BuzzCoin\",\"Opair\",\"PesoBit\",\"Halloween Coin\",\"ZCoin\",\"CoffeeCoin\",\"RoyalCoin\",\"GanjaCoin V2\",\"TeamUP\",\"LanaCoin\",\"Elementrem\",\"ZClassic\",\"ARK\",\"InsaneCoin\",\"KiloCoin\",\"ArtexCoin\",\"EmberCoin\",\"XenixCoin\",\"FreeCoin\",\"PLNCoin\",\"AquariusCoin\",\"Kurrent\",\"Creatio\",\"Eternity\",\"Eurocoin\",\"BitcoinFast\",\"Stakenet\",\"BitConnect Coin\",\"MoneyCoin\",\"Enigma\",\"Cannabis Industry Coin\",\"Russiacoin\",\"PandaCoin\",\"GameUnits\",\"GAKHcoin\",\"Allsafe\",\"LiteCreed\",\"OsmiumCoin\",\"Bikercoins\",\"HexxCoin\",\"Klingon Empire Darsek\",\"Internet of People\",\"KushCoin\",\"Printerium\",\"PacCoin\",\"Impeach\",\"Citadel\",\"Zilbercoin\",\"FirstCoin\",\"BeaverCoin\",\"FindCoin\",\"VaultCoin\",\"Zero\",\"OpenChat\",\"Canada eCoin\",\"Zoin\",\"RenosCoin\",\"DubaiCoin\",\"VirtacoinPlus\",\"TajCoin\",\"Impact\",\"EB3coin\",\"Atmos\",\"HappyCoin\",\"Coinonat\",\"MacronCoin\",\"Condensate\",\"Independent Money System\",\"ArgusCoin\",\"LomoCoin\",\"ProCurrency\",\"GoldReserve\",\"BenjiRolls\",\"GrowthCoin\",\"ILCoin\",\"Phreak\",\"Degas Coin\",\"HTML5 Coin\",\"Ultimate Secure Cash\",\"EquiTrader\",\"QTUM\",\"Quantum Resistant Ledger\",\"Espers\",\"Dynamic\",\"Nano\",\"ChanCoin\",\"Dinastycoin\",\"Denarius\",\"DigitalPrice\",\"Virta Unique Coin\",\"Bitcoin Planet\",\"Unify\",\"BritCoin\",\"SocialCoin\",\"ArcticCoin\",\"DAS\",\"Linda\",\"LeviarCoin\",\"DeepOnion\",\"Bitcore\",\"gCn Coin\",\"SmartCash\",\"Signatum\",\"Onix\",\"Cream\",\"Bitcoin Cash\",\"Monoeci\",\"Draftcoin\",\"Vechain\",\"Sojourn Coin\",\"Stakecoin\",\"NewYorkCoin\",\"FrazCoin\",\"Kronecoin\",\"AdCoin\",\"Linx\",\"CoinonatX\",\"Ethereum Dark\",\"Sumokoin\",\"Obsidian\",\"Cardano\",\"Regalcoin\",\"BitcoinZ\",\"TrezarCoin\",\"Elements\",\"TerraNovaCoin\",\"VIVO Coin\",\"Rupee\",\"Bitcoin Gold\",\"WomenCoin\",\"Theresa May Coin\",\"NamoCoin\",\"LUXCoin\",\"Pirl\",\"Xios\",\"Bitcloud 2.0\",\"eBoost\",\"KekCoin\",\"BlackholeCoin\",\"Infinity Economics\",\"Pura\",\"Innova\",\"Ellaism\",\"GoByte\",\"Magnet\",\"Lamden Tau\",\"Electra\",\"Bitcoin Diamond\",\"SHIELD\",\"Cash & Back Coin\",\"UltraNote\",\"BitCoal\",\"DaxxCoin\",\"Bulwark\",\"Kalkulus\",\"AC3\",\"Lethean\",\"GermanCoin\",\"LiteCoin Ultra\",\"PopularCoin\",\"PhantomX\",\"Photon\",\"Sucre\",\"SparksPay\",\"Digiwage\",\"GunCoin\",\"IrishCoin\",\"Trollcoin\",\"Litecoin Plus\",\"Monkey Project\",\"Pioneer Coin\",\"UnitedBitcoin\",\"Interzone\",\"TokenPay\",\"1717 Masonic Commemorative Token\",\"My Big Coin\",\"TurtleCoin\",\"MUNcoin\",\"Unified Society USDEX\",\"Niobio Cash\",\"ShareChain\",\"Travelflex\",\"KREDS\",\"Tokyo Coin\",\"BiblePay\",\"LitecoinCash\",\"BitFlip\",\"LottoCoin\",\"Crypto Improvement Fund\",\"Stipend\",\"Poa Network\",\"Pushi\",\"Ellerium\",\"Velox\",\"Ontology\",\"Callisto Network\",\"BitTube\",\"Poseidon\",\"Aidos Kuneen\",\"Bitspace\",\"Briacoin\",\"Ignition\",\"Bitrolium\",\"MedicCoin\",\"Alpenschillling\",\"Bitcoin Green\",\"Deviant Coin\",\"Abjcoin\",\"Semux\",\"FuturoCoin\",\"Carebit\",\"Zealium\",\"Monero Classic\",\"Proton\",\"iDealCash\",\"Jumpcoin\",\"Infinex\",\"Bitcoin Incognito\",\"KEYCO\",\"HollyWoodCoin\",\"GINcoin\",\"PlatinCoin\",\"Loki\",\"Newton Coin\",\"Swisscoin\",\"Xt3ch\",\"MassGrid\",\"TheVig\",\"PluraCoin\",\"EmaratCoin\",\"Dekado\",\"Lynx\",\"Poseidon Quark\",\"BitcoinWSpectrum\",\"Muse\",\"Motion\",\"PlusOneCoin\",\"Axe\",\"Trivechain\",\"Dystem\",\"Giant\",\"Peony Coin\",\"Absolute Coin\",\"Vitae\",\"HexCoin\",\"TPCash\",\"Webchain\",\"Ryo\",\"Urals Coin\",\"Qwertycoin\",\"ARENON\",\"EUNO\",\"MMOCoin\",\"Ketan\",\"Project Pai\",\"XDNA\",\"PAXEX\",\"Azart\",\"ThunderStake\",\"Kcash\",\"Xchange\",\"Acute Angle Cloud\",\"CrypticCoin\",\"Bettex coin\",\"Actinium\",\"Bitcoin SV\",\"BitMoney\",\"Junson Ming Chan Coin\",\"FREDEnergy\",\"HerbCoin\",\"Universal Molecule\",\"Lithium\",\"PirateCash\",\"Exosis\",\"Block-Logic\",\"Oduwa\",\"Beam\",\"Galilel\",\"Bithereum\",\"Crypto Sports\",\"Credit\",\"SLICE\",\"Dash Platinum\",\"Nasdacoin\",\"Beetle Coin\",\"Titan Coin\",\"Award\",\"BLAST\",\"Bitcoin Rhodium\",\"GlobalToken\",\"Insane Coin\",\"ALAX\",\"LiteDoge\",\"SolarCoin\",\"TruckCoin\",\"UFO Coin\",\"OrangeCoin\",\"BlakeCoin\",\"BitstarCoin\",\"NeosCoin\",\"HyperCoin\",\"PinkCoin\",\"Crypto Escudo\",\"AudioCoin\",\"IncaKoin\",\"Piggy Coin\",\"Crown Coin\",\"Genstake\",\"SmileyCoin\",\"XiaoMiCoin\",\"Groestlcoin\",\"CapriCoin\",\" ClubCoin\",\"Radium\",\"Bata\",\"Pakcoin\",\"Creditbit \",\"OKCash\",\"Lisk\",\"HiCoin\",\"WhiteCoin\",\"FriendshipCoin\",\"JoinCoin\",\"Triangles Coin\",\"Vollar\",\"EOS\",\"Reality Clash\",\"Oxycoin\",\"TigerCash\",\"Waves\",\"Particl\",\"BitTorrent\",\"Nxt\",\"ZEPHYR\",\"Gapcoin\",\"Beldex\",\"Horizen\",\"BitcoinPlus\"],\"ProofType\":[\"PoW/PoS\",\"PoW/PoS\",\"PoW/PoS\",\"PoW\",\"PoW\",\"PoW\",\"PoW/PoS\",\"PoW\",\"PoW\",\"PoW\",\"PoS\",\"PoW\",\"PoW/PoS\",\"PoS\",\"PoW\",\"PoW/PoS\",\"PoW\",\"PoW\",\"PoW/PoS\",\"PoW/PoS\",\"PoW\",\"PoW\",\"PoW\",\"PoW\",\"PoW\",\"PoW/PoS\",\"PoW\",\"PoW\",\"PoW\",\"PoW/PoS\",\"PoW\",\"PoW/PoS\",\"PoW\",\"PoW\",\"PoC\",\"PoW/PoS\",\"PoW\",\"PoW\",\"PoW\",\"PoW\",\"PoW\",\"PoW\",\"PoS\",\"PoS/PoW/PoT\",\"PoW\",\"PoW\",\"PoW\",\"PoW\",\"PoW\",\"PoW/PoS\",\"PoS\",\"PoW\",\"PoW/PoS\",\"PoW\",\"PoW\",\"PoW\",\"PoW\",\"PoW/PoS\",\"PoW\",\"PoW\",\"PoS\",\"PoW\",\"PoW/PoS\",\"PoS\",\"PoW/PoS\",\"PoW\",\"PoW\",\"PoW\",\"PoW/PoS\",\"PoW/PoS\",\"PoW/PoS\",\"PoW/PoS\",\"PoW/PoS\",\"PoW\",\"PoW\",\"PoW\",\"PoS\",\"PoW/PoS\",\"PoW\",\"PoS\",\"PoW\",\"PoS\",\"PoW/PoS\",\"PoW\",\"PoW\",\"PoW\",\"PoW\",\"PoW/PoS\",\"PoW/PoS\",\"PoW\",\"PoST\",\"PoW\",\"PoW\",\"PoW/PoS\",\"PoS\",\"PoW\",\"PoW/PoS\",\"PoW/PoS\",\"PoW\",\"PoW\",\"PoC\",\"PoS\",\"PoW\",\"PoW/PoS\",\"PoW/PoS\",\"PoW\",\"PoS\",\"PoW\",\"PoW/PoS\",\"PoW\",\"PoS\",\"PoW\",\"PoW/PoS\",\"PoW/PoS\",\"PoW\",\"PoW\",\"PoS\",\"PoW\",\"PoW\",\"PoW\",\"PoW/PoS\",\"PoW\",\"PoW\",\"PoW\",\"PoW\",\"PoW\",\"PoW/PoS\",\"PoW/nPoS\",\"PoW\",\"PoW\",\"PoW\",\"PoW/PoS\",\"PoW\",\"PoS/PoW\",\"PoW\",\"PoW\",\"PoS\",\"PoW\",\"PoW/PoS\",\"PoW\",\"PoW/PoS\",\"PoW/PoS\",\"PoW\",\"PoW\",\"PoW/PoS\",\"PoW\",\"PoW\",\"PoW/PoS\",\"PoW/PoS\",\"PoW\",\"PoW/PoS\",\"PoW\",\"PoW/PoS\",\"PoW/PoS\",\"PoS\",\"PoW\",\"PoW\",\"PoW\",\"PoW\",\"PoW/PoS\",\"PoS\",\"PoW/PoS\",\"PoC\",\"PoS\",\"PoW\",\"PoW\",\"PoW/PoS\",\"PoW/PoS\",\"PoW/PoS\",\"PoW/PoS\",\"PoW/PoS\",\"PoW\",\"PoS\",\"PoW/PoS\",\"PoW/PoS\",\"PoW/PoS\",\"PoS\",\"PoW\",\"PoS\",\"dPoW/PoW\",\"PoW/PoS\",\"PoW/PoS\",\"PoW\",\"PoW/PoS\",\"PoW\",\"PoW/PoS\",\"PoW/PoS\",\"PoW\",\"PoW/PoS\",\"PoW\",\"PoS\",\"PoW\",\"PoW/PoW\",\"PoW\",\"PoW/PoS\",\"PoS\",\"PoW/PoS\",\"PoW/PoS\",\"PoW\",\"PoS\",\"PoS\",\"PoW/PoS\",\"PoS\",\"PoW/PoS\",\"PoW\",\"PoW\",\"DPoS\",\"PoW/PoS\",\"PoW\",\"PoW\",\"PoW/PoS\",\"PoW/PoS\",\"PoS\",\"PoW/PoS\",\"PoW/PoS\",\"PoW\",\"PoS\",\"PoW/PoS\",\"PoW/PoS\",\"PoW/PoS\",\"TPoS\",\"PoW/PoS\",\"PoW/PoS\",\"PoW/PoS\",\"PoW\",\"PoW/PoS\",\"PoS\",\"PoW/PoS\",\"PoW/PoS\",\"PoS\",\"PoW/PoS\",\"PoW\",\"PoW\",\"PoW\",\"PoW/PoS\",\"PoW/PoS\",\"PoW/PoS\",\"PoW/PoS\",\"PoW\",\"PoW/PoS\",\"PoW\",\"PoS\",\"PoW/PoS \",\"PoW\",\"PoS\",\"PoW\",\"PoW\",\"PoW/PoS\",\"PoW\",\"PoW\",\"PoS\",\"PoW\",\"PoW/PoS\",\"PoW/PoS\",\"PoW/PoS\",\"PoW\",\"PoS\",\"PoW/PoS\",\"PoW\",\"PoS\",\"PoW/PoS\",\"PoW/PoS\",\"PoW/PoS\",\"PoW/PoS\",\"PoS\",\"PoW/PoS\",\"PoW\",\"PoS\",\"PoW\",\"PoS\",\"PoW/PoS\",\"PoW/PoS\",\"PoS\",\"PoW\",\"PoS\",\"PoW\",\"PoW/PoS\",\"PoW\",\"PoW\",\"PoW\",\"PoW\",\"PoW/PoS\",\"PoW\",\"PoW/PoS\",\"PoW/PoS\",\"PoW\",\"PoW/PoS\",\"PoW\",\"PoW\",\"PoW\",\"PoW/PoS\",\"PoW\",\"PoW/PoS\",\"PoW\",\"PoW\",\"PoW\",\"PoS\",\"PoW\",\"PoW/PoS\",\"PoW\",\"PoW/PoS\",\"PoS\",\"Proof of Authority\",\"PoW\",\"PoS\",\"PoW\",\"PoW\",\"PoW\",\"PoW\",\"PoW\",\"PoW/PoS\",\"PoW/PoS\",\"PoW\",\"PoS\",\"PoS\",\"PoW/PoS\",\"PoW\",\"PoW/PoS\",\"PoW\",\"PoW/PoS\",\"PoW\",\"PoS\",\"PoW\",\"PoW/PoS\",\"PoW/PoS\",\"PoW/PoS\",\"PoW/PoS\",\"PoW\",\"PoW/PoS\",\"PoW/PoS\",\"PoW\",\"PoS\",\"PoW/PoS\",\"PoS\",\"PoW\",\"PoW\",\"PoW\",\"PoW\",\"PoW/PoS\",\"DPoS\",\"PoW/PoS\",\"PoW/PoS\",\"PoW\",\"PoW/PoS\",\"PoW\",\"PoW\",\"PoW\",\"PoS\",\"PoS\",\"PoW\",\"PoW\",\"PoW/PoS\",\"PoW/PoS\",\"PoW\",\"PoW/PoS\",\"PoW\",\"PoW\",\"PoW\",\"PoS\",\"PoW\",\"PoW\",\"PoW/PoS\",\"PoW/PoS\",\"PoS\",\"PoW\",\"PoW\",\"PoW\",\"PoS\",\"PoS\",\"PoW and PoS\",\"PoW\",\"PoW\",\"PoW/PoS\",\"PoW\",\"PoW\",\"PoW\",\"PoW\",\"PoS\",\"POBh\",\"PoW + Hive\",\"PoW\",\"PoW\",\"PoW\",\"PoW/PoS\",\"PoA\",\"PoW/PoS\",\"PoW/PoS\",\"PoS\",\"PoS\",\"PoW\",\"PoW\",\"PoW\",\"PoW\",\"PoW/PoS\",\"PoW/PoS\",\"PoW/PoS\",\"PoW\",\"PoS\",\"PoW\",\"PoS\",\"PoS\",\"PoW/PoS\",\"DPoS\",\"PoW\",\"PoW/PoS\",\"PoS\",\"PoW\",\"PoS\",\"PoW/PoS\",\"PoW\",\"PoW\",\"PoS/PoW\",\"PoW\",\"PoS\",\"PoW\",\"PoW\",\"PoW\",\"PoW\",\"PoW/PoS\",\"PoS\",\"PoW\",\"PoW/PoS\",\"PoW\",\"PoW/PoS\",\"PoS\",\"HPoW\",\"PoS\",\"PoS\",\"PoS\",\"PoW\",\"PoW\",\"PoW\",\"PoW/PoS\",\"PoS\",\"PoW/PoS\",\"PoS\",\"PoW/PoS\",\"PoS\",\"PoW\",\"PoW/PoS\",\"PoW\",\"PoW\",\"PoW\",\"PoW\",\"PoS\",\"PoW/PoS\",\"PoS\",\"PoS\",\"PoW\",\"PoW/PoS\",\"PoS\",\"PoW\",\"PoW/PoS\",\"Zero-Knowledge Proof\",\"PoW\",\"DPOS\",\"PoW\",\"PoS\",\"PoW\",\"PoW\",\"Pos\",\"PoS\",\"PoW\",\"PoW/PoS\",\"PoW\",\"PoW\",\"PoS\",\"PoW\",\"PoW\",\"PoW/PoS\",\"PoW\",\"PoW/PoS\",\"PoW\",\"PoS\",\"PoW/PoS\",\"PoW\",\"PoS\",\"PoW/PoS\",\"PoW/PoS\",\"PoW/PoS\",\"PoW/PoS\",\"PoW\",\"PoW\",\"PoW\",\"PoW/PoS\",\"DPoS\",\"PoW/PoS\",\"PoW\",\"PoW/PoS\",\"PoW\",\"PoW/PoS\",\"PoW\",\"PoW/PoS\",\"PoS\",\"PoW/PoS\",\"PoW/PoS\",\"PoW\",\"PoW/PoS\",\"PoW/PoS\",\"PoW/PoS\",\"PoW\",\"PoW/PoS\",\"PoW\",\"PoW/PoS\",\"PoW\",\"PoW/PoS\",\"PoW/PoS\",\"PoS\",\"PoW\",\"PoW\",\"Proof of Trust\",\"PoW/PoS\",\"DPoS\",\"PoS\",\"PoW/PoS\",\"PoW/PoS\",\"PoW\",\"PoW/PoS\",\"PoW\",\"DPoS\",\"PoW\",\"DPoS\",\"PoS\",\"LPoS\",\"PoS\",\"DPoS\",\"PoS/LPoS\",\"DPoS\",\"PoW/PoS\",\"PoW\",\"PoW\",\"PoS\"],\"TotalCoinSupply\":[\"42\",\"532000000\",\"314159265359\",\"21000000\",\"0\",\"84000000\",\"22000000\",\"0\",\"210000000\",\"21000000\",\"3600570502\",\"21000000000\",\"22000000\",\"12500000\",\"21000000\",\"350000000\",\"20000000\",\"64000000\",\"16768584\",\"0\",\"2000000000\",\"384000000000\",\"169795588\",\"250000000\",\"100000000\",\"0\",\"247000000\",\"84000000\",\"48166000\",\"500000\",\"21000000 \",\"1000000\",\"13140000\",\"18000000\",\"40000000000\",\"4380000\",\"16555000000\",\"21000000000\",\"13500000000\",\"21000000 \",\"299792458\",\"32000000\",\"0\",\"0\",\"11235813\",\"336000000\",\"1420609614\",\"70000000\",\"72245700\",\"120000000\",\"0\",\"90600000000\",\"22000000\",\"21000000\",\"265420800\",\"20000000\",\"1350000\",\"100000000\",\"42000000\",\"200000000\",\"0\",\"10000000\",\"2419200000\",\"16180000\",\"0\",\"15000000000\",\"21000000\",\"337000000\",\"0\",\"3770000\",\"420000000\",\"98000000\",\"0\",\"21000000\",\"250000000\",\"51200000\",\"0\",\"1000\",\"888000000\",\"100000000\",\"47011968\",\"2300000000\",\"10000000\",\"42000000\",\"80000000\",\"250000\",\"0\",\"1600000000\",\"100000000\",\"23000000\",\"0\",\"84000000\",\"265420800\",\"5500000\",\"0\",\"45000000\",\"0\",\"1000000000\",\"184467440735\",\"10000000000\",\"2158812800\",\"500000000\",\"105120000\",\"68000000\",\"0\",\"1680000000\",\"0\",\"166386000\",\"12000000\",\"2628000\",\"500000000\",\"160000000\",\"0\",\"10000000\",\"1000000000\",\"1000000000\",\"20000000\",\"0\",\"0\",\"3371337\",\"20000000\",\"10000000000\",\"1840000000\",\"619478\",\"21000000\",\"92000000000\",\"0\",\"78000000\",\"33000000\",\"65789100\",\"53760000\",\"5060000\",\"21000000\",\"0\",\"210240000\",\"250000000\",\"100000000\",\"16906397\",\"50000000\",\"0\",\"1000000000\",\"26298000\",\"16000000\",\"21000000\",\"21000000\",\"210000000\",\"81962100\",\"22000000\",\"26550000000\",\"84000000\",\"10500000\",\"21626280000 \",\"0\",\"42000000\",\"221052632\",\"84000000\",\"30000000\",\"168351300\",\"24000000\",\"384000000\",\" 99000000000\",\"40000000\",\"2147483647\",\"20000000\",\"20000000\",\"25000000\",\"75000000\",\"222725000\",\"525000000\",\"90000000\",\"139000000\",\"616448\",\"33500000\",\"2000000000\",\"44333333\",\"100000000\",\"200000000\",\"25000000\",\"657000000\",\"200000000\",\"50000000\",\"90000000\",\"10000000\",\"21000000\",\"9736000\",\"3000000\",\"21000000\",\"1200000000\",\"0\",\"200000000\",\"0\",\"10638298\",\"3100000000\",\"30000000\",\"20000000000\",\"74000000\",\"0\",\"1500000000\",\"21400000\",\"39999898\",\"2500124\",\"100000000\",\"301000000\",\"7506000000\",\"26205539\",\"21000000\",\"125000000\",\"30000000\",\"10000000000\",\"500000000\",\"850000000\",\"3853326.77707314\",\"50000000\",\"38540000 \",\"42000000\",\"228000000\",\"20000000\",\"60000000\",\"20000000\",\"33000000\",\"76500000\",\"28000000\",\"650659833\",\"5000000\",\"21000000\",\"144000000\",\"32514916898\",\"13000000\",\"3315789\",\"15000000\",\"78835200\",\"2714286\",\"25000000\",\"9999999\",\"500000000\",\"21000000\",\"9354000\",\"20000000\",\"100000000000\",\"21933333\",\"185000000\",\"55000000\",\"110000000\",\"3360000\",\"14524851.4827\",\"1000000000\",\"17000000\",\"1000000000\",\"100000000 \",\"21000000\",\"34426423\",\"2232901\",\"100000000\",\"36900000\",\"110000000\",\"4000000000\",\"110290030\",\"100000000\",\"48252000\",\"400000000\",\"500000000\",\"21212121\",\"28600000\",\"1000000000\",\"75000000000\",\"40000000\",\"35520400\",\"2000000000\",\"2500000000\",\"30000000\",\"105000000\",\"90000000000\",\"200084200\",\"72000000\",\"100000000\",\"105000000\",\"50000000000\",\"0\",\"340282367\",\"30000000\",\"2000000000\",\"10000000\",\"100000000\",\"120000000\",\"100000000\",\"19276800\",\"30000000\",\" 75000000\",\"60000000\",\"18900000\",\"50000000000\",\"54000000\",\"18898187.6216583\",\"21000000\",\"200000000000\",\"5000000000\",\"137500000\",\"1100000000\",\"100000000\",\"21000000\",\"9507271\",\"17405891.19707116\",\"86712634466\",\"10500000000\",\"61599965\",\"0\",\"20000000\",\"84000000\",\"100000000\",\"100000000\",\"48252000\",\"4200000\",\"88888888\",\"91388946\",\"45000000000\",\"27000000\",\"21000000000\",\"400000000\",\"1800000000\",\"15733333\",\"27000000\",\"24000000\",\"21000000\",\"25000000000\",\"100000000\",\"1200000000\",\"60000000\",\"156306732.71\",\"21000000\",\"200000000\",\"100000000\",\"21000000\",\"14788275.991\",\"9000000000\",\"350000000\",\"45000000\",\"280000000\",\"31800000\",\"144000000\",\"500000000\",\"30000000000\",\"210000000\",\"660000000\",\"210000000\",\"85000000000\",\"12500000\",\"10000000000\",\"27716121\",\"20000000\",\"550000000\",\"999481516\",\"50000000000\",\"150000000\",\"4999999999\",\"50000000\",\" 90000000000\",\"19800000\",\"21000000\",\"120000000\",\"500000000\",\"64000000\",\"900000000\",\"4000000\",\"21000000\",\"23000000\",\"20166000\",\"23000000\",\"25000000\",\"1618033\",\"30000000\",\"1000000000000\",\"16600000\",\"232000000\",\"336000000\",\"10000000000\",\"100000000\",\"1100000000\",\"800000000\",\"5200000000\",\"840000000\",\"40000000\",\"18406979840\",\"500000000\",\"19340594\",\"252460800\",\"25000000\",\"60000000\",\"124000000\",\"1000000000\",\"6500000000\",\"1000000000\",\"21000000\",\"25000000\",\"50000000\",\"3000000\",\"5000000\",\"70000000\",\"500000000\",\"300000000\",\"21000000\",\"88000000\",\"30000000\",\"100000000\",\"100000000\",\"200000000\",\"80000000\",\"18400000\",\"45000000\",\"5121951220\",\"21000000\",\"26280000\",\"21000000\",\"18000000\",\"26000000\",\"10500000\",\"600000518\",\"150000000\",\"184000000000\",\"10200000000\",\"44000000\",\"168000000\",\"100000000\",\"1000000000\",\"84000000\",\"90000000\",\"92000000000\",\"650000000 \",\"100262205\",\"18081806 \",\"22075700\",\"21000000\",\"21000000\",\"82546564\",\"21000000\",\"5151000\",\"16880000000\",\"52500000\",\"100000000\",\"22105263\",\"1000000000\",\"1750000000\",\"88188888\",\"210000000\",\"184470000000\",\"55000000\",\"50000000\",\"260000000\",\"210000000\",\"2100000000\",\"366000000\",\"100000000\",\"25000000\",\"18000000000\",\"1000000000\",\"100000000\",\"1000000000\",\"7600000000\",\"50000000\",\"84000000\",\"21000000\",\"70000000000\",\"0\",\"8080000000\",\"54000000\",\"105120001.44\",\"25228800\",\"105000000\",\"21000000\",\"120000000\",\"21000000\",\"262800000\",\"19035999\",\"30886000\",\"13370000\",\"74800000000\",\"100000000\",\"19700000\",\"84000000\",\"500000000\",\"5000000000\",\"420000000\",\"64000000\",\"2100000\",\"168000000\",\"30000000\",\"1000000000\",\"35000000000\",\"98100000000\",\"0\",\"4000000000\",\"200000000\",\"7000000000\",\"54256119\",\"21000000\",\"0\",\"500000000\",\"1000000000\",\"10500000000\",\"190000000\",\"1000000000\",\"42000000\",\"15000000\",\"50000000000\",\"400000000\",\"105000000\",\"208000000\",\"160000000\",\"9000000\",\"5000000\",\"182000000\",\"16504333\",\"105000000\",\"159918400\",\"10008835635\",\"300000000\",\"60168145\",\"2800000\",\"120000\",\"2100000000\",\"0\",\"24487944\",\"0\",\"1000000000\",\"100000000\",\"8634140\",\"990000000000\",\"1000000000\",\"2000000000\",\"250000000\",\"1400222610\",\"21000000\",\"1000000\"],\"TotalCoinsMined\":{\"__ndarray__\":\"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\",\"dtype\":\"float64\",\"order\":\"little\",\"shape\":[532]},\"class\":{\"__ndarray__\":\"AAAAAAAAAAAAAAAAAwAAAAMAAAADAAAAAAAAAAMAAAADAAAAAwAAAAAAAAADAAAAAAAAAAAAAAADAAAAAAAAAAMAAAADAAAAAAAAAAAAAAADAAAAAwAAAAMAAAADAAAAAwAAAAAAAAADAAAAAwAAAAMAAAAAAAAAAwAAAAAAAAADAAAAAwAAAAAAAAAAAAAAAwAAAAMAAAADAAAAAwAAAAMAAAADAAAAAAAAAAAAAAADAAAAAwAAAAMAAAADAAAAAwAAAAAAAAAAAAAAAwAAAAAAAAADAAAAAwAAAAMAAAADAAAAAAAAAAMAAAADAAAAAAAAAAMAAAAAAAAAAAAAAAAAAAADAAAAAwAAAAMAAAAAAAAAAAAAAAAAAAAAAAAAAAAAAAMAAAADAAAAAwAAAAAAAAAAAAAAAwAAAAAAAAADAAAAAAAAAAAAAAADAAAAAwAAAAMAAAADAAAAAAAAAAAAAAADAAAAAAAAAAMAAAADAAAAAAAAAAAAAAADAAAAAAAAAAAAAAADAAAAAwAAAAAAAAAAAAAAAwAAAAAAAAAAAAAAAwAAAAAAAAADAAAAAAAAAAMAAAAAAAAAAwAAAAAAAAAAAAAAAwAAAAMAAAAAAAAAAwAAAAMAAAADAAAAAAAAAAMAAAADAAAAAwAAAAMAAAADAAAAAAAAAAAAAAADAAAAAwAAAAMAAAAAAAAAAwAAAAAAAAADAAAAAwAAAAAAAAADAAAAAAAAAAMAAAAAAAAAAAAAAAMAAAADAAAAAAAAAAMAAAADAAAAAAAAAAAAAAADAAAAAAAAAAMAAAAAAAAAAAAAAAAAAAADAAAAAwAAAAMAAAADAAAAAAAAAAAAAAAAAAAAAAAAAAAAAAADAAAAAwAAAAAAAAAAAAAAAAAAAAAAAAAAAAAAAwAAAAAAAAAAAAAAAAAAAAAAAAAAAAAAAwAAAAAAAAADAAAAAAAAAAAAAAADAAAAAAAAAAMAAAAAAAAAAAAAAAMAAAAAAAAAAwAAAAAAAAADAAAAAAAAAAMAAAAAAAAAAAAAAAAAAAAAAAAAAwAAAAAAAAAAAAAAAAAAAAAAAAAAAAAAAwAAAAMAAAAAAAAAAAAAAAMAAAADAAAAAAAAAAAAAAAAAAAAAAAAAAAAAAADAAAAAAAAAAAAAAAAAAAAAAAAAAAAAAAAAAAAAAAAAAAAAAADAAAAAAAAAAAAAAAAAAAAAAAAAAAAAAAAAAAAAwAAAAMAAAADAAAAAAAAAAAAAAAAAAAAAAAAAAMAAAAAAAAAAwAAAAAAAAAAAAAAAwAAAAAAAAADAAAAAwAAAAAAAAADAAAAAwAAAAAAAAADAAAAAAAAAAAAAAAAAAAAAwAAAAAAAAAAAAAAAwAAAAAAAAAAAAAAAAAAAAAAAAAAAAAAAAAAAAAAAAADAAAAAAAAAAMAAAAAAAAAAAAAAAAAAAAAAAAAAwAAAAAAAAADAAAAAAAAAAMAAAADAAAAAwAAAAMAAAAAAAAAAwAAAAAAAAAAAAAAAwAAAAAAAAADAAAAAwAAAAMAAAAAAAAAAwAAAAAAAAADAAAAAwAAAAMAAAAAAAAAAwAAAAAAAAADAAAAAAAAAAAAAAAAAAAAAwAAAAAAAAADAAAAAwAAAAMAAAADAAAAAwAAAAAAAAAAAAAAAwAAAAAAAAAAAAAAAAAAAAMAAAAAAAAAAwAAAAAAAAADAAAAAAAAAAMAAAAAAAAAAAAAAAAAAAAAAAAAAwAAAAAAAAAAAAAAAwAAAAAAAAAAAAAAAAAAAAMAAAADAAAAAwAAAAMAAAAAAAAAAAAAAAAAAAAAAAAAAwAAAAAAAAADAAAAAwAAAAMAAAAAAAAAAAAAAAMAAAADAAAAAAAAAAAAAAADAAAAAAAAAAMAAAADAAAAAwAAAAAAAAADAAAAAwAAAAAAAAAAAAAAAAAAAAMAAAADAAAAAwAAAAAAAAADAAAAAAAAAAMAAAADAAAAAAAAAAMAAAADAAAAAwAAAAMAAAAAAAAAAQAAAAEAAAADAAAAAwAAAAMAAAAAAAAAAQAAAAAAAAAAAAAAAAAAAAAAAAADAAAAAwAAAAMAAAADAAAAAAAAAAAAAAAAAAAAAwAAAAAAAAADAAAAAAAAAAAAAAAAAAAAAAAAAAMAAAAAAAAAAAAAAAMAAAAAAAAAAAAAAAMAAAADAAAAAAAAAAMAAAAAAAAAAwAAAAMAAAADAAAAAwAAAAAAAAAAAAAAAwAAAAAAAAADAAAAAAAAAAAAAAAAAAAAAAAAAAAAAAAAAAAAAwAAAAMAAAADAAAAAAAAAAAAAAAAAAAAAAAAAAAAAAAAAAAAAwAAAAAAAAADAAAAAwAAAAMAAAADAAAAAAAAAAAAAAAAAAAAAAAAAAMAAAAAAAAAAAAAAAMAAAAAAAAAAAAAAAMAAAABAAAAAwAAAAAAAAADAAAAAwAAAAAAAAAAAAAAAwAAAAAAAAADAAAAAwAAAAMAAAADAAAAAwAAAAAAAAADAAAAAAAAAAMAAAAAAAAAAAAAAAMAAAAAAAAAAAAAAAAAAAAAAAAAAAAAAAMAAAADAAAAAwAAAAAAAAAAAAAAAAAAAAMAAAAAAAAAAwAAAAAAAAADAAAAAAAAAAAAAAAAAAAAAAAAAAMAAAAAAAAAAAAAAAAAAAADAAAAAAAAAAMAAAAAAAAAAwAAAAAAAAAAAAAAAAAAAAMAAAADAAAAAAAAAAAAAAAAAAAAAAAAAAAAAAAAAAAAAwAAAAAAAAADAAAAAAAAAAMAAAAAAAAAAAAAAAEAAAAAAAAAAgAAAAAAAAAAAAAAAAAAAAMAAAADAAAAAAAAAA==\",\"dtype\":\"int32\",\"order\":\"little\",\"shape\":[532]}},\"selected\":{\"id\":\"1512\"},\"selection_policy\":{\"id\":\"1545\"}},\"id\":\"1511\",\"type\":\"ColumnDataSource\"},{\"attributes\":{\"columns\":[{\"id\":\"1515\"},{\"id\":\"1520\"},{\"id\":\"1525\"},{\"id\":\"1530\"},{\"id\":\"1535\"},{\"id\":\"1540\"}],\"height\":300,\"reorderable\":false,\"source\":{\"id\":\"1511\"},\"view\":{\"id\":\"1544\"},\"width\":700},\"id\":\"1543\",\"type\":\"DataTable\"},{\"attributes\":{},\"id\":\"1518\",\"type\":\"StringFormatter\"},{\"attributes\":{\"margin\":[5,5,5,5],\"name\":\"HSpacer02525\",\"sizing_mode\":\"stretch_width\"},\"id\":\"1549\",\"type\":\"Spacer\"},{\"attributes\":{},\"id\":\"1529\",\"type\":\"StringEditor\"},{\"attributes\":{\"margin\":[5,5,5,5],\"name\":\"HSpacer02524\",\"sizing_mode\":\"stretch_width\"},\"id\":\"1510\",\"type\":\"Spacer\"},{\"attributes\":{\"format\":\"0,0.0[00000]\"},\"id\":\"1533\",\"type\":\"NumberFormatter\"},{\"attributes\":{},\"id\":\"1528\",\"type\":\"StringFormatter\"},{\"attributes\":{},\"id\":\"1539\",\"type\":\"IntEditor\"},{\"attributes\":{\"editor\":{\"id\":\"1529\"},\"field\":\"TotalCoinSupply\",\"formatter\":{\"id\":\"1528\"},\"title\":\"TotalCoinSupply\"},\"id\":\"1530\",\"type\":\"TableColumn\"},{\"attributes\":{},\"id\":\"1538\",\"type\":\"NumberFormatter\"},{\"attributes\":{},\"id\":\"1545\",\"type\":\"UnionRenderers\"},{\"attributes\":{},\"id\":\"1534\",\"type\":\"NumberEditor\"},{\"attributes\":{\"editor\":{\"id\":\"1519\"},\"field\":\"Algorithm\",\"formatter\":{\"id\":\"1518\"},\"title\":\"Algorithm\"},\"id\":\"1520\",\"type\":\"TableColumn\"},{\"attributes\":{\"editor\":{\"id\":\"1539\"},\"field\":\"class\",\"formatter\":{\"id\":\"1538\"},\"title\":\"class\"},\"id\":\"1540\",\"type\":\"TableColumn\"},{\"attributes\":{},\"id\":\"1514\",\"type\":\"StringEditor\"},{\"attributes\":{\"editor\":{\"id\":\"1524\"},\"field\":\"ProofType\",\"formatter\":{\"id\":\"1523\"},\"title\":\"ProofType\"},\"id\":\"1525\",\"type\":\"TableColumn\"},{\"attributes\":{},\"id\":\"1519\",\"type\":\"StringEditor\"},{\"attributes\":{},\"id\":\"1524\",\"type\":\"StringEditor\"},{\"attributes\":{\"editor\":{\"id\":\"1534\"},\"field\":\"TotalCoinsMined\",\"formatter\":{\"id\":\"1533\"},\"title\":\"TotalCoinsMined\"},\"id\":\"1535\",\"type\":\"TableColumn\"},{\"attributes\":{},\"id\":\"1513\",\"type\":\"StringFormatter\"},{\"attributes\":{},\"id\":\"1512\",\"type\":\"Selection\"}],\"root_ids\":[\"1509\"]},\"title\":\"Bokeh Application\",\"version\":\"2.1.1\"}};\n",
       "  var render_items = [{\"docid\":\"a8fcbbf1-3e80-4f71-931c-79704bb3809c\",\"root_ids\":[\"1509\"],\"roots\":{\"1509\":\"ea00f35c-a077-4951-a3ec-3b1f35cd2b60\"}}];\n",
       "  root.Bokeh.embed.embed_items_notebook(docs_json, render_items);\n",
       "  }\n",
       "if (root.Bokeh !== undefined) {\n",
       "    embed_document(root);\n",
       "  } else {\n",
       "    var attempts = 0;\n",
       "    var timer = setInterval(function(root) {\n",
       "      if (root.Bokeh !== undefined) {\n",
       "        clearInterval(timer);\n",
       "        embed_document(root);\n",
       "      } else if (document.readyState == \"complete\") {\n",
       "        attempts++;\n",
       "        if (attempts > 100) {\n",
       "          clearInterval(timer);\n",
       "          console.log(\"Bokeh: ERROR: Unable to run BokehJS code because BokehJS library is missing\");\n",
       "        }\n",
       "      }\n",
       "    }, 10, root)\n",
       "  }\n",
       "})(window);</script>"
      ],
      "text/plain": [
       ":Table   [CoinName,Algorithm,ProofType,TotalCoinSupply,TotalCoinsMined,class]"
      ]
     },
     "execution_count": 113,
     "metadata": {
      "application/vnd.holoviews_exec.v0+json": {
       "id": "1509"
      }
     },
     "output_type": "execute_result"
    }
   ],
   "source": [
    "# 4. Create a table with tradable cryptocurrencies.\n",
    "# https://hvplot.holoviz.org/reference/pandas/table.html#table\n",
    "\n",
    "clustered_df.hvplot.table(columns=\n",
    "                ['CoinName', 'Algorithm', 'ProofType', 'TotalCoinSupply',\n",
    "                 'TotalCoinsMined', 'class'], \n",
    "                          sortable=True, selectable=True)\n"
   ]
  },
  {
   "cell_type": "code",
   "execution_count": 114,
   "metadata": {},
   "outputs": [
    {
     "name": "stdout",
     "output_type": "stream",
     "text": [
      "532\n"
     ]
    }
   ],
   "source": [
    "# 5. Print the total number of tradable cryptocurrencies.\n",
    "print(len(clustered_df))"
   ]
  },
  {
   "cell_type": "code",
   "execution_count": 115,
   "metadata": {},
   "outputs": [
    {
     "data": {
      "text/html": [
       "<div>\n",
       "<style scoped>\n",
       "    .dataframe tbody tr th:only-of-type {\n",
       "        vertical-align: middle;\n",
       "    }\n",
       "\n",
       "    .dataframe tbody tr th {\n",
       "        vertical-align: top;\n",
       "    }\n",
       "\n",
       "    .dataframe thead th {\n",
       "        text-align: right;\n",
       "    }\n",
       "</style>\n",
       "<table border=\"1\" class=\"dataframe\">\n",
       "  <thead>\n",
       "    <tr style=\"text-align: right;\">\n",
       "      <th></th>\n",
       "      <th>TotalCoinSupply</th>\n",
       "      <th>TotalCoinsMined</th>\n",
       "    </tr>\n",
       "    <tr>\n",
       "      <th>Unnamed: 0</th>\n",
       "      <th></th>\n",
       "      <th></th>\n",
       "    </tr>\n",
       "  </thead>\n",
       "  <tbody>\n",
       "    <tr>\n",
       "      <th>42</th>\n",
       "      <td>42</td>\n",
       "      <td>4.199995e+01</td>\n",
       "    </tr>\n",
       "    <tr>\n",
       "      <th>404</th>\n",
       "      <td>532000000</td>\n",
       "      <td>1.055185e+09</td>\n",
       "    </tr>\n",
       "    <tr>\n",
       "      <th>1337</th>\n",
       "      <td>314159265359</td>\n",
       "      <td>2.927942e+10</td>\n",
       "    </tr>\n",
       "    <tr>\n",
       "      <th>BTC</th>\n",
       "      <td>21000000</td>\n",
       "      <td>1.792718e+07</td>\n",
       "    </tr>\n",
       "    <tr>\n",
       "      <th>ETH</th>\n",
       "      <td>0</td>\n",
       "      <td>1.076842e+08</td>\n",
       "    </tr>\n",
       "  </tbody>\n",
       "</table>\n",
       "</div>"
      ],
      "text/plain": [
       "           TotalCoinSupply  TotalCoinsMined\n",
       "Unnamed: 0                                 \n",
       "42                      42     4.199995e+01\n",
       "404              532000000     1.055185e+09\n",
       "1337          314159265359     2.927942e+10\n",
       "BTC               21000000     1.792718e+07\n",
       "ETH                      0     1.076842e+08"
      ]
     },
     "execution_count": 115,
     "metadata": {},
     "output_type": "execute_result"
    }
   ],
   "source": [
    "# 6. Scaling data to create the scatter plot with tradable cryptocurrencies.\n",
    "# Use the MinMaxScaler().fit_transform method to scale \n",
    "# the TotalCoinSupply and TotalCoinsMined columns between \n",
    "# the given range of zero and one.\n",
    "\n",
    "Scaled_df = clustered_df[[\"TotalCoinSupply\", \"TotalCoinsMined\"]]\n",
    "Scaled_df.head()"
   ]
  },
  {
   "cell_type": "code",
   "execution_count": 116,
   "metadata": {},
   "outputs": [
    {
     "data": {
      "text/plain": [
       "array([[4.20000000e-11, 0.00000000e+00],\n",
       "       [5.32000000e-04, 1.06585544e-03],\n",
       "       [3.14159265e-01, 2.95755135e-02],\n",
       "       ...,\n",
       "       [1.40022261e-03, 9.90135079e-04],\n",
       "       [2.10000000e-05, 7.37028150e-06],\n",
       "       [1.00000000e-06, 1.29582282e-07]])"
      ]
     },
     "execution_count": 116,
     "metadata": {},
     "output_type": "execute_result"
    }
   ],
   "source": [
    "Scaled_d = MinMaxScaler().fit_transform(Scaled_df)\n",
    "Scaled_data = Scaled_d\n",
    "Scaled_data"
   ]
  },
  {
   "cell_type": "code",
   "execution_count": 123,
   "metadata": {},
   "outputs": [
    {
     "data": {
      "text/html": [
       "<div>\n",
       "<style scoped>\n",
       "    .dataframe tbody tr th:only-of-type {\n",
       "        vertical-align: middle;\n",
       "    }\n",
       "\n",
       "    .dataframe tbody tr th {\n",
       "        vertical-align: top;\n",
       "    }\n",
       "\n",
       "    .dataframe thead th {\n",
       "        text-align: right;\n",
       "    }\n",
       "</style>\n",
       "<table border=\"1\" class=\"dataframe\">\n",
       "  <thead>\n",
       "    <tr style=\"text-align: right;\">\n",
       "      <th></th>\n",
       "      <th>TotalCoinSupply</th>\n",
       "      <th>TotalCoinsMined</th>\n",
       "      <th>CoinName</th>\n",
       "      <th>class</th>\n",
       "    </tr>\n",
       "    <tr>\n",
       "      <th>Unnamed: 0</th>\n",
       "      <th></th>\n",
       "      <th></th>\n",
       "      <th></th>\n",
       "      <th></th>\n",
       "    </tr>\n",
       "  </thead>\n",
       "  <tbody>\n",
       "    <tr>\n",
       "      <th>42</th>\n",
       "      <td>4.200000e-11</td>\n",
       "      <td>0.000000</td>\n",
       "      <td>42 Coin</td>\n",
       "      <td>0</td>\n",
       "    </tr>\n",
       "    <tr>\n",
       "      <th>404</th>\n",
       "      <td>5.320000e-04</td>\n",
       "      <td>0.001066</td>\n",
       "      <td>404Coin</td>\n",
       "      <td>0</td>\n",
       "    </tr>\n",
       "    <tr>\n",
       "      <th>1337</th>\n",
       "      <td>3.141593e-01</td>\n",
       "      <td>0.029576</td>\n",
       "      <td>EliteCoin</td>\n",
       "      <td>0</td>\n",
       "    </tr>\n",
       "    <tr>\n",
       "      <th>BTC</th>\n",
       "      <td>2.100000e-05</td>\n",
       "      <td>0.000018</td>\n",
       "      <td>Bitcoin</td>\n",
       "      <td>3</td>\n",
       "    </tr>\n",
       "    <tr>\n",
       "      <th>ETH</th>\n",
       "      <td>0.000000e+00</td>\n",
       "      <td>0.000109</td>\n",
       "      <td>Ethereum</td>\n",
       "      <td>3</td>\n",
       "    </tr>\n",
       "    <tr>\n",
       "      <th>LTC</th>\n",
       "      <td>8.400000e-05</td>\n",
       "      <td>0.000064</td>\n",
       "      <td>Litecoin</td>\n",
       "      <td>3</td>\n",
       "    </tr>\n",
       "    <tr>\n",
       "      <th>DASH</th>\n",
       "      <td>2.200000e-05</td>\n",
       "      <td>0.000009</td>\n",
       "      <td>Dash</td>\n",
       "      <td>0</td>\n",
       "    </tr>\n",
       "    <tr>\n",
       "      <th>XMR</th>\n",
       "      <td>0.000000e+00</td>\n",
       "      <td>0.000017</td>\n",
       "      <td>Monero</td>\n",
       "      <td>3</td>\n",
       "    </tr>\n",
       "    <tr>\n",
       "      <th>ETC</th>\n",
       "      <td>2.100000e-04</td>\n",
       "      <td>0.000115</td>\n",
       "      <td>Ethereum Classic</td>\n",
       "      <td>3</td>\n",
       "    </tr>\n",
       "    <tr>\n",
       "      <th>ZEC</th>\n",
       "      <td>2.100000e-05</td>\n",
       "      <td>0.000007</td>\n",
       "      <td>ZCash</td>\n",
       "      <td>3</td>\n",
       "    </tr>\n",
       "    <tr>\n",
       "      <th>BTS</th>\n",
       "      <td>3.600571e-03</td>\n",
       "      <td>0.002769</td>\n",
       "      <td>Bitshares</td>\n",
       "      <td>0</td>\n",
       "    </tr>\n",
       "    <tr>\n",
       "      <th>DGB</th>\n",
       "      <td>2.100000e-02</td>\n",
       "      <td>0.011522</td>\n",
       "      <td>DigiByte</td>\n",
       "      <td>3</td>\n",
       "    </tr>\n",
       "    <tr>\n",
       "      <th>BTCD</th>\n",
       "      <td>2.200000e-05</td>\n",
       "      <td>0.000001</td>\n",
       "      <td>BitcoinDark</td>\n",
       "      <td>0</td>\n",
       "    </tr>\n",
       "    <tr>\n",
       "      <th>XPY</th>\n",
       "      <td>1.250000e-05</td>\n",
       "      <td>0.000012</td>\n",
       "      <td>PayCoin</td>\n",
       "      <td>0</td>\n",
       "    </tr>\n",
       "    <tr>\n",
       "      <th>PRC</th>\n",
       "      <td>2.100000e-05</td>\n",
       "      <td>0.000006</td>\n",
       "      <td>ProsperCoin</td>\n",
       "      <td>3</td>\n",
       "    </tr>\n",
       "    <tr>\n",
       "      <th>KOBO</th>\n",
       "      <td>3.500000e-04</td>\n",
       "      <td>0.000026</td>\n",
       "      <td>KoboCoin</td>\n",
       "      <td>0</td>\n",
       "    </tr>\n",
       "    <tr>\n",
       "      <th>SPR</th>\n",
       "      <td>2.000000e-05</td>\n",
       "      <td>0.000011</td>\n",
       "      <td>Spreadcoin</td>\n",
       "      <td>3</td>\n",
       "    </tr>\n",
       "    <tr>\n",
       "      <th>ARG</th>\n",
       "      <td>6.400000e-05</td>\n",
       "      <td>0.000012</td>\n",
       "      <td>Argentum</td>\n",
       "      <td>3</td>\n",
       "    </tr>\n",
       "    <tr>\n",
       "      <th>AUR</th>\n",
       "      <td>1.676858e-05</td>\n",
       "      <td>0.000018</td>\n",
       "      <td>Aurora Coin</td>\n",
       "      <td>0</td>\n",
       "    </tr>\n",
       "    <tr>\n",
       "      <th>BLU</th>\n",
       "      <td>0.000000e+00</td>\n",
       "      <td>0.000642</td>\n",
       "      <td>BlueCoin</td>\n",
       "      <td>0</td>\n",
       "    </tr>\n",
       "  </tbody>\n",
       "</table>\n",
       "</div>"
      ],
      "text/plain": [
       "            TotalCoinSupply  TotalCoinsMined          CoinName  class\n",
       "Unnamed: 0                                                           \n",
       "42             4.200000e-11         0.000000           42 Coin      0\n",
       "404            5.320000e-04         0.001066           404Coin      0\n",
       "1337           3.141593e-01         0.029576         EliteCoin      0\n",
       "BTC            2.100000e-05         0.000018           Bitcoin      3\n",
       "ETH            0.000000e+00         0.000109          Ethereum      3\n",
       "LTC            8.400000e-05         0.000064          Litecoin      3\n",
       "DASH           2.200000e-05         0.000009              Dash      0\n",
       "XMR            0.000000e+00         0.000017            Monero      3\n",
       "ETC            2.100000e-04         0.000115  Ethereum Classic      3\n",
       "ZEC            2.100000e-05         0.000007             ZCash      3\n",
       "BTS            3.600571e-03         0.002769         Bitshares      0\n",
       "DGB            2.100000e-02         0.011522          DigiByte      3\n",
       "BTCD           2.200000e-05         0.000001       BitcoinDark      0\n",
       "XPY            1.250000e-05         0.000012           PayCoin      0\n",
       "PRC            2.100000e-05         0.000006       ProsperCoin      3\n",
       "KOBO           3.500000e-04         0.000026          KoboCoin      0\n",
       "SPR            2.000000e-05         0.000011        Spreadcoin      3\n",
       "ARG            6.400000e-05         0.000012          Argentum      3\n",
       "AUR            1.676858e-05         0.000018       Aurora Coin      0\n",
       "BLU            0.000000e+00         0.000642          BlueCoin      0"
      ]
     },
     "execution_count": 123,
     "metadata": {},
     "output_type": "execute_result"
    }
   ],
   "source": [
    "# 7. Create a new DataFrame that has the scaled data with the clustered_df DataFrame index.\n",
    "Scaled_data_df = pd.DataFrame(data=Scaled_data, index=clustered_df.index )\n",
    "Scaled_data_df = Scaled_data_df.rename(columns={0: \"TotalCoinSupply\", 1: \"TotalCoinsMined\"})\n",
    "\n",
    "\n",
    "# 8. Add the \"CoinName\" column from the clustered_df DataFrame to the new DataFrame.\n",
    "Scaled_data_df = pd.concat([Scaled_data_df,clustered_df[\"CoinName\"]], axis = 1)\n",
    "\n",
    "\n",
    "# 9. Add the \"Class\" column from the clustered_df DataFrame to the new DataFrame. \n",
    "Scaled_data_df = pd.concat([Scaled_data_df,clustered_df[\"class\"]], axis = 1)\n",
    "Scaled_data_df.head(20)\n"
   ]
  },
  {
   "cell_type": "code",
   "execution_count": 124,
   "metadata": {
    "scrolled": true
   },
   "outputs": [
    {
     "data": {},
     "metadata": {},
     "output_type": "display_data"
    },
    {
     "data": {
      "application/vnd.holoviews_exec.v0+json": "",
      "text/html": [
       "<div id='1561'>\n",
       "\n",
       "\n",
       "\n",
       "\n",
       "\n",
       "  <div class=\"bk-root\" id=\"48d19fd8-337e-42b5-8c4c-f3785984df70\" data-root-id=\"1561\"></div>\n",
       "</div>\n",
       "<script type=\"application/javascript\">(function(root) {\n",
       "  function embed_document(root) {\n",
       "  var docs_json = {\"f60b2ec0-98ff-466c-a27e-e6d348081333\":{\"roots\":{\"references\":[{\"attributes\":{\"data_source\":{\"id\":\"1661\"},\"glyph\":{\"id\":\"1664\"},\"hover_glyph\":null,\"muted_glyph\":{\"id\":\"1666\"},\"nonselection_glyph\":{\"id\":\"1665\"},\"selection_glyph\":null,\"view\":{\"id\":\"1668\"}},\"id\":\"1667\",\"type\":\"GlyphRenderer\"},{\"attributes\":{\"axis_label\":\"TotalCoinSupply\",\"bounds\":\"auto\",\"formatter\":{\"id\":\"1602\"},\"major_label_orientation\":\"horizontal\",\"ticker\":{\"id\":\"1583\"}},\"id\":\"1582\",\"type\":\"LinearAxis\"},{\"attributes\":{\"active_drag\":\"auto\",\"active_inspect\":\"auto\",\"active_multi\":null,\"active_scroll\":\"auto\",\"active_tap\":\"auto\",\"tools\":[{\"id\":\"1565\"},{\"id\":\"1586\"},{\"id\":\"1587\"},{\"id\":\"1588\"},{\"id\":\"1589\"},{\"id\":\"1590\"}]},\"id\":\"1592\",\"type\":\"Toolbar\"},{\"attributes\":{\"data\":{\"CoinName\":[\"42 Coin\",\"404Coin\",\"EliteCoin\",\"Dash\",\"Bitshares\",\"BitcoinDark\",\"PayCoin\",\"KoboCoin\",\"Aurora Coin\",\"BlueCoin\",\"EnergyCoin\",\"BitBar\",\"CryptoBullion\",\"CasinoCoin\",\"Diamond\",\"Exclusive Coin\",\"FlutterCoin\",\"HoboNickels\",\"HyperStake\",\"IOCoin\",\"MaxCoin\",\"MintCoin\",\"MazaCoin\",\"Nautilus Coin\",\"NavCoin\",\"OpalCoin\",\"Orbitcoin\",\"PotCoin\",\"PhoenixCoin\",\"Reddcoin\",\"SuperCoin\",\"SyncCoin\",\"TeslaCoin\",\"TittieCoin\",\"TorCoin\",\"UnitaryStatus Dollar\",\"UltraCoin\",\"VeriCoin\",\"X11 Coin\",\"Crypti\",\"StealthCoin\",\"ZCC Coin\",\"BurstCoin\",\"StorjCoin\",\"Neutron\",\"FairCoin\",\"RubyCoin\",\"Kore\",\"Dnotes\",\"8BIT Coin\",\"Sativa Coin\",\"Ucoin\",\"Vtorrent\",\"IslaCoin\",\"Nexus\",\"Droidz\",\"Squall Coin\",\"Diggits\",\"Paycon\",\"Emercoin\",\"EverGreenCoin\",\"Decred\",\"EDRCoin\",\"Hitcoin\",\"DubaiCoin\",\"PWR Coin\",\"BillaryCoin\",\"GPU Coin\",\"EuropeCoin\",\"ZeitCoin\",\"SwingCoin\",\"SafeExchangeCoin\",\"Nebuchadnezzar\",\"Ratecoin\",\"Revenu\",\"Clockcoin\",\"VIP Tokens\",\"BitSend\",\"Let it Ride\",\"PutinCoin\",\"iBankCoin\",\"Frankywillcoin\",\"MudraCoin\",\"Lutetium Coin\",\"GoldBlocks\",\"CarterCoin\",\"BitTokens\",\"MustangCoin\",\"ZoneCoin\",\"RootCoin\",\"BitCurrency\",\"Swiscoin\",\"BuzzCoin\",\"Opair\",\"PesoBit\",\"Halloween Coin\",\"CoffeeCoin\",\"RoyalCoin\",\"GanjaCoin V2\",\"TeamUP\",\"LanaCoin\",\"ARK\",\"InsaneCoin\",\"EmberCoin\",\"XenixCoin\",\"FreeCoin\",\"PLNCoin\",\"AquariusCoin\",\"Creatio\",\"Eternity\",\"Eurocoin\",\"BitcoinFast\",\"Stakenet\",\"BitConnect Coin\",\"MoneyCoin\",\"Enigma\",\"Russiacoin\",\"PandaCoin\",\"GameUnits\",\"GAKHcoin\",\"Allsafe\",\"LiteCreed\",\"Klingon Empire Darsek\",\"Internet of People\",\"KushCoin\",\"Printerium\",\"Impeach\",\"Zilbercoin\",\"FirstCoin\",\"FindCoin\",\"OpenChat\",\"RenosCoin\",\"VirtacoinPlus\",\"TajCoin\",\"Impact\",\"Atmos\",\"HappyCoin\",\"MacronCoin\",\"Condensate\",\"Independent Money System\",\"ArgusCoin\",\"LomoCoin\",\"ProCurrency\",\"GoldReserve\",\"GrowthCoin\",\"Phreak\",\"Degas Coin\",\"HTML5 Coin\",\"Ultimate Secure Cash\",\"QTUM\",\"Espers\",\"Denarius\",\"Virta Unique Coin\",\"Bitcoin Planet\",\"BritCoin\",\"Linda\",\"DeepOnion\",\"Signatum\",\"Cream\",\"Monoeci\",\"Draftcoin\",\"Vechain\",\"Stakecoin\",\"CoinonatX\",\"Ethereum Dark\",\"Obsidian\",\"Cardano\",\"Regalcoin\",\"TrezarCoin\",\"TerraNovaCoin\",\"Rupee\",\"WomenCoin\",\"Theresa May Coin\",\"NamoCoin\",\"LUXCoin\",\"Xios\",\"Bitcloud 2.0\",\"KekCoin\",\"BlackholeCoin\",\"Infinity Economics\",\"Magnet\",\"Lamden Tau\",\"Electra\",\"Bitcoin Diamond\",\"Cash & Back Coin\",\"Bulwark\",\"Kalkulus\",\"GermanCoin\",\"LiteCoin Ultra\",\"PhantomX\",\"Digiwage\",\"Trollcoin\",\"Litecoin Plus\",\"Monkey Project\",\"TokenPay\",\"My Big Coin\",\"Unified Society USDEX\",\"Tokyo Coin\",\"Stipend\",\"Pushi\",\"Ellerium\",\"Velox\",\"Ontology\",\"Bitspace\",\"Briacoin\",\"Ignition\",\"MedicCoin\",\"Bitcoin Green\",\"Deviant Coin\",\"Abjcoin\",\"Semux\",\"Carebit\",\"Zealium\",\"Proton\",\"iDealCash\",\"Bitcoin Incognito\",\"HollyWoodCoin\",\"Swisscoin\",\"Xt3ch\",\"TheVig\",\"EmaratCoin\",\"Dekado\",\"Lynx\",\"Poseidon Quark\",\"BitcoinWSpectrum\",\"Muse\",\"Trivechain\",\"Dystem\",\"Giant\",\"Peony Coin\",\"Absolute Coin\",\"Vitae\",\"TPCash\",\"ARENON\",\"EUNO\",\"MMOCoin\",\"Ketan\",\"XDNA\",\"PAXEX\",\"ThunderStake\",\"Kcash\",\"Bettex coin\",\"BitMoney\",\"Junson Ming Chan Coin\",\"HerbCoin\",\"Oduwa\",\"Galilel\",\"Crypto Sports\",\"Credit\",\"Dash Platinum\",\"Nasdacoin\",\"Beetle Coin\",\"Titan Coin\",\"Award\",\"Insane Coin\",\"ALAX\",\"LiteDoge\",\"TruckCoin\",\"OrangeCoin\",\"BitstarCoin\",\"NeosCoin\",\"HyperCoin\",\"PinkCoin\",\"AudioCoin\",\"IncaKoin\",\"Piggy Coin\",\"Genstake\",\"XiaoMiCoin\",\"CapriCoin\",\" ClubCoin\",\"Radium\",\"Creditbit \",\"OKCash\",\"Lisk\",\"HiCoin\",\"WhiteCoin\",\"FriendshipCoin\",\"Triangles Coin\",\"EOS\",\"Oxycoin\",\"TigerCash\",\"Particl\",\"Nxt\",\"ZEPHYR\",\"Gapcoin\",\"BitcoinPlus\"],\"TotalCoinSupply\":{\"__ndarray__\":\"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\",\"dtype\":\"float64\",\"order\":\"little\",\"shape\":[286]},\"TotalCoinsMined\":{\"__ndarray__\":\"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\",\"dtype\":\"float64\",\"order\":\"little\",\"shape\":[286]},\"class\":[0,0,0,0,0,0,0,0,0,0,0,0,0,0,0,0,0,0,0,0,0,0,0,0,0,0,0,0,0,0,0,0,0,0,0,0,0,0,0,0,0,0,0,0,0,0,0,0,0,0,0,0,0,0,0,0,0,0,0,0,0,0,0,0,0,0,0,0,0,0,0,0,0,0,0,0,0,0,0,0,0,0,0,0,0,0,0,0,0,0,0,0,0,0,0,0,0,0,0,0,0,0,0,0,0,0,0,0,0,0,0,0,0,0,0,0,0,0,0,0,0,0,0,0,0,0,0,0,0,0,0,0,0,0,0,0,0,0,0,0,0,0,0,0,0,0,0,0,0,0,0,0,0,0,0,0,0,0,0,0,0,0,0,0,0,0,0,0,0,0,0,0,0,0,0,0,0,0,0,0,0,0,0,0,0,0,0,0,0,0,0,0,0,0,0,0,0,0,0,0,0,0,0,0,0,0,0,0,0,0,0,0,0,0,0,0,0,0,0,0,0,0,0,0,0,0,0,0,0,0,0,0,0,0,0,0,0,0,0,0,0,0,0,0,0,0,0,0,0,0,0,0,0,0,0,0,0,0,0,0,0,0,0,0,0,0,0,0,0,0,0,0,0,0,0,0,0,0,0,0,0,0,0,0,0,0]},\"selected\":{\"id\":\"1604\"},\"selection_policy\":{\"id\":\"1616\"}},\"id\":\"1603\",\"type\":\"ColumnDataSource\"},{\"attributes\":{\"source\":{\"id\":\"1621\"}},\"id\":\"1628\",\"type\":\"CDSView\"},{\"attributes\":{\"axis\":{\"id\":\"1582\"},\"dimension\":1,\"grid_line_color\":null,\"ticker\":null},\"id\":\"1585\",\"type\":\"Grid\"},{\"attributes\":{\"text\":\"\",\"text_color\":{\"value\":\"black\"},\"text_font_size\":{\"value\":\"12pt\"}},\"id\":\"1570\",\"type\":\"Title\"},{\"attributes\":{\"fill_color\":{\"value\":\"#d62628\"},\"line_color\":{\"value\":\"#d62628\"},\"size\":{\"units\":\"screen\",\"value\":5.477225575051661},\"x\":{\"field\":\"TotalCoinsMined\"},\"y\":{\"field\":\"TotalCoinSupply\"}},\"id\":\"1664\",\"type\":\"Scatter\"},{\"attributes\":{\"click_policy\":\"mute\",\"items\":[{\"id\":\"1620\"},{\"id\":\"1639\"},{\"id\":\"1660\"},{\"id\":\"1683\"}],\"location\":[0,0],\"title\":\"class\"},\"id\":\"1619\",\"type\":\"Legend\"},{\"attributes\":{\"fill_alpha\":{\"value\":0.2},\"fill_color\":{\"value\":\"#1f77b3\"},\"line_alpha\":{\"value\":0.2},\"line_color\":{\"value\":\"#1f77b3\"},\"size\":{\"units\":\"screen\",\"value\":5.477225575051661},\"x\":{\"field\":\"TotalCoinsMined\"},\"y\":{\"field\":\"TotalCoinSupply\"}},\"id\":\"1608\",\"type\":\"Scatter\"},{\"attributes\":{\"source\":{\"id\":\"1640\"}},\"id\":\"1647\",\"type\":\"CDSView\"},{\"attributes\":{\"fill_color\":{\"value\":\"#ff7e0e\"},\"line_color\":{\"value\":\"#ff7e0e\"},\"size\":{\"units\":\"screen\",\"value\":5.477225575051661},\"x\":{\"field\":\"TotalCoinsMined\"},\"y\":{\"field\":\"TotalCoinSupply\"}},\"id\":\"1624\",\"type\":\"Scatter\"},{\"attributes\":{\"bottom_units\":\"screen\",\"fill_alpha\":0.5,\"fill_color\":\"lightgrey\",\"left_units\":\"screen\",\"level\":\"overlay\",\"line_alpha\":1.0,\"line_color\":\"black\",\"line_dash\":[4,4],\"line_width\":2,\"right_units\":\"screen\",\"top_units\":\"screen\"},\"id\":\"1591\",\"type\":\"BoxAnnotation\"},{\"attributes\":{\"fill_alpha\":{\"value\":0.1},\"fill_color\":{\"value\":\"#1f77b3\"},\"line_alpha\":{\"value\":0.1},\"line_color\":{\"value\":\"#1f77b3\"},\"size\":{\"units\":\"screen\",\"value\":5.477225575051661},\"x\":{\"field\":\"TotalCoinsMined\"},\"y\":{\"field\":\"TotalCoinSupply\"}},\"id\":\"1607\",\"type\":\"Scatter\"},{\"attributes\":{},\"id\":\"1641\",\"type\":\"Selection\"},{\"attributes\":{},\"id\":\"1600\",\"type\":\"BasicTickFormatter\"},{\"attributes\":{\"margin\":[5,5,5,5],\"name\":\"HSpacer02734\",\"sizing_mode\":\"stretch_width\"},\"id\":\"1810\",\"type\":\"Spacer\"},{\"attributes\":{},\"id\":\"1636\",\"type\":\"UnionRenderers\"},{\"attributes\":{\"fill_alpha\":{\"value\":0.1},\"fill_color\":{\"value\":\"#d62628\"},\"line_alpha\":{\"value\":0.1},\"line_color\":{\"value\":\"#d62628\"},\"size\":{\"units\":\"screen\",\"value\":5.477225575051661},\"x\":{\"field\":\"TotalCoinsMined\"},\"y\":{\"field\":\"TotalCoinSupply\"}},\"id\":\"1665\",\"type\":\"Scatter\"},{\"attributes\":{\"label\":{\"value\":\"2\"},\"renderers\":[{\"id\":\"1646\"}]},\"id\":\"1660\",\"type\":\"LegendItem\"},{\"attributes\":{},\"id\":\"1662\",\"type\":\"Selection\"},{\"attributes\":{},\"id\":\"1616\",\"type\":\"UnionRenderers\"},{\"attributes\":{\"data\":{\"CoinName\":[\"BiblePay\",\"LitecoinCash\",\"Poa Network\",\"Acute Angle Cloud\",\"Waves\"],\"TotalCoinSupply\":{\"__ndarray__\":\"lPYGX5hMdT+8eapDboZLP4RaKOGWizA//Knx0k1iUD8sQxzr4jYaPw==\",\"dtype\":\"float64\",\"order\":\"little\",\"shape\":[5]},\"TotalCoinsMined\":{\"__ndarray__\":\"j1gNkdpTXT+QpMXySiFFP5wZJXiPEis/ekNDBbiMUD/7RX5gv3oaPw==\",\"dtype\":\"float64\",\"order\":\"little\",\"shape\":[5]},\"class\":[1,1,1,1,1]},\"selected\":{\"id\":\"1622\"},\"selection_policy\":{\"id\":\"1636\"}},\"id\":\"1621\",\"type\":\"ColumnDataSource\"},{\"attributes\":{\"data\":{\"CoinName\":[\"BitTorrent\"],\"TotalCoinSupply\":{\"__ndarray__\":\"rkfhehSu7z8=\",\"dtype\":\"float64\",\"order\":\"little\",\"shape\":[1]},\"TotalCoinsMined\":{\"__ndarray__\":\"AAAAAAAA8D8=\",\"dtype\":\"float64\",\"order\":\"little\",\"shape\":[1]},\"class\":[2]},\"selected\":{\"id\":\"1641\"},\"selection_policy\":{\"id\":\"1657\"}},\"id\":\"1640\",\"type\":\"ColumnDataSource\"},{\"attributes\":{},\"id\":\"1586\",\"type\":\"SaveTool\"},{\"attributes\":{},\"id\":\"1588\",\"type\":\"WheelZoomTool\"},{\"attributes\":{\"fill_alpha\":{\"value\":0.2},\"fill_color\":{\"value\":\"#2ba02b\"},\"line_alpha\":{\"value\":0.2},\"line_color\":{\"value\":\"#2ba02b\"},\"size\":{\"units\":\"screen\",\"value\":5.477225575051661},\"x\":{\"field\":\"TotalCoinsMined\"},\"y\":{\"field\":\"TotalCoinSupply\"}},\"id\":\"1645\",\"type\":\"Scatter\"},{\"attributes\":{},\"id\":\"1587\",\"type\":\"PanTool\"},{\"attributes\":{},\"id\":\"1622\",\"type\":\"Selection\"},{\"attributes\":{\"overlay\":{\"id\":\"1591\"}},\"id\":\"1589\",\"type\":\"BoxZoomTool\"},{\"attributes\":{},\"id\":\"1657\",\"type\":\"UnionRenderers\"},{\"attributes\":{\"data_source\":{\"id\":\"1621\"},\"glyph\":{\"id\":\"1624\"},\"hover_glyph\":null,\"muted_glyph\":{\"id\":\"1626\"},\"nonselection_glyph\":{\"id\":\"1625\"},\"selection_glyph\":null,\"view\":{\"id\":\"1628\"}},\"id\":\"1627\",\"type\":\"GlyphRenderer\"},{\"attributes\":{\"fill_color\":{\"value\":\"#2ba02b\"},\"line_color\":{\"value\":\"#2ba02b\"},\"size\":{\"units\":\"screen\",\"value\":5.477225575051661},\"x\":{\"field\":\"TotalCoinsMined\"},\"y\":{\"field\":\"TotalCoinSupply\"}},\"id\":\"1643\",\"type\":\"Scatter\"},{\"attributes\":{},\"id\":\"1583\",\"type\":\"BasicTicker\"},{\"attributes\":{\"below\":[{\"id\":\"1578\"}],\"center\":[{\"id\":\"1581\"},{\"id\":\"1585\"}],\"left\":[{\"id\":\"1582\"}],\"margin\":null,\"min_border_bottom\":10,\"min_border_left\":10,\"min_border_right\":10,\"min_border_top\":10,\"plot_height\":300,\"plot_width\":700,\"renderers\":[{\"id\":\"1609\"},{\"id\":\"1627\"},{\"id\":\"1646\"},{\"id\":\"1667\"}],\"right\":[{\"id\":\"1619\"}],\"sizing_mode\":\"fixed\",\"title\":{\"id\":\"1570\"},\"toolbar\":{\"id\":\"1592\"},\"x_range\":{\"id\":\"1563\"},\"x_scale\":{\"id\":\"1574\"},\"y_range\":{\"id\":\"1564\"},\"y_scale\":{\"id\":\"1576\"}},\"id\":\"1569\",\"subtype\":\"Figure\",\"type\":\"Plot\"},{\"attributes\":{\"children\":[{\"id\":\"1562\"},{\"id\":\"1569\"},{\"id\":\"1810\"}],\"margin\":[0,0,0,0],\"name\":\"Row02729\",\"tags\":[\"embedded\"]},\"id\":\"1561\",\"type\":\"Row\"},{\"attributes\":{},\"id\":\"1590\",\"type\":\"ResetTool\"},{\"attributes\":{\"data_source\":{\"id\":\"1640\"},\"glyph\":{\"id\":\"1643\"},\"hover_glyph\":null,\"muted_glyph\":{\"id\":\"1645\"},\"nonselection_glyph\":{\"id\":\"1644\"},\"selection_glyph\":null,\"view\":{\"id\":\"1647\"}},\"id\":\"1646\",\"type\":\"GlyphRenderer\"},{\"attributes\":{\"source\":{\"id\":\"1603\"}},\"id\":\"1610\",\"type\":\"CDSView\"},{\"attributes\":{\"end\":1.1,\"reset_end\":1.1,\"reset_start\":-0.1,\"start\":-0.1,\"tags\":[[[\"TotalCoinSupply\",\"TotalCoinSupply\",null]]]},\"id\":\"1564\",\"type\":\"Range1d\"},{\"attributes\":{\"label\":{\"value\":\"1\"},\"renderers\":[{\"id\":\"1627\"}]},\"id\":\"1639\",\"type\":\"LegendItem\"},{\"attributes\":{\"margin\":[5,5,5,5],\"name\":\"HSpacer02733\",\"sizing_mode\":\"stretch_width\"},\"id\":\"1562\",\"type\":\"Spacer\"},{\"attributes\":{},\"id\":\"1576\",\"type\":\"LinearScale\"},{\"attributes\":{},\"id\":\"1602\",\"type\":\"BasicTickFormatter\"},{\"attributes\":{\"source\":{\"id\":\"1661\"}},\"id\":\"1668\",\"type\":\"CDSView\"},{\"attributes\":{},\"id\":\"1574\",\"type\":\"LinearScale\"},{\"attributes\":{\"fill_color\":{\"value\":\"#1f77b3\"},\"line_color\":{\"value\":\"#1f77b3\"},\"size\":{\"units\":\"screen\",\"value\":5.477225575051661},\"x\":{\"field\":\"TotalCoinsMined\"},\"y\":{\"field\":\"TotalCoinSupply\"}},\"id\":\"1606\",\"type\":\"Scatter\"},{\"attributes\":{\"fill_alpha\":{\"value\":0.1},\"fill_color\":{\"value\":\"#ff7e0e\"},\"line_alpha\":{\"value\":0.1},\"line_color\":{\"value\":\"#ff7e0e\"},\"size\":{\"units\":\"screen\",\"value\":5.477225575051661},\"x\":{\"field\":\"TotalCoinsMined\"},\"y\":{\"field\":\"TotalCoinSupply\"}},\"id\":\"1625\",\"type\":\"Scatter\"},{\"attributes\":{\"label\":{\"value\":\"3\"},\"renderers\":[{\"id\":\"1667\"}]},\"id\":\"1683\",\"type\":\"LegendItem\"},{\"attributes\":{\"axis\":{\"id\":\"1578\"},\"grid_line_color\":null,\"ticker\":null},\"id\":\"1581\",\"type\":\"Grid\"},{\"attributes\":{\"axis_label\":\"TotalCoinsMined\",\"bounds\":\"auto\",\"formatter\":{\"id\":\"1600\"},\"major_label_orientation\":\"horizontal\",\"ticker\":{\"id\":\"1579\"}},\"id\":\"1578\",\"type\":\"LinearAxis\"},{\"attributes\":{},\"id\":\"1680\",\"type\":\"UnionRenderers\"},{\"attributes\":{\"end\":1.042857142857143,\"reset_end\":1.042857142857143,\"reset_start\":-0.04285714285714286,\"start\":-0.04285714285714286,\"tags\":[[[\"TotalCoinsMined\",\"TotalCoinsMined\",null]]]},\"id\":\"1563\",\"type\":\"Range1d\"},{\"attributes\":{\"data_source\":{\"id\":\"1603\"},\"glyph\":{\"id\":\"1606\"},\"hover_glyph\":null,\"muted_glyph\":{\"id\":\"1608\"},\"nonselection_glyph\":{\"id\":\"1607\"},\"selection_glyph\":null,\"view\":{\"id\":\"1610\"}},\"id\":\"1609\",\"type\":\"GlyphRenderer\"},{\"attributes\":{\"callback\":null,\"renderers\":[{\"id\":\"1609\"},{\"id\":\"1627\"},{\"id\":\"1646\"},{\"id\":\"1667\"}],\"tags\":[\"hv_created\"],\"tooltips\":[[\"class\",\"@{class}\"],[\"TotalCoinsMined\",\"@{TotalCoinsMined}\"],[\"TotalCoinSupply\",\"@{TotalCoinSupply}\"],[\"CoinName\",\"@{CoinName}\"]]},\"id\":\"1565\",\"type\":\"HoverTool\"},{\"attributes\":{\"fill_alpha\":{\"value\":0.1},\"fill_color\":{\"value\":\"#2ba02b\"},\"line_alpha\":{\"value\":0.1},\"line_color\":{\"value\":\"#2ba02b\"},\"size\":{\"units\":\"screen\",\"value\":5.477225575051661},\"x\":{\"field\":\"TotalCoinsMined\"},\"y\":{\"field\":\"TotalCoinSupply\"}},\"id\":\"1644\",\"type\":\"Scatter\"},{\"attributes\":{\"data\":{\"CoinName\":[\"Bitcoin\",\"Ethereum\",\"Litecoin\",\"Monero\",\"Ethereum Classic\",\"ZCash\",\"DigiByte\",\"ProsperCoin\",\"Spreadcoin\",\"Argentum\",\"MyriadCoin\",\"MoonCoin\",\"ZetaCoin\",\"SexCoin\",\"Quatloo\",\"QuarkCoin\",\"Riecoin\",\"Digitalcoin \",\"Catcoin\",\"CannaCoin\",\"CryptCoin\",\"Verge\",\"DevCoin\",\"EarthCoin\",\"E-Gulden\",\"Einsteinium\",\"Emerald\",\"Franko\",\"FeatherCoin\",\"GrandCoin\",\"GlobalCoin\",\"GoldCoin\",\"Infinite Coin\",\"IXcoin\",\"KrugerCoin\",\"LuckyCoin\",\"Litebar \",\"MegaCoin\",\"MediterraneanCoin\",\"MinCoin\",\"NobleCoin\",\"Namecoin\",\"NyanCoin\",\"RonPaulCoin\",\"StableCoin\",\"SmartCoin\",\"SysCoin\",\"TigerCoin\",\"TerraCoin\",\"UnbreakableCoin\",\"Unobtanium\",\"UroCoin\",\"ViaCoin\",\"Vertcoin\",\"WorldCoin\",\"JouleCoin\",\"ByteCoin\",\"DigitalNote \",\"MonaCoin\",\"Gulden\",\"PesetaCoin\",\"Wild Beast Coin\",\"Flo\",\"ArtByte\",\"Folding Coin\",\"Unitus\",\"CypherPunkCoin\",\"OmniCron\",\"GreenCoin\",\"Cryptonite\",\"MasterCoin\",\"SoonCoin\",\"1Credit\",\"MarsCoin \",\"Crypto\",\"Anarchists Prime\",\"BowsCoin\",\"Song Coin\",\"BitZeny\",\"Expanse\",\"Siacoin\",\"MindCoin\",\"I0coin\",\"Revolution VR\",\"HOdlcoin\",\"Gamecredits\",\"CarpeDiemCoin\",\"Adzcoin\",\"SoilCoin\",\"YoCoin\",\"SibCoin\",\"Francs\",\"BolivarCoin\",\"Omni\",\"PizzaCoin\",\"Komodo\",\"Karbo\",\"ZayedCoin\",\"Circuits of Value\",\"DopeCoin\",\"DollarCoin\",\"Shilling\",\"ZCoin\",\"Elementrem\",\"ZClassic\",\"KiloCoin\",\"ArtexCoin\",\"Kurrent\",\"Cannabis Industry Coin\",\"OsmiumCoin\",\"Bikercoins\",\"HexxCoin\",\"PacCoin\",\"Citadel\",\"BeaverCoin\",\"VaultCoin\",\"Zero\",\"Canada eCoin\",\"Zoin\",\"DubaiCoin\",\"EB3coin\",\"Coinonat\",\"BenjiRolls\",\"ILCoin\",\"EquiTrader\",\"Quantum Resistant Ledger\",\"Dynamic\",\"Nano\",\"ChanCoin\",\"Dinastycoin\",\"DigitalPrice\",\"Unify\",\"SocialCoin\",\"ArcticCoin\",\"DAS\",\"LeviarCoin\",\"Bitcore\",\"gCn Coin\",\"SmartCash\",\"Onix\",\"Bitcoin Cash\",\"Sojourn Coin\",\"NewYorkCoin\",\"FrazCoin\",\"Kronecoin\",\"AdCoin\",\"Linx\",\"Sumokoin\",\"BitcoinZ\",\"Elements\",\"VIVO Coin\",\"Bitcoin Gold\",\"Pirl\",\"eBoost\",\"Pura\",\"Innova\",\"Ellaism\",\"GoByte\",\"SHIELD\",\"UltraNote\",\"BitCoal\",\"DaxxCoin\",\"AC3\",\"Lethean\",\"PopularCoin\",\"Photon\",\"Sucre\",\"SparksPay\",\"GunCoin\",\"IrishCoin\",\"Pioneer Coin\",\"UnitedBitcoin\",\"Interzone\",\"1717 Masonic Commemorative Token\",\"TurtleCoin\",\"MUNcoin\",\"Niobio Cash\",\"ShareChain\",\"Travelflex\",\"KREDS\",\"BitFlip\",\"LottoCoin\",\"Crypto Improvement Fund\",\"Callisto Network\",\"BitTube\",\"Poseidon\",\"Aidos Kuneen\",\"Bitrolium\",\"Alpenschillling\",\"FuturoCoin\",\"Monero Classic\",\"Jumpcoin\",\"Infinex\",\"KEYCO\",\"GINcoin\",\"PlatinCoin\",\"Loki\",\"Newton Coin\",\"MassGrid\",\"PluraCoin\",\"Motion\",\"PlusOneCoin\",\"Axe\",\"HexCoin\",\"Webchain\",\"Ryo\",\"Urals Coin\",\"Qwertycoin\",\"Project Pai\",\"Azart\",\"Xchange\",\"CrypticCoin\",\"Actinium\",\"Bitcoin SV\",\"FREDEnergy\",\"Universal Molecule\",\"Lithium\",\"PirateCash\",\"Exosis\",\"Block-Logic\",\"Beam\",\"Bithereum\",\"SLICE\",\"BLAST\",\"Bitcoin Rhodium\",\"GlobalToken\",\"SolarCoin\",\"UFO Coin\",\"BlakeCoin\",\"Crypto Escudo\",\"Crown Coin\",\"SmileyCoin\",\"Groestlcoin\",\"Bata\",\"Pakcoin\",\"JoinCoin\",\"Vollar\",\"Reality Clash\",\"Beldex\",\"Horizen\"],\"TotalCoinSupply\":{\"__ndarray__\":\"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\",\"dtype\":\"float64\",\"order\":\"little\",\"shape\":[240]},\"TotalCoinsMined\":{\"__ndarray__\":\"r6i7QfH88j5vitZPpIMcP2oafiZFsRA/CBAnMBQ48j7wDEJVXgQePwFvcySeR98+S6ekP56Yhz8O0fKLQ3DYPunoanR6nuc+QPQHNS7b6T4I4yegqPBbP4pk9hRmi8k9cMqzLN2IJj8v7oqMShIhP+hFNhs4LN8+ICzRsK4uMT8RbyRNiz0KP59NHRkHtgE/NhWLS7iW3j4HjNNQyO3TPhf3vZ6vK9U+zGWKHw96kD/YQKTwOGuTP/MR9hSJ8Ik/vuNbg90l9j7UJEJsY/osP53eB+SKpvQ+7OKrfnJdsz7h8m27k6ArPzOFKreVQ00/sZ9rdsljET8a/IWo3Q8GPxfWq/5Sbbc/2g1Vrl1W9j4aGveuIA0kP+mrkQNSePQ+w6aYs+e2sj50k5i3czQEP8Q38CuLaQU/dwwlCTKX2D6/GiTQLZRjP2kcsAWHN+8+V/bFZkYoNj/9tCw6GLayPlG7VH/vpfk+lXaTGbsb+z4TJNibZaVCP11sMg9/Dgc/sbwJ7+tK+D5svacTrE3DPrI5aeKgO4s+Bn6fn5x1tD5Kjct4WoX4PjbfW1HfGQs/ZX20aNqrHz8+VYv99MEEP1hQT91+zMc/EkNUVVGTfD8sNwB0vg4SP7x3FpSAeTs/V09i5Pw0Ij+8Wu9Dc6iIPv0vK9IFKSQ/u43+0IM7Sj+Fn7ZW789HP0XtoIndPRE/RXvZM7732j6uXPx07HrlPkRv+e0tE3M/aJCDWHxzRz/wOSf9uP6kPlQsp9p0Zuo+JVthYlbodz5RI4lAbxABP9C9WRyqHO0+cq2VX2I97z5yy9npd83wPjtGyf0IPwE/zcFpI7cFFD+pIsEbkTvmPi7peHQhHqE/CZb2rYPO8D69ZXludD32PgDbI7+vzSs/t2n0Hb5A6D768QgXA34SP8VZIm+ifJY/qfDDrNPjBz/IH81lZSjYPmbzzSAYkqU+io1ClvJI8j6EVzYip9bbPvB/UyyW7Ow+VIp4kW7kpD5Ztqr0xVm3PvBZKjNxsB4/i2oALxWS4D4AgcASBnTaPnpDQwW4jFA/1DtNvqTwHj/WFD5sjErjPri9zHTrjec+2DMeo0EI4D5jADv2nsH7PoUw/kBpyNc+ov9i+UX9KT9aPV7RHEZLPzuCQ8HDPxA/tcMN/maTsD7UrHW860yuPgxwAoxT0uM+xf90wUrLvz6OM6x+FcZBP9Kf4ZajPOc+Ck3M5oZlyj6rD9eegxcAP/OI8EMuU90+6fmC8iFwGj/Wo9/Kq6TzPsujJZ6E68I+XGxBluj4ED+Bh4j2yXHlPjTeTm3aefU+yXvl+uzOVT9z1k/kEPfsPv9UEsTGRxI/YSp/QHv09D61h4qHSKQhPy+N/AEef/M+hKwqIzTyXT/m4rwM9psCP8kEKAPONPM+528Abuzk1T748NdKYJX7PtQZrzp5OcY+CdfFZ+z/7T70aOzy9tryPhgd90IFFcU/gc0bUEOLYj9LwcxRKDcgPyRl/jd+D/M+/Y1TnL1xoD4DNdImbn3CP/jx38F6juQ+1996s5J88j6p3Vc8E0oBP3gVJ9Mc2wE/uBZMWL/z4j4pupu9+I91P3sMH7KeXWY/uNaq91ym0T7bHSC7aDjyPl7TxYbH/wE/Esjo3RF6Gj88xJCxuDInP9pcGpKPAts+LsltZsEF6z491TfErLXYPniYzdXT4z8/5YO/i7rxkz8tUFOdpxDTPpkfTG2+PUE/YzWXr25EFT+/sGvyzzU9P0ryBjnNZnA/wKP4upcfnz8oDYelxerRPlT2YcShn+A+M9MbVqPYMz/pmLbtWxYIP2UO7kqn9eE+wa/X9f9b9T6YqjPlVz7pPm5x4hl+a7s+rV/sZZR7qz+bphjc7GnUPg7UWvF4uyE/UJ+yE+avhD/X8QcfT2scP1Ay2BUqT0U/fLYPZ39d6j5mRelkS/qNP2d12Rir+Ss/2C/Wv0FkMD8VqfUeUzIVP9lBgL6BPtE+B3K8ML16+j73YJbAAeUSP1ld1rdd9fw+NvCESHrXAD/KmyQo9vbwPvvTxTPxUPY+9k0et+iY1T78fO4NkvWqPss6YW5nmd0+j5svCLjYdj4Y2eoJf0n0PoNZwjhKW6U/kYALuOL8IT+Czk9u2olCP/WX6VOiNuE+H+Urm2FQ4j7PXtJXZSfVPnjWYoTeAbg+6vBgVo+A8D7RgN8kn7jUPpa9bwjRPO8+uLDcOEq+uT+/lPALjmBhP9ta2gEuQNU+Gw5gKXCp5D5Pq/yKvoVxP1or9CUo4uw+15j5xKgO8z6tFR/LL+ZeP7REtqoIv7o+dWqPzNPI8D6YRvIV+IvsPmrMMqxthps+Gw5UWrivAj+bmw6DVOYCP3FvzQOgo/o+lM2DQKJh6z6xea5Mu7ELP7JfNdwD1bM+fja4QLVnFj8aiAbhOm0NP7DYIMkOpm8/lyfwwS69+D4gof8PEdNJP1hseRLlWPg+ZbOty7CZnj/sBEYPs2gTPxWZdvn0Z9U+VjnBgrtzEj8gMXRQrz3MPvtFfmC/eho/gceFIuXv+T6pGh9y7ThQP37YbI3H6d4+\",\"dtype\":\"float64\",\"order\":\"little\",\"shape\":[240]},\"class\":[3,3,3,3,3,3,3,3,3,3,3,3,3,3,3,3,3,3,3,3,3,3,3,3,3,3,3,3,3,3,3,3,3,3,3,3,3,3,3,3,3,3,3,3,3,3,3,3,3,3,3,3,3,3,3,3,3,3,3,3,3,3,3,3,3,3,3,3,3,3,3,3,3,3,3,3,3,3,3,3,3,3,3,3,3,3,3,3,3,3,3,3,3,3,3,3,3,3,3,3,3,3,3,3,3,3,3,3,3,3,3,3,3,3,3,3,3,3,3,3,3,3,3,3,3,3,3,3,3,3,3,3,3,3,3,3,3,3,3,3,3,3,3,3,3,3,3,3,3,3,3,3,3,3,3,3,3,3,3,3,3,3,3,3,3,3,3,3,3,3,3,3,3,3,3,3,3,3,3,3,3,3,3,3,3,3,3,3,3,3,3,3,3,3,3,3,3,3,3,3,3,3,3,3,3,3,3,3,3,3,3,3,3,3,3,3,3,3,3,3,3,3,3,3,3,3,3,3,3,3,3,3,3,3,3,3,3,3,3,3]},\"selected\":{\"id\":\"1662\"},\"selection_policy\":{\"id\":\"1680\"}},\"id\":\"1661\",\"type\":\"ColumnDataSource\"},{\"attributes\":{\"fill_alpha\":{\"value\":0.2},\"fill_color\":{\"value\":\"#d62628\"},\"line_alpha\":{\"value\":0.2},\"line_color\":{\"value\":\"#d62628\"},\"size\":{\"units\":\"screen\",\"value\":5.477225575051661},\"x\":{\"field\":\"TotalCoinsMined\"},\"y\":{\"field\":\"TotalCoinSupply\"}},\"id\":\"1666\",\"type\":\"Scatter\"},{\"attributes\":{},\"id\":\"1579\",\"type\":\"BasicTicker\"},{\"attributes\":{\"fill_alpha\":{\"value\":0.2},\"fill_color\":{\"value\":\"#ff7e0e\"},\"line_alpha\":{\"value\":0.2},\"line_color\":{\"value\":\"#ff7e0e\"},\"size\":{\"units\":\"screen\",\"value\":5.477225575051661},\"x\":{\"field\":\"TotalCoinsMined\"},\"y\":{\"field\":\"TotalCoinSupply\"}},\"id\":\"1626\",\"type\":\"Scatter\"},{\"attributes\":{},\"id\":\"1604\",\"type\":\"Selection\"},{\"attributes\":{\"label\":{\"value\":\"0\"},\"renderers\":[{\"id\":\"1609\"}]},\"id\":\"1620\",\"type\":\"LegendItem\"}],\"root_ids\":[\"1561\"]},\"title\":\"Bokeh Application\",\"version\":\"2.1.1\"}};\n",
       "  var render_items = [{\"docid\":\"f60b2ec0-98ff-466c-a27e-e6d348081333\",\"root_ids\":[\"1561\"],\"roots\":{\"1561\":\"48d19fd8-337e-42b5-8c4c-f3785984df70\"}}];\n",
       "  root.Bokeh.embed.embed_items_notebook(docs_json, render_items);\n",
       "  }\n",
       "if (root.Bokeh !== undefined) {\n",
       "    embed_document(root);\n",
       "  } else {\n",
       "    var attempts = 0;\n",
       "    var timer = setInterval(function(root) {\n",
       "      if (root.Bokeh !== undefined) {\n",
       "        clearInterval(timer);\n",
       "        embed_document(root);\n",
       "      } else if (document.readyState == \"complete\") {\n",
       "        attempts++;\n",
       "        if (attempts > 100) {\n",
       "          clearInterval(timer);\n",
       "          console.log(\"Bokeh: ERROR: Unable to run BokehJS code because BokehJS library is missing\");\n",
       "        }\n",
       "      }\n",
       "    }, 10, root)\n",
       "  }\n",
       "})(window);</script>"
      ],
      "text/plain": [
       ":NdOverlay   [class]\n",
       "   :Scatter   [TotalCoinsMined]   (TotalCoinSupply,CoinName)"
      ]
     },
     "execution_count": 124,
     "metadata": {
      "application/vnd.holoviews_exec.v0+json": {
       "id": "1561"
      }
     },
     "output_type": "execute_result"
    }
   ],
   "source": [
    "# 10. Create a hvplot.scatter plot using x=\"TotalCoinsMined\" and y=\"TotalCoinSupply\".\n",
    "Scaled_data_df.hvplot.scatter(\n",
    "    x=\"TotalCoinsMined\",\n",
    "    y=\"TotalCoinSupply\",\n",
    "    hover_cols=[\"CoinName\"],\n",
    "    by=\"class\",\n",
    ")\n",
    "\n"
   ]
  },
  {
   "cell_type": "code",
   "execution_count": null,
   "metadata": {},
   "outputs": [],
   "source": []
  },
  {
   "cell_type": "code",
   "execution_count": null,
   "metadata": {},
   "outputs": [],
   "source": []
  }
 ],
 "metadata": {
  "file_extension": ".py",
  "kernelspec": {
   "display_name": "PythonData",
   "language": "python",
   "name": "pythondata"
  },
  "language_info": {
   "codemirror_mode": {
    "name": "ipython",
    "version": 3
   },
   "file_extension": ".py",
   "mimetype": "text/x-python",
   "name": "python",
   "nbconvert_exporter": "python",
   "pygments_lexer": "ipython3",
   "version": "3.7.7"
  },
  "latex_envs": {
   "LaTeX_envs_menu_present": true,
   "autoclose": false,
   "autocomplete": true,
   "bibliofile": "biblio.bib",
   "cite_by": "apalike",
   "current_citInitial": 1,
   "eqLabelWithNumbers": true,
   "eqNumInitial": 1,
   "hotkeys": {
    "equation": "Ctrl-E",
    "itemize": "Ctrl-I"
   },
   "labels_anchors": false,
   "latex_user_defs": false,
   "report_style_numbering": false,
   "user_envs_cfg": false
  },
  "mimetype": "text/x-python",
  "name": "python",
  "npconvert_exporter": "python",
  "pygments_lexer": "ipython3",
  "version": 3
 },
 "nbformat": 4,
 "nbformat_minor": 2
}
